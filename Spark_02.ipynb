{
  "nbformat": 4,
  "nbformat_minor": 0,
  "metadata": {
    "colab": {
      "name": "Spark_02.ipynb",
      "provenance": [],
      "authorship_tag": "ABX9TyOzUg/TlYhcEjWz43IKIFAd",
      "include_colab_link": true
    },
    "kernelspec": {
      "name": "python3",
      "display_name": "Python 3"
    },
    "language_info": {
      "name": "python"
    }
  },
  "cells": [
    {
      "cell_type": "markdown",
      "metadata": {
        "id": "view-in-github",
        "colab_type": "text"
      },
      "source": [
        "<a href=\"https://colab.research.google.com/github/saitzaw/apache-spark-colab/blob/main/Spark_02.ipynb\" target=\"_parent\"><img src=\"https://colab.research.google.com/assets/colab-badge.svg\" alt=\"Open In Colab\"/></a>"
      ]
    },
    {
      "cell_type": "code",
      "execution_count": null,
      "metadata": {
        "id": "M40XkmCYbS2_"
      },
      "outputs": [],
      "source": [
        "!apt-get install openjdk-8-jdk-headless -qq > /dev/null\n",
        "!wget -q http://archive.apache.org/dist/spark/spark-3.1.1/spark-3.1.1-bin-hadoop3.2.tgz\n",
        "!tar -xf spark-3.1.1-bin-hadoop3.2.tgz\n",
        "!pip install -q findspark\n",
        "!pip install pyspark"
      ]
    },
    {
      "cell_type": "code",
      "source": [
        "import os\n",
        "import findspark\n",
        "from pyspark.sql import SparkSession"
      ],
      "metadata": {
        "id": "LQI9qHMabnlO"
      },
      "execution_count": null,
      "outputs": []
    },
    {
      "cell_type": "code",
      "source": [
        "os.environ[\"JAVA_HOME\"] = \"/usr/lib/jvm/java-8-openjdk-amd64\"\n",
        "os.environ[\"SPARK_HOME\"] = \"/content/spark-3.1.1-bin-hadoop3.2\""
      ],
      "metadata": {
        "id": "AyHosC9UchWS"
      },
      "execution_count": null,
      "outputs": []
    },
    {
      "cell_type": "code",
      "source": [
        "findspark.init()\n",
        "spark = SparkSession.builder.master(\"local[*]\").getOrCreate()\n",
        "spark.conf.set(\"spark.sql.repl.eagerEval.enabled\", True)"
      ],
      "metadata": {
        "id": "lj36BvTicjEB"
      },
      "execution_count": null,
      "outputs": []
    },
    {
      "cell_type": "code",
      "source": [
        "from google.colab import drive\n",
        "drive.mount('/content/gdrive')"
      ],
      "metadata": {
        "colab": {
          "base_uri": "https://localhost:8080/"
        },
        "id": "_oSOZKdzcogg",
        "outputId": "75f01b6c-468f-4484-9de5-57f0b2cf3c06"
      },
      "execution_count": null,
      "outputs": [
        {
          "output_type": "stream",
          "name": "stdout",
          "text": [
            "Mounted at /content/gdrive\n"
          ]
        }
      ]
    },
    {
      "cell_type": "code",
      "source": [
        "csv_file_path = '/content/gdrive/MyDrive/ColabDataset/cars.csv'\n",
        "df = spark.read.csv(csv_file_path, header=True, sep=\";\")"
      ],
      "metadata": {
        "id": "q0qxgwAOcwuZ"
      },
      "execution_count": null,
      "outputs": []
    },
    {
      "cell_type": "code",
      "source": [
        "df.show(5, truncate=False)"
      ],
      "metadata": {
        "colab": {
          "base_uri": "https://localhost:8080/"
        },
        "id": "wJi2pkSedFWP",
        "outputId": "2be20e74-2684-4baa-930a-809cce944645"
      },
      "execution_count": null,
      "outputs": [
        {
          "output_type": "stream",
          "name": "stdout",
          "text": [
            "+-------------------------+----+---------+------------+----------+------+------------+-----+------+\n",
            "|Car                      |MPG |Cylinders|Displacement|Horsepower|Weight|Acceleration|Model|Origin|\n",
            "+-------------------------+----+---------+------------+----------+------+------------+-----+------+\n",
            "|Chevrolet Chevelle Malibu|18.0|8        |307.0       |130.0     |3504. |12.0        |70   |US    |\n",
            "|Buick Skylark 320        |15.0|8        |350.0       |165.0     |3693. |11.5        |70   |US    |\n",
            "|Plymouth Satellite       |18.0|8        |318.0       |150.0     |3436. |11.0        |70   |US    |\n",
            "|AMC Rebel SST            |16.0|8        |304.0       |150.0     |3433. |12.0        |70   |US    |\n",
            "|Ford Torino              |17.0|8        |302.0       |140.0     |3449. |10.5        |70   |US    |\n",
            "+-------------------------+----+---------+------------+----------+------+------------+-----+------+\n",
            "only showing top 5 rows\n",
            "\n"
          ]
        }
      ]
    },
    {
      "cell_type": "code",
      "source": [
        "df.limit(5)"
      ],
      "metadata": {
        "colab": {
          "base_uri": "https://localhost:8080/"
        },
        "id": "DiziWi7udS21",
        "outputId": "d3a58bf5-ea2c-476f-b72c-ab94b1caefc1"
      },
      "execution_count": null,
      "outputs": [
        {
          "output_type": "execute_result",
          "data": {
            "text/plain": [
              "+--------------------+----+---------+------------+----------+------+------------+-----+------+\n",
              "|                 Car| MPG|Cylinders|Displacement|Horsepower|Weight|Acceleration|Model|Origin|\n",
              "+--------------------+----+---------+------------+----------+------+------------+-----+------+\n",
              "|Chevrolet Chevell...|18.0|        8|       307.0|     130.0| 3504.|        12.0|   70|    US|\n",
              "|   Buick Skylark 320|15.0|        8|       350.0|     165.0| 3693.|        11.5|   70|    US|\n",
              "|  Plymouth Satellite|18.0|        8|       318.0|     150.0| 3436.|        11.0|   70|    US|\n",
              "|       AMC Rebel SST|16.0|        8|       304.0|     150.0| 3433.|        12.0|   70|    US|\n",
              "|         Ford Torino|17.0|        8|       302.0|     140.0| 3449.|        10.5|   70|    US|\n",
              "+--------------------+----+---------+------------+----------+------+------------+-----+------+"
            ],
            "text/html": [
              "<table border='1'>\n",
              "<tr><th>Car</th><th>MPG</th><th>Cylinders</th><th>Displacement</th><th>Horsepower</th><th>Weight</th><th>Acceleration</th><th>Model</th><th>Origin</th></tr>\n",
              "<tr><td>Chevrolet Chevell...</td><td>18.0</td><td>8</td><td>307.0</td><td>130.0</td><td>3504.</td><td>12.0</td><td>70</td><td>US</td></tr>\n",
              "<tr><td>Buick Skylark 320</td><td>15.0</td><td>8</td><td>350.0</td><td>165.0</td><td>3693.</td><td>11.5</td><td>70</td><td>US</td></tr>\n",
              "<tr><td>Plymouth Satellite</td><td>18.0</td><td>8</td><td>318.0</td><td>150.0</td><td>3436.</td><td>11.0</td><td>70</td><td>US</td></tr>\n",
              "<tr><td>AMC Rebel SST</td><td>16.0</td><td>8</td><td>304.0</td><td>150.0</td><td>3433.</td><td>12.0</td><td>70</td><td>US</td></tr>\n",
              "<tr><td>Ford Torino</td><td>17.0</td><td>8</td><td>302.0</td><td>140.0</td><td>3449.</td><td>10.5</td><td>70</td><td>US</td></tr>\n",
              "</table>\n"
            ]
          },
          "metadata": {},
          "execution_count": 9
        }
      ]
    },
    {
      "cell_type": "code",
      "source": [
        "df.printSchema()"
      ],
      "metadata": {
        "colab": {
          "base_uri": "https://localhost:8080/"
        },
        "id": "NpoIPucsdVMS",
        "outputId": "e01fd811-8822-4754-dc52-24db6784c05f"
      },
      "execution_count": null,
      "outputs": [
        {
          "output_type": "stream",
          "name": "stdout",
          "text": [
            "root\n",
            " |-- Car: string (nullable = true)\n",
            " |-- MPG: string (nullable = true)\n",
            " |-- Cylinders: string (nullable = true)\n",
            " |-- Displacement: string (nullable = true)\n",
            " |-- Horsepower: string (nullable = true)\n",
            " |-- Weight: string (nullable = true)\n",
            " |-- Acceleration: string (nullable = true)\n",
            " |-- Model: string (nullable = true)\n",
            " |-- Origin: string (nullable = true)\n",
            "\n"
          ]
        }
      ]
    },
    {
      "cell_type": "markdown",
      "source": [
        "### Note \n",
        "- using Spark, we need to take care datatype \n",
        "- unlike Pandas, we should declare nullable column in pyspark"
      ],
      "metadata": {
        "id": "UaCRBu6idwIQ"
      }
    },
    {
      "cell_type": "markdown",
      "source": [
        "### Datatype conversion in pySpark\n",
        "- note string type cannot do mathematical operation such as add, sub, mult so on ... "
      ],
      "metadata": {
        "id": "b-PwI7R0eHj4"
      }
    },
    {
      "cell_type": "code",
      "source": [
        "from pyspark.sql.types import (\n",
        "    StringType,\n",
        "    DoubleType,\n",
        "    IntegerType,\n",
        "    StructType,\n",
        "    StructField\n",
        ")"
      ],
      "metadata": {
        "id": "eLyuB2BheXRh"
      },
      "execution_count": null,
      "outputs": []
    },
    {
      "cell_type": "code",
      "source": [
        "to_change_cols_dtypes = [\n",
        "                         ('Car', StringType()),\n",
        "                         ('MPG', DoubleType()),\n",
        "                         ('Cylinders', IntegerType()),\n",
        "                         ('Displacement', DoubleType()),\n",
        "                         ('Horsepower', DoubleType()),\n",
        "                         ('Weight', DoubleType()),\n",
        "                         ('Acceleration', DoubleType()),\n",
        "                         ('Model', IntegerType()),\n",
        "                         ('Origin', StringType())\n",
        "\n",
        "]"
      ],
      "metadata": {
        "id": "oojzF-GXekoq"
      },
      "execution_count": null,
      "outputs": []
    },
    {
      "cell_type": "code",
      "source": [
        "schema = StructType(\n",
        "    [\n",
        "     StructField(\n",
        "        x[0], x[1], True\n",
        "      )\n",
        "     for x in to_change_cols_dtypes\n",
        "    ]\n",
        ")"
      ],
      "metadata": {
        "id": "MlEAikmdgCBq"
      },
      "execution_count": null,
      "outputs": []
    },
    {
      "cell_type": "code",
      "source": [
        "df = spark.read.csv(\n",
        "    csv_file_path,\n",
        "    header=True,\n",
        "    sep=\";\",\n",
        "    schema=schema)"
      ],
      "metadata": {
        "id": "njJboVGJgIYt"
      },
      "execution_count": null,
      "outputs": []
    },
    {
      "cell_type": "code",
      "source": [
        "df.printSchema()"
      ],
      "metadata": {
        "colab": {
          "base_uri": "https://localhost:8080/"
        },
        "id": "QzwNGrL8hiMM",
        "outputId": "18825157-98d8-48c9-a5ab-171a0901ac60"
      },
      "execution_count": null,
      "outputs": [
        {
          "output_type": "stream",
          "name": "stdout",
          "text": [
            "root\n",
            " |-- Car: string (nullable = true)\n",
            " |-- MPG: double (nullable = true)\n",
            " |-- Cylinders: integer (nullable = true)\n",
            " |-- Displacement: double (nullable = true)\n",
            " |-- Horsepower: double (nullable = true)\n",
            " |-- Weight: double (nullable = true)\n",
            " |-- Acceleration: double (nullable = true)\n",
            " |-- Model: integer (nullable = true)\n",
            " |-- Origin: string (nullable = true)\n",
            "\n"
          ]
        }
      ]
    },
    {
      "cell_type": "code",
      "source": [
        "df.show(5, truncate=False)"
      ],
      "metadata": {
        "colab": {
          "base_uri": "https://localhost:8080/"
        },
        "id": "8AyRFCO4hi7G",
        "outputId": "4682ff58-2c58-40aa-d508-5f1b5762463b"
      },
      "execution_count": null,
      "outputs": [
        {
          "output_type": "stream",
          "name": "stdout",
          "text": [
            "+-------------------------+----+---------+------------+----------+------+------------+-----+------+\n",
            "|Car                      |MPG |Cylinders|Displacement|Horsepower|Weight|Acceleration|Model|Origin|\n",
            "+-------------------------+----+---------+------------+----------+------+------------+-----+------+\n",
            "|Chevrolet Chevelle Malibu|18.0|8        |307.0       |130.0     |3504.0|12.0        |70   |US    |\n",
            "|Buick Skylark 320        |15.0|8        |350.0       |165.0     |3693.0|11.5        |70   |US    |\n",
            "|Plymouth Satellite       |18.0|8        |318.0       |150.0     |3436.0|11.0        |70   |US    |\n",
            "|AMC Rebel SST            |16.0|8        |304.0       |150.0     |3433.0|12.0        |70   |US    |\n",
            "|Ford Torino              |17.0|8        |302.0       |140.0     |3449.0|10.5        |70   |US    |\n",
            "+-------------------------+----+---------+------------+----------+------+------------+-----+------+\n",
            "only showing top 5 rows\n",
            "\n"
          ]
        }
      ]
    },
    {
      "cell_type": "markdown",
      "source": [
        "### Count the number of row and columns"
      ],
      "metadata": {
        "id": "uu5zizofjERY"
      }
    },
    {
      "cell_type": "code",
      "source": [
        "df.count()"
      ],
      "metadata": {
        "colab": {
          "base_uri": "https://localhost:8080/"
        },
        "id": "i-0L1yUrhnzO",
        "outputId": "3621355f-a4bd-4ffa-e295-a636817cb2a1"
      },
      "execution_count": null,
      "outputs": [
        {
          "output_type": "execute_result",
          "data": {
            "text/plain": [
              "406"
            ]
          },
          "metadata": {},
          "execution_count": 22
        }
      ]
    },
    {
      "cell_type": "code",
      "source": [
        "df.distinct().count()"
      ],
      "metadata": {
        "colab": {
          "base_uri": "https://localhost:8080/"
        },
        "id": "JZBCO-U_i5sf",
        "outputId": "e8b78f45-0fed-4632-a6ef-934b40637a00"
      },
      "execution_count": null,
      "outputs": [
        {
          "output_type": "execute_result",
          "data": {
            "text/plain": [
              "406"
            ]
          },
          "metadata": {},
          "execution_count": 23
        }
      ]
    },
    {
      "cell_type": "code",
      "source": [
        "len(df.columns)"
      ],
      "metadata": {
        "id": "PsBXS_dbjKDG",
        "colab": {
          "base_uri": "https://localhost:8080/"
        },
        "outputId": "3a98357f-41d3-4fe8-ae4d-aec57a010f78"
      },
      "execution_count": 25,
      "outputs": [
        {
          "output_type": "execute_result",
          "data": {
            "text/plain": [
              "9"
            ]
          },
          "metadata": {},
          "execution_count": 25
        }
      ]
    },
    {
      "cell_type": "code",
      "source": [
        "df.select('Car').distinct().show()"
      ],
      "metadata": {
        "colab": {
          "base_uri": "https://localhost:8080/"
        },
        "id": "VambfxFCkV5y",
        "outputId": "0b54fc3a-c5e0-4b8f-8926-f0854f0118c1"
      },
      "execution_count": 27,
      "outputs": [
        {
          "output_type": "stream",
          "name": "stdout",
          "text": [
            "+--------------------+\n",
            "|                 Car|\n",
            "+--------------------+\n",
            "|Volkswagen 1131 D...|\n",
            "|Chevrolete Chevel...|\n",
            "|Chevrolet Monte C...|\n",
            "|     Ford LTD Landau|\n",
            "|       Honda Prelude|\n",
            "|      Chevrolet Nova|\n",
            "|   Volkswagen Rabbit|\n",
            "|     Ford Torino 500|\n",
            "|        Toyota Camry|\n",
            "|         Audi 100 LS|\n",
            "|Plymouth Valiant ...|\n",
            "|Toyota Corolla Ma...|\n",
            "|Oldsmobile Cutlas...|\n",
            "|Fiat 124 Sport Coupe|\n",
            "|     Volvo 145e (sw)|\n",
            "|Chevrolet Caprice...|\n",
            "|            Audi Fox|\n",
            "|    Chevrolet Camaro|\n",
            "|       Dodge Aspen 6|\n",
            "|    Pontiac Catalina|\n",
            "+--------------------+\n",
            "only showing top 20 rows\n",
            "\n"
          ]
        }
      ]
    },
    {
      "cell_type": "code",
      "source": [
        "[x for x in df.select('Car').distinct().collect()]"
      ],
      "metadata": {
        "colab": {
          "base_uri": "https://localhost:8080/"
        },
        "id": "3CXqmR7kldl3",
        "outputId": "a81b8ad1-279d-4c16-8e47-49121e84a480"
      },
      "execution_count": 29,
      "outputs": [
        {
          "output_type": "execute_result",
          "data": {
            "text/plain": [
              "[Row(Car='Volkswagen 1131 Deluxe Sedan'),\n",
              " Row(Car='Chevrolete Chevelle Malibu'),\n",
              " Row(Car='Chevrolet Monte Carlo Landau'),\n",
              " Row(Car='Ford LTD Landau'),\n",
              " Row(Car='Honda Prelude'),\n",
              " Row(Car='Chevrolet Nova'),\n",
              " Row(Car='Volkswagen Rabbit'),\n",
              " Row(Car='Ford Torino 500'),\n",
              " Row(Car='Toyota Camry'),\n",
              " Row(Car='Audi 100 LS'),\n",
              " Row(Car='Plymouth Valiant Custom'),\n",
              " Row(Car='Toyota Corolla Mark II (sw)'),\n",
              " Row(Car='Oldsmobile Cutlass Supreme'),\n",
              " Row(Car='Fiat 124 Sport Coupe'),\n",
              " Row(Car='Volvo 145e (sw)'),\n",
              " Row(Car='Chevrolet Caprice Classic'),\n",
              " Row(Car='Audi Fox'),\n",
              " Row(Car='Chevrolet Camaro'),\n",
              " Row(Car='Dodge Aspen 6'),\n",
              " Row(Car='Pontiac Catalina'),\n",
              " Row(Car='AMC Ambassador Brougham'),\n",
              " Row(Car='Ford Maverick'),\n",
              " Row(Car='Chevrolet Vega'),\n",
              " Row(Car='Plymouth Fury III'),\n",
              " Row(Car='Datsun 200-SX'),\n",
              " Row(Car='Plymouth Volare Premier v8'),\n",
              " Row(Car='Plymouth Arrow GS'),\n",
              " Row(Car='Mazda RX2 Coupe'),\n",
              " Row(Car='Subaru DL'),\n",
              " Row(Car='Dodge Aspen SE'),\n",
              " Row(Car='Mazda GLC Custom'),\n",
              " Row(Car='Datsun 610'),\n",
              " Row(Car='Honda Civic'),\n",
              " Row(Car='Datsun 810 Maxima'),\n",
              " Row(Car='Ford F250'),\n",
              " Row(Car='Chevrolet Bel Air'),\n",
              " Row(Car='Chevrolet Citation'),\n",
              " Row(Car='Plymouth Satellite'),\n",
              " Row(Car='Ford Mustang GL'),\n",
              " Row(Car='Dodge Rampage'),\n",
              " Row(Car='Dodge Diplomat'),\n",
              " Row(Car='Chevrolet Chevelle Malibu Classic'),\n",
              " Row(Car='Volkswagen Rabbit l'),\n",
              " Row(Car='Volkswagen Type 3'),\n",
              " Row(Car='Datsun 510 (sw)'),\n",
              " Row(Car='Ford Mustang II 2+2'),\n",
              " Row(Car='Ford Fairmont (man)'),\n",
              " Row(Car='Ford Futura'),\n",
              " Row(Car='Volkswagen Dasher (diesel)'),\n",
              " Row(Car='Toyota Cressida'),\n",
              " Row(Car='AMC Matador'),\n",
              " Row(Car='Datsun B210'),\n",
              " Row(Car='Pontiac Grand Prix LJ'),\n",
              " Row(Car='Ford F108'),\n",
              " Row(Car='Buick Skylark Limited'),\n",
              " Row(Car='Volkswagen Dasher'),\n",
              " Row(Car='Chevrolet Monza 2+2'),\n",
              " Row(Car='Volkswagen Pickup'),\n",
              " Row(Car='Plymouth Horizon TC3'),\n",
              " Row(Car='Buick Century Limited'),\n",
              " Row(Car='Peugeot 504'),\n",
              " Row(Car='Dodge Colt Hatchback Custom'),\n",
              " Row(Car='Buick Regal Sport Coupe (turbo)'),\n",
              " Row(Car='Datsun 280-ZX'),\n",
              " Row(Car='Oldsmobile Omega'),\n",
              " Row(Car='Plymouth Cricket'),\n",
              " Row(Car='Fiat 124 TC'),\n",
              " Row(Car='Peugeot 604sl'),\n",
              " Row(Car='Plymouth Reliant'),\n",
              " Row(Car='AMC Rebel SST (sw)'),\n",
              " Row(Car='Buick Skylark'),\n",
              " Row(Car='Plymouth Horizon'),\n",
              " Row(Car='Renault 18i'),\n",
              " Row(Car='Volkswagen Model 111'),\n",
              " Row(Car='Chevrolet Malibu'),\n",
              " Row(Car='Volkswagen Rabbit Custom Diesel'),\n",
              " Row(Car='AMC Matador (sw)'),\n",
              " Row(Car='Dodge Coronet Brougham'),\n",
              " Row(Car='Mercury Zephyr 6'),\n",
              " Row(Car='Mazda RX3'),\n",
              " Row(Car='Oldsmobile Cutlass Salon Brougham'),\n",
              " Row(Car='Buick Century 350'),\n",
              " Row(Car='Dodge Coronet Custom'),\n",
              " Row(Car='Peugeot 505s Turbo Diesel'),\n",
              " Row(Car='Opel Manta'),\n",
              " Row(Car='Buick Century'),\n",
              " Row(Car='Chevy S-10'),\n",
              " Row(Car='Citroen DS-21 Pallas'),\n",
              " Row(Car='Datsun 510'),\n",
              " Row(Car='Volvo 244DL'),\n",
              " Row(Car='Dodge Challenger SE'),\n",
              " Row(Car='Saab 99LE'),\n",
              " Row(Car='Chevrolet Vega 2300'),\n",
              " Row(Car='Pontiac Astro'),\n",
              " Row(Car='Saab 900s'),\n",
              " Row(Car='Toyota Mark II'),\n",
              " Row(Car='Capri ii'),\n",
              " Row(Car='Pontiac Firebird'),\n",
              " Row(Car='Plymouth Grand Fury'),\n",
              " Row(Car='Ford Grenada'),\n",
              " Row(Car='Oldsmobile Cutlass Ciera (diesel)'),\n",
              " Row(Car='Chevrolet Impala'),\n",
              " Row(Car='Ford LTD'),\n",
              " Row(Car='AMC Ambassador DPL'),\n",
              " Row(Car='Plymouth Fury Gran Sedan'),\n",
              " Row(Car='Ford Mustang Boss 302'),\n",
              " Row(Car='Cadillac Eldorado'),\n",
              " Row(Car='Dodge Monaco Brougham'),\n",
              " Row(Car='Toyota Corolla Tercel'),\n",
              " Row(Car='Nissan Stanza XE'),\n",
              " Row(Car='Chevrolet Nova Custom'),\n",
              " Row(Car='Ford Gran Torino'),\n",
              " Row(Car='Buick Skylark 320'),\n",
              " Row(Car='Ford Fiesta'),\n",
              " Row(Car='Triumph TR7 Coupe'),\n",
              " Row(Car='Ford Ranger'),\n",
              " Row(Car='Honda Civic 1300'),\n",
              " Row(Car='Datsun F-10 Hatchback'),\n",
              " Row(Car='Mazda GLC Custom l'),\n",
              " Row(Car='Dodge Aspen'),\n",
              " Row(Car='Chrysler Newport Royal'),\n",
              " Row(Car='Fiat 128'),\n",
              " Row(Car='Mazda GLC Deluxe'),\n",
              " Row(Car='Dodge Omni'),\n",
              " Row(Car='Honda Civic (auto)'),\n",
              " Row(Car='Plymouth Satellite Custom (sw)'),\n",
              " Row(Car='Renault 12tl'),\n",
              " Row(Car='Ford Mustang II'),\n",
              " Row(Car='Datsun B-210'),\n",
              " Row(Car='AMC Concord DL 6'),\n",
              " Row(Car='Chrysler New Yorker Brougham'),\n",
              " Row(Car='Ford Fairmont Futura'),\n",
              " Row(Car='Toyota Celica GT'),\n",
              " Row(Car='AMC Hornet Sportabout (sw)'),\n",
              " Row(Car='Mercury Marquis Brougham'),\n",
              " Row(Car='Pontiac Ventura SJ'),\n",
              " Row(Car='Chevrolet Cavalier 2-door'),\n",
              " Row(Car='Pontiac Sunbird Coupe'),\n",
              " Row(Car='Pontiac Phoenix'),\n",
              " Row(Car='Plymouth Valiant'),\n",
              " Row(Car='Cadillac Seville'),\n",
              " Row(Car='Ford Pinto'),\n",
              " Row(Car='Chrysler Lebaron Salon'),\n",
              " Row(Car='Renault 5 GTL'),\n",
              " Row(Car='Ford Grenada l'),\n",
              " Row(Car='AMC Gremlin'),\n",
              " Row(Car='Toyota Corolla Liftback'),\n",
              " Row(Car='Datsun 310'),\n",
              " Row(Car='Peugeot 304'),\n",
              " Row(Car='Audi 5000'),\n",
              " Row(Car='Mazda GLC'),\n",
              " Row(Car='Chevrolet Monte Carlo S'),\n",
              " Row(Car='Dodge Colt'),\n",
              " Row(Car='Mercedes-Benz 280s'),\n",
              " Row(Car='Mercury Marquis'),\n",
              " Row(Car='Mercedes-Benz 240d'),\n",
              " Row(Car='Ford Gran Torino (sw)'),\n",
              " Row(Car='Plymouth Volare Custom'),\n",
              " Row(Car='Plymouth Volare'),\n",
              " Row(Car='Toyota Corolla 1200'),\n",
              " Row(Car='Pontiac Phoenix LJ'),\n",
              " Row(Car='Chrysler Lebaron Town @ Country (sw)'),\n",
              " Row(Car='Volvo Diesel'),\n",
              " Row(Car='Dodge Aries Wagon (sw)'),\n",
              " Row(Car='BMW 2002'),\n",
              " Row(Car='AMC Concord DL'),\n",
              " Row(Car='Plymouth Satellite (sw)'),\n",
              " Row(Car='Ford Country'),\n",
              " Row(Car='Dodge Colt m/m'),\n",
              " Row(Car='Ford Fairmont 4'),\n",
              " Row(Car='Buick Estate Wagon (sw)'),\n",
              " Row(Car='Ford Mustang Cobra'),\n",
              " Row(Car='Datsun 810'),\n",
              " Row(Car='Chevrolet Monte Carlo'),\n",
              " Row(Car='Ford Escort 4W'),\n",
              " Row(Car='Plymouth Satellite Sebring'),\n",
              " Row(Car='Volvo 245'),\n",
              " Row(Car='Volkswagen Jetta'),\n",
              " Row(Car='Mercedes Benz 300d'),\n",
              " Row(Car='Oldsmobile Cutlass LS'),\n",
              " Row(Car='Volkswagen Rabbit Custom'),\n",
              " Row(Car='BMW 320i'),\n",
              " Row(Car='Chevrolet Cavalier'),\n",
              " Row(Car='Mercury Monarch ghia'),\n",
              " Row(Car='Saab 99le'),\n",
              " Row(Car='Datsun 710'),\n",
              " Row(Car='Mercury Cougar Brougham'),\n",
              " Row(Car='Toyota Corolla'),\n",
              " Row(Car='Ford Pinto Runabout'),\n",
              " Row(Car='AMC Ambassador SST'),\n",
              " Row(Car='Buick Opel Isuzu Deluxe'),\n",
              " Row(Car='Hi 1200D'),\n",
              " Row(Car='Dodge D100'),\n",
              " Row(Car='Pontiac Catalina Brougham'),\n",
              " Row(Car='Plymouth Horizon Miser'),\n",
              " Row(Car='Chrysler Cordoba'),\n",
              " Row(Car='Mercury Grand Marquis'),\n",
              " Row(Car='AMC Hornet'),\n",
              " Row(Car='Chevrolet Cavalier Wagon'),\n",
              " Row(Car='Buick Electra 225 Custom'),\n",
              " Row(Car='Plymouth Horizon 4'),\n",
              " Row(Car='Dodge D200'),\n",
              " Row(Car='Renault 12 (sw)'),\n",
              " Row(Car='Fiat x1.9'),\n",
              " Row(Car='Oldsmobile Starfire SX'),\n",
              " Row(Car='Oldsmobile Delta 88 Royale'),\n",
              " Row(Car='Chrysler Lebaron Medallion'),\n",
              " Row(Car='Volkswagen 411 (sw)'),\n",
              " Row(Car='Plymouth Duster'),\n",
              " Row(Car='Ford Country Squire (sw)'),\n",
              " Row(Car='Plymouth Champ'),\n",
              " Row(Car='Buick LeSabre Custom'),\n",
              " Row(Car='Dodge Dart Custom'),\n",
              " Row(Car='Plymouth Fury'),\n",
              " Row(Car='Ford Torino'),\n",
              " Row(Car='Ford Galaxie 500'),\n",
              " Row(Car='Ford Torino (sw)'),\n",
              " Row(Car='Ford Mustang'),\n",
              " Row(Car='Plymouth Custom Suburb'),\n",
              " Row(Car='Mercury Zephyr'),\n",
              " Row(Car='Honda Accord CVCC'),\n",
              " Row(Car='Buick Century Special'),\n",
              " Row(Car='Honda Accord LX'),\n",
              " Row(Car='Chevrolet Malibu Classic (sw)'),\n",
              " Row(Car='AMC Pacer'),\n",
              " Row(Car='Saab 99gle'),\n",
              " Row(Car='Honda Civic 1500 gl'),\n",
              " Row(Car=\"Plymouth 'Cuda 340\"),\n",
              " Row(Car='Datsun PL510'),\n",
              " Row(Car='Ford Escort 2H'),\n",
              " Row(Car='Toyota Tercel'),\n",
              " Row(Car='Mercury Monarch'),\n",
              " Row(Car='Fiat 131'),\n",
              " Row(Car='Honda Civic CVCC'),\n",
              " Row(Car='Datsun 210'),\n",
              " Row(Car='Mazda RX-7 GS'),\n",
              " Row(Car='Mercury Capri v6'),\n",
              " Row(Car='Audi 4000'),\n",
              " Row(Car='Volkswagen Super Beetle'),\n",
              " Row(Car='Mercury Lynx l'),\n",
              " Row(Car='Volkswagen Super Beetle 117'),\n",
              " Row(Car='Mazda RX-4'),\n",
              " Row(Car='Saab 99e'),\n",
              " Row(Car='Pontiac Grand Prix'),\n",
              " Row(Car='Datsun 310 GX'),\n",
              " Row(Car='Dodge Charger 2.2'),\n",
              " Row(Car='Datsun 210 MPG'),\n",
              " Row(Car='Oldsmobile Omega Brougham'),\n",
              " Row(Car='Chevrolet Chevelle Malibu'),\n",
              " Row(Car='AMC Rebel SST'),\n",
              " Row(Car='Ford Fairmont (auto)'),\n",
              " Row(Car='Toyota Corolla Mark ii'),\n",
              " Row(Car='Renault Lecar Deluxe'),\n",
              " Row(Car='Toyota Corolla 1600 (sw)'),\n",
              " Row(Car='Mazda 626'),\n",
              " Row(Car='Chevrolet Chevelle Concours (sw)'),\n",
              " Row(Car='Fiat Strada Custom'),\n",
              " Row(Car='Ford Fairmont'),\n",
              " Row(Car='Audi 100LS'),\n",
              " Row(Car='Pontiac Safari (sw)'),\n",
              " Row(Car='Datsun 1200'),\n",
              " Row(Car='AMC Concord'),\n",
              " Row(Car='Dodge Magnum XE'),\n",
              " Row(Car='Chevrolet Vega (sw)'),\n",
              " Row(Car='Toyota Corolla Hardtop'),\n",
              " Row(Car='Ford Pinto (sw)'),\n",
              " Row(Car='AMC Pacer d/l'),\n",
              " Row(Car='Ford Thunderbird'),\n",
              " Row(Car='Honda Accord'),\n",
              " Row(Car='Mazda GLC 4'),\n",
              " Row(Car='Ford Grenada gl'),\n",
              " Row(Car='Dodge Monaco (sw)'),\n",
              " Row(Car='Volvo 144ea'),\n",
              " Row(Car='Dodge Colt (sw)'),\n",
              " Row(Car='Pontiac Lemans V6'),\n",
              " Row(Car='Dodge St. Regis'),\n",
              " Row(Car='Dodge Aries SE'),\n",
              " Row(Car='Opel 1900'),\n",
              " Row(Car='Dodge Coronet Custom (sw)'),\n",
              " Row(Car='Plymouth Sapporo'),\n",
              " Row(Car='Toyota Starlet'),\n",
              " Row(Car='Chevrolet Chevette'),\n",
              " Row(Car='Fiat 124B'),\n",
              " Row(Car='AMC Concord d/l'),\n",
              " Row(Car='Volkswagen Rabbit C (Diesel)'),\n",
              " Row(Car='Chevy C20'),\n",
              " Row(Car='Volvo 264gl'),\n",
              " Row(Car='Plymouth Satellite Custom'),\n",
              " Row(Car='Dodge Colt Hardtop'),\n",
              " Row(Car='Buick Skyhawk'),\n",
              " Row(Car='Chevrolet Woody'),\n",
              " Row(Car='AMC Spirit DL'),\n",
              " Row(Car='Pontiac J2000 SE Hatchback'),\n",
              " Row(Car='Mercury Capri 2000'),\n",
              " Row(Car='Chevrolet Concours'),\n",
              " Row(Car='Subaru'),\n",
              " Row(Car='Chevrolet C10'),\n",
              " Row(Car='Datsun 510 Hatchback'),\n",
              " Row(Car='Peugeot 504 (sw)'),\n",
              " Row(Car='Volkswagen Scirocco'),\n",
              " Row(Car='Ford Grenada ghia'),\n",
              " Row(Car='Toyota Celica GT Liftback'),\n",
              " Row(Car='Plymouth Fury iii'),\n",
              " Row(Car='Audi 5000s (diesel)'),\n",
              " Row(Car='Datsun 200SX'),\n",
              " Row(Car='Oldsmobile Vista Cruiser'),\n",
              " Row(Car='Datsun B210 GX'),\n",
              " Row(Car='Buick Century Luxus (sw)')]"
            ]
          },
          "metadata": {},
          "execution_count": 29
        }
      ]
    },
    {
      "cell_type": "markdown",
      "source": [
        "### Filter\n",
        "- select column with specified record\n",
        "- select multi columns with required record values"
      ],
      "metadata": {
        "id": "Q-ZXeLVInSnp"
      }
    },
    {
      "cell_type": "code",
      "source": [
        "df.filter(\"Horsepower > 130\")"
      ],
      "metadata": {
        "colab": {
          "base_uri": "https://localhost:8080/",
          "height": 516
        },
        "id": "88WY0Qjbmtv4",
        "outputId": "46d5eead-d593-4d69-a325-e9d8b3d57e8e"
      },
      "execution_count": 30,
      "outputs": [
        {
          "output_type": "execute_result",
          "data": {
            "text/plain": [
              "+--------------------+----+---------+------------+----------+------+------------+-----+------+\n",
              "|                 Car| MPG|Cylinders|Displacement|Horsepower|Weight|Acceleration|Model|Origin|\n",
              "+--------------------+----+---------+------------+----------+------+------------+-----+------+\n",
              "|   Buick Skylark 320|15.0|        8|       350.0|     165.0|3693.0|        11.5|   70|    US|\n",
              "|  Plymouth Satellite|18.0|        8|       318.0|     150.0|3436.0|        11.0|   70|    US|\n",
              "|       AMC Rebel SST|16.0|        8|       304.0|     150.0|3433.0|        12.0|   70|    US|\n",
              "|         Ford Torino|17.0|        8|       302.0|     140.0|3449.0|        10.5|   70|    US|\n",
              "|    Ford Galaxie 500|15.0|        8|       429.0|     198.0|4341.0|        10.0|   70|    US|\n",
              "|    Chevrolet Impala|14.0|        8|       454.0|     220.0|4354.0|         9.0|   70|    US|\n",
              "|   Plymouth Fury iii|14.0|        8|       440.0|     215.0|4312.0|         8.5|   70|    US|\n",
              "|    Pontiac Catalina|14.0|        8|       455.0|     225.0|4425.0|        10.0|   70|    US|\n",
              "|  AMC Ambassador DPL|15.0|        8|       390.0|     190.0|3850.0|         8.5|   70|    US|\n",
              "|Chevrolet Chevell...| 0.0|        8|       350.0|     165.0|4142.0|        11.5|   70|    US|\n",
              "|    Ford Torino (sw)| 0.0|        8|       351.0|     153.0|4034.0|        11.0|   70|    US|\n",
              "|Plymouth Satellit...| 0.0|        8|       383.0|     175.0|4166.0|        10.5|   70|    US|\n",
              "|  AMC Rebel SST (sw)| 0.0|        8|       360.0|     175.0|3850.0|        11.0|   70|    US|\n",
              "| Dodge Challenger SE|15.0|        8|       383.0|     170.0|3563.0|        10.0|   70|    US|\n",
              "|  Plymouth 'Cuda 340|14.0|        8|       340.0|     160.0|3609.0|         8.0|   70|    US|\n",
              "|Ford Mustang Boss...| 0.0|        8|       302.0|     140.0|3353.0|         8.0|   70|    US|\n",
              "|Chevrolet Monte C...|15.0|        8|       400.0|     150.0|3761.0|         9.5|   70|    US|\n",
              "|Buick Estate Wago...|14.0|        8|       455.0|     225.0|3086.0|        10.0|   70|    US|\n",
              "|           Ford F250|10.0|        8|       360.0|     215.0|4615.0|        14.0|   70|    US|\n",
              "|           Chevy C20|10.0|        8|       307.0|     200.0|4376.0|        15.0|   70|    US|\n",
              "+--------------------+----+---------+------------+----------+------+------------+-----+------+\n",
              "only showing top 20 rows"
            ],
            "text/html": [
              "<table border='1'>\n",
              "<tr><th>Car</th><th>MPG</th><th>Cylinders</th><th>Displacement</th><th>Horsepower</th><th>Weight</th><th>Acceleration</th><th>Model</th><th>Origin</th></tr>\n",
              "<tr><td>Buick Skylark 320</td><td>15.0</td><td>8</td><td>350.0</td><td>165.0</td><td>3693.0</td><td>11.5</td><td>70</td><td>US</td></tr>\n",
              "<tr><td>Plymouth Satellite</td><td>18.0</td><td>8</td><td>318.0</td><td>150.0</td><td>3436.0</td><td>11.0</td><td>70</td><td>US</td></tr>\n",
              "<tr><td>AMC Rebel SST</td><td>16.0</td><td>8</td><td>304.0</td><td>150.0</td><td>3433.0</td><td>12.0</td><td>70</td><td>US</td></tr>\n",
              "<tr><td>Ford Torino</td><td>17.0</td><td>8</td><td>302.0</td><td>140.0</td><td>3449.0</td><td>10.5</td><td>70</td><td>US</td></tr>\n",
              "<tr><td>Ford Galaxie 500</td><td>15.0</td><td>8</td><td>429.0</td><td>198.0</td><td>4341.0</td><td>10.0</td><td>70</td><td>US</td></tr>\n",
              "<tr><td>Chevrolet Impala</td><td>14.0</td><td>8</td><td>454.0</td><td>220.0</td><td>4354.0</td><td>9.0</td><td>70</td><td>US</td></tr>\n",
              "<tr><td>Plymouth Fury iii</td><td>14.0</td><td>8</td><td>440.0</td><td>215.0</td><td>4312.0</td><td>8.5</td><td>70</td><td>US</td></tr>\n",
              "<tr><td>Pontiac Catalina</td><td>14.0</td><td>8</td><td>455.0</td><td>225.0</td><td>4425.0</td><td>10.0</td><td>70</td><td>US</td></tr>\n",
              "<tr><td>AMC Ambassador DPL</td><td>15.0</td><td>8</td><td>390.0</td><td>190.0</td><td>3850.0</td><td>8.5</td><td>70</td><td>US</td></tr>\n",
              "<tr><td>Chevrolet Chevell...</td><td>0.0</td><td>8</td><td>350.0</td><td>165.0</td><td>4142.0</td><td>11.5</td><td>70</td><td>US</td></tr>\n",
              "<tr><td>Ford Torino (sw)</td><td>0.0</td><td>8</td><td>351.0</td><td>153.0</td><td>4034.0</td><td>11.0</td><td>70</td><td>US</td></tr>\n",
              "<tr><td>Plymouth Satellit...</td><td>0.0</td><td>8</td><td>383.0</td><td>175.0</td><td>4166.0</td><td>10.5</td><td>70</td><td>US</td></tr>\n",
              "<tr><td>AMC Rebel SST (sw)</td><td>0.0</td><td>8</td><td>360.0</td><td>175.0</td><td>3850.0</td><td>11.0</td><td>70</td><td>US</td></tr>\n",
              "<tr><td>Dodge Challenger SE</td><td>15.0</td><td>8</td><td>383.0</td><td>170.0</td><td>3563.0</td><td>10.0</td><td>70</td><td>US</td></tr>\n",
              "<tr><td>Plymouth &#x27;Cuda 340</td><td>14.0</td><td>8</td><td>340.0</td><td>160.0</td><td>3609.0</td><td>8.0</td><td>70</td><td>US</td></tr>\n",
              "<tr><td>Ford Mustang Boss...</td><td>0.0</td><td>8</td><td>302.0</td><td>140.0</td><td>3353.0</td><td>8.0</td><td>70</td><td>US</td></tr>\n",
              "<tr><td>Chevrolet Monte C...</td><td>15.0</td><td>8</td><td>400.0</td><td>150.0</td><td>3761.0</td><td>9.5</td><td>70</td><td>US</td></tr>\n",
              "<tr><td>Buick Estate Wago...</td><td>14.0</td><td>8</td><td>455.0</td><td>225.0</td><td>3086.0</td><td>10.0</td><td>70</td><td>US</td></tr>\n",
              "<tr><td>Ford F250</td><td>10.0</td><td>8</td><td>360.0</td><td>215.0</td><td>4615.0</td><td>14.0</td><td>70</td><td>US</td></tr>\n",
              "<tr><td>Chevy C20</td><td>10.0</td><td>8</td><td>307.0</td><td>200.0</td><td>4376.0</td><td>15.0</td><td>70</td><td>US</td></tr>\n",
              "</table>\n",
              "only showing top 20 rows\n"
            ]
          },
          "metadata": {},
          "execution_count": 30
        }
      ]
    },
    {
      "cell_type": "markdown",
      "source": [
        "### Tweak \n",
        "- When we needed to check with stringType please use Pandas style"
      ],
      "metadata": {
        "id": "OCVEdJ27o4qj"
      }
    },
    {
      "cell_type": "code",
      "source": [
        "df.filter((df['Horsepower'] > 130)\n",
        "& (df['Origin'] == 'Europe'))"
      ],
      "metadata": {
        "colab": {
          "base_uri": "https://localhost:8080/",
          "height": 66
        },
        "id": "XpxVv6hwoJzs",
        "outputId": "49ea9cf4-fa77-4273-90bc-fba20ac9b72a"
      },
      "execution_count": 33,
      "outputs": [
        {
          "output_type": "execute_result",
          "data": {
            "text/plain": [
              "+-------------+----+---------+------------+----------+------+------------+-----+------+\n",
              "|          Car| MPG|Cylinders|Displacement|Horsepower|Weight|Acceleration|Model|Origin|\n",
              "+-------------+----+---------+------------+----------+------+------------+-----+------+\n",
              "|Peugeot 604sl|16.2|        6|       163.0|     133.0|3410.0|        15.8|   78|Europe|\n",
              "+-------------+----+---------+------------+----------+------+------------+-----+------+"
            ],
            "text/html": [
              "<table border='1'>\n",
              "<tr><th>Car</th><th>MPG</th><th>Cylinders</th><th>Displacement</th><th>Horsepower</th><th>Weight</th><th>Acceleration</th><th>Model</th><th>Origin</th></tr>\n",
              "<tr><td>Peugeot 604sl</td><td>16.2</td><td>6</td><td>163.0</td><td>133.0</td><td>3410.0</td><td>15.8</td><td>78</td><td>Europe</td></tr>\n",
              "</table>\n"
            ]
          },
          "metadata": {},
          "execution_count": 33
        }
      ]
    }
  ]
}