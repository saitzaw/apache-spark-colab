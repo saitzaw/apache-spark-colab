{
  "nbformat": 4,
  "nbformat_minor": 0,
  "metadata": {
    "colab": {
      "provenance": [],
      "authorship_tag": "ABX9TyN3prhU4Cg4AMPraTK3U773",
      "include_colab_link": true
    },
    "kernelspec": {
      "name": "python3",
      "display_name": "Python 3"
    },
    "language_info": {
      "name": "python"
    }
  },
  "cells": [
    {
      "cell_type": "markdown",
      "metadata": {
        "id": "view-in-github",
        "colab_type": "text"
      },
      "source": [
        "<a href=\"https://colab.research.google.com/github/saitzaw/apache-spark-colab/blob/main/ResolutionPySpark2023v2.ipynb\" target=\"_parent\"><img src=\"https://colab.research.google.com/assets/colab-badge.svg\" alt=\"Open In Colab\"/></a>"
      ]
    },
    {
      "cell_type": "code",
      "execution_count": 1,
      "metadata": {
        "id": "JyAL5wWfiSdb"
      },
      "outputs": [],
      "source": [
        "!pip install -q findspark\n",
        "!pip install -q pyspark"
      ]
    },
    {
      "cell_type": "code",
      "source": [
        "import os\n",
        "import folium\n",
        "import sqlite3\n",
        "import findspark\n",
        "import pandas as pd\n",
        "import seaborn as sns\n",
        "import matplotlib.pyplot as plt\n",
        "from pyspark.sql import SparkSession, Row\n",
        "from datetime import datetime, date\n",
        "from pyspark.sql.types import StructType,StructField,DateType, DoubleType\n",
        "from pyspark.sql.functions import date_format, to_date, year, month, regexp_replace"
      ],
      "metadata": {
        "id": "o5fHrzPTibDG"
      },
      "execution_count": 2,
      "outputs": []
    },
    {
      "cell_type": "code",
      "source": [
        "findspark.init()\n",
        "spark = SparkSession.builder\\\n",
        "                    .master(\"local\")\\\n",
        "                    .appName(\"Resolution2023v2\")\\\n",
        "                    .getOrCreate()\n",
        "spark.conf.set(\"spark.sql.repl.eagerEval.enabled\", True)"
      ],
      "metadata": {
        "id": "lUpcD0bxidEy"
      },
      "execution_count": 3,
      "outputs": []
    },
    {
      "cell_type": "code",
      "source": [
        "from google.colab import drive\n",
        "drive.mount('/content/drive')"
      ],
      "metadata": {
        "colab": {
          "base_uri": "https://localhost:8080/"
        },
        "id": "SE1Cnl0EiwmK",
        "outputId": "69f09fed-5b4b-4034-e360-976f7aa73d7e"
      },
      "execution_count": 4,
      "outputs": [
        {
          "output_type": "stream",
          "name": "stdout",
          "text": [
            "Drive already mounted at /content/drive; to attempt to forcibly remount, call drive.mount(\"/content/drive\", force_remount=True).\n"
          ]
        }
      ]
    },
    {
      "cell_type": "code",
      "source": [
        "SampleData = '/content/drive/MyDrive/ColabDataset/MotorVehicleCollisionsCrashes2.parquet'"
      ],
      "metadata": {
        "id": "fxG2TFkqizhi"
      },
      "execution_count": 5,
      "outputs": []
    },
    {
      "cell_type": "code",
      "source": [
        "MVCCDF = spark.read.parquet(SampleData)"
      ],
      "metadata": {
        "id": "ulIWSRJ3i5sj"
      },
      "execution_count": 6,
      "outputs": []
    },
    {
      "cell_type": "code",
      "source": [
        "MVCCDF.count()"
      ],
      "metadata": {
        "colab": {
          "base_uri": "https://localhost:8080/"
        },
        "id": "WE2PZKzbjxaS",
        "outputId": "07d7e03d-bd6f-4495-bade-cb5d072593fc"
      },
      "execution_count": 7,
      "outputs": [
        {
          "output_type": "execute_result",
          "data": {
            "text/plain": [
              "1000"
            ]
          },
          "metadata": {},
          "execution_count": 7
        }
      ]
    },
    {
      "cell_type": "code",
      "source": [
        "MVCCDF.show(1, truncate = False, vertical=True)"
      ],
      "metadata": {
        "colab": {
          "base_uri": "https://localhost:8080/"
        },
        "id": "aPFwTgFbi8p1",
        "outputId": "88de6fc3-4e4a-4f52-b16e-1fccc24e606e"
      },
      "execution_count": 8,
      "outputs": [
        {
          "output_type": "stream",
          "name": "stdout",
          "text": [
            "-RECORD 0-----------------------------------------------------\n",
            " crash_date                    | 2021-09-11T00:00:00.000      \n",
            " crash_time                    | 2:39                         \n",
            " borough                       | null                         \n",
            " zip_code                      | null                         \n",
            " latitude                      | null                         \n",
            " longitude                     | null                         \n",
            " location                      | null                         \n",
            " on_street_name                | WHITESTONE EXPRESSWAY        \n",
            " off_street_name               | 20 AVENUE                    \n",
            " cross_street_name             | null                         \n",
            " number_of_persons_injured     | 2                            \n",
            " number_of_persons_killed      | 0                            \n",
            " number_of_pedestrians_injured | 0                            \n",
            " number_of_pedestrians_killed  | 0                            \n",
            " number_of_cyclist_injured     | 0                            \n",
            " number_of_cyclist_killed      | 0                            \n",
            " number_of_motorist_injured    | 2                            \n",
            " number_of_motorist_killed     | 0                            \n",
            " contributing_factor_vehicle_1 | Aggressive Driving/Road Rage \n",
            " contributing_factor_vehicle_2 | Unspecified                  \n",
            " contributing_factor_vehicle_3 | null                         \n",
            " contributing_factor_vehicle_4 | null                         \n",
            " contributing_factor_vehicle_5 | null                         \n",
            " collision_id                  | 4455765                      \n",
            " vehicle_type_code1            | Sedan                        \n",
            " vehicle_type_code2            | Sedan                        \n",
            " vehicle_type_code_3           | null                         \n",
            " vehicle_type_code_4           | null                         \n",
            " vehicle_type_code_5           | null                         \n",
            "only showing top 1 row\n",
            "\n"
          ]
        }
      ]
    },
    {
      "cell_type": "code",
      "source": [
        "MVCCDF.printSchema()"
      ],
      "metadata": {
        "colab": {
          "base_uri": "https://localhost:8080/"
        },
        "id": "O64jc01QjABp",
        "outputId": "c93dbb11-407d-4365-bbfc-640f9da3825d"
      },
      "execution_count": 9,
      "outputs": [
        {
          "output_type": "stream",
          "name": "stdout",
          "text": [
            "root\n",
            " |-- crash_date: string (nullable = true)\n",
            " |-- crash_time: string (nullable = true)\n",
            " |-- borough: string (nullable = true)\n",
            " |-- zip_code: double (nullable = true)\n",
            " |-- latitude: double (nullable = true)\n",
            " |-- longitude: double (nullable = true)\n",
            " |-- location: string (nullable = true)\n",
            " |-- on_street_name: string (nullable = true)\n",
            " |-- off_street_name: string (nullable = true)\n",
            " |-- cross_street_name: string (nullable = true)\n",
            " |-- number_of_persons_injured: long (nullable = true)\n",
            " |-- number_of_persons_killed: long (nullable = true)\n",
            " |-- number_of_pedestrians_injured: long (nullable = true)\n",
            " |-- number_of_pedestrians_killed: long (nullable = true)\n",
            " |-- number_of_cyclist_injured: long (nullable = true)\n",
            " |-- number_of_cyclist_killed: long (nullable = true)\n",
            " |-- number_of_motorist_injured: long (nullable = true)\n",
            " |-- number_of_motorist_killed: long (nullable = true)\n",
            " |-- contributing_factor_vehicle_1: string (nullable = true)\n",
            " |-- contributing_factor_vehicle_2: string (nullable = true)\n",
            " |-- contributing_factor_vehicle_3: string (nullable = true)\n",
            " |-- contributing_factor_vehicle_4: string (nullable = true)\n",
            " |-- contributing_factor_vehicle_5: string (nullable = true)\n",
            " |-- collision_id: long (nullable = true)\n",
            " |-- vehicle_type_code1: string (nullable = true)\n",
            " |-- vehicle_type_code2: string (nullable = true)\n",
            " |-- vehicle_type_code_3: string (nullable = true)\n",
            " |-- vehicle_type_code_4: string (nullable = true)\n",
            " |-- vehicle_type_code_5: string (nullable = true)\n",
            "\n"
          ]
        }
      ]
    },
    {
      "cell_type": "code",
      "source": [
        "MVCCDfAnalysis = MVCCDF.withColumn(\"crash_date\", date_format(MVCCDF[\"crash_date\"], \"yyyy-MM-dd\"))\\\n",
        ".withColumn(\"location\", regexp_replace(\"location\", \"\\n,\", \"\"))\\\n",
        ".withColumn(\"location\", regexp_replace(\"location\", \"\\n\", \"\"))"
      ],
      "metadata": {
        "id": "gLEMSGmBrqkH"
      },
      "execution_count": 10,
      "outputs": []
    },
    {
      "cell_type": "code",
      "source": [
        "MVCCDfAnalysis.show(1, truncate=False, vertical=True)"
      ],
      "metadata": {
        "colab": {
          "base_uri": "https://localhost:8080/"
        },
        "id": "1J-_sjUJsqrq",
        "outputId": "8f691df9-a999-4ec8-dad5-7af9f5bc120c"
      },
      "execution_count": 11,
      "outputs": [
        {
          "output_type": "stream",
          "name": "stdout",
          "text": [
            "-RECORD 0-----------------------------------------------------\n",
            " crash_date                    | 2021-09-11                   \n",
            " crash_time                    | 2:39                         \n",
            " borough                       | null                         \n",
            " zip_code                      | null                         \n",
            " latitude                      | null                         \n",
            " longitude                     | null                         \n",
            " location                      | null                         \n",
            " on_street_name                | WHITESTONE EXPRESSWAY        \n",
            " off_street_name               | 20 AVENUE                    \n",
            " cross_street_name             | null                         \n",
            " number_of_persons_injured     | 2                            \n",
            " number_of_persons_killed      | 0                            \n",
            " number_of_pedestrians_injured | 0                            \n",
            " number_of_pedestrians_killed  | 0                            \n",
            " number_of_cyclist_injured     | 0                            \n",
            " number_of_cyclist_killed      | 0                            \n",
            " number_of_motorist_injured    | 2                            \n",
            " number_of_motorist_killed     | 0                            \n",
            " contributing_factor_vehicle_1 | Aggressive Driving/Road Rage \n",
            " contributing_factor_vehicle_2 | Unspecified                  \n",
            " contributing_factor_vehicle_3 | null                         \n",
            " contributing_factor_vehicle_4 | null                         \n",
            " contributing_factor_vehicle_5 | null                         \n",
            " collision_id                  | 4455765                      \n",
            " vehicle_type_code1            | Sedan                        \n",
            " vehicle_type_code2            | Sedan                        \n",
            " vehicle_type_code_3           | null                         \n",
            " vehicle_type_code_4           | null                         \n",
            " vehicle_type_code_5           | null                         \n",
            "only showing top 1 row\n",
            "\n"
          ]
        }
      ]
    },
    {
      "cell_type": "code",
      "source": [
        "MVCCDKilled = MVCCDfAnalysis.filter(MVCCDfAnalysis[\"number_of_persons_killed\"] >= 1)\\\n",
        ".filter(MVCCDfAnalysis['contributing_factor_vehicle_1'].isNotNull())\\\n",
        ".withColumn(\"crash_year\", year(MVCCDfAnalysis[\"crash_date\"]))\\\n",
        ".withColumn(\"crash_month\", month(MVCCDfAnalysis[\"crash_date\"]))\\\n",
        ".withColumn(\"crash_day\", date_format(MVCCDfAnalysis[\"crash_date\"], \"d\"))\\\n",
        ".select(\"collision_id\", \"crash_date\", \n",
        "        \"crash_year\",\"crash_month\", \"crash_day\",\n",
        "        \"crash_time\",\"borough\", \n",
        "        \"location\", \"number_of_persons_killed\",\n",
        "        \"number_of_pedestrians_killed\",\n",
        "        \"number_of_cyclist_killed\", \n",
        "        \"number_of_motorist_killed\")"
      ],
      "metadata": {
        "id": "ND3K_vLXsOGE"
      },
      "execution_count": 12,
      "outputs": []
    },
    {
      "cell_type": "code",
      "source": [
        "MVCCDKilled.show(1, truncate=True, vertical=True)"
      ],
      "metadata": {
        "colab": {
          "base_uri": "https://localhost:8080/"
        },
        "id": "Rbsv3_Vwt9PK",
        "outputId": "4f7e82d5-20de-4f1e-a72c-e2d7d8d311aa"
      },
      "execution_count": 13,
      "outputs": [
        {
          "output_type": "stream",
          "name": "stdout",
          "text": [
            "-RECORD 0--------------------------------------------\n",
            " collision_id                 | 4456659              \n",
            " crash_date                   | 2021-07-09           \n",
            " crash_year                   | 2021                 \n",
            " crash_month                  | 7                    \n",
            " crash_day                    | 9                    \n",
            " crash_time                   | 0:43                 \n",
            " borough                      | null                 \n",
            " location                     |   (40.720535, -73... \n",
            " number_of_persons_killed     | 1                    \n",
            " number_of_pedestrians_killed | 1                    \n",
            " number_of_cyclist_killed     | 0                    \n",
            " number_of_motorist_killed    | 0                    \n",
            "only showing top 1 row\n",
            "\n"
          ]
        }
      ]
    },
    {
      "cell_type": "code",
      "source": [
        "MVCCDKilled.groupBy(\"crash_year\", \"crash_month\")\\\n",
        ".sum(\"number_of_persons_killed\")\\\n",
        ".orderBy(\"crash_year\", \"crash_month\")\\\n",
        ".show(truncate=True)"
      ],
      "metadata": {
        "colab": {
          "base_uri": "https://localhost:8080/"
        },
        "id": "9e_sC3HMuhxG",
        "outputId": "a37db60a-bbbb-430a-c412-200ea324c9fd"
      },
      "execution_count": 14,
      "outputs": [
        {
          "output_type": "stream",
          "name": "stdout",
          "text": [
            "+----------+-----------+-----------------------------+\n",
            "|crash_year|crash_month|sum(number_of_persons_killed)|\n",
            "+----------+-----------+-----------------------------+\n",
            "|      2021|          4|                            2|\n",
            "|      2021|          7|                            1|\n",
            "|      2021|         12|                            1|\n",
            "+----------+-----------+-----------------------------+\n",
            "\n"
          ]
        }
      ]
    },
    {
      "cell_type": "code",
      "source": [],
      "metadata": {
        "id": "BlELNFSFwkZu"
      },
      "execution_count": 14,
      "outputs": []
    }
  ]
}