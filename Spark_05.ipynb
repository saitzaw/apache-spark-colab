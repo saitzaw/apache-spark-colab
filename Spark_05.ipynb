{
  "cells": [
    {
      "cell_type": "markdown",
      "metadata": {
        "id": "view-in-github",
        "colab_type": "text"
      },
      "source": [
        "<a href=\"https://colab.research.google.com/github/saitzaw/apache-spark-colab/blob/main/Spark_05.ipynb\" target=\"_parent\"><img src=\"https://colab.research.google.com/assets/colab-badge.svg\" alt=\"Open In Colab\"/></a>"
      ]
    },
    {
      "cell_type": "markdown",
      "metadata": {
        "id": "QnXyBJ9DopSP"
      },
      "source": [
        "### SQL query with Spark"
      ]
    },
    {
      "cell_type": "code",
      "execution_count": null,
      "metadata": {
        "id": "nhCezRIBcUTu"
      },
      "outputs": [],
      "source": [
        "!pip install -q findspark\n",
        "!pip install -q pyspark"
      ]
    },
    {
      "cell_type": "code",
      "execution_count": null,
      "metadata": {
        "id": "CJUVrSk74hAp"
      },
      "outputs": [],
      "source": [
        "import os\n",
        "import sqlite3\n",
        "import findspark\n",
        "from pyspark.sql.functions import lit\n",
        "from pyspark.sql.functions import col\n",
        "from pyspark.sql.functions import date_format\n",
        "from pyspark.sql.functions import to_date\n",
        "from pyspark.sql.functions import min\n",
        "from pyspark.sql.functions import max\n",
        "from pyspark.sql.functions import udf\n",
        "from pyspark.sql.types import IntegerType\n",
        "from pyspark.sql.types import StringType\n",
        "from pyspark.sql.types import StructType\n",
        "from pyspark.sql.types import StructField\n",
        "from pyspark.sql.types import DoubleType\n",
        "from pyspark.sql.types import LongType\n",
        "from pyspark.sql.types import ArrayType\n",
        "from pyspark.sql import SparkSession"
      ]
    },
    {
      "cell_type": "code",
      "execution_count": null,
      "metadata": {
        "id": "hPM_qsGbcMGm"
      },
      "outputs": [],
      "source": [
        "findspark.init()\n",
        "spark = SparkSession.builder\\\n",
        "                    .master(\"local\")\\\n",
        "                    .appName(\"colab\")\\\n",
        "                    .config(\"spark.ui.port\", \"4050\")\\\n",
        "                    .getOrCreate()\n",
        "spark.conf.set(\"spark.sql.repl.eagerEval.enabled\", True)"
      ]
    },
    {
      "cell_type": "code",
      "execution_count": null,
      "metadata": {
        "id": "Pc-4uOUgcoPW",
        "colab": {
          "base_uri": "https://localhost:8080/"
        },
        "outputId": "b0eaedcd-e862-460e-9da0-69ea5aa1af57"
      },
      "outputs": [
        {
          "output_type": "stream",
          "name": "stdout",
          "text": [
            "Drive already mounted at /content/gdrive; to attempt to forcibly remount, call drive.mount(\"/content/gdrive\", force_remount=True).\n"
          ]
        }
      ],
      "source": [
        "from google.colab import drive\n",
        "drive.mount('/content/gdrive')"
      ]
    },
    {
      "cell_type": "code",
      "execution_count": null,
      "metadata": {
        "id": "1EzJo06keXS8"
      },
      "outputs": [],
      "source": [
        "conn = sqlite3.connect('/content/gdrive/MyDrive/ColabDataset/chinook.db')"
      ]
    },
    {
      "cell_type": "code",
      "execution_count": null,
      "metadata": {
        "id": "t5tk2a2EioUg",
        "colab": {
          "base_uri": "https://localhost:8080/"
        },
        "outputId": "908268b1-b01e-48cc-ccd8-8979cee9e1ee"
      },
      "outputs": [
        {
          "output_type": "execute_result",
          "data": {
            "text/plain": [
              "<sqlite3.Connection at 0x7f14132b0f10>"
            ]
          },
          "metadata": {},
          "execution_count": 6
        }
      ],
      "source": [
        "conn"
      ]
    },
    {
      "cell_type": "code",
      "execution_count": null,
      "metadata": {
        "id": "c2dY9vovixUA"
      },
      "outputs": [],
      "source": [
        "def select_all_tasks(conn, query):\n",
        "    \"\"\"\n",
        "    Query all rows in the tasks table\n",
        "    :param conn: the Connection object\n",
        "    :return:\n",
        "    \"\"\"\n",
        "    cur = conn.cursor()\n",
        "    cur.execute(query)\n",
        "\n",
        "    rows = cur.fetchall()\n",
        "    return rows"
      ]
    },
    {
      "cell_type": "code",
      "execution_count": null,
      "metadata": {
        "id": "iIorqE21cAEl"
      },
      "outputs": [],
      "source": [
        "# for column in [column for column in invoiceDf.columns\n",
        "#                if column not in artistDf.columns]:\n",
        "#     artistDf = artistDf.withColumn(column, lit(None))"
      ]
    },
    {
      "cell_type": "code",
      "execution_count": null,
      "metadata": {
        "id": "-C6njQDNedB9"
      },
      "outputs": [],
      "source": [
        "# for column in [column for column in artistDf.columns\n",
        "#                if column not in invoiceDf.columns]:\n",
        "#     invoiceDf = invoiceDf.withColumn(column, lit(None))"
      ]
    },
    {
      "cell_type": "code",
      "execution_count": null,
      "metadata": {
        "id": "jrUsAw_nnflE"
      },
      "outputs": [],
      "source": [
        "query = \"SELECT c.FirstName,\\\n",
        "                          c.LastName,\\\n",
        "                          c.Company,\\\n",
        "                          c.SupportRepId,\\\n",
        "                          c.City,\\\n",
        "                          c.state,\\\n",
        "                          c.Country,\\\n",
        "                          c.PostalCode,\\\n",
        "                          i.InvoiceId,\\\n",
        "                          i.InvoiceDate,\\\n",
        "                          i.BillingAddress,\\\n",
        "                          i.BillingCity,\\\n",
        "                          i.BillingState,\\\n",
        "                          i.BillingCountry,\\\n",
        "                          i.BillingPostalCode,\\\n",
        "                          i.Total,\\\n",
        "                          t.UnitPrice,\\\n",
        "                          t.Quantity,\\\n",
        "                          r.Name,\\\n",
        "                          r.Composer,\\\n",
        "                          r.Milliseconds,\\\n",
        "                          r.Bytes,\\\n",
        "                          a.Title,\\\n",
        "                          s.Name AS ArtistName,\\\n",
        "                          p.Name AS Playlist,\\\n",
        "                          m.Name AS MediaType\\\n",
        "                  FROM customers AS c\\\n",
        "                  LEFT JOIN invoices AS i ON c.CustomerId==i.CustomerId\\\n",
        "                  LEFT JOIN invoice_items AS t ON i.InvoiceId==t.InvoiceId \\\n",
        "                  LEFT JOIN tracks AS r ON t.TrackId==r.TrackId \\\n",
        "                  LEFT JOIN albums AS a ON a.AlbumId==r.AlbumId \\\n",
        "                  LEFT JOIN artists AS s ON a.ArtistId==s.ArtistId \\\n",
        "                  LEFT JOIN genres AS g ON g.GenreId==r.GenreId \\\n",
        "                  LEFT JOIN playlist_track AS k ON k.TrackId==r.TrackId \\\n",
        "                  LEFT JOIN playlists AS p ON p.PlaylistId==k.PlaylistId \\\n",
        "                  LEFT JOIN media_types AS m ON m.MediaTypeId==r.MediaTypeId \\\n",
        "                  ORDER BY i.InvoiceId ASC ;\""
      ]
    },
    {
      "cell_type": "code",
      "execution_count": null,
      "metadata": {
        "id": "F1YlkSd2Ctrc"
      },
      "outputs": [],
      "source": [
        "cols_name = [\n",
        "              ('FirstName', StringType()),\n",
        "              ('LastName', StringType()),\n",
        "              ('Company', StringType()),\n",
        "              ('SupportRepId', IntegerType()),\n",
        "              ('City', StringType()),\n",
        "              ('State', StringType()),\n",
        "              ('Country', StringType()),\n",
        "              ('PostalCode', StringType()),\n",
        "              ('InvoiceId', IntegerType()),\n",
        "              ('InvoiceDate', StringType()),\n",
        "              ('BillingAddress', StringType()),\n",
        "              ('BillingCity', StringType()),\n",
        "              ('BillingState', StringType()),\n",
        "              ('BillingCountry', StringType()),\n",
        "              ('BillingPostalCode', StringType()),\n",
        "              ('Total', DoubleType()),\n",
        "              ('UnitPrice', DoubleType()),\n",
        "              ('Quantity', IntegerType()),\n",
        "              ('Name', StringType()),\n",
        "              ('Composer', StringType()),\n",
        "              ('Milliseconds', LongType()),\n",
        "              ('Bytes', LongType()),\n",
        "              ('Title', StringType()),\n",
        "              ('ArtistName', StringType()),\n",
        "              ('Playlist', StringType()),\n",
        "              ('MediaType', StringType()),\n",
        "              ]"
      ]
    },
    {
      "cell_type": "code",
      "execution_count": null,
      "metadata": {
        "id": "lk1QF1PlFmA1"
      },
      "outputs": [],
      "source": [
        "schema = StructType(\n",
        "    [\n",
        "     StructField(\n",
        "        x[0], x[1], True\n",
        "      )\n",
        "     for x in cols_name\n",
        "    ]\n",
        ")"
      ]
    },
    {
      "cell_type": "code",
      "execution_count": null,
      "metadata": {
        "id": "YbPRLDeZFgRv"
      },
      "outputs": [],
      "source": [
        "customerBehavior = select_all_tasks(conn, query)"
      ]
    },
    {
      "cell_type": "code",
      "execution_count": null,
      "metadata": {
        "id": "73-T2xUFFbJl"
      },
      "outputs": [],
      "source": [
        "customerBehaviorDf = spark.createDataFrame(customerBehavior, schema)"
      ]
    },
    {
      "cell_type": "code",
      "execution_count": null,
      "metadata": {
        "colab": {
          "base_uri": "https://localhost:8080/"
        },
        "id": "8I6fw0mSGIau",
        "outputId": "c04f73e9-f8b0-49a6-f7ae-5af42ec84ab0"
      },
      "outputs": [
        {
          "output_type": "stream",
          "name": "stdout",
          "text": [
            "-RECORD 0-------------------------------------\n",
            " FirstName         | Leonie                   \n",
            " LastName          | Köhler                   \n",
            " Company           | null                     \n",
            " SupportRepId      | 5                        \n",
            " City              | Stuttgart                \n",
            " State             | null                     \n",
            " Country           | Germany                  \n",
            " PostalCode        | 70174                    \n",
            " InvoiceId         | 1                        \n",
            " InvoiceDate       | 2009-01-01 00:00:00      \n",
            " BillingAddress    | Theodor-Heuss-Straße 34  \n",
            " BillingCity       | Stuttgart                \n",
            " BillingState      | null                     \n",
            " BillingCountry    | Germany                  \n",
            " BillingPostalCode | 70174                    \n",
            " Total             | 1.98                     \n",
            " UnitPrice         | 0.99                     \n",
            " Quantity          | 1                        \n",
            " Name              | Balls to the Wall        \n",
            " Composer          | null                     \n",
            " Milliseconds      | 342562                   \n",
            " Bytes             | 5510424                  \n",
            " Title             | Balls to the Wall        \n",
            " ArtistName        | Accept                   \n",
            " Playlist          | Music                    \n",
            " MediaType         | Protected AAC audio file \n",
            "only showing top 1 row\n",
            "\n"
          ]
        }
      ],
      "source": [
        "customerBehaviorDf.show(1, truncate=False, vertical=True)"
      ]
    },
    {
      "cell_type": "code",
      "execution_count": null,
      "metadata": {
        "colab": {
          "base_uri": "https://localhost:8080/"
        },
        "id": "S7g2qRMBJx4E",
        "outputId": "581455fb-e5e6-4e7d-a3f3-5ce57ad56172"
      },
      "outputs": [
        {
          "output_type": "execute_result",
          "data": {
            "text/plain": [
              "4184"
            ]
          },
          "metadata": {},
          "execution_count": 16
        }
      ],
      "source": [
        "customerBehaviorDf.filter(\"Composer IS NOT NULL\").count()"
      ]
    },
    {
      "cell_type": "code",
      "execution_count": null,
      "metadata": {
        "colab": {
          "base_uri": "https://localhost:8080/"
        },
        "id": "PGbdxH_HdaCD",
        "outputId": "37332798-d719-488e-b59f-a9c38c7e36e8"
      },
      "outputs": [
        {
          "output_type": "execute_result",
          "data": {
            "text/plain": [
              "4184"
            ]
          },
          "metadata": {},
          "execution_count": 17
        }
      ],
      "source": [
        "customerBehaviorDf.filter(\"Composer IS NOT NULL\").count()"
      ]
    },
    {
      "cell_type": "code",
      "execution_count": null,
      "metadata": {
        "colab": {
          "base_uri": "https://localhost:8080/"
        },
        "id": "6dezWK3JLgSF",
        "outputId": "419bd5a3-23f4-4b3f-ce9c-0f4856ca3e7a"
      },
      "outputs": [
        {
          "output_type": "execute_result",
          "data": {
            "text/plain": [
              "5572"
            ]
          },
          "metadata": {},
          "execution_count": 18
        }
      ],
      "source": [
        "customerBehaviorDf.count()"
      ]
    },
    {
      "cell_type": "code",
      "execution_count": null,
      "metadata": {
        "id": "KalxiFSTSffU"
      },
      "outputs": [],
      "source": [
        "NullCount = {col:(\n",
        "    customerBehaviorDf.filter(\n",
        "        customerBehaviorDf[col].isNull()\n",
        "        ).count()\n",
        "        ) for col in customerBehaviorDf.columns}"
      ]
    },
    {
      "cell_type": "code",
      "execution_count": null,
      "metadata": {
        "colab": {
          "base_uri": "https://localhost:8080/"
        },
        "id": "2zU8Pc-eeBwV",
        "outputId": "48b5793d-f8fc-42b3-e99b-44570077e674"
      },
      "outputs": [
        {
          "output_type": "execute_result",
          "data": {
            "text/plain": [
              "{'ArtistName': 0,\n",
              " 'BillingAddress': 0,\n",
              " 'BillingCity': 0,\n",
              " 'BillingCountry': 0,\n",
              " 'BillingPostalCode': 368,\n",
              " 'BillingState': 2716,\n",
              " 'Bytes': 0,\n",
              " 'City': 0,\n",
              " 'Company': 4616,\n",
              " 'Composer': 1388,\n",
              " 'Country': 0,\n",
              " 'FirstName': 0,\n",
              " 'InvoiceDate': 0,\n",
              " 'InvoiceId': 0,\n",
              " 'LastName': 0,\n",
              " 'MediaType': 0,\n",
              " 'Milliseconds': 0,\n",
              " 'Name': 0,\n",
              " 'Playlist': 0,\n",
              " 'PostalCode': 368,\n",
              " 'Quantity': 0,\n",
              " 'State': 2716,\n",
              " 'SupportRepId': 0,\n",
              " 'Title': 0,\n",
              " 'Total': 0,\n",
              " 'UnitPrice': 0}"
            ]
          },
          "metadata": {},
          "execution_count": 20
        }
      ],
      "source": [
        "NullCount"
      ]
    },
    {
      "cell_type": "code",
      "execution_count": null,
      "metadata": {
        "id": "Xdj5yKrChPAT"
      },
      "outputs": [],
      "source": [
        "def splitUDF(row):\n",
        "    if \" \" in row:\n",
        "        date,hhmmss = row.split(\" \")\n",
        "    if \"-\" in date:\n",
        "        yyyy,mm,dd = date.split(\"-\")\n",
        "\n",
        "    return [yyyy,mm,dd]"
      ]
    },
    {
      "cell_type": "code",
      "execution_count": null,
      "metadata": {
        "id": "30sZM7U-hWD5"
      },
      "outputs": [],
      "source": [
        "datSplitterUDF = udf(lambda row : splitUDF(row),ArrayType(StringType()))"
      ]
    },
    {
      "cell_type": "code",
      "execution_count": null,
      "metadata": {
        "id": "GJTnL1D7ir-W"
      },
      "outputs": [],
      "source": [
        "customerBehaviorDateTimeDf = customerBehaviorDf\\\n",
        ".select('*', datSplitterUDF(customerBehaviorDf.InvoiceDate).alias(\"dt\"))\\\n",
        ".withColumn('year',col('dt').getItem(0).cast('int'))\\\n",
        ".withColumn('month',col('dt').getItem(1).cast('int'))\\\n",
        ".withColumn('day',col('dt').getItem(2).cast('int'))"
      ]
    },
    {
      "cell_type": "code",
      "execution_count": null,
      "metadata": {
        "colab": {
          "base_uri": "https://localhost:8080/"
        },
        "id": "xl3Lq-fTgnhp",
        "outputId": "323e8b2a-6ce1-4e0e-d074-7c22fc7a5e8a"
      },
      "outputs": [
        {
          "output_type": "stream",
          "name": "stdout",
          "text": [
            "-RECORD 0---------------------------------\n",
            " FirstName         | Leonie               \n",
            " LastName          | Köhler               \n",
            " Company           | null                 \n",
            " SupportRepId      | 5                    \n",
            " City              | Stuttgart            \n",
            " State             | null                 \n",
            " Country           | Germany              \n",
            " PostalCode        | 70174                \n",
            " InvoiceId         | 1                    \n",
            " InvoiceDate       | 2009-01-01 00:00:00  \n",
            " BillingAddress    | Theodor-Heuss-Str... \n",
            " BillingCity       | Stuttgart            \n",
            " BillingState      | null                 \n",
            " BillingCountry    | Germany              \n",
            " BillingPostalCode | 70174                \n",
            " Total             | 1.98                 \n",
            " UnitPrice         | 0.99                 \n",
            " Quantity          | 1                    \n",
            " Name              | Balls to the Wall    \n",
            " Composer          | null                 \n",
            " Milliseconds      | 342562               \n",
            " Bytes             | 5510424              \n",
            " Title             | Balls to the Wall    \n",
            " ArtistName        | Accept               \n",
            " Playlist          | Music                \n",
            " MediaType         | Protected AAC aud... \n",
            " dt                | [2009, 01, 01]       \n",
            " year              | 2009                 \n",
            " month             | 1                    \n",
            " day               | 1                    \n",
            "only showing top 1 row\n",
            "\n"
          ]
        }
      ],
      "source": [
        "customerBehaviorDateTimeDf.show(1, truncate=True, vertical=True)"
      ]
    },
    {
      "cell_type": "code",
      "execution_count": null,
      "metadata": {
        "colab": {
          "base_uri": "https://localhost:8080/"
        },
        "id": "ABsl_0qPh7m_",
        "outputId": "c5235728-3d2f-42d8-c4f3-5ca9f02190e5"
      },
      "outputs": [
        {
          "output_type": "stream",
          "name": "stdout",
          "text": [
            "-RECORD 0-------------------------------------\n",
            " FirstName         | Leonie                   \n",
            " LastName          | Köhler                   \n",
            " Company           | null                     \n",
            " SupportRepId      | 5                        \n",
            " City              | Stuttgart                \n",
            " State             | null                     \n",
            " Country           | Germany                  \n",
            " PostalCode        | 70174                    \n",
            " InvoiceId         | 1                        \n",
            " BillingAddress    | Theodor-Heuss-Straße 34  \n",
            " BillingCity       | Stuttgart                \n",
            " BillingState      | null                     \n",
            " BillingCountry    | Germany                  \n",
            " BillingPostalCode | 70174                    \n",
            " Total             | 1.98                     \n",
            " UnitPrice         | 0.99                     \n",
            " Quantity          | 1                        \n",
            " Name              | Balls to the Wall        \n",
            " Composer          | null                     \n",
            " Milliseconds      | 342562                   \n",
            " Bytes             | 5510424                  \n",
            " Title             | Balls to the Wall        \n",
            " ArtistName        | Accept                   \n",
            " Playlist          | Music                    \n",
            " MediaType         | Protected AAC audio file \n",
            " year              | 2009                     \n",
            " month             | 1                        \n",
            " day               | 1                        \n",
            "only showing top 1 row\n",
            "\n"
          ]
        }
      ],
      "source": [
        "customerBehaviorDateTimeDf.drop(\"InvoiceDate\", \"dt\").show(1, truncate=False, vertical=True)"
      ]
    },
    {
      "cell_type": "code",
      "source": [
        "customerBehaviorDtDf = customerBehaviorDateTimeDf.drop(\"InvoiceDate\", \"dt\")"
      ],
      "metadata": {
        "id": "63WL-8LD0av6"
      },
      "execution_count": null,
      "outputs": []
    },
    {
      "cell_type": "code",
      "source": [
        "customerBehaviorDtDf.show(1, truncate=True, vertical=True)"
      ],
      "metadata": {
        "colab": {
          "base_uri": "https://localhost:8080/"
        },
        "id": "iwwYq2SD0ldd",
        "outputId": "7f8fd511-9e82-4e7e-dcb8-b32d65780445"
      },
      "execution_count": null,
      "outputs": [
        {
          "output_type": "stream",
          "name": "stdout",
          "text": [
            "-RECORD 0---------------------------------\n",
            " FirstName         | Leonie               \n",
            " LastName          | Köhler               \n",
            " Company           | null                 \n",
            " SupportRepId      | 5                    \n",
            " City              | Stuttgart            \n",
            " State             | null                 \n",
            " Country           | Germany              \n",
            " PostalCode        | 70174                \n",
            " InvoiceId         | 1                    \n",
            " BillingAddress    | Theodor-Heuss-Str... \n",
            " BillingCity       | Stuttgart            \n",
            " BillingState      | null                 \n",
            " BillingCountry    | Germany              \n",
            " BillingPostalCode | 70174                \n",
            " Total             | 1.98                 \n",
            " UnitPrice         | 0.99                 \n",
            " Quantity          | 1                    \n",
            " Name              | Balls to the Wall    \n",
            " Composer          | null                 \n",
            " Milliseconds      | 342562               \n",
            " Bytes             | 5510424              \n",
            " Title             | Balls to the Wall    \n",
            " ArtistName        | Accept               \n",
            " Playlist          | Music                \n",
            " MediaType         | Protected AAC aud... \n",
            " year              | 2009                 \n",
            " month             | 1                    \n",
            " day               | 1                    \n",
            "only showing top 1 row\n",
            "\n"
          ]
        }
      ]
    },
    {
      "cell_type": "code",
      "source": [
        "customerBehaviorDtDf.filter(col('Country') == 'Germany').count()"
      ],
      "metadata": {
        "colab": {
          "base_uri": "https://localhost:8080/"
        },
        "id": "70nbiGL905gq",
        "outputId": "77385a3d-d73d-4f62-905b-104155d18768"
      },
      "execution_count": null,
      "outputs": [
        {
          "output_type": "execute_result",
          "data": {
            "text/plain": [
              "374"
            ]
          },
          "metadata": {},
          "execution_count": 45
        }
      ]
    },
    {
      "cell_type": "code",
      "source": [
        "customerBehaviorDtDf.select('Country').distinct().count()"
      ],
      "metadata": {
        "colab": {
          "base_uri": "https://localhost:8080/"
        },
        "id": "FoQosj4P3lE2",
        "outputId": "20443ffe-a2f6-4388-a072-242f90e6574d"
      },
      "execution_count": null,
      "outputs": [
        {
          "output_type": "execute_result",
          "data": {
            "text/plain": [
              "24"
            ]
          },
          "metadata": {},
          "execution_count": 47
        }
      ]
    },
    {
      "cell_type": "code",
      "source": [
        "customerBehaviorDtDf.select('Country').distinct().show(24)"
      ],
      "metadata": {
        "colab": {
          "base_uri": "https://localhost:8080/"
        },
        "id": "-vll_hSl4q_1",
        "outputId": "c2ff0166-0190-458d-e285-76ca6c71d278"
      },
      "execution_count": null,
      "outputs": [
        {
          "output_type": "stream",
          "name": "stdout",
          "text": [
            "+--------------+\n",
            "|       Country|\n",
            "+--------------+\n",
            "|        Sweden|\n",
            "|       Germany|\n",
            "|        France|\n",
            "|     Argentina|\n",
            "|       Belgium|\n",
            "|       Finland|\n",
            "|         India|\n",
            "|         Chile|\n",
            "|         Italy|\n",
            "|        Norway|\n",
            "|         Spain|\n",
            "|       Denmark|\n",
            "|       Ireland|\n",
            "|           USA|\n",
            "|        Canada|\n",
            "|Czech Republic|\n",
            "|        Brazil|\n",
            "|        Poland|\n",
            "|      Portugal|\n",
            "|     Australia|\n",
            "|       Austria|\n",
            "|       Hungary|\n",
            "|United Kingdom|\n",
            "|   Netherlands|\n",
            "+--------------+\n",
            "\n"
          ]
        }
      ]
    },
    {
      "cell_type": "code",
      "source": [
        "customerBehaviorDtDf.select('City').distinct().count()"
      ],
      "metadata": {
        "colab": {
          "base_uri": "https://localhost:8080/"
        },
        "id": "WwCCT3iD4xAT",
        "outputId": "922c8232-3b6f-4e85-c577-5becd6d24700"
      },
      "execution_count": null,
      "outputs": [
        {
          "output_type": "execute_result",
          "data": {
            "text/plain": [
              "53"
            ]
          },
          "metadata": {},
          "execution_count": 50
        }
      ]
    },
    {
      "cell_type": "code",
      "source": [
        "customerBehaviorDtDf.select('City').distinct().show(53)"
      ],
      "metadata": {
        "colab": {
          "base_uri": "https://localhost:8080/"
        },
        "id": "q7mrc8Kp7guq",
        "outputId": "aa6ccf75-c859-4711-bfd9-30f22bb8efcb"
      },
      "execution_count": null,
      "outputs": [
        {
          "output_type": "stream",
          "name": "stdout",
          "text": [
            "+-------------------+\n",
            "|               City|\n",
            "+-------------------+\n",
            "|          Bangalore|\n",
            "|           Winnipeg|\n",
            "|             Madrid|\n",
            "|             Prague|\n",
            "|             Ottawa|\n",
            "|             Sidney|\n",
            "|          Cupertino|\n",
            "|          Frankfurt|\n",
            "|              Dijon|\n",
            "|             Lisbon|\n",
            "|          Stockholm|\n",
            "|               Oslo|\n",
            "|             Dublin|\n",
            "|             Berlin|\n",
            "|             London|\n",
            "|São José dos Campos|\n",
            "|            Madison|\n",
            "|              Paris|\n",
            "|            Chicago|\n",
            "|               Lyon|\n",
            "|           Montréal|\n",
            "|            Toronto|\n",
            "|              Porto|\n",
            "|        Yellowknife|\n",
            "|             Warsaw|\n",
            "|            Redmond|\n",
            "|          Amsterdam|\n",
            "|           Brussels|\n",
            "|          Vancouver|\n",
            "|           Edmonton|\n",
            "|               Reno|\n",
            "|           Bordeaux|\n",
            "|       Buenos Aires|\n",
            "|         Edinburgh |\n",
            "|          São Paulo|\n",
            "|             Vienne|\n",
            "|              Delhi|\n",
            "|          Stuttgart|\n",
            "|           Helsinki|\n",
            "|         Copenhagen|\n",
            "|               Rome|\n",
            "|     Rio de Janeiro|\n",
            "|             Tucson|\n",
            "|           Brasília|\n",
            "|           Budapest|\n",
            "|     Salt Lake City|\n",
            "|           Santiago|\n",
            "|            Orlando|\n",
            "|           New York|\n",
            "|            Halifax|\n",
            "|      Mountain View|\n",
            "|         Fort Worth|\n",
            "|             Boston|\n",
            "+-------------------+\n",
            "\n"
          ]
        }
      ]
    },
    {
      "cell_type": "code",
      "source": [
        "customerBehaviorDtDf.select('City').distinct().show(53)"
      ],
      "metadata": {
        "colab": {
          "base_uri": "https://localhost:8080/"
        },
        "id": "lCN-CQxd7lYq",
        "outputId": "be57b7b4-3915-401f-e377-2a53534d2dee"
      },
      "execution_count": null,
      "outputs": [
        {
          "output_type": "stream",
          "name": "stdout",
          "text": [
            "+-------------------+\n",
            "|               City|\n",
            "+-------------------+\n",
            "|          Bangalore|\n",
            "|           Winnipeg|\n",
            "|             Madrid|\n",
            "|             Prague|\n",
            "|             Ottawa|\n",
            "|             Sidney|\n",
            "|          Cupertino|\n",
            "|          Frankfurt|\n",
            "|              Dijon|\n",
            "|             Lisbon|\n",
            "|          Stockholm|\n",
            "|               Oslo|\n",
            "|             Dublin|\n",
            "|             Berlin|\n",
            "|             London|\n",
            "|São José dos Campos|\n",
            "|            Madison|\n",
            "|              Paris|\n",
            "|            Chicago|\n",
            "|               Lyon|\n",
            "|           Montréal|\n",
            "|            Toronto|\n",
            "|              Porto|\n",
            "|        Yellowknife|\n",
            "|             Warsaw|\n",
            "|            Redmond|\n",
            "|          Amsterdam|\n",
            "|           Brussels|\n",
            "|          Vancouver|\n",
            "|           Edmonton|\n",
            "|               Reno|\n",
            "|           Bordeaux|\n",
            "|       Buenos Aires|\n",
            "|         Edinburgh |\n",
            "|          São Paulo|\n",
            "|             Vienne|\n",
            "|              Delhi|\n",
            "|          Stuttgart|\n",
            "|           Helsinki|\n",
            "|         Copenhagen|\n",
            "|               Rome|\n",
            "|     Rio de Janeiro|\n",
            "|             Tucson|\n",
            "|           Brasília|\n",
            "|           Budapest|\n",
            "|     Salt Lake City|\n",
            "|           Santiago|\n",
            "|            Orlando|\n",
            "|           New York|\n",
            "|            Halifax|\n",
            "|      Mountain View|\n",
            "|         Fort Worth|\n",
            "|             Boston|\n",
            "+-------------------+\n",
            "\n"
          ]
        }
      ]
    },
    {
      "cell_type": "code",
      "source": [
        "customerBehaviorDtDf.groupBy(col('City')).count().show(53)"
      ],
      "metadata": {
        "id": "3K46AIDB_KYG",
        "colab": {
          "base_uri": "https://localhost:8080/"
        },
        "outputId": "c644b459-b06e-4087-d3ce-7d69353af4cc"
      },
      "execution_count": 54,
      "outputs": [
        {
          "output_type": "stream",
          "name": "stdout",
          "text": [
            "+-------------------+-----+\n",
            "|               City|count|\n",
            "+-------------------+-----+\n",
            "|          Bangalore|   90|\n",
            "|           Winnipeg|  100|\n",
            "|             Madrid|   90|\n",
            "|             Prague|  185|\n",
            "|             Ottawa|   99|\n",
            "|             Sidney|   97|\n",
            "|          Cupertino|   94|\n",
            "|          Frankfurt|   95|\n",
            "|              Dijon|   97|\n",
            "|             Lisbon|   90|\n",
            "|          Stockholm|   97|\n",
            "|               Oslo|   92|\n",
            "|             Dublin|   97|\n",
            "|             Berlin|  183|\n",
            "|             London|  188|\n",
            "|São José dos Campos|   96|\n",
            "|            Madison|   97|\n",
            "|              Paris|  187|\n",
            "|            Chicago|   97|\n",
            "|               Lyon|   99|\n",
            "|           Montréal|   93|\n",
            "|            Toronto|   88|\n",
            "|              Porto|   89|\n",
            "|        Yellowknife|   95|\n",
            "|             Warsaw|   90|\n",
            "|            Redmond|   97|\n",
            "|          Amsterdam|   86|\n",
            "|           Brussels|  101|\n",
            "|          Vancouver|   91|\n",
            "|           Edmonton|   97|\n",
            "|               Reno|   97|\n",
            "|           Bordeaux|   94|\n",
            "|       Buenos Aires|   95|\n",
            "|         Edinburgh |   94|\n",
            "|          São Paulo|  192|\n",
            "|             Vienne|   92|\n",
            "|              Delhi|   96|\n",
            "|          Stuttgart|   96|\n",
            "|           Helsinki|   94|\n",
            "|         Copenhagen|   91|\n",
            "|               Rome|  105|\n",
            "|     Rio de Janeiro|   98|\n",
            "|             Tucson|  105|\n",
            "|           Brasília|   98|\n",
            "|           Budapest|   99|\n",
            "|     Salt Lake City|   96|\n",
            "|           Santiago|   92|\n",
            "|            Orlando|  101|\n",
            "|           New York|   91|\n",
            "|            Halifax|   92|\n",
            "|      Mountain View|  186|\n",
            "|         Fort Worth|   85|\n",
            "|             Boston|   86|\n",
            "+-------------------+-----+\n",
            "\n"
          ]
        }
      ]
    },
    {
      "cell_type": "code",
      "source": [
        "customerBehaviorDtDf.groupBy(col('Country')).count().show(53)"
      ],
      "metadata": {
        "colab": {
          "base_uri": "https://localhost:8080/"
        },
        "id": "aC0aUidDFsUC",
        "outputId": "63d5c240-f589-40ba-93ba-32f6a231b821"
      },
      "execution_count": 55,
      "outputs": [
        {
          "output_type": "stream",
          "name": "stdout",
          "text": [
            "+--------------+-----+\n",
            "|       Country|count|\n",
            "+--------------+-----+\n",
            "|        Sweden|   97|\n",
            "|       Germany|  374|\n",
            "|        France|  477|\n",
            "|     Argentina|   95|\n",
            "|       Belgium|  101|\n",
            "|       Finland|   94|\n",
            "|         India|  186|\n",
            "|         Chile|   92|\n",
            "|         Italy|  105|\n",
            "|        Norway|   92|\n",
            "|         Spain|   90|\n",
            "|       Denmark|   91|\n",
            "|       Ireland|   97|\n",
            "|           USA| 1232|\n",
            "|        Canada|  755|\n",
            "|Czech Republic|  185|\n",
            "|        Brazil|  484|\n",
            "|        Poland|   90|\n",
            "|      Portugal|  179|\n",
            "|     Australia|   97|\n",
            "|       Austria|   92|\n",
            "|       Hungary|   99|\n",
            "|United Kingdom|  282|\n",
            "|   Netherlands|   86|\n",
            "+--------------+-----+\n",
            "\n"
          ]
        }
      ]
    },
    {
      "cell_type": "code",
      "source": [
        ""
      ],
      "metadata": {
        "id": "fouKk-IfF5Zx"
      },
      "execution_count": null,
      "outputs": []
    }
  ],
  "metadata": {
    "colab": {
      "collapsed_sections": [],
      "name": "Spark_05.ipynb",
      "provenance": [],
      "authorship_tag": "ABX9TyNadbswg8bJyY5h94cEsbIn",
      "include_colab_link": true
    },
    "kernelspec": {
      "display_name": "Python 3",
      "name": "python3"
    },
    "language_info": {
      "name": "python"
    }
  },
  "nbformat": 4,
  "nbformat_minor": 0
}