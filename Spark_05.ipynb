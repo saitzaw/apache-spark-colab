{
  "cells": [
    {
      "cell_type": "markdown",
      "metadata": {
        "id": "QnXyBJ9DopSP"
      },
      "source": [
        "### SQL query with Spark"
      ]
    },
    {
      "cell_type": "code",
      "execution_count": 1,
      "metadata": {
        "id": "nhCezRIBcUTu"
      },
      "outputs": [],
      "source": [
        "!pip install -q findspark\n",
        "!pip install -q pyspark"
      ]
    },
    {
      "cell_type": "code",
      "execution_count": 2,
      "metadata": {
        "id": "CJUVrSk74hAp"
      },
      "outputs": [],
      "source": [
        "import os\n",
        "import sqlite3\n",
        "import findspark\n",
        "import matplotlib.pyplot as plt\n",
        "from pyspark.sql.functions import lit\n",
        "from pyspark.sql.functions import col\n",
        "from pyspark.sql.functions import date_format\n",
        "from pyspark.sql.functions import to_date\n",
        "from pyspark.sql.functions import min\n",
        "from pyspark.sql.functions import max\n",
        "from pyspark.sql.functions import udf\n",
        "from pyspark.sql.functions import expr\n",
        "from pyspark.sql.types import IntegerType\n",
        "from pyspark.sql.types import StringType\n",
        "from pyspark.sql.types import StructType\n",
        "from pyspark.sql.types import StructField\n",
        "from pyspark.sql.types import DoubleType\n",
        "from pyspark.sql.types import LongType\n",
        "from pyspark.sql.types import ArrayType\n",
        "from pyspark.sql import SparkSession"
      ]
    },
    {
      "cell_type": "code",
      "execution_count": 3,
      "metadata": {
        "id": "hPM_qsGbcMGm"
      },
      "outputs": [],
      "source": [
        "findspark.init()\n",
        "spark = SparkSession.builder\\\n",
        "                    .master(\"local\")\\\n",
        "                    .appName(\"colab\")\\\n",
        "                    .config(\"spark.ui.port\", \"4050\")\\\n",
        "                    .getOrCreate()\n",
        "spark.conf.set(\"spark.sql.repl.eagerEval.enabled\", True)"
      ]
    },
    {
      "cell_type": "code",
      "execution_count": 4,
      "metadata": {
        "id": "Pc-4uOUgcoPW",
        "colab": {
          "base_uri": "https://localhost:8080/"
        },
        "outputId": "e1163728-5b30-4531-b1d1-8b8eccfaf5f7"
      },
      "outputs": [
        {
          "output_type": "stream",
          "name": "stdout",
          "text": [
            "Drive already mounted at /content/gdrive; to attempt to forcibly remount, call drive.mount(\"/content/gdrive\", force_remount=True).\n"
          ]
        }
      ],
      "source": [
        "from google.colab import drive\n",
        "drive.mount('/content/gdrive')"
      ]
    },
    {
      "cell_type": "code",
      "execution_count": 5,
      "metadata": {
        "id": "1EzJo06keXS8"
      },
      "outputs": [],
      "source": [
        "conn = sqlite3.connect('/content/gdrive/MyDrive/ColabDataset/chinook.db')"
      ]
    },
    {
      "cell_type": "code",
      "execution_count": 6,
      "metadata": {
        "id": "t5tk2a2EioUg",
        "colab": {
          "base_uri": "https://localhost:8080/"
        },
        "outputId": "7b0400b5-b5d6-43fe-a0a0-23cc2c2c986c"
      },
      "outputs": [
        {
          "output_type": "execute_result",
          "data": {
            "text/plain": [
              "<sqlite3.Connection at 0x7fb86c9caf10>"
            ]
          },
          "metadata": {},
          "execution_count": 6
        }
      ],
      "source": [
        "conn"
      ]
    },
    {
      "cell_type": "code",
      "execution_count": 7,
      "metadata": {
        "id": "c2dY9vovixUA"
      },
      "outputs": [],
      "source": [
        "def select_all_tasks(conn, query):\n",
        "    \"\"\"\n",
        "    Query all rows in the tasks table\n",
        "    :param conn: the Connection object\n",
        "    :return:\n",
        "    \"\"\"\n",
        "    cur = conn.cursor()\n",
        "    cur.execute(query)\n",
        "\n",
        "    rows = cur.fetchall()\n",
        "    return rows"
      ]
    },
    {
      "cell_type": "code",
      "execution_count": 8,
      "metadata": {
        "id": "iIorqE21cAEl"
      },
      "outputs": [],
      "source": [
        "# for column in [column for column in invoiceDf.columns\n",
        "#                if column not in artistDf.columns]:\n",
        "#     artistDf = artistDf.withColumn(column, lit(None))"
      ]
    },
    {
      "cell_type": "code",
      "execution_count": 9,
      "metadata": {
        "id": "-C6njQDNedB9"
      },
      "outputs": [],
      "source": [
        "# for column in [column for column in artistDf.columns\n",
        "#                if column not in invoiceDf.columns]:\n",
        "#     invoiceDf = invoiceDf.withColumn(column, lit(None))"
      ]
    },
    {
      "cell_type": "code",
      "execution_count": 10,
      "metadata": {
        "id": "jrUsAw_nnflE"
      },
      "outputs": [],
      "source": [
        "query = \"SELECT c.FirstName,\\\n",
        "                          c.LastName,\\\n",
        "                          c.Company,\\\n",
        "                          c.SupportRepId,\\\n",
        "                          c.City,\\\n",
        "                          c.state,\\\n",
        "                          c.Country,\\\n",
        "                          c.PostalCode,\\\n",
        "                          i.InvoiceId,\\\n",
        "                          i.InvoiceDate,\\\n",
        "                          i.BillingAddress,\\\n",
        "                          i.BillingCity,\\\n",
        "                          i.BillingState,\\\n",
        "                          i.BillingCountry,\\\n",
        "                          i.BillingPostalCode,\\\n",
        "                          i.Total,\\\n",
        "                          t.UnitPrice,\\\n",
        "                          t.Quantity,\\\n",
        "                          r.Name,\\\n",
        "                          r.Composer,\\\n",
        "                          r.Milliseconds,\\\n",
        "                          r.Bytes,\\\n",
        "                          a.Title,\\\n",
        "                          s.Name AS ArtistName,\\\n",
        "                          p.Name AS Playlist,\\\n",
        "                          m.Name AS MediaType\\\n",
        "                  FROM customers AS c\\\n",
        "                  LEFT JOIN invoices AS i ON c.CustomerId==i.CustomerId\\\n",
        "                  LEFT JOIN invoice_items AS t ON i.InvoiceId==t.InvoiceId \\\n",
        "                  LEFT JOIN tracks AS r ON t.TrackId==r.TrackId \\\n",
        "                  LEFT JOIN albums AS a ON a.AlbumId==r.AlbumId \\\n",
        "                  LEFT JOIN artists AS s ON a.ArtistId==s.ArtistId \\\n",
        "                  LEFT JOIN genres AS g ON g.GenreId==r.GenreId \\\n",
        "                  LEFT JOIN playlist_track AS k ON k.TrackId==r.TrackId \\\n",
        "                  LEFT JOIN playlists AS p ON p.PlaylistId==k.PlaylistId \\\n",
        "                  LEFT JOIN media_types AS m ON m.MediaTypeId==r.MediaTypeId \\\n",
        "                  ORDER BY i.InvoiceId ASC ;\""
      ]
    },
    {
      "cell_type": "code",
      "execution_count": 11,
      "metadata": {
        "id": "F1YlkSd2Ctrc"
      },
      "outputs": [],
      "source": [
        "cols_name = [\n",
        "              ('FirstName', StringType()),\n",
        "              ('LastName', StringType()),\n",
        "              ('Company', StringType()),\n",
        "              ('SupportRepId', IntegerType()),\n",
        "              ('City', StringType()),\n",
        "              ('State', StringType()),\n",
        "              ('Country', StringType()),\n",
        "              ('PostalCode', StringType()),\n",
        "              ('InvoiceId', IntegerType()),\n",
        "              ('InvoiceDate', StringType()),\n",
        "              ('BillingAddress', StringType()),\n",
        "              ('BillingCity', StringType()),\n",
        "              ('BillingState', StringType()),\n",
        "              ('BillingCountry', StringType()),\n",
        "              ('BillingPostalCode', StringType()),\n",
        "              ('Total', DoubleType()),\n",
        "              ('UnitPrice', DoubleType()),\n",
        "              ('Quantity', IntegerType()),\n",
        "              ('Name', StringType()),\n",
        "              ('Composer', StringType()),\n",
        "              ('Milliseconds', LongType()),\n",
        "              ('Bytes', LongType()),\n",
        "              ('Title', StringType()),\n",
        "              ('ArtistName', StringType()),\n",
        "              ('Playlist', StringType()),\n",
        "              ('MediaType', StringType()),\n",
        "              ]"
      ]
    },
    {
      "cell_type": "code",
      "execution_count": 12,
      "metadata": {
        "id": "lk1QF1PlFmA1"
      },
      "outputs": [],
      "source": [
        "schema = StructType(\n",
        "    [\n",
        "     StructField(\n",
        "        x[0], x[1], True\n",
        "      )\n",
        "     for x in cols_name\n",
        "    ]\n",
        ")"
      ]
    },
    {
      "cell_type": "code",
      "execution_count": 13,
      "metadata": {
        "id": "YbPRLDeZFgRv"
      },
      "outputs": [],
      "source": [
        "customerBehavior = select_all_tasks(conn, query)"
      ]
    },
    {
      "cell_type": "code",
      "execution_count": 14,
      "metadata": {
        "id": "73-T2xUFFbJl"
      },
      "outputs": [],
      "source": [
        "customerBehaviorDf = spark.createDataFrame(customerBehavior, schema)"
      ]
    },
    {
      "cell_type": "code",
      "execution_count": 15,
      "metadata": {
        "colab": {
          "base_uri": "https://localhost:8080/"
        },
        "id": "8I6fw0mSGIau",
        "outputId": "2b457596-cedc-452e-9861-5ca7836e01a6"
      },
      "outputs": [
        {
          "output_type": "stream",
          "name": "stdout",
          "text": [
            "-RECORD 0-------------------------------------\n",
            " FirstName         | Leonie                   \n",
            " LastName          | Köhler                   \n",
            " Company           | null                     \n",
            " SupportRepId      | 5                        \n",
            " City              | Stuttgart                \n",
            " State             | null                     \n",
            " Country           | Germany                  \n",
            " PostalCode        | 70174                    \n",
            " InvoiceId         | 1                        \n",
            " InvoiceDate       | 2009-01-01 00:00:00      \n",
            " BillingAddress    | Theodor-Heuss-Straße 34  \n",
            " BillingCity       | Stuttgart                \n",
            " BillingState      | null                     \n",
            " BillingCountry    | Germany                  \n",
            " BillingPostalCode | 70174                    \n",
            " Total             | 1.98                     \n",
            " UnitPrice         | 0.99                     \n",
            " Quantity          | 1                        \n",
            " Name              | Balls to the Wall        \n",
            " Composer          | null                     \n",
            " Milliseconds      | 342562                   \n",
            " Bytes             | 5510424                  \n",
            " Title             | Balls to the Wall        \n",
            " ArtistName        | Accept                   \n",
            " Playlist          | Music                    \n",
            " MediaType         | Protected AAC audio file \n",
            "only showing top 1 row\n",
            "\n"
          ]
        }
      ],
      "source": [
        "customerBehaviorDf.show(1, truncate=False, vertical=True)"
      ]
    },
    {
      "cell_type": "code",
      "execution_count": 16,
      "metadata": {
        "colab": {
          "base_uri": "https://localhost:8080/"
        },
        "id": "S7g2qRMBJx4E",
        "outputId": "3d524519-5b74-4fa9-e5d8-584c87d0c62b"
      },
      "outputs": [
        {
          "output_type": "execute_result",
          "data": {
            "text/plain": [
              "4184"
            ]
          },
          "metadata": {},
          "execution_count": 16
        }
      ],
      "source": [
        "customerBehaviorDf.filter(\"Composer IS NOT NULL\").count()"
      ]
    },
    {
      "cell_type": "code",
      "execution_count": 17,
      "metadata": {
        "colab": {
          "base_uri": "https://localhost:8080/"
        },
        "id": "PGbdxH_HdaCD",
        "outputId": "f6ada007-405c-45ea-d2d9-bd98f2e885ef"
      },
      "outputs": [
        {
          "output_type": "execute_result",
          "data": {
            "text/plain": [
              "4184"
            ]
          },
          "metadata": {},
          "execution_count": 17
        }
      ],
      "source": [
        "customerBehaviorDf.filter(\"Composer IS NOT NULL\").count()"
      ]
    },
    {
      "cell_type": "code",
      "execution_count": 18,
      "metadata": {
        "colab": {
          "base_uri": "https://localhost:8080/"
        },
        "id": "6dezWK3JLgSF",
        "outputId": "07738a50-38e4-49ee-b983-62eab8f7cec2"
      },
      "outputs": [
        {
          "output_type": "execute_result",
          "data": {
            "text/plain": [
              "5572"
            ]
          },
          "metadata": {},
          "execution_count": 18
        }
      ],
      "source": [
        "customerBehaviorDf.count()"
      ]
    },
    {
      "cell_type": "code",
      "execution_count": 19,
      "metadata": {
        "id": "KalxiFSTSffU"
      },
      "outputs": [],
      "source": [
        "NullCount = {col:(\n",
        "    customerBehaviorDf.filter(\n",
        "        customerBehaviorDf[col].isNull()\n",
        "        ).count()\n",
        "        ) for col in customerBehaviorDf.columns}"
      ]
    },
    {
      "cell_type": "code",
      "execution_count": 20,
      "metadata": {
        "colab": {
          "base_uri": "https://localhost:8080/"
        },
        "id": "2zU8Pc-eeBwV",
        "outputId": "d167791a-d00a-4eea-e049-5c8f5ec2ce4d"
      },
      "outputs": [
        {
          "output_type": "execute_result",
          "data": {
            "text/plain": [
              "{'ArtistName': 0,\n",
              " 'BillingAddress': 0,\n",
              " 'BillingCity': 0,\n",
              " 'BillingCountry': 0,\n",
              " 'BillingPostalCode': 368,\n",
              " 'BillingState': 2716,\n",
              " 'Bytes': 0,\n",
              " 'City': 0,\n",
              " 'Company': 4616,\n",
              " 'Composer': 1388,\n",
              " 'Country': 0,\n",
              " 'FirstName': 0,\n",
              " 'InvoiceDate': 0,\n",
              " 'InvoiceId': 0,\n",
              " 'LastName': 0,\n",
              " 'MediaType': 0,\n",
              " 'Milliseconds': 0,\n",
              " 'Name': 0,\n",
              " 'Playlist': 0,\n",
              " 'PostalCode': 368,\n",
              " 'Quantity': 0,\n",
              " 'State': 2716,\n",
              " 'SupportRepId': 0,\n",
              " 'Title': 0,\n",
              " 'Total': 0,\n",
              " 'UnitPrice': 0}"
            ]
          },
          "metadata": {},
          "execution_count": 20
        }
      ],
      "source": [
        "NullCount"
      ]
    },
    {
      "cell_type": "code",
      "execution_count": 21,
      "metadata": {
        "id": "Xdj5yKrChPAT"
      },
      "outputs": [],
      "source": [
        "def splitUDF(row):\n",
        "    if \" \" in row:\n",
        "        date,hhmmss = row.split(\" \")\n",
        "    if \"-\" in date:\n",
        "        yyyy,mm,dd = date.split(\"-\")\n",
        "\n",
        "    return [yyyy,mm,dd]"
      ]
    },
    {
      "cell_type": "code",
      "execution_count": 22,
      "metadata": {
        "id": "30sZM7U-hWD5"
      },
      "outputs": [],
      "source": [
        "datSplitterUDF = udf(lambda row : splitUDF(row),ArrayType(StringType()))"
      ]
    },
    {
      "cell_type": "code",
      "execution_count": 23,
      "metadata": {
        "id": "GJTnL1D7ir-W"
      },
      "outputs": [],
      "source": [
        "customerBehaviorDateTimeDf = customerBehaviorDf\\\n",
        ".select('*', datSplitterUDF(customerBehaviorDf.InvoiceDate).alias(\"dt\"))\\\n",
        ".withColumn('year',col('dt').getItem(0).cast('int'))\\\n",
        ".withColumn('month',col('dt').getItem(1).cast('int'))\\\n",
        ".withColumn('day',col('dt').getItem(2).cast('int'))"
      ]
    },
    {
      "cell_type": "code",
      "execution_count": 24,
      "metadata": {
        "colab": {
          "base_uri": "https://localhost:8080/"
        },
        "id": "xl3Lq-fTgnhp",
        "outputId": "d60c5c33-c25e-4b69-f608-d539d1e4639b"
      },
      "outputs": [
        {
          "output_type": "stream",
          "name": "stdout",
          "text": [
            "-RECORD 0---------------------------------\n",
            " FirstName         | Leonie               \n",
            " LastName          | Köhler               \n",
            " Company           | null                 \n",
            " SupportRepId      | 5                    \n",
            " City              | Stuttgart            \n",
            " State             | null                 \n",
            " Country           | Germany              \n",
            " PostalCode        | 70174                \n",
            " InvoiceId         | 1                    \n",
            " InvoiceDate       | 2009-01-01 00:00:00  \n",
            " BillingAddress    | Theodor-Heuss-Str... \n",
            " BillingCity       | Stuttgart            \n",
            " BillingState      | null                 \n",
            " BillingCountry    | Germany              \n",
            " BillingPostalCode | 70174                \n",
            " Total             | 1.98                 \n",
            " UnitPrice         | 0.99                 \n",
            " Quantity          | 1                    \n",
            " Name              | Balls to the Wall    \n",
            " Composer          | null                 \n",
            " Milliseconds      | 342562               \n",
            " Bytes             | 5510424              \n",
            " Title             | Balls to the Wall    \n",
            " ArtistName        | Accept               \n",
            " Playlist          | Music                \n",
            " MediaType         | Protected AAC aud... \n",
            " dt                | [2009, 01, 01]       \n",
            " year              | 2009                 \n",
            " month             | 1                    \n",
            " day               | 1                    \n",
            "only showing top 1 row\n",
            "\n"
          ]
        }
      ],
      "source": [
        "customerBehaviorDateTimeDf.show(1, truncate=True, vertical=True)"
      ]
    },
    {
      "cell_type": "code",
      "execution_count": 25,
      "metadata": {
        "colab": {
          "base_uri": "https://localhost:8080/"
        },
        "id": "ABsl_0qPh7m_",
        "outputId": "ddaa3d51-6ff2-43eb-8a0f-5c6e22851eab"
      },
      "outputs": [
        {
          "output_type": "stream",
          "name": "stdout",
          "text": [
            "-RECORD 0-------------------------------------\n",
            " FirstName         | Leonie                   \n",
            " LastName          | Köhler                   \n",
            " Company           | null                     \n",
            " SupportRepId      | 5                        \n",
            " City              | Stuttgart                \n",
            " State             | null                     \n",
            " Country           | Germany                  \n",
            " PostalCode        | 70174                    \n",
            " InvoiceId         | 1                        \n",
            " BillingAddress    | Theodor-Heuss-Straße 34  \n",
            " BillingCity       | Stuttgart                \n",
            " BillingState      | null                     \n",
            " BillingCountry    | Germany                  \n",
            " BillingPostalCode | 70174                    \n",
            " Total             | 1.98                     \n",
            " UnitPrice         | 0.99                     \n",
            " Quantity          | 1                        \n",
            " Name              | Balls to the Wall        \n",
            " Composer          | null                     \n",
            " Milliseconds      | 342562                   \n",
            " Bytes             | 5510424                  \n",
            " Title             | Balls to the Wall        \n",
            " ArtistName        | Accept                   \n",
            " Playlist          | Music                    \n",
            " MediaType         | Protected AAC audio file \n",
            " year              | 2009                     \n",
            " month             | 1                        \n",
            " day               | 1                        \n",
            "only showing top 1 row\n",
            "\n"
          ]
        }
      ],
      "source": [
        "customerBehaviorDateTimeDf.drop(\"InvoiceDate\", \"dt\").show(1, truncate=False, vertical=True)"
      ]
    },
    {
      "cell_type": "code",
      "source": [
        "customerBehaviorDtDf = customerBehaviorDateTimeDf.drop(\"InvoiceDate\", \"dt\")"
      ],
      "metadata": {
        "id": "63WL-8LD0av6"
      },
      "execution_count": 26,
      "outputs": []
    },
    {
      "cell_type": "code",
      "source": [
        "customerBehaviorDtDf.show(1, truncate=True, vertical=True)"
      ],
      "metadata": {
        "colab": {
          "base_uri": "https://localhost:8080/"
        },
        "id": "iwwYq2SD0ldd",
        "outputId": "bb6cd592-18e8-4a7f-8799-3fcf90e5385c"
      },
      "execution_count": 27,
      "outputs": [
        {
          "output_type": "stream",
          "name": "stdout",
          "text": [
            "-RECORD 0---------------------------------\n",
            " FirstName         | Leonie               \n",
            " LastName          | Köhler               \n",
            " Company           | null                 \n",
            " SupportRepId      | 5                    \n",
            " City              | Stuttgart            \n",
            " State             | null                 \n",
            " Country           | Germany              \n",
            " PostalCode        | 70174                \n",
            " InvoiceId         | 1                    \n",
            " BillingAddress    | Theodor-Heuss-Str... \n",
            " BillingCity       | Stuttgart            \n",
            " BillingState      | null                 \n",
            " BillingCountry    | Germany              \n",
            " BillingPostalCode | 70174                \n",
            " Total             | 1.98                 \n",
            " UnitPrice         | 0.99                 \n",
            " Quantity          | 1                    \n",
            " Name              | Balls to the Wall    \n",
            " Composer          | null                 \n",
            " Milliseconds      | 342562               \n",
            " Bytes             | 5510424              \n",
            " Title             | Balls to the Wall    \n",
            " ArtistName        | Accept               \n",
            " Playlist          | Music                \n",
            " MediaType         | Protected AAC aud... \n",
            " year              | 2009                 \n",
            " month             | 1                    \n",
            " day               | 1                    \n",
            "only showing top 1 row\n",
            "\n"
          ]
        }
      ]
    },
    {
      "cell_type": "code",
      "source": [
        "customerBehaviorDtDf.filter(col('Country') == 'Germany').count()"
      ],
      "metadata": {
        "colab": {
          "base_uri": "https://localhost:8080/"
        },
        "id": "70nbiGL905gq",
        "outputId": "aad932cd-4862-4961-990f-67ff65eaef19"
      },
      "execution_count": 28,
      "outputs": [
        {
          "output_type": "execute_result",
          "data": {
            "text/plain": [
              "374"
            ]
          },
          "metadata": {},
          "execution_count": 28
        }
      ]
    },
    {
      "cell_type": "code",
      "source": [
        "customerBehaviorDtDf.select('Country').distinct().count()"
      ],
      "metadata": {
        "colab": {
          "base_uri": "https://localhost:8080/"
        },
        "id": "FoQosj4P3lE2",
        "outputId": "7bf178ac-f2c8-4098-9f1f-cbc46e2919be"
      },
      "execution_count": 29,
      "outputs": [
        {
          "output_type": "execute_result",
          "data": {
            "text/plain": [
              "24"
            ]
          },
          "metadata": {},
          "execution_count": 29
        }
      ]
    },
    {
      "cell_type": "code",
      "source": [
        "customerBehaviorDtDf.select('Country').distinct().show(24)"
      ],
      "metadata": {
        "colab": {
          "base_uri": "https://localhost:8080/"
        },
        "id": "-vll_hSl4q_1",
        "outputId": "3eef8df1-bff5-4263-8534-871826c83075"
      },
      "execution_count": 30,
      "outputs": [
        {
          "output_type": "stream",
          "name": "stdout",
          "text": [
            "+--------------+\n",
            "|       Country|\n",
            "+--------------+\n",
            "|        Sweden|\n",
            "|       Germany|\n",
            "|        France|\n",
            "|     Argentina|\n",
            "|       Belgium|\n",
            "|       Finland|\n",
            "|         India|\n",
            "|         Chile|\n",
            "|         Italy|\n",
            "|        Norway|\n",
            "|         Spain|\n",
            "|       Denmark|\n",
            "|       Ireland|\n",
            "|           USA|\n",
            "|        Canada|\n",
            "|Czech Republic|\n",
            "|        Brazil|\n",
            "|        Poland|\n",
            "|      Portugal|\n",
            "|     Australia|\n",
            "|       Austria|\n",
            "|       Hungary|\n",
            "|United Kingdom|\n",
            "|   Netherlands|\n",
            "+--------------+\n",
            "\n"
          ]
        }
      ]
    },
    {
      "cell_type": "code",
      "source": [
        "customerBehaviorDtDf.select('City').distinct().count()"
      ],
      "metadata": {
        "colab": {
          "base_uri": "https://localhost:8080/"
        },
        "id": "WwCCT3iD4xAT",
        "outputId": "6ad18fd9-7ba9-4142-cad9-1fc503588af3"
      },
      "execution_count": 31,
      "outputs": [
        {
          "output_type": "execute_result",
          "data": {
            "text/plain": [
              "53"
            ]
          },
          "metadata": {},
          "execution_count": 31
        }
      ]
    },
    {
      "cell_type": "code",
      "source": [
        "customerBehaviorDtDf.select('City').distinct().show(53)"
      ],
      "metadata": {
        "colab": {
          "base_uri": "https://localhost:8080/"
        },
        "id": "q7mrc8Kp7guq",
        "outputId": "d3fdc216-3bdf-4fe3-90d4-a57b0243f756"
      },
      "execution_count": 32,
      "outputs": [
        {
          "output_type": "stream",
          "name": "stdout",
          "text": [
            "+-------------------+\n",
            "|               City|\n",
            "+-------------------+\n",
            "|          Bangalore|\n",
            "|           Winnipeg|\n",
            "|             Madrid|\n",
            "|             Prague|\n",
            "|             Ottawa|\n",
            "|             Sidney|\n",
            "|          Cupertino|\n",
            "|          Frankfurt|\n",
            "|              Dijon|\n",
            "|             Lisbon|\n",
            "|          Stockholm|\n",
            "|               Oslo|\n",
            "|             Dublin|\n",
            "|             Berlin|\n",
            "|             London|\n",
            "|São José dos Campos|\n",
            "|            Madison|\n",
            "|              Paris|\n",
            "|            Chicago|\n",
            "|               Lyon|\n",
            "|           Montréal|\n",
            "|            Toronto|\n",
            "|              Porto|\n",
            "|        Yellowknife|\n",
            "|             Warsaw|\n",
            "|            Redmond|\n",
            "|          Amsterdam|\n",
            "|           Brussels|\n",
            "|          Vancouver|\n",
            "|           Edmonton|\n",
            "|               Reno|\n",
            "|           Bordeaux|\n",
            "|       Buenos Aires|\n",
            "|         Edinburgh |\n",
            "|          São Paulo|\n",
            "|             Vienne|\n",
            "|              Delhi|\n",
            "|          Stuttgart|\n",
            "|           Helsinki|\n",
            "|         Copenhagen|\n",
            "|               Rome|\n",
            "|     Rio de Janeiro|\n",
            "|             Tucson|\n",
            "|           Brasília|\n",
            "|           Budapest|\n",
            "|     Salt Lake City|\n",
            "|           Santiago|\n",
            "|            Orlando|\n",
            "|           New York|\n",
            "|            Halifax|\n",
            "|      Mountain View|\n",
            "|         Fort Worth|\n",
            "|             Boston|\n",
            "+-------------------+\n",
            "\n"
          ]
        }
      ]
    },
    {
      "cell_type": "code",
      "source": [
        "customerBehaviorDtDf.select('City').distinct().show(53)"
      ],
      "metadata": {
        "colab": {
          "base_uri": "https://localhost:8080/"
        },
        "id": "lCN-CQxd7lYq",
        "outputId": "8d723e63-273c-4163-9ee4-c1f0537e7fb4"
      },
      "execution_count": 33,
      "outputs": [
        {
          "output_type": "stream",
          "name": "stdout",
          "text": [
            "+-------------------+\n",
            "|               City|\n",
            "+-------------------+\n",
            "|          Bangalore|\n",
            "|           Winnipeg|\n",
            "|             Madrid|\n",
            "|             Prague|\n",
            "|             Ottawa|\n",
            "|             Sidney|\n",
            "|          Cupertino|\n",
            "|          Frankfurt|\n",
            "|              Dijon|\n",
            "|             Lisbon|\n",
            "|          Stockholm|\n",
            "|               Oslo|\n",
            "|             Dublin|\n",
            "|             Berlin|\n",
            "|             London|\n",
            "|São José dos Campos|\n",
            "|            Madison|\n",
            "|              Paris|\n",
            "|            Chicago|\n",
            "|               Lyon|\n",
            "|           Montréal|\n",
            "|            Toronto|\n",
            "|              Porto|\n",
            "|        Yellowknife|\n",
            "|             Warsaw|\n",
            "|            Redmond|\n",
            "|          Amsterdam|\n",
            "|           Brussels|\n",
            "|          Vancouver|\n",
            "|           Edmonton|\n",
            "|               Reno|\n",
            "|           Bordeaux|\n",
            "|       Buenos Aires|\n",
            "|         Edinburgh |\n",
            "|          São Paulo|\n",
            "|             Vienne|\n",
            "|              Delhi|\n",
            "|          Stuttgart|\n",
            "|           Helsinki|\n",
            "|         Copenhagen|\n",
            "|               Rome|\n",
            "|     Rio de Janeiro|\n",
            "|             Tucson|\n",
            "|           Brasília|\n",
            "|           Budapest|\n",
            "|     Salt Lake City|\n",
            "|           Santiago|\n",
            "|            Orlando|\n",
            "|           New York|\n",
            "|            Halifax|\n",
            "|      Mountain View|\n",
            "|         Fort Worth|\n",
            "|             Boston|\n",
            "+-------------------+\n",
            "\n"
          ]
        }
      ]
    },
    {
      "cell_type": "code",
      "source": [
        "customerBehaviorDtDf.groupBy(col('City')).count().show(53)"
      ],
      "metadata": {
        "id": "3K46AIDB_KYG",
        "colab": {
          "base_uri": "https://localhost:8080/"
        },
        "outputId": "4a934e45-c254-45fb-dd66-5d9281e9844c"
      },
      "execution_count": 34,
      "outputs": [
        {
          "output_type": "stream",
          "name": "stdout",
          "text": [
            "+-------------------+-----+\n",
            "|               City|count|\n",
            "+-------------------+-----+\n",
            "|          Bangalore|   90|\n",
            "|           Winnipeg|  100|\n",
            "|             Madrid|   90|\n",
            "|             Prague|  185|\n",
            "|             Ottawa|   99|\n",
            "|             Sidney|   97|\n",
            "|          Cupertino|   94|\n",
            "|          Frankfurt|   95|\n",
            "|              Dijon|   97|\n",
            "|             Lisbon|   90|\n",
            "|          Stockholm|   97|\n",
            "|               Oslo|   92|\n",
            "|             Dublin|   97|\n",
            "|             Berlin|  183|\n",
            "|             London|  188|\n",
            "|São José dos Campos|   96|\n",
            "|            Madison|   97|\n",
            "|              Paris|  187|\n",
            "|            Chicago|   97|\n",
            "|               Lyon|   99|\n",
            "|           Montréal|   93|\n",
            "|            Toronto|   88|\n",
            "|              Porto|   89|\n",
            "|        Yellowknife|   95|\n",
            "|             Warsaw|   90|\n",
            "|            Redmond|   97|\n",
            "|          Amsterdam|   86|\n",
            "|           Brussels|  101|\n",
            "|          Vancouver|   91|\n",
            "|           Edmonton|   97|\n",
            "|               Reno|   97|\n",
            "|           Bordeaux|   94|\n",
            "|       Buenos Aires|   95|\n",
            "|         Edinburgh |   94|\n",
            "|          São Paulo|  192|\n",
            "|             Vienne|   92|\n",
            "|              Delhi|   96|\n",
            "|          Stuttgart|   96|\n",
            "|           Helsinki|   94|\n",
            "|         Copenhagen|   91|\n",
            "|               Rome|  105|\n",
            "|     Rio de Janeiro|   98|\n",
            "|             Tucson|  105|\n",
            "|           Brasília|   98|\n",
            "|           Budapest|   99|\n",
            "|     Salt Lake City|   96|\n",
            "|           Santiago|   92|\n",
            "|            Orlando|  101|\n",
            "|           New York|   91|\n",
            "|            Halifax|   92|\n",
            "|      Mountain View|  186|\n",
            "|         Fort Worth|   85|\n",
            "|             Boston|   86|\n",
            "+-------------------+-----+\n",
            "\n"
          ]
        }
      ]
    },
    {
      "cell_type": "code",
      "source": [
        "customerBehaviorDtDf.groupBy(col('Country')).count().show(53)"
      ],
      "metadata": {
        "colab": {
          "base_uri": "https://localhost:8080/"
        },
        "id": "aC0aUidDFsUC",
        "outputId": "a5091f48-7361-4926-cce6-742fccf4ce1b"
      },
      "execution_count": 35,
      "outputs": [
        {
          "output_type": "stream",
          "name": "stdout",
          "text": [
            "+--------------+-----+\n",
            "|       Country|count|\n",
            "+--------------+-----+\n",
            "|        Sweden|   97|\n",
            "|       Germany|  374|\n",
            "|        France|  477|\n",
            "|     Argentina|   95|\n",
            "|       Belgium|  101|\n",
            "|       Finland|   94|\n",
            "|         India|  186|\n",
            "|         Chile|   92|\n",
            "|         Italy|  105|\n",
            "|        Norway|   92|\n",
            "|         Spain|   90|\n",
            "|       Denmark|   91|\n",
            "|       Ireland|   97|\n",
            "|           USA| 1232|\n",
            "|        Canada|  755|\n",
            "|Czech Republic|  185|\n",
            "|        Brazil|  484|\n",
            "|        Poland|   90|\n",
            "|      Portugal|  179|\n",
            "|     Australia|   97|\n",
            "|       Austria|   92|\n",
            "|       Hungary|   99|\n",
            "|United Kingdom|  282|\n",
            "|   Netherlands|   86|\n",
            "+--------------+-----+\n",
            "\n"
          ]
        }
      ]
    },
    {
      "cell_type": "code",
      "source": [
        "customerBehaviorDtDf.groupBy(col('Country'), col('City')).count().orderBy(col('Country').asc()).show(53)"
      ],
      "metadata": {
        "colab": {
          "base_uri": "https://localhost:8080/"
        },
        "id": "PUjqsQFQKDwd",
        "outputId": "74f29c65-44b4-43ca-88d5-0cc8b593992a"
      },
      "execution_count": 36,
      "outputs": [
        {
          "output_type": "stream",
          "name": "stdout",
          "text": [
            "+--------------+-------------------+-----+\n",
            "|       Country|               City|count|\n",
            "+--------------+-------------------+-----+\n",
            "|     Argentina|       Buenos Aires|   95|\n",
            "|     Australia|             Sidney|   97|\n",
            "|       Austria|             Vienne|   92|\n",
            "|       Belgium|           Brussels|  101|\n",
            "|        Brazil|          São Paulo|  192|\n",
            "|        Brazil|     Rio de Janeiro|   98|\n",
            "|        Brazil|           Brasília|   98|\n",
            "|        Brazil|São José dos Campos|   96|\n",
            "|        Canada|            Halifax|   92|\n",
            "|        Canada|           Montréal|   93|\n",
            "|        Canada|        Yellowknife|   95|\n",
            "|        Canada|             Ottawa|   99|\n",
            "|        Canada|           Winnipeg|  100|\n",
            "|        Canada|          Vancouver|   91|\n",
            "|        Canada|           Edmonton|   97|\n",
            "|        Canada|            Toronto|   88|\n",
            "|         Chile|           Santiago|   92|\n",
            "|Czech Republic|             Prague|  185|\n",
            "|       Denmark|         Copenhagen|   91|\n",
            "|       Finland|           Helsinki|   94|\n",
            "|        France|              Paris|  187|\n",
            "|        France|           Bordeaux|   94|\n",
            "|        France|               Lyon|   99|\n",
            "|        France|              Dijon|   97|\n",
            "|       Germany|             Berlin|  183|\n",
            "|       Germany|          Stuttgart|   96|\n",
            "|       Germany|          Frankfurt|   95|\n",
            "|       Hungary|           Budapest|   99|\n",
            "|         India|              Delhi|   96|\n",
            "|         India|          Bangalore|   90|\n",
            "|       Ireland|             Dublin|   97|\n",
            "|         Italy|               Rome|  105|\n",
            "|   Netherlands|          Amsterdam|   86|\n",
            "|        Norway|               Oslo|   92|\n",
            "|        Poland|             Warsaw|   90|\n",
            "|      Portugal|             Lisbon|   90|\n",
            "|      Portugal|              Porto|   89|\n",
            "|         Spain|             Madrid|   90|\n",
            "|        Sweden|          Stockholm|   97|\n",
            "|           USA|      Mountain View|  186|\n",
            "|           USA|             Boston|   86|\n",
            "|           USA|            Madison|   97|\n",
            "|           USA|           New York|   91|\n",
            "|           USA|          Cupertino|   94|\n",
            "|           USA|     Salt Lake City|   96|\n",
            "|           USA|               Reno|   97|\n",
            "|           USA|         Fort Worth|   85|\n",
            "|           USA|            Orlando|  101|\n",
            "|           USA|            Redmond|   97|\n",
            "|           USA|            Chicago|   97|\n",
            "|           USA|             Tucson|  105|\n",
            "|United Kingdom|             London|  188|\n",
            "|United Kingdom|         Edinburgh |   94|\n",
            "+--------------+-------------------+-----+\n",
            "\n"
          ]
        }
      ]
    },
    {
      "cell_type": "code",
      "source": [
        "customerBehaviorDtDf.filter(col(\"Country\")==\"Canada\").show(5, truncate=False, vertical=True)"
      ],
      "metadata": {
        "colab": {
          "base_uri": "https://localhost:8080/"
        },
        "id": "KkYF_aZ5I7bW",
        "outputId": "857b835f-8a85-4128-b558-83873a1d4fec"
      },
      "execution_count": 37,
      "outputs": [
        {
          "output_type": "stream",
          "name": "stdout",
          "text": [
            "-RECORD 0----------------------------------------------\n",
            " FirstName         | Mark                              \n",
            " LastName          | Philips                           \n",
            " Company           | Telus                             \n",
            " SupportRepId      | 5                                 \n",
            " City              | Edmonton                          \n",
            " State             | AB                                \n",
            " Country           | Canada                            \n",
            " PostalCode        | T6G 2C7                           \n",
            " InvoiceId         | 4                                 \n",
            " BillingAddress    | 8210 111 ST NW                    \n",
            " BillingCity       | Edmonton                          \n",
            " BillingState      | AB                                \n",
            " BillingCountry    | Canada                            \n",
            " BillingPostalCode | T6G 2C7                           \n",
            " Total             | 8.91                              \n",
            " UnitPrice         | 0.99                              \n",
            " Quantity          | 1                                 \n",
            " Name              | Right Through You                 \n",
            " Composer          | Alanis Morissette & Glenn Ballard \n",
            " Milliseconds      | 176117                            \n",
            " Bytes             | 5793082                           \n",
            " Title             | Jagged Little Pill                \n",
            " ArtistName        | Alanis Morissette                 \n",
            " Playlist          | Music                             \n",
            " MediaType         | MPEG audio file                   \n",
            " year              | 2009                              \n",
            " month             | 1                                 \n",
            " day               | 6                                 \n",
            "-RECORD 1----------------------------------------------\n",
            " FirstName         | Mark                              \n",
            " LastName          | Philips                           \n",
            " Company           | Telus                             \n",
            " SupportRepId      | 5                                 \n",
            " City              | Edmonton                          \n",
            " State             | AB                                \n",
            " Country           | Canada                            \n",
            " PostalCode        | T6G 2C7                           \n",
            " InvoiceId         | 4                                 \n",
            " BillingAddress    | 8210 111 ST NW                    \n",
            " BillingCity       | Edmonton                          \n",
            " BillingState      | AB                                \n",
            " BillingCountry    | Canada                            \n",
            " BillingPostalCode | T6G 2C7                           \n",
            " Total             | 8.91                              \n",
            " UnitPrice         | 0.99                              \n",
            " Quantity          | 1                                 \n",
            " Name              | Right Through You                 \n",
            " Composer          | Alanis Morissette & Glenn Ballard \n",
            " Milliseconds      | 176117                            \n",
            " Bytes             | 5793082                           \n",
            " Title             | Jagged Little Pill                \n",
            " ArtistName        | Alanis Morissette                 \n",
            " Playlist          | 90’s Music                        \n",
            " MediaType         | MPEG audio file                   \n",
            " year              | 2009                              \n",
            " month             | 1                                 \n",
            " day               | 6                                 \n",
            "-RECORD 2----------------------------------------------\n",
            " FirstName         | Mark                              \n",
            " LastName          | Philips                           \n",
            " Company           | Telus                             \n",
            " SupportRepId      | 5                                 \n",
            " City              | Edmonton                          \n",
            " State             | AB                                \n",
            " Country           | Canada                            \n",
            " PostalCode        | T6G 2C7                           \n",
            " InvoiceId         | 4                                 \n",
            " BillingAddress    | 8210 111 ST NW                    \n",
            " BillingCity       | Edmonton                          \n",
            " BillingState      | AB                                \n",
            " BillingCountry    | Canada                            \n",
            " BillingPostalCode | T6G 2C7                           \n",
            " Total             | 8.91                              \n",
            " UnitPrice         | 0.99                              \n",
            " Quantity          | 1                                 \n",
            " Name              | Right Through You                 \n",
            " Composer          | Alanis Morissette & Glenn Ballard \n",
            " Milliseconds      | 176117                            \n",
            " Bytes             | 5793082                           \n",
            " Title             | Jagged Little Pill                \n",
            " ArtistName        | Alanis Morissette                 \n",
            " Playlist          | Music                             \n",
            " MediaType         | MPEG audio file                   \n",
            " year              | 2009                              \n",
            " month             | 1                                 \n",
            " day               | 6                                 \n",
            "-RECORD 3----------------------------------------------\n",
            " FirstName         | Mark                              \n",
            " LastName          | Philips                           \n",
            " Company           | Telus                             \n",
            " SupportRepId      | 5                                 \n",
            " City              | Edmonton                          \n",
            " State             | AB                                \n",
            " Country           | Canada                            \n",
            " PostalCode        | T6G 2C7                           \n",
            " InvoiceId         | 4                                 \n",
            " BillingAddress    | 8210 111 ST NW                    \n",
            " BillingCity       | Edmonton                          \n",
            " BillingState      | AB                                \n",
            " BillingCountry    | Canada                            \n",
            " BillingPostalCode | T6G 2C7                           \n",
            " Total             | 8.91                              \n",
            " UnitPrice         | 0.99                              \n",
            " Quantity          | 1                                 \n",
            " Name              | Not The Doctor                    \n",
            " Composer          | Alanis Morissette & Glenn Ballard \n",
            " Milliseconds      | 227631                            \n",
            " Bytes             | 7604601                           \n",
            " Title             | Jagged Little Pill                \n",
            " ArtistName        | Alanis Morissette                 \n",
            " Playlist          | Music                             \n",
            " MediaType         | MPEG audio file                   \n",
            " year              | 2009                              \n",
            " month             | 1                                 \n",
            " day               | 6                                 \n",
            "-RECORD 4----------------------------------------------\n",
            " FirstName         | Mark                              \n",
            " LastName          | Philips                           \n",
            " Company           | Telus                             \n",
            " SupportRepId      | 5                                 \n",
            " City              | Edmonton                          \n",
            " State             | AB                                \n",
            " Country           | Canada                            \n",
            " PostalCode        | T6G 2C7                           \n",
            " InvoiceId         | 4                                 \n",
            " BillingAddress    | 8210 111 ST NW                    \n",
            " BillingCity       | Edmonton                          \n",
            " BillingState      | AB                                \n",
            " BillingCountry    | Canada                            \n",
            " BillingPostalCode | T6G 2C7                           \n",
            " Total             | 8.91                              \n",
            " UnitPrice         | 0.99                              \n",
            " Quantity          | 1                                 \n",
            " Name              | Not The Doctor                    \n",
            " Composer          | Alanis Morissette & Glenn Ballard \n",
            " Milliseconds      | 227631                            \n",
            " Bytes             | 7604601                           \n",
            " Title             | Jagged Little Pill                \n",
            " ArtistName        | Alanis Morissette                 \n",
            " Playlist          | 90’s Music                        \n",
            " MediaType         | MPEG audio file                   \n",
            " year              | 2009                              \n",
            " month             | 1                                 \n",
            " day               | 6                                 \n",
            "only showing top 5 rows\n",
            "\n"
          ]
        }
      ]
    },
    {
      "cell_type": "code",
      "source": [
        "customerBehaviorAll = customerBehaviorDtDf.withColumn(\"InvoiceDate\", expr(\"make_date(year, month, day)\"))"
      ],
      "metadata": {
        "id": "PBLTb6w-K4GM"
      },
      "execution_count": 38,
      "outputs": []
    },
    {
      "cell_type": "code",
      "source": [
        "customerBehaviorAll.drop(\"year\", \"month\", \"day\").show(1, truncate=False, vertical=True)"
      ],
      "metadata": {
        "colab": {
          "base_uri": "https://localhost:8080/"
        },
        "id": "VslLHj6xPOb7",
        "outputId": "158b2c7e-9a4f-4269-8778-77b9621b2146"
      },
      "execution_count": 39,
      "outputs": [
        {
          "output_type": "stream",
          "name": "stdout",
          "text": [
            "-RECORD 0-------------------------------------\n",
            " FirstName         | Leonie                   \n",
            " LastName          | Köhler                   \n",
            " Company           | null                     \n",
            " SupportRepId      | 5                        \n",
            " City              | Stuttgart                \n",
            " State             | null                     \n",
            " Country           | Germany                  \n",
            " PostalCode        | 70174                    \n",
            " InvoiceId         | 1                        \n",
            " BillingAddress    | Theodor-Heuss-Straße 34  \n",
            " BillingCity       | Stuttgart                \n",
            " BillingState      | null                     \n",
            " BillingCountry    | Germany                  \n",
            " BillingPostalCode | 70174                    \n",
            " Total             | 1.98                     \n",
            " UnitPrice         | 0.99                     \n",
            " Quantity          | 1                        \n",
            " Name              | Balls to the Wall        \n",
            " Composer          | null                     \n",
            " Milliseconds      | 342562                   \n",
            " Bytes             | 5510424                  \n",
            " Title             | Balls to the Wall        \n",
            " ArtistName        | Accept                   \n",
            " Playlist          | Music                    \n",
            " MediaType         | Protected AAC audio file \n",
            " InvoiceDate       | 2009-01-01               \n",
            "only showing top 1 row\n",
            "\n"
          ]
        }
      ]
    },
    {
      "cell_type": "code",
      "source": [
        "customerBehaviorAll.filter((col('year') == 2009) & (col('month') == 1)).show(1, truncate=True, vertical=True)"
      ],
      "metadata": {
        "id": "ZDlgyeMvPygX",
        "colab": {
          "base_uri": "https://localhost:8080/"
        },
        "outputId": "557969ab-bb94-402f-96e6-25bd66517504"
      },
      "execution_count": 40,
      "outputs": [
        {
          "output_type": "stream",
          "name": "stdout",
          "text": [
            "-RECORD 0---------------------------------\n",
            " FirstName         | Leonie               \n",
            " LastName          | Köhler               \n",
            " Company           | null                 \n",
            " SupportRepId      | 5                    \n",
            " City              | Stuttgart            \n",
            " State             | null                 \n",
            " Country           | Germany              \n",
            " PostalCode        | 70174                \n",
            " InvoiceId         | 1                    \n",
            " BillingAddress    | Theodor-Heuss-Str... \n",
            " BillingCity       | Stuttgart            \n",
            " BillingState      | null                 \n",
            " BillingCountry    | Germany              \n",
            " BillingPostalCode | 70174                \n",
            " Total             | 1.98                 \n",
            " UnitPrice         | 0.99                 \n",
            " Quantity          | 1                    \n",
            " Name              | Balls to the Wall    \n",
            " Composer          | null                 \n",
            " Milliseconds      | 342562               \n",
            " Bytes             | 5510424              \n",
            " Title             | Balls to the Wall    \n",
            " ArtistName        | Accept               \n",
            " Playlist          | Music                \n",
            " MediaType         | Protected AAC aud... \n",
            " year              | 2009                 \n",
            " month             | 1                    \n",
            " day               | 1                    \n",
            " InvoiceDate       | 2009-01-01           \n",
            "only showing top 1 row\n",
            "\n"
          ]
        }
      ]
    },
    {
      "cell_type": "code",
      "source": [
        "customerBehaviorAll.filter((col('year') == 2009) & (col('month') == 1)).count()"
      ],
      "metadata": {
        "colab": {
          "base_uri": "https://localhost:8080/"
        },
        "id": "paHXey9CyheE",
        "outputId": "43d6d49b-59c5-43fc-86f4-fe48d7084384"
      },
      "execution_count": 41,
      "outputs": [
        {
          "output_type": "execute_result",
          "data": {
            "text/plain": [
              "92"
            ]
          },
          "metadata": {},
          "execution_count": 41
        }
      ]
    },
    {
      "cell_type": "code",
      "source": [
        "customerBehaviorAll.filter((col('year') == 2010) & (col('month') == 1)).count()"
      ],
      "metadata": {
        "colab": {
          "base_uri": "https://localhost:8080/"
        },
        "id": "VnZ5ogNcGUu6",
        "outputId": "9820a518-2cfe-44f6-aaae-7e4534b4ba4a"
      },
      "execution_count": 42,
      "outputs": [
        {
          "output_type": "execute_result",
          "data": {
            "text/plain": [
              "94"
            ]
          },
          "metadata": {},
          "execution_count": 42
        }
      ]
    },
    {
      "cell_type": "code",
      "source": [
        "customerBehaviorAll.filter((col('year') == 2009))\\\n",
        ".groupBy(col('month'))\\\n",
        ".count()\\\n",
        ".orderBy(col('month'))\\\n",
        ".show()"
      ],
      "metadata": {
        "colab": {
          "base_uri": "https://localhost:8080/"
        },
        "id": "9GRN-fQoMesV",
        "outputId": "e4ae2f51-f8cb-474f-8ccb-f4dfc756fdb1"
      },
      "execution_count": 43,
      "outputs": [
        {
          "output_type": "stream",
          "name": "stdout",
          "text": [
            "+-----+-----+\n",
            "|month|count|\n",
            "+-----+-----+\n",
            "|    1|   92|\n",
            "|    2|   94|\n",
            "|    3|   92|\n",
            "|    4|   95|\n",
            "|    5|   99|\n",
            "|    6|   98|\n",
            "|    7|  100|\n",
            "|    8|   86|\n",
            "|    9|   93|\n",
            "|   10|   91|\n",
            "|   11|   94|\n",
            "|   12|   91|\n",
            "+-----+-----+\n",
            "\n"
          ]
        }
      ]
    },
    {
      "cell_type": "code",
      "source": [
        "customerBehaviorAll.filter((col('year') == 2010))\\\n",
        ".groupBy(col('month'))\\\n",
        ".count()\\\n",
        ".orderBy(col('month'))\\\n",
        ".show()"
      ],
      "metadata": {
        "colab": {
          "base_uri": "https://localhost:8080/"
        },
        "id": "snLq18Y8GZjJ",
        "outputId": "0fe63f21-0f9a-4bc8-ecfe-8ed8a831a0e0"
      },
      "execution_count": 44,
      "outputs": [
        {
          "output_type": "stream",
          "name": "stdout",
          "text": [
            "+-----+-----+\n",
            "|month|count|\n",
            "+-----+-----+\n",
            "|    1|   94|\n",
            "|    2|   91|\n",
            "|    3|   96|\n",
            "|    4|  116|\n",
            "|    5|   97|\n",
            "|    6|   99|\n",
            "|    7|   86|\n",
            "|    8|  100|\n",
            "|    9|   90|\n",
            "|   10|   94|\n",
            "|   11|   83|\n",
            "|   12|   93|\n",
            "+-----+-----+\n",
            "\n"
          ]
        }
      ]
    },
    {
      "cell_type": "code",
      "source": [
        "customerBehaviorAll.filter((col('year') == 2011))\\\n",
        ".groupBy(col('Country'), col('month'))\\\n",
        ".count()\\\n",
        ".orderBy(col('month'))\\\n",
        ".show()"
      ],
      "metadata": {
        "colab": {
          "base_uri": "https://localhost:8080/"
        },
        "id": "ivagXE-dGjYm",
        "outputId": "8e13c9d0-8cf4-4614-8def-8670a745721f"
      },
      "execution_count": 45,
      "outputs": [
        {
          "output_type": "stream",
          "name": "stdout",
          "text": [
            "+--------------+-----+-----+\n",
            "|       Country|month|count|\n",
            "+--------------+-----+-----+\n",
            "|         Spain|    1|   32|\n",
            "|           USA|    1|    8|\n",
            "|      Portugal|    1|   12|\n",
            "|        France|    1|   25|\n",
            "|        Canada|    1|   12|\n",
            "|Czech Republic|    2|    8|\n",
            "|        Canada|    2|   50|\n",
            "|           USA|    2|   21|\n",
            "|        Brazil|    2|   12|\n",
            "|       Belgium|    2|    6|\n",
            "|United Kingdom|    3|   16|\n",
            "|       Ireland|    3|    4|\n",
            "|       Belgium|    3|   35|\n",
            "|         India|    3|   22|\n",
            "|       Finland|    3|    4|\n",
            "|   Netherlands|    3|    8|\n",
            "|        France|    3|    2|\n",
            "|           USA|    4|   20|\n",
            "|       Ireland|    4|   32|\n",
            "|       Germany|    4|   21|\n",
            "+--------------+-----+-----+\n",
            "only showing top 20 rows\n",
            "\n"
          ]
        }
      ]
    },
    {
      "cell_type": "code",
      "source": [
        "customerBehaviorAll.agg({'InvoiceDate': 'min'}).show()"
      ],
      "metadata": {
        "id": "5_i4qOQ9Ml8L",
        "colab": {
          "base_uri": "https://localhost:8080/"
        },
        "outputId": "0d9572af-917d-4d14-9e29-19bffcd50def"
      },
      "execution_count": 46,
      "outputs": [
        {
          "output_type": "stream",
          "name": "stdout",
          "text": [
            "+----------------+\n",
            "|min(InvoiceDate)|\n",
            "+----------------+\n",
            "|      2009-01-01|\n",
            "+----------------+\n",
            "\n"
          ]
        }
      ]
    },
    {
      "cell_type": "code",
      "source": [
        "customerBehaviorAll.agg({'InvoiceDate': 'max'}).show()"
      ],
      "metadata": {
        "colab": {
          "base_uri": "https://localhost:8080/"
        },
        "id": "Pb2CSi3hUt2X",
        "outputId": "227f412f-6ea3-4d54-d72a-005ccbba029a"
      },
      "execution_count": 47,
      "outputs": [
        {
          "output_type": "stream",
          "name": "stdout",
          "text": [
            "+----------------+\n",
            "|max(InvoiceDate)|\n",
            "+----------------+\n",
            "|      2013-12-22|\n",
            "+----------------+\n",
            "\n"
          ]
        }
      ]
    },
    {
      "cell_type": "code",
      "source": [
        "CountryBehavior2011 = customerBehaviorAll.filter((col('year') == 2011))\\\n",
        ".groupBy(col('Country'), col('month'))\\\n",
        ".count()\\\n",
        ".orderBy(col('month'))"
      ],
      "metadata": {
        "id": "p0QPFTUlVbPp"
      },
      "execution_count": 48,
      "outputs": []
    },
    {
      "cell_type": "code",
      "source": [
        "CountryBehavior2011.show(5, truncate=True)"
      ],
      "metadata": {
        "colab": {
          "base_uri": "https://localhost:8080/"
        },
        "id": "xeZEjavMV4Vr",
        "outputId": "a7c15e6c-3474-4a8b-9748-febbee25b24f"
      },
      "execution_count": 49,
      "outputs": [
        {
          "output_type": "stream",
          "name": "stdout",
          "text": [
            "+--------+-----+-----+\n",
            "| Country|month|count|\n",
            "+--------+-----+-----+\n",
            "|  France|    1|   25|\n",
            "|     USA|    1|    8|\n",
            "|Portugal|    1|   12|\n",
            "|  Canada|    1|   12|\n",
            "|   Spain|    1|   32|\n",
            "+--------+-----+-----+\n",
            "only showing top 5 rows\n",
            "\n"
          ]
        }
      ]
    },
    {
      "cell_type": "code",
      "source": [
        "CountryBehavior2011.agg({'count': 'max'}).show()"
      ],
      "metadata": {
        "colab": {
          "base_uri": "https://localhost:8080/"
        },
        "id": "ewkj_yw8VmF3",
        "outputId": "193674ca-27b6-47f2-ead3-9bf65d742b51"
      },
      "execution_count": 50,
      "outputs": [
        {
          "output_type": "stream",
          "name": "stdout",
          "text": [
            "+----------+\n",
            "|max(count)|\n",
            "+----------+\n",
            "|        56|\n",
            "+----------+\n",
            "\n"
          ]
        }
      ]
    },
    {
      "cell_type": "code",
      "source": [
        "CountryBehavior2011.agg({'count': 'min'}).show()"
      ],
      "metadata": {
        "colab": {
          "base_uri": "https://localhost:8080/"
        },
        "id": "Scc_rnoLVs7Q",
        "outputId": "e0133925-e46c-4e2e-d0bd-ac0ed4c6bf8d"
      },
      "execution_count": 51,
      "outputs": [
        {
          "output_type": "stream",
          "name": "stdout",
          "text": [
            "+----------+\n",
            "|min(count)|\n",
            "+----------+\n",
            "|         2|\n",
            "+----------+\n",
            "\n"
          ]
        }
      ]
    },
    {
      "cell_type": "code",
      "source": [
        "CountryBehavior2011.agg({'count': 'avg'}).show()"
      ],
      "metadata": {
        "colab": {
          "base_uri": "https://localhost:8080/"
        },
        "id": "Pd_yDTHhWBBW",
        "outputId": "9e804ec0-e976-4c07-f03f-561b100639dd"
      },
      "execution_count": 52,
      "outputs": [
        {
          "output_type": "stream",
          "name": "stdout",
          "text": [
            "+------------------+\n",
            "|        avg(count)|\n",
            "+------------------+\n",
            "|17.983606557377048|\n",
            "+------------------+\n",
            "\n"
          ]
        }
      ]
    },
    {
      "cell_type": "code",
      "source": [
        "CountryBehavior2011.where(col('count')==56).show()"
      ],
      "metadata": {
        "colab": {
          "base_uri": "https://localhost:8080/"
        },
        "id": "sCHvIV64WEvk",
        "outputId": "711e379e-7dbe-48bb-fa9e-97fa3dc0377b"
      },
      "execution_count": 53,
      "outputs": [
        {
          "output_type": "stream",
          "name": "stdout",
          "text": [
            "+-------+-----+-----+\n",
            "|Country|month|count|\n",
            "+-------+-----+-----+\n",
            "|    USA|    5|   56|\n",
            "+-------+-----+-----+\n",
            "\n"
          ]
        }
      ]
    },
    {
      "cell_type": "code",
      "source": [
        "CountryBehavior2011.where(col('count')==2).show()"
      ],
      "metadata": {
        "colab": {
          "base_uri": "https://localhost:8080/"
        },
        "id": "LgHQ3Jr3WP6j",
        "outputId": "bf6435ba-bb0d-4d71-cb83-6baae10c662e"
      },
      "execution_count": 54,
      "outputs": [
        {
          "output_type": "stream",
          "name": "stdout",
          "text": [
            "+-------+-----+-----+\n",
            "|Country|month|count|\n",
            "+-------+-----+-----+\n",
            "| France|    3|    2|\n",
            "+-------+-----+-----+\n",
            "\n"
          ]
        }
      ]
    },
    {
      "cell_type": "code",
      "source": [
        "CountryCountDf = customerBehaviorDtDf.groupBy(col('Country')).count()"
      ],
      "metadata": {
        "id": "F-Ajm2xVWcHd"
      },
      "execution_count": 55,
      "outputs": []
    },
    {
      "cell_type": "code",
      "source": [
        "pCountryCountDf = CountryCountDf.toPandas()"
      ],
      "metadata": {
        "id": "0PHQBthQYHrS"
      },
      "execution_count": 56,
      "outputs": []
    },
    {
      "cell_type": "code",
      "source": [
        "pCountryCountDf.columns"
      ],
      "metadata": {
        "colab": {
          "base_uri": "https://localhost:8080/"
        },
        "id": "5KCt5fidYy_j",
        "outputId": "edd505f1-5c3f-4168-d5ce-d924ccae0f2a"
      },
      "execution_count": 57,
      "outputs": [
        {
          "output_type": "execute_result",
          "data": {
            "text/plain": [
              "Index(['Country', 'count'], dtype='object')"
            ]
          },
          "metadata": {},
          "execution_count": 57
        }
      ]
    },
    {
      "cell_type": "code",
      "source": [
        "pCountryCountDf.head()"
      ],
      "metadata": {
        "colab": {
          "base_uri": "https://localhost:8080/",
          "height": 206
        },
        "id": "SE5EtBehY1ir",
        "outputId": "7839697f-2a84-4cee-af5e-7345f8851447"
      },
      "execution_count": 58,
      "outputs": [
        {
          "output_type": "execute_result",
          "data": {
            "text/plain": [
              "     Country  count\n",
              "0     Sweden     97\n",
              "1    Germany    374\n",
              "2     France    477\n",
              "3  Argentina     95\n",
              "4    Belgium    101"
            ],
            "text/html": [
              "\n",
              "  <div id=\"df-a84d6650-b13f-4c3f-900f-709477503365\">\n",
              "    <div class=\"colab-df-container\">\n",
              "      <div>\n",
              "<style scoped>\n",
              "    .dataframe tbody tr th:only-of-type {\n",
              "        vertical-align: middle;\n",
              "    }\n",
              "\n",
              "    .dataframe tbody tr th {\n",
              "        vertical-align: top;\n",
              "    }\n",
              "\n",
              "    .dataframe thead th {\n",
              "        text-align: right;\n",
              "    }\n",
              "</style>\n",
              "<table border=\"1\" class=\"dataframe\">\n",
              "  <thead>\n",
              "    <tr style=\"text-align: right;\">\n",
              "      <th></th>\n",
              "      <th>Country</th>\n",
              "      <th>count</th>\n",
              "    </tr>\n",
              "  </thead>\n",
              "  <tbody>\n",
              "    <tr>\n",
              "      <th>0</th>\n",
              "      <td>Sweden</td>\n",
              "      <td>97</td>\n",
              "    </tr>\n",
              "    <tr>\n",
              "      <th>1</th>\n",
              "      <td>Germany</td>\n",
              "      <td>374</td>\n",
              "    </tr>\n",
              "    <tr>\n",
              "      <th>2</th>\n",
              "      <td>France</td>\n",
              "      <td>477</td>\n",
              "    </tr>\n",
              "    <tr>\n",
              "      <th>3</th>\n",
              "      <td>Argentina</td>\n",
              "      <td>95</td>\n",
              "    </tr>\n",
              "    <tr>\n",
              "      <th>4</th>\n",
              "      <td>Belgium</td>\n",
              "      <td>101</td>\n",
              "    </tr>\n",
              "  </tbody>\n",
              "</table>\n",
              "</div>\n",
              "      <button class=\"colab-df-convert\" onclick=\"convertToInteractive('df-a84d6650-b13f-4c3f-900f-709477503365')\"\n",
              "              title=\"Convert this dataframe to an interactive table.\"\n",
              "              style=\"display:none;\">\n",
              "        \n",
              "  <svg xmlns=\"http://www.w3.org/2000/svg\" height=\"24px\"viewBox=\"0 0 24 24\"\n",
              "       width=\"24px\">\n",
              "    <path d=\"M0 0h24v24H0V0z\" fill=\"none\"/>\n",
              "    <path d=\"M18.56 5.44l.94 2.06.94-2.06 2.06-.94-2.06-.94-.94-2.06-.94 2.06-2.06.94zm-11 1L8.5 8.5l.94-2.06 2.06-.94-2.06-.94L8.5 2.5l-.94 2.06-2.06.94zm10 10l.94 2.06.94-2.06 2.06-.94-2.06-.94-.94-2.06-.94 2.06-2.06.94z\"/><path d=\"M17.41 7.96l-1.37-1.37c-.4-.4-.92-.59-1.43-.59-.52 0-1.04.2-1.43.59L10.3 9.45l-7.72 7.72c-.78.78-.78 2.05 0 2.83L4 21.41c.39.39.9.59 1.41.59.51 0 1.02-.2 1.41-.59l7.78-7.78 2.81-2.81c.8-.78.8-2.07 0-2.86zM5.41 20L4 18.59l7.72-7.72 1.47 1.35L5.41 20z\"/>\n",
              "  </svg>\n",
              "      </button>\n",
              "      \n",
              "  <style>\n",
              "    .colab-df-container {\n",
              "      display:flex;\n",
              "      flex-wrap:wrap;\n",
              "      gap: 12px;\n",
              "    }\n",
              "\n",
              "    .colab-df-convert {\n",
              "      background-color: #E8F0FE;\n",
              "      border: none;\n",
              "      border-radius: 50%;\n",
              "      cursor: pointer;\n",
              "      display: none;\n",
              "      fill: #1967D2;\n",
              "      height: 32px;\n",
              "      padding: 0 0 0 0;\n",
              "      width: 32px;\n",
              "    }\n",
              "\n",
              "    .colab-df-convert:hover {\n",
              "      background-color: #E2EBFA;\n",
              "      box-shadow: 0px 1px 2px rgba(60, 64, 67, 0.3), 0px 1px 3px 1px rgba(60, 64, 67, 0.15);\n",
              "      fill: #174EA6;\n",
              "    }\n",
              "\n",
              "    [theme=dark] .colab-df-convert {\n",
              "      background-color: #3B4455;\n",
              "      fill: #D2E3FC;\n",
              "    }\n",
              "\n",
              "    [theme=dark] .colab-df-convert:hover {\n",
              "      background-color: #434B5C;\n",
              "      box-shadow: 0px 1px 3px 1px rgba(0, 0, 0, 0.15);\n",
              "      filter: drop-shadow(0px 1px 2px rgba(0, 0, 0, 0.3));\n",
              "      fill: #FFFFFF;\n",
              "    }\n",
              "  </style>\n",
              "\n",
              "      <script>\n",
              "        const buttonEl =\n",
              "          document.querySelector('#df-a84d6650-b13f-4c3f-900f-709477503365 button.colab-df-convert');\n",
              "        buttonEl.style.display =\n",
              "          google.colab.kernel.accessAllowed ? 'block' : 'none';\n",
              "\n",
              "        async function convertToInteractive(key) {\n",
              "          const element = document.querySelector('#df-a84d6650-b13f-4c3f-900f-709477503365');\n",
              "          const dataTable =\n",
              "            await google.colab.kernel.invokeFunction('convertToInteractive',\n",
              "                                                     [key], {});\n",
              "          if (!dataTable) return;\n",
              "\n",
              "          const docLinkHtml = 'Like what you see? Visit the ' +\n",
              "            '<a target=\"_blank\" href=https://colab.research.google.com/notebooks/data_table.ipynb>data table notebook</a>'\n",
              "            + ' to learn more about interactive tables.';\n",
              "          element.innerHTML = '';\n",
              "          dataTable['output_type'] = 'display_data';\n",
              "          await google.colab.output.renderOutput(dataTable, element);\n",
              "          const docLink = document.createElement('div');\n",
              "          docLink.innerHTML = docLinkHtml;\n",
              "          element.appendChild(docLink);\n",
              "        }\n",
              "      </script>\n",
              "    </div>\n",
              "  </div>\n",
              "  "
            ]
          },
          "metadata": {},
          "execution_count": 58
        }
      ]
    },
    {
      "cell_type": "code",
      "source": [
        "pCountryCountDf.plot.scatter(x='Country', y='count')\n",
        "plt.xticks(rotation=90);"
      ],
      "metadata": {
        "colab": {
          "base_uri": "https://localhost:8080/",
          "height": 350
        },
        "id": "Dzu4Iqi2ZCh6",
        "outputId": "87c468af-967e-4f35-ec1d-ffbba93c678c"
      },
      "execution_count": 59,
      "outputs": [
        {
          "output_type": "display_data",
          "data": {
            "text/plain": [
              "<Figure size 432x288 with 1 Axes>"
            ],
            "image/png": "[encoded data removed]"
          },
          "metadata": {
            "needs_background": "light"
          }
        }
      ]
    },
    {
      "cell_type": "code",
      "source": [
        ""
      ],
      "metadata": {
        "id": "9t_YnEBXZlIE"
      },
      "execution_count": 59,
      "outputs": []
    }
  ],
  "metadata": {
    "colab": {
      "collapsed_sections": [],
      "name": "Spark_05.ipynb",
      "provenance": [],
      "authorship_tag": "ABX9TyPJmIReWCHcDTa+KKxTnybE"
    },
    "kernelspec": {
      "display_name": "Python 3",
      "name": "python3"
    },
    "language_info": {
      "name": "python"
    }
  },
  "nbformat": 4,
  "nbformat_minor": 0
}