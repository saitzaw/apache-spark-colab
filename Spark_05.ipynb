{
  "cells": [
    {
      "cell_type": "markdown",
      "metadata": {
        "id": "view-in-github",
        "colab_type": "text"
      },
      "source": [
        "<a href=\"https://colab.research.google.com/github/saitzaw/apache-spark-colab/blob/main/Spark_05.ipynb\" target=\"_parent\"><img src=\"https://colab.research.google.com/assets/colab-badge.svg\" alt=\"Open In Colab\"/></a>"
      ]
    },
    {
      "cell_type": "markdown",
      "metadata": {
        "id": "QnXyBJ9DopSP"
      },
      "source": [
        "### SQL query with Spark"
      ]
    },
    {
      "cell_type": "code",
      "execution_count": 1,
      "metadata": {
        "id": "nhCezRIBcUTu",
        "colab": {
          "base_uri": "https://localhost:8080/"
        },
        "outputId": "6bf2e336-ad9b-4534-d868-11adafe638f2"
      },
      "outputs": [
        {
          "output_type": "stream",
          "name": "stdout",
          "text": [
            "\u001b[K     |████████████████████████████████| 281.4 MB 35 kB/s \n",
            "\u001b[K     |████████████████████████████████| 198 kB 29.1 MB/s \n",
            "\u001b[?25h  Building wheel for pyspark (setup.py) ... \u001b[?25l\u001b[?25hdone\n"
          ]
        }
      ],
      "source": [
        "!pip install -q findspark\n",
        "!pip install -q pyspark"
      ]
    },
    {
      "cell_type": "code",
      "execution_count": 2,
      "metadata": {
        "id": "CJUVrSk74hAp"
      },
      "outputs": [],
      "source": [
        "import os\n",
        "import sqlite3\n",
        "import findspark\n",
        "from pyspark.sql.functions import lit\n",
        "from pyspark.sql.functions import col\n",
        "from pyspark.sql.functions import date_format\n",
        "from pyspark.sql.functions import to_date\n",
        "from pyspark.sql.functions import min\n",
        "from pyspark.sql.functions import max\n",
        "from pyspark.sql.functions import udf\n",
        "from pyspark.sql.functions import expr\n",
        "from pyspark.sql.types import IntegerType\n",
        "from pyspark.sql.types import StringType\n",
        "from pyspark.sql.types import StructType\n",
        "from pyspark.sql.types import StructField\n",
        "from pyspark.sql.types import DoubleType\n",
        "from pyspark.sql.types import LongType\n",
        "from pyspark.sql.types import ArrayType\n",
        "from pyspark.sql import SparkSession"
      ]
    },
    {
      "cell_type": "code",
      "execution_count": 3,
      "metadata": {
        "id": "hPM_qsGbcMGm"
      },
      "outputs": [],
      "source": [
        "findspark.init()\n",
        "spark = SparkSession.builder\\\n",
        "                    .master(\"local\")\\\n",
        "                    .appName(\"colab\")\\\n",
        "                    .config(\"spark.ui.port\", \"4050\")\\\n",
        "                    .getOrCreate()\n",
        "spark.conf.set(\"spark.sql.repl.eagerEval.enabled\", True)"
      ]
    },
    {
      "cell_type": "code",
      "execution_count": 4,
      "metadata": {
        "id": "Pc-4uOUgcoPW",
        "colab": {
          "base_uri": "https://localhost:8080/"
        },
        "outputId": "f25937ae-155c-45e7-92cd-5195b39507e9"
      },
      "outputs": [
        {
          "output_type": "stream",
          "name": "stdout",
          "text": [
            "Mounted at /content/gdrive\n"
          ]
        }
      ],
      "source": [
        "from google.colab import drive\n",
        "drive.mount('/content/gdrive')"
      ]
    },
    {
      "cell_type": "code",
      "execution_count": 5,
      "metadata": {
        "id": "1EzJo06keXS8"
      },
      "outputs": [],
      "source": [
        "conn = sqlite3.connect('/content/gdrive/MyDrive/ColabDataset/chinook.db')"
      ]
    },
    {
      "cell_type": "code",
      "execution_count": 6,
      "metadata": {
        "id": "t5tk2a2EioUg",
        "colab": {
          "base_uri": "https://localhost:8080/"
        },
        "outputId": "efa4120d-e02c-424d-80cf-c9723f1fae32"
      },
      "outputs": [
        {
          "output_type": "execute_result",
          "data": {
            "text/plain": [
              "<sqlite3.Connection at 0x7f693863bf10>"
            ]
          },
          "metadata": {},
          "execution_count": 6
        }
      ],
      "source": [
        "conn"
      ]
    },
    {
      "cell_type": "code",
      "execution_count": 7,
      "metadata": {
        "id": "c2dY9vovixUA"
      },
      "outputs": [],
      "source": [
        "def select_all_tasks(conn, query):\n",
        "    \"\"\"\n",
        "    Query all rows in the tasks table\n",
        "    :param conn: the Connection object\n",
        "    :return:\n",
        "    \"\"\"\n",
        "    cur = conn.cursor()\n",
        "    cur.execute(query)\n",
        "\n",
        "    rows = cur.fetchall()\n",
        "    return rows"
      ]
    },
    {
      "cell_type": "code",
      "execution_count": 8,
      "metadata": {
        "id": "iIorqE21cAEl"
      },
      "outputs": [],
      "source": [
        "# for column in [column for column in invoiceDf.columns\n",
        "#                if column not in artistDf.columns]:\n",
        "#     artistDf = artistDf.withColumn(column, lit(None))"
      ]
    },
    {
      "cell_type": "code",
      "execution_count": 9,
      "metadata": {
        "id": "-C6njQDNedB9"
      },
      "outputs": [],
      "source": [
        "# for column in [column for column in artistDf.columns\n",
        "#                if column not in invoiceDf.columns]:\n",
        "#     invoiceDf = invoiceDf.withColumn(column, lit(None))"
      ]
    },
    {
      "cell_type": "code",
      "execution_count": 10,
      "metadata": {
        "id": "jrUsAw_nnflE"
      },
      "outputs": [],
      "source": [
        "query = \"SELECT c.FirstName,\\\n",
        "                          c.LastName,\\\n",
        "                          c.Company,\\\n",
        "                          c.SupportRepId,\\\n",
        "                          c.City,\\\n",
        "                          c.state,\\\n",
        "                          c.Country,\\\n",
        "                          c.PostalCode,\\\n",
        "                          i.InvoiceId,\\\n",
        "                          i.InvoiceDate,\\\n",
        "                          i.BillingAddress,\\\n",
        "                          i.BillingCity,\\\n",
        "                          i.BillingState,\\\n",
        "                          i.BillingCountry,\\\n",
        "                          i.BillingPostalCode,\\\n",
        "                          i.Total,\\\n",
        "                          t.UnitPrice,\\\n",
        "                          t.Quantity,\\\n",
        "                          r.Name,\\\n",
        "                          r.Composer,\\\n",
        "                          r.Milliseconds,\\\n",
        "                          r.Bytes,\\\n",
        "                          a.Title,\\\n",
        "                          s.Name AS ArtistName,\\\n",
        "                          p.Name AS Playlist,\\\n",
        "                          m.Name AS MediaType\\\n",
        "                  FROM customers AS c\\\n",
        "                  LEFT JOIN invoices AS i ON c.CustomerId==i.CustomerId\\\n",
        "                  LEFT JOIN invoice_items AS t ON i.InvoiceId==t.InvoiceId \\\n",
        "                  LEFT JOIN tracks AS r ON t.TrackId==r.TrackId \\\n",
        "                  LEFT JOIN albums AS a ON a.AlbumId==r.AlbumId \\\n",
        "                  LEFT JOIN artists AS s ON a.ArtistId==s.ArtistId \\\n",
        "                  LEFT JOIN genres AS g ON g.GenreId==r.GenreId \\\n",
        "                  LEFT JOIN playlist_track AS k ON k.TrackId==r.TrackId \\\n",
        "                  LEFT JOIN playlists AS p ON p.PlaylistId==k.PlaylistId \\\n",
        "                  LEFT JOIN media_types AS m ON m.MediaTypeId==r.MediaTypeId \\\n",
        "                  ORDER BY i.InvoiceId ASC ;\""
      ]
    },
    {
      "cell_type": "code",
      "execution_count": 11,
      "metadata": {
        "id": "F1YlkSd2Ctrc"
      },
      "outputs": [],
      "source": [
        "cols_name = [\n",
        "              ('FirstName', StringType()),\n",
        "              ('LastName', StringType()),\n",
        "              ('Company', StringType()),\n",
        "              ('SupportRepId', IntegerType()),\n",
        "              ('City', StringType()),\n",
        "              ('State', StringType()),\n",
        "              ('Country', StringType()),\n",
        "              ('PostalCode', StringType()),\n",
        "              ('InvoiceId', IntegerType()),\n",
        "              ('InvoiceDate', StringType()),\n",
        "              ('BillingAddress', StringType()),\n",
        "              ('BillingCity', StringType()),\n",
        "              ('BillingState', StringType()),\n",
        "              ('BillingCountry', StringType()),\n",
        "              ('BillingPostalCode', StringType()),\n",
        "              ('Total', DoubleType()),\n",
        "              ('UnitPrice', DoubleType()),\n",
        "              ('Quantity', IntegerType()),\n",
        "              ('Name', StringType()),\n",
        "              ('Composer', StringType()),\n",
        "              ('Milliseconds', LongType()),\n",
        "              ('Bytes', LongType()),\n",
        "              ('Title', StringType()),\n",
        "              ('ArtistName', StringType()),\n",
        "              ('Playlist', StringType()),\n",
        "              ('MediaType', StringType()),\n",
        "              ]"
      ]
    },
    {
      "cell_type": "code",
      "execution_count": 12,
      "metadata": {
        "id": "lk1QF1PlFmA1"
      },
      "outputs": [],
      "source": [
        "schema = StructType(\n",
        "    [\n",
        "     StructField(\n",
        "        x[0], x[1], True\n",
        "      )\n",
        "     for x in cols_name\n",
        "    ]\n",
        ")"
      ]
    },
    {
      "cell_type": "code",
      "execution_count": 13,
      "metadata": {
        "id": "YbPRLDeZFgRv"
      },
      "outputs": [],
      "source": [
        "customerBehavior = select_all_tasks(conn, query)"
      ]
    },
    {
      "cell_type": "code",
      "execution_count": 14,
      "metadata": {
        "id": "73-T2xUFFbJl"
      },
      "outputs": [],
      "source": [
        "customerBehaviorDf = spark.createDataFrame(customerBehavior, schema)"
      ]
    },
    {
      "cell_type": "code",
      "execution_count": 15,
      "metadata": {
        "colab": {
          "base_uri": "https://localhost:8080/"
        },
        "id": "8I6fw0mSGIau",
        "outputId": "f9f8ea7f-c347-4155-982e-e3c548396e5a"
      },
      "outputs": [
        {
          "output_type": "stream",
          "name": "stdout",
          "text": [
            "-RECORD 0-------------------------------------\n",
            " FirstName         | Leonie                   \n",
            " LastName          | Köhler                   \n",
            " Company           | null                     \n",
            " SupportRepId      | 5                        \n",
            " City              | Stuttgart                \n",
            " State             | null                     \n",
            " Country           | Germany                  \n",
            " PostalCode        | 70174                    \n",
            " InvoiceId         | 1                        \n",
            " InvoiceDate       | 2009-01-01 00:00:00      \n",
            " BillingAddress    | Theodor-Heuss-Straße 34  \n",
            " BillingCity       | Stuttgart                \n",
            " BillingState      | null                     \n",
            " BillingCountry    | Germany                  \n",
            " BillingPostalCode | 70174                    \n",
            " Total             | 1.98                     \n",
            " UnitPrice         | 0.99                     \n",
            " Quantity          | 1                        \n",
            " Name              | Balls to the Wall        \n",
            " Composer          | null                     \n",
            " Milliseconds      | 342562                   \n",
            " Bytes             | 5510424                  \n",
            " Title             | Balls to the Wall        \n",
            " ArtistName        | Accept                   \n",
            " Playlist          | Music                    \n",
            " MediaType         | Protected AAC audio file \n",
            "only showing top 1 row\n",
            "\n"
          ]
        }
      ],
      "source": [
        "customerBehaviorDf.show(1, truncate=False, vertical=True)"
      ]
    },
    {
      "cell_type": "code",
      "execution_count": 16,
      "metadata": {
        "colab": {
          "base_uri": "https://localhost:8080/"
        },
        "id": "S7g2qRMBJx4E",
        "outputId": "e06c82b2-0345-4886-f3b9-d0d7fe9c4ab7"
      },
      "outputs": [
        {
          "output_type": "execute_result",
          "data": {
            "text/plain": [
              "4184"
            ]
          },
          "metadata": {},
          "execution_count": 16
        }
      ],
      "source": [
        "customerBehaviorDf.filter(\"Composer IS NOT NULL\").count()"
      ]
    },
    {
      "cell_type": "code",
      "execution_count": 17,
      "metadata": {
        "colab": {
          "base_uri": "https://localhost:8080/"
        },
        "id": "PGbdxH_HdaCD",
        "outputId": "44fad619-8f1c-4b9f-cc63-eec0f1aed8cc"
      },
      "outputs": [
        {
          "output_type": "execute_result",
          "data": {
            "text/plain": [
              "4184"
            ]
          },
          "metadata": {},
          "execution_count": 17
        }
      ],
      "source": [
        "customerBehaviorDf.filter(\"Composer IS NOT NULL\").count()"
      ]
    },
    {
      "cell_type": "code",
      "execution_count": 18,
      "metadata": {
        "colab": {
          "base_uri": "https://localhost:8080/"
        },
        "id": "6dezWK3JLgSF",
        "outputId": "32ac2e70-8228-4350-a85e-44428784cbd1"
      },
      "outputs": [
        {
          "output_type": "execute_result",
          "data": {
            "text/plain": [
              "5572"
            ]
          },
          "metadata": {},
          "execution_count": 18
        }
      ],
      "source": [
        "customerBehaviorDf.count()"
      ]
    },
    {
      "cell_type": "code",
      "execution_count": 19,
      "metadata": {
        "id": "KalxiFSTSffU"
      },
      "outputs": [],
      "source": [
        "NullCount = {col:(\n",
        "    customerBehaviorDf.filter(\n",
        "        customerBehaviorDf[col].isNull()\n",
        "        ).count()\n",
        "        ) for col in customerBehaviorDf.columns}"
      ]
    },
    {
      "cell_type": "code",
      "execution_count": 20,
      "metadata": {
        "colab": {
          "base_uri": "https://localhost:8080/"
        },
        "id": "2zU8Pc-eeBwV",
        "outputId": "4ca7bf9b-c09a-40be-9ed3-a36f25d90ae2"
      },
      "outputs": [
        {
          "output_type": "execute_result",
          "data": {
            "text/plain": [
              "{'ArtistName': 0,\n",
              " 'BillingAddress': 0,\n",
              " 'BillingCity': 0,\n",
              " 'BillingCountry': 0,\n",
              " 'BillingPostalCode': 368,\n",
              " 'BillingState': 2716,\n",
              " 'Bytes': 0,\n",
              " 'City': 0,\n",
              " 'Company': 4616,\n",
              " 'Composer': 1388,\n",
              " 'Country': 0,\n",
              " 'FirstName': 0,\n",
              " 'InvoiceDate': 0,\n",
              " 'InvoiceId': 0,\n",
              " 'LastName': 0,\n",
              " 'MediaType': 0,\n",
              " 'Milliseconds': 0,\n",
              " 'Name': 0,\n",
              " 'Playlist': 0,\n",
              " 'PostalCode': 368,\n",
              " 'Quantity': 0,\n",
              " 'State': 2716,\n",
              " 'SupportRepId': 0,\n",
              " 'Title': 0,\n",
              " 'Total': 0,\n",
              " 'UnitPrice': 0}"
            ]
          },
          "metadata": {},
          "execution_count": 20
        }
      ],
      "source": [
        "NullCount"
      ]
    },
    {
      "cell_type": "code",
      "execution_count": 21,
      "metadata": {
        "id": "Xdj5yKrChPAT"
      },
      "outputs": [],
      "source": [
        "def splitUDF(row):\n",
        "    if \" \" in row:\n",
        "        date,hhmmss = row.split(\" \")\n",
        "    if \"-\" in date:\n",
        "        yyyy,mm,dd = date.split(\"-\")\n",
        "\n",
        "    return [yyyy,mm,dd]"
      ]
    },
    {
      "cell_type": "code",
      "execution_count": 22,
      "metadata": {
        "id": "30sZM7U-hWD5"
      },
      "outputs": [],
      "source": [
        "datSplitterUDF = udf(lambda row : splitUDF(row),ArrayType(StringType()))"
      ]
    },
    {
      "cell_type": "code",
      "execution_count": 23,
      "metadata": {
        "id": "GJTnL1D7ir-W"
      },
      "outputs": [],
      "source": [
        "customerBehaviorDateTimeDf = customerBehaviorDf\\\n",
        ".select('*', datSplitterUDF(customerBehaviorDf.InvoiceDate).alias(\"dt\"))\\\n",
        ".withColumn('year',col('dt').getItem(0).cast('int'))\\\n",
        ".withColumn('month',col('dt').getItem(1).cast('int'))\\\n",
        ".withColumn('day',col('dt').getItem(2).cast('int'))"
      ]
    },
    {
      "cell_type": "code",
      "execution_count": 24,
      "metadata": {
        "colab": {
          "base_uri": "https://localhost:8080/"
        },
        "id": "xl3Lq-fTgnhp",
        "outputId": "5ccc340a-be27-4204-b455-7c3dbfbfd39a"
      },
      "outputs": [
        {
          "output_type": "stream",
          "name": "stdout",
          "text": [
            "-RECORD 0---------------------------------\n",
            " FirstName         | Leonie               \n",
            " LastName          | Köhler               \n",
            " Company           | null                 \n",
            " SupportRepId      | 5                    \n",
            " City              | Stuttgart            \n",
            " State             | null                 \n",
            " Country           | Germany              \n",
            " PostalCode        | 70174                \n",
            " InvoiceId         | 1                    \n",
            " InvoiceDate       | 2009-01-01 00:00:00  \n",
            " BillingAddress    | Theodor-Heuss-Str... \n",
            " BillingCity       | Stuttgart            \n",
            " BillingState      | null                 \n",
            " BillingCountry    | Germany              \n",
            " BillingPostalCode | 70174                \n",
            " Total             | 1.98                 \n",
            " UnitPrice         | 0.99                 \n",
            " Quantity          | 1                    \n",
            " Name              | Balls to the Wall    \n",
            " Composer          | null                 \n",
            " Milliseconds      | 342562               \n",
            " Bytes             | 5510424              \n",
            " Title             | Balls to the Wall    \n",
            " ArtistName        | Accept               \n",
            " Playlist          | Music                \n",
            " MediaType         | Protected AAC aud... \n",
            " dt                | [2009, 01, 01]       \n",
            " year              | 2009                 \n",
            " month             | 1                    \n",
            " day               | 1                    \n",
            "only showing top 1 row\n",
            "\n"
          ]
        }
      ],
      "source": [
        "customerBehaviorDateTimeDf.show(1, truncate=True, vertical=True)"
      ]
    },
    {
      "cell_type": "code",
      "execution_count": 25,
      "metadata": {
        "colab": {
          "base_uri": "https://localhost:8080/"
        },
        "id": "ABsl_0qPh7m_",
        "outputId": "23916f6e-90f6-4f30-8ffe-061e8da65693"
      },
      "outputs": [
        {
          "output_type": "stream",
          "name": "stdout",
          "text": [
            "-RECORD 0-------------------------------------\n",
            " FirstName         | Leonie                   \n",
            " LastName          | Köhler                   \n",
            " Company           | null                     \n",
            " SupportRepId      | 5                        \n",
            " City              | Stuttgart                \n",
            " State             | null                     \n",
            " Country           | Germany                  \n",
            " PostalCode        | 70174                    \n",
            " InvoiceId         | 1                        \n",
            " BillingAddress    | Theodor-Heuss-Straße 34  \n",
            " BillingCity       | Stuttgart                \n",
            " BillingState      | null                     \n",
            " BillingCountry    | Germany                  \n",
            " BillingPostalCode | 70174                    \n",
            " Total             | 1.98                     \n",
            " UnitPrice         | 0.99                     \n",
            " Quantity          | 1                        \n",
            " Name              | Balls to the Wall        \n",
            " Composer          | null                     \n",
            " Milliseconds      | 342562                   \n",
            " Bytes             | 5510424                  \n",
            " Title             | Balls to the Wall        \n",
            " ArtistName        | Accept                   \n",
            " Playlist          | Music                    \n",
            " MediaType         | Protected AAC audio file \n",
            " year              | 2009                     \n",
            " month             | 1                        \n",
            " day               | 1                        \n",
            "only showing top 1 row\n",
            "\n"
          ]
        }
      ],
      "source": [
        "customerBehaviorDateTimeDf.drop(\"InvoiceDate\", \"dt\").show(1, truncate=False, vertical=True)"
      ]
    },
    {
      "cell_type": "code",
      "source": [
        "customerBehaviorDtDf = customerBehaviorDateTimeDf.drop(\"InvoiceDate\", \"dt\")"
      ],
      "metadata": {
        "id": "63WL-8LD0av6"
      },
      "execution_count": 26,
      "outputs": []
    },
    {
      "cell_type": "code",
      "source": [
        "customerBehaviorDtDf.show(1, truncate=True, vertical=True)"
      ],
      "metadata": {
        "colab": {
          "base_uri": "https://localhost:8080/"
        },
        "id": "iwwYq2SD0ldd",
        "outputId": "08a753c3-04c0-4717-c80d-495208fe4fd0"
      },
      "execution_count": 27,
      "outputs": [
        {
          "output_type": "stream",
          "name": "stdout",
          "text": [
            "-RECORD 0---------------------------------\n",
            " FirstName         | Leonie               \n",
            " LastName          | Köhler               \n",
            " Company           | null                 \n",
            " SupportRepId      | 5                    \n",
            " City              | Stuttgart            \n",
            " State             | null                 \n",
            " Country           | Germany              \n",
            " PostalCode        | 70174                \n",
            " InvoiceId         | 1                    \n",
            " BillingAddress    | Theodor-Heuss-Str... \n",
            " BillingCity       | Stuttgart            \n",
            " BillingState      | null                 \n",
            " BillingCountry    | Germany              \n",
            " BillingPostalCode | 70174                \n",
            " Total             | 1.98                 \n",
            " UnitPrice         | 0.99                 \n",
            " Quantity          | 1                    \n",
            " Name              | Balls to the Wall    \n",
            " Composer          | null                 \n",
            " Milliseconds      | 342562               \n",
            " Bytes             | 5510424              \n",
            " Title             | Balls to the Wall    \n",
            " ArtistName        | Accept               \n",
            " Playlist          | Music                \n",
            " MediaType         | Protected AAC aud... \n",
            " year              | 2009                 \n",
            " month             | 1                    \n",
            " day               | 1                    \n",
            "only showing top 1 row\n",
            "\n"
          ]
        }
      ]
    },
    {
      "cell_type": "code",
      "source": [
        "customerBehaviorDtDf.filter(col('Country') == 'Germany').count()"
      ],
      "metadata": {
        "colab": {
          "base_uri": "https://localhost:8080/"
        },
        "id": "70nbiGL905gq",
        "outputId": "75b05f2e-3762-4b06-aba9-41b3a3a243f6"
      },
      "execution_count": 28,
      "outputs": [
        {
          "output_type": "execute_result",
          "data": {
            "text/plain": [
              "374"
            ]
          },
          "metadata": {},
          "execution_count": 28
        }
      ]
    },
    {
      "cell_type": "code",
      "source": [
        "customerBehaviorDtDf.select('Country').distinct().count()"
      ],
      "metadata": {
        "colab": {
          "base_uri": "https://localhost:8080/"
        },
        "id": "FoQosj4P3lE2",
        "outputId": "a4a59e7e-4f83-4522-d4b3-baf943aab414"
      },
      "execution_count": 29,
      "outputs": [
        {
          "output_type": "execute_result",
          "data": {
            "text/plain": [
              "24"
            ]
          },
          "metadata": {},
          "execution_count": 29
        }
      ]
    },
    {
      "cell_type": "code",
      "source": [
        "customerBehaviorDtDf.select('Country').distinct().show(24)"
      ],
      "metadata": {
        "colab": {
          "base_uri": "https://localhost:8080/"
        },
        "id": "-vll_hSl4q_1",
        "outputId": "63904d2b-5c3d-4b71-830a-32d136cf4f86"
      },
      "execution_count": 30,
      "outputs": [
        {
          "output_type": "stream",
          "name": "stdout",
          "text": [
            "+--------------+\n",
            "|       Country|\n",
            "+--------------+\n",
            "|        Sweden|\n",
            "|       Germany|\n",
            "|        France|\n",
            "|     Argentina|\n",
            "|       Belgium|\n",
            "|       Finland|\n",
            "|         India|\n",
            "|         Chile|\n",
            "|         Italy|\n",
            "|        Norway|\n",
            "|         Spain|\n",
            "|       Denmark|\n",
            "|       Ireland|\n",
            "|           USA|\n",
            "|        Canada|\n",
            "|Czech Republic|\n",
            "|        Brazil|\n",
            "|        Poland|\n",
            "|      Portugal|\n",
            "|     Australia|\n",
            "|       Austria|\n",
            "|       Hungary|\n",
            "|United Kingdom|\n",
            "|   Netherlands|\n",
            "+--------------+\n",
            "\n"
          ]
        }
      ]
    },
    {
      "cell_type": "code",
      "source": [
        "customerBehaviorDtDf.select('City').distinct().count()"
      ],
      "metadata": {
        "colab": {
          "base_uri": "https://localhost:8080/"
        },
        "id": "WwCCT3iD4xAT",
        "outputId": "7f2b09dd-9c48-48d8-cbe8-f42d73aa48de"
      },
      "execution_count": 31,
      "outputs": [
        {
          "output_type": "execute_result",
          "data": {
            "text/plain": [
              "53"
            ]
          },
          "metadata": {},
          "execution_count": 31
        }
      ]
    },
    {
      "cell_type": "code",
      "source": [
        "customerBehaviorDtDf.select('City').distinct().show(53)"
      ],
      "metadata": {
        "colab": {
          "base_uri": "https://localhost:8080/"
        },
        "id": "q7mrc8Kp7guq",
        "outputId": "b9e0a98d-bea2-4015-a713-c6bea4e230c0"
      },
      "execution_count": 32,
      "outputs": [
        {
          "output_type": "stream",
          "name": "stdout",
          "text": [
            "+-------------------+\n",
            "|               City|\n",
            "+-------------------+\n",
            "|          Bangalore|\n",
            "|           Winnipeg|\n",
            "|             Madrid|\n",
            "|             Prague|\n",
            "|             Ottawa|\n",
            "|             Sidney|\n",
            "|          Cupertino|\n",
            "|          Frankfurt|\n",
            "|              Dijon|\n",
            "|             Lisbon|\n",
            "|          Stockholm|\n",
            "|               Oslo|\n",
            "|             Dublin|\n",
            "|             Berlin|\n",
            "|             London|\n",
            "|São José dos Campos|\n",
            "|            Madison|\n",
            "|              Paris|\n",
            "|            Chicago|\n",
            "|               Lyon|\n",
            "|           Montréal|\n",
            "|            Toronto|\n",
            "|              Porto|\n",
            "|        Yellowknife|\n",
            "|             Warsaw|\n",
            "|            Redmond|\n",
            "|          Amsterdam|\n",
            "|           Brussels|\n",
            "|          Vancouver|\n",
            "|           Edmonton|\n",
            "|               Reno|\n",
            "|           Bordeaux|\n",
            "|       Buenos Aires|\n",
            "|         Edinburgh |\n",
            "|          São Paulo|\n",
            "|             Vienne|\n",
            "|              Delhi|\n",
            "|          Stuttgart|\n",
            "|           Helsinki|\n",
            "|         Copenhagen|\n",
            "|               Rome|\n",
            "|     Rio de Janeiro|\n",
            "|             Tucson|\n",
            "|           Brasília|\n",
            "|           Budapest|\n",
            "|     Salt Lake City|\n",
            "|           Santiago|\n",
            "|            Orlando|\n",
            "|           New York|\n",
            "|            Halifax|\n",
            "|      Mountain View|\n",
            "|         Fort Worth|\n",
            "|             Boston|\n",
            "+-------------------+\n",
            "\n"
          ]
        }
      ]
    },
    {
      "cell_type": "code",
      "source": [
        "customerBehaviorDtDf.select('City').distinct().show(53)"
      ],
      "metadata": {
        "colab": {
          "base_uri": "https://localhost:8080/"
        },
        "id": "lCN-CQxd7lYq",
        "outputId": "8eaf215d-621a-42aa-bc1b-2ac129ae5aa0"
      },
      "execution_count": 33,
      "outputs": [
        {
          "output_type": "stream",
          "name": "stdout",
          "text": [
            "+-------------------+\n",
            "|               City|\n",
            "+-------------------+\n",
            "|          Bangalore|\n",
            "|           Winnipeg|\n",
            "|             Madrid|\n",
            "|             Prague|\n",
            "|             Ottawa|\n",
            "|             Sidney|\n",
            "|          Cupertino|\n",
            "|          Frankfurt|\n",
            "|              Dijon|\n",
            "|             Lisbon|\n",
            "|          Stockholm|\n",
            "|               Oslo|\n",
            "|             Dublin|\n",
            "|             Berlin|\n",
            "|             London|\n",
            "|São José dos Campos|\n",
            "|            Madison|\n",
            "|              Paris|\n",
            "|            Chicago|\n",
            "|               Lyon|\n",
            "|           Montréal|\n",
            "|            Toronto|\n",
            "|              Porto|\n",
            "|        Yellowknife|\n",
            "|             Warsaw|\n",
            "|            Redmond|\n",
            "|          Amsterdam|\n",
            "|           Brussels|\n",
            "|          Vancouver|\n",
            "|           Edmonton|\n",
            "|               Reno|\n",
            "|           Bordeaux|\n",
            "|       Buenos Aires|\n",
            "|         Edinburgh |\n",
            "|          São Paulo|\n",
            "|             Vienne|\n",
            "|              Delhi|\n",
            "|          Stuttgart|\n",
            "|           Helsinki|\n",
            "|         Copenhagen|\n",
            "|               Rome|\n",
            "|     Rio de Janeiro|\n",
            "|             Tucson|\n",
            "|           Brasília|\n",
            "|           Budapest|\n",
            "|     Salt Lake City|\n",
            "|           Santiago|\n",
            "|            Orlando|\n",
            "|           New York|\n",
            "|            Halifax|\n",
            "|      Mountain View|\n",
            "|         Fort Worth|\n",
            "|             Boston|\n",
            "+-------------------+\n",
            "\n"
          ]
        }
      ]
    },
    {
      "cell_type": "code",
      "source": [
        "customerBehaviorDtDf.groupBy(col('City')).count().show(53)"
      ],
      "metadata": {
        "id": "3K46AIDB_KYG",
        "colab": {
          "base_uri": "https://localhost:8080/"
        },
        "outputId": "8b0e45f7-da02-4a9c-b320-9ff4c3a45c89"
      },
      "execution_count": 34,
      "outputs": [
        {
          "output_type": "stream",
          "name": "stdout",
          "text": [
            "+-------------------+-----+\n",
            "|               City|count|\n",
            "+-------------------+-----+\n",
            "|          Bangalore|   90|\n",
            "|           Winnipeg|  100|\n",
            "|             Madrid|   90|\n",
            "|             Prague|  185|\n",
            "|             Ottawa|   99|\n",
            "|             Sidney|   97|\n",
            "|          Cupertino|   94|\n",
            "|          Frankfurt|   95|\n",
            "|              Dijon|   97|\n",
            "|             Lisbon|   90|\n",
            "|          Stockholm|   97|\n",
            "|               Oslo|   92|\n",
            "|             Dublin|   97|\n",
            "|             Berlin|  183|\n",
            "|             London|  188|\n",
            "|São José dos Campos|   96|\n",
            "|            Madison|   97|\n",
            "|              Paris|  187|\n",
            "|            Chicago|   97|\n",
            "|               Lyon|   99|\n",
            "|           Montréal|   93|\n",
            "|            Toronto|   88|\n",
            "|              Porto|   89|\n",
            "|        Yellowknife|   95|\n",
            "|             Warsaw|   90|\n",
            "|            Redmond|   97|\n",
            "|          Amsterdam|   86|\n",
            "|           Brussels|  101|\n",
            "|          Vancouver|   91|\n",
            "|           Edmonton|   97|\n",
            "|               Reno|   97|\n",
            "|           Bordeaux|   94|\n",
            "|       Buenos Aires|   95|\n",
            "|         Edinburgh |   94|\n",
            "|          São Paulo|  192|\n",
            "|             Vienne|   92|\n",
            "|              Delhi|   96|\n",
            "|          Stuttgart|   96|\n",
            "|           Helsinki|   94|\n",
            "|         Copenhagen|   91|\n",
            "|               Rome|  105|\n",
            "|     Rio de Janeiro|   98|\n",
            "|             Tucson|  105|\n",
            "|           Brasília|   98|\n",
            "|           Budapest|   99|\n",
            "|     Salt Lake City|   96|\n",
            "|           Santiago|   92|\n",
            "|            Orlando|  101|\n",
            "|           New York|   91|\n",
            "|            Halifax|   92|\n",
            "|      Mountain View|  186|\n",
            "|         Fort Worth|   85|\n",
            "|             Boston|   86|\n",
            "+-------------------+-----+\n",
            "\n"
          ]
        }
      ]
    },
    {
      "cell_type": "code",
      "source": [
        "customerBehaviorDtDf.groupBy(col('Country')).count().show(53)"
      ],
      "metadata": {
        "colab": {
          "base_uri": "https://localhost:8080/"
        },
        "id": "aC0aUidDFsUC",
        "outputId": "c02db09e-e450-478f-f757-45de9be8d5b2"
      },
      "execution_count": 35,
      "outputs": [
        {
          "output_type": "stream",
          "name": "stdout",
          "text": [
            "+--------------+-----+\n",
            "|       Country|count|\n",
            "+--------------+-----+\n",
            "|        Sweden|   97|\n",
            "|       Germany|  374|\n",
            "|        France|  477|\n",
            "|     Argentina|   95|\n",
            "|       Belgium|  101|\n",
            "|       Finland|   94|\n",
            "|         India|  186|\n",
            "|         Chile|   92|\n",
            "|         Italy|  105|\n",
            "|        Norway|   92|\n",
            "|         Spain|   90|\n",
            "|       Denmark|   91|\n",
            "|       Ireland|   97|\n",
            "|           USA| 1232|\n",
            "|        Canada|  755|\n",
            "|Czech Republic|  185|\n",
            "|        Brazil|  484|\n",
            "|        Poland|   90|\n",
            "|      Portugal|  179|\n",
            "|     Australia|   97|\n",
            "|       Austria|   92|\n",
            "|       Hungary|   99|\n",
            "|United Kingdom|  282|\n",
            "|   Netherlands|   86|\n",
            "+--------------+-----+\n",
            "\n"
          ]
        }
      ]
    },
    {
      "cell_type": "code",
      "source": [
        "customerBehaviorDtDf.groupBy(col('Country'), col('City')).count().orderBy(col('Country').asc()).show(53)"
      ],
      "metadata": {
        "colab": {
          "base_uri": "https://localhost:8080/"
        },
        "id": "PUjqsQFQKDwd",
        "outputId": "9262d904-c77e-4d85-e5c1-d745e3a0e0fc"
      },
      "execution_count": 36,
      "outputs": [
        {
          "output_type": "stream",
          "name": "stdout",
          "text": [
            "+--------------+-------------------+-----+\n",
            "|       Country|               City|count|\n",
            "+--------------+-------------------+-----+\n",
            "|     Argentina|       Buenos Aires|   95|\n",
            "|     Australia|             Sidney|   97|\n",
            "|       Austria|             Vienne|   92|\n",
            "|       Belgium|           Brussels|  101|\n",
            "|        Brazil|          São Paulo|  192|\n",
            "|        Brazil|     Rio de Janeiro|   98|\n",
            "|        Brazil|           Brasília|   98|\n",
            "|        Brazil|São José dos Campos|   96|\n",
            "|        Canada|            Halifax|   92|\n",
            "|        Canada|           Montréal|   93|\n",
            "|        Canada|        Yellowknife|   95|\n",
            "|        Canada|             Ottawa|   99|\n",
            "|        Canada|           Winnipeg|  100|\n",
            "|        Canada|          Vancouver|   91|\n",
            "|        Canada|           Edmonton|   97|\n",
            "|        Canada|            Toronto|   88|\n",
            "|         Chile|           Santiago|   92|\n",
            "|Czech Republic|             Prague|  185|\n",
            "|       Denmark|         Copenhagen|   91|\n",
            "|       Finland|           Helsinki|   94|\n",
            "|        France|              Paris|  187|\n",
            "|        France|           Bordeaux|   94|\n",
            "|        France|               Lyon|   99|\n",
            "|        France|              Dijon|   97|\n",
            "|       Germany|             Berlin|  183|\n",
            "|       Germany|          Stuttgart|   96|\n",
            "|       Germany|          Frankfurt|   95|\n",
            "|       Hungary|           Budapest|   99|\n",
            "|         India|              Delhi|   96|\n",
            "|         India|          Bangalore|   90|\n",
            "|       Ireland|             Dublin|   97|\n",
            "|         Italy|               Rome|  105|\n",
            "|   Netherlands|          Amsterdam|   86|\n",
            "|        Norway|               Oslo|   92|\n",
            "|        Poland|             Warsaw|   90|\n",
            "|      Portugal|             Lisbon|   90|\n",
            "|      Portugal|              Porto|   89|\n",
            "|         Spain|             Madrid|   90|\n",
            "|        Sweden|          Stockholm|   97|\n",
            "|           USA|      Mountain View|  186|\n",
            "|           USA|             Boston|   86|\n",
            "|           USA|            Madison|   97|\n",
            "|           USA|           New York|   91|\n",
            "|           USA|          Cupertino|   94|\n",
            "|           USA|     Salt Lake City|   96|\n",
            "|           USA|               Reno|   97|\n",
            "|           USA|         Fort Worth|   85|\n",
            "|           USA|            Orlando|  101|\n",
            "|           USA|            Redmond|   97|\n",
            "|           USA|            Chicago|   97|\n",
            "|           USA|             Tucson|  105|\n",
            "|United Kingdom|             London|  188|\n",
            "|United Kingdom|         Edinburgh |   94|\n",
            "+--------------+-------------------+-----+\n",
            "\n"
          ]
        }
      ]
    },
    {
      "cell_type": "code",
      "source": [
        "customerBehaviorDtDf.filter(col(\"Country\")==\"Canada\").show()"
      ],
      "metadata": {
        "colab": {
          "base_uri": "https://localhost:8080/"
        },
        "id": "KkYF_aZ5I7bW",
        "outputId": "3a6c4f24-bc53-4df3-a13f-36e548d25e48"
      },
      "execution_count": 37,
      "outputs": [
        {
          "output_type": "stream",
          "name": "stdout",
          "text": [
            "+---------+--------+-------+------------+--------+-----+-------+----------+---------+--------------+-----------+------------+--------------+-----------------+-----+---------+--------+--------------------+--------------------+------------+--------+--------------------+--------------------+----------+---------------+----+-----+---+\n",
            "|FirstName|LastName|Company|SupportRepId|    City|State|Country|PostalCode|InvoiceId|BillingAddress|BillingCity|BillingState|BillingCountry|BillingPostalCode|Total|UnitPrice|Quantity|                Name|            Composer|Milliseconds|   Bytes|               Title|          ArtistName|  Playlist|      MediaType|year|month|day|\n",
            "+---------+--------+-------+------------+--------+-----+-------+----------+---------+--------------+-----------+------------+--------------+-----------------+-----+---------+--------+--------------------+--------------------+------------+--------+--------------------+--------------------+----------+---------------+----+-----+---+\n",
            "|     Mark| Philips|  Telus|           5|Edmonton|   AB| Canada|   T6G 2C7|        4|8210 111 ST NW|   Edmonton|          AB|        Canada|          T6G 2C7| 8.91|     0.99|       1|   Right Through You|Alanis Morissette...|      176117| 5793082|  Jagged Little Pill|   Alanis Morissette|     Music|MPEG audio file|2009|    1|  6|\n",
            "|     Mark| Philips|  Telus|           5|Edmonton|   AB| Canada|   T6G 2C7|        4|8210 111 ST NW|   Edmonton|          AB|        Canada|          T6G 2C7| 8.91|     0.99|       1|   Right Through You|Alanis Morissette...|      176117| 5793082|  Jagged Little Pill|   Alanis Morissette|90’s Music|MPEG audio file|2009|    1|  6|\n",
            "|     Mark| Philips|  Telus|           5|Edmonton|   AB| Canada|   T6G 2C7|        4|8210 111 ST NW|   Edmonton|          AB|        Canada|          T6G 2C7| 8.91|     0.99|       1|   Right Through You|Alanis Morissette...|      176117| 5793082|  Jagged Little Pill|   Alanis Morissette|     Music|MPEG audio file|2009|    1|  6|\n",
            "|     Mark| Philips|  Telus|           5|Edmonton|   AB| Canada|   T6G 2C7|        4|8210 111 ST NW|   Edmonton|          AB|        Canada|          T6G 2C7| 8.91|     0.99|       1|      Not The Doctor|Alanis Morissette...|      227631| 7604601|  Jagged Little Pill|   Alanis Morissette|     Music|MPEG audio file|2009|    1|  6|\n",
            "|     Mark| Philips|  Telus|           5|Edmonton|   AB| Canada|   T6G 2C7|        4|8210 111 ST NW|   Edmonton|          AB|        Canada|          T6G 2C7| 8.91|     0.99|       1|      Not The Doctor|Alanis Morissette...|      227631| 7604601|  Jagged Little Pill|   Alanis Morissette|90’s Music|MPEG audio file|2009|    1|  6|\n",
            "|     Mark| Philips|  Telus|           5|Edmonton|   AB| Canada|   T6G 2C7|        4|8210 111 ST NW|   Edmonton|          AB|        Canada|          T6G 2C7| 8.91|     0.99|       1|      Not The Doctor|Alanis Morissette...|      227631| 7604601|  Jagged Little Pill|   Alanis Morissette|     Music|MPEG audio file|2009|    1|  6|\n",
            "|     Mark| Philips|  Telus|           5|Edmonton|   AB| Canada|   T6G 2C7|        4|8210 111 ST NW|   Edmonton|          AB|        Canada|          T6G 2C7| 8.91|     0.99|       1|     Bleed The Freak|      Jerry Cantrell|      241946| 7847716|            Facelift|     Alice In Chains|     Music|MPEG audio file|2009|    1|  6|\n",
            "|     Mark| Philips|  Telus|           5|Edmonton|   AB| Canada|   T6G 2C7|        4|8210 111 ST NW|   Edmonton|          AB|        Canada|          T6G 2C7| 8.91|     0.99|       1|     Bleed The Freak|      Jerry Cantrell|      241946| 7847716|            Facelift|     Alice In Chains|90’s Music|MPEG audio file|2009|    1|  6|\n",
            "|     Mark| Philips|  Telus|           5|Edmonton|   AB| Canada|   T6G 2C7|        4|8210 111 ST NW|   Edmonton|          AB|        Canada|          T6G 2C7| 8.91|     0.99|       1|     Bleed The Freak|      Jerry Cantrell|      241946| 7847716|            Facelift|     Alice In Chains|     Music|MPEG audio file|2009|    1|  6|\n",
            "|     Mark| Philips|  Telus|           5|Edmonton|   AB| Canada|   T6G 2C7|        4|8210 111 ST NW|   Edmonton|          AB|        Canada|          T6G 2C7| 8.91|     0.99|       1|           Confusion|Jerry Cantrell, M...|      344163|11183647|            Facelift|     Alice In Chains|     Music|MPEG audio file|2009|    1|  6|\n",
            "|     Mark| Philips|  Telus|           5|Edmonton|   AB| Canada|   T6G 2C7|        4|8210 111 ST NW|   Edmonton|          AB|        Canada|          T6G 2C7| 8.91|     0.99|       1|           Confusion|Jerry Cantrell, M...|      344163|11183647|            Facelift|     Alice In Chains|90’s Music|MPEG audio file|2009|    1|  6|\n",
            "|     Mark| Philips|  Telus|           5|Edmonton|   AB| Canada|   T6G 2C7|        4|8210 111 ST NW|   Edmonton|          AB|        Canada|          T6G 2C7| 8.91|     0.99|       1|           Confusion|Jerry Cantrell, M...|      344163|11183647|            Facelift|     Alice In Chains|     Music|MPEG audio file|2009|    1|  6|\n",
            "|     Mark| Philips|  Telus|           5|Edmonton|   AB| Canada|   T6G 2C7|        4|8210 111 ST NW|   Edmonton|          AB|        Canada|          T6G 2C7| 8.91|     0.99|       1|   Por Causa De Você|                null|      169900| 5536496|      Warner 25 Anos|Antônio Carlos Jobim|     Music|MPEG audio file|2009|    1|  6|\n",
            "|     Mark| Philips|  Telus|           5|Edmonton|   AB| Canada|   T6G 2C7|        4|8210 111 ST NW|   Edmonton|          AB|        Canada|          T6G 2C7| 8.91|     0.99|       1|   Por Causa De Você|                null|      169900| 5536496|      Warner 25 Anos|Antônio Carlos Jobim|     Music|MPEG audio file|2009|    1|  6|\n",
            "|     Mark| Philips|  Telus|           5|Edmonton|   AB| Canada|   T6G 2C7|        4|8210 111 ST NW|   Edmonton|          AB|        Canada|          T6G 2C7| 8.91|     0.99|       1|              Angela|                null|      169508| 5574957|      Warner 25 Anos|Antônio Carlos Jobim|     Music|MPEG audio file|2009|    1|  6|\n",
            "|     Mark| Philips|  Telus|           5|Edmonton|   AB| Canada|   T6G 2C7|        4|8210 111 ST NW|   Edmonton|          AB|        Canada|          T6G 2C7| 8.91|     0.99|       1|              Angela|                null|      169508| 5574957|      Warner 25 Anos|Antônio Carlos Jobim|     Music|MPEG audio file|2009|    1|  6|\n",
            "|     Mark| Philips|  Telus|           5|Edmonton|   AB| Canada|   T6G 2C7|        4|8210 111 ST NW|   Edmonton|          AB|        Canada|          T6G 2C7| 8.91|     0.99|       1|   Master Of Puppets|        Apocalyptica|      436453|14375310|Plays Metallica B...|        Apocalyptica|     Music|MPEG audio file|2009|    1|  6|\n",
            "|     Mark| Philips|  Telus|           5|Edmonton|   AB| Canada|   T6G 2C7|        4|8210 111 ST NW|   Edmonton|          AB|        Canada|          T6G 2C7| 8.91|     0.99|       1|   Master Of Puppets|        Apocalyptica|      436453|14375310|Plays Metallica B...|        Apocalyptica|90’s Music|MPEG audio file|2009|    1|  6|\n",
            "|     Mark| Philips|  Telus|           5|Edmonton|   AB| Canada|   T6G 2C7|        4|8210 111 ST NW|   Edmonton|          AB|        Canada|          T6G 2C7| 8.91|     0.99|       1|   Master Of Puppets|        Apocalyptica|      436453|14375310|Plays Metallica B...|        Apocalyptica|     Music|MPEG audio file|2009|    1|  6|\n",
            "|     Mark| Philips|  Telus|           5|Edmonton|   AB| Canada|   T6G 2C7|        4|8210 111 ST NW|   Edmonton|          AB|        Canada|          T6G 2C7| 8.91|     0.99|       1|Welcome Home (San...|        Apocalyptica|      350197|11406431|Plays Metallica B...|        Apocalyptica|     Music|MPEG audio file|2009|    1|  6|\n",
            "+---------+--------+-------+------------+--------+-----+-------+----------+---------+--------------+-----------+------------+--------------+-----------------+-----+---------+--------+--------------------+--------------------+------------+--------+--------------------+--------------------+----------+---------------+----+-----+---+\n",
            "only showing top 20 rows\n",
            "\n"
          ]
        }
      ]
    },
    {
      "cell_type": "code",
      "source": [
        "customerBehaviorAll = customerBehaviorDtDf.withColumn(\"InvoiceDate\", expr(\"make_date(year, month, day)\"))"
      ],
      "metadata": {
        "id": "PBLTb6w-K4GM"
      },
      "execution_count": 38,
      "outputs": []
    },
    {
      "cell_type": "code",
      "source": [
        "customerBehaviorAll.drop(\"year\", \"month\", \"day\").show(1)"
      ],
      "metadata": {
        "colab": {
          "base_uri": "https://localhost:8080/"
        },
        "id": "VslLHj6xPOb7",
        "outputId": "14e919ea-27ec-43d8-8417-4a39d1e21a09"
      },
      "execution_count": 39,
      "outputs": [
        {
          "output_type": "stream",
          "name": "stdout",
          "text": [
            "+---------+--------+-------+------------+---------+-----+-------+----------+---------+--------------------+-----------+------------+--------------+-----------------+-----+---------+--------+-----------------+--------+------------+-------+-----------------+----------+--------+--------------------+-----------+\n",
            "|FirstName|LastName|Company|SupportRepId|     City|State|Country|PostalCode|InvoiceId|      BillingAddress|BillingCity|BillingState|BillingCountry|BillingPostalCode|Total|UnitPrice|Quantity|             Name|Composer|Milliseconds|  Bytes|            Title|ArtistName|Playlist|           MediaType|InvoiceDate|\n",
            "+---------+--------+-------+------------+---------+-----+-------+----------+---------+--------------------+-----------+------------+--------------+-----------------+-----+---------+--------+-----------------+--------+------------+-------+-----------------+----------+--------+--------------------+-----------+\n",
            "|   Leonie|  Köhler|   null|           5|Stuttgart| null|Germany|     70174|        1|Theodor-Heuss-Str...|  Stuttgart|        null|       Germany|            70174| 1.98|     0.99|       1|Balls to the Wall|    null|      342562|5510424|Balls to the Wall|    Accept|   Music|Protected AAC aud...| 2009-01-01|\n",
            "+---------+--------+-------+------------+---------+-----+-------+----------+---------+--------------------+-----------+------------+--------------+-----------------+-----+---------+--------+-----------------+--------+------------+-------+-----------------+----------+--------+--------------------+-----------+\n",
            "only showing top 1 row\n",
            "\n"
          ]
        }
      ]
    },
    {
      "cell_type": "code",
      "source": [
        "customerBehaviorAll.filter((col('year') == 2009) & (col('month') == 1)).show(1, truncate=False)"
      ],
      "metadata": {
        "id": "ZDlgyeMvPygX",
        "colab": {
          "base_uri": "https://localhost:8080/"
        },
        "outputId": "2a658dbf-609f-49ce-fb37-0e44d9b212b0"
      },
      "execution_count": 40,
      "outputs": [
        {
          "output_type": "stream",
          "name": "stdout",
          "text": [
            "+---------+--------+-------+------------+---------+-----+-------+----------+---------+-----------------------+-----------+------------+--------------+-----------------+-----+---------+--------+-----------------+--------+------------+-------+-----------------+----------+--------+------------------------+----+-----+---+-----------+\n",
            "|FirstName|LastName|Company|SupportRepId|City     |State|Country|PostalCode|InvoiceId|BillingAddress         |BillingCity|BillingState|BillingCountry|BillingPostalCode|Total|UnitPrice|Quantity|Name             |Composer|Milliseconds|Bytes  |Title            |ArtistName|Playlist|MediaType               |year|month|day|InvoiceDate|\n",
            "+---------+--------+-------+------------+---------+-----+-------+----------+---------+-----------------------+-----------+------------+--------------+-----------------+-----+---------+--------+-----------------+--------+------------+-------+-----------------+----------+--------+------------------------+----+-----+---+-----------+\n",
            "|Leonie   |Köhler  |null   |5           |Stuttgart|null |Germany|70174     |1        |Theodor-Heuss-Straße 34|Stuttgart  |null        |Germany       |70174            |1.98 |0.99     |1       |Balls to the Wall|null    |342562      |5510424|Balls to the Wall|Accept    |Music   |Protected AAC audio file|2009|1    |1  |2009-01-01 |\n",
            "+---------+--------+-------+------------+---------+-----+-------+----------+---------+-----------------------+-----------+------------+--------------+-----------------+-----+---------+--------+-----------------+--------+------------+-------+-----------------+----------+--------+------------------------+----+-----+---+-----------+\n",
            "only showing top 1 row\n",
            "\n"
          ]
        }
      ]
    },
    {
      "cell_type": "code",
      "source": [
        "customerBehaviorAll.filter((col('year') == 2009) & (col('month') == 1)).count()"
      ],
      "metadata": {
        "colab": {
          "base_uri": "https://localhost:8080/"
        },
        "id": "paHXey9CyheE",
        "outputId": "d607f6e6-639e-48a0-c202-8a66fd6807ee"
      },
      "execution_count": 41,
      "outputs": [
        {
          "output_type": "execute_result",
          "data": {
            "text/plain": [
              "92"
            ]
          },
          "metadata": {},
          "execution_count": 41
        }
      ]
    },
    {
      "cell_type": "code",
      "source": [
        "customerBehaviorAll.filter((col('year') == 2010) & (col('month') == 1)).count()"
      ],
      "metadata": {
        "colab": {
          "base_uri": "https://localhost:8080/"
        },
        "id": "VnZ5ogNcGUu6",
        "outputId": "1e7683cc-0e56-49dc-c96b-5b89a8b4df81"
      },
      "execution_count": 42,
      "outputs": [
        {
          "output_type": "execute_result",
          "data": {
            "text/plain": [
              "94"
            ]
          },
          "metadata": {},
          "execution_count": 42
        }
      ]
    },
    {
      "cell_type": "code",
      "source": [
        "customerBehaviorAll.filter((col('year') == 2009))\\\n",
        ".groupBy(col('month'))\\\n",
        ".count()\\\n",
        ".orderBy(col('month'))\\\n",
        ".show()"
      ],
      "metadata": {
        "colab": {
          "base_uri": "https://localhost:8080/"
        },
        "id": "9GRN-fQoMesV",
        "outputId": "37ed1d24-84f7-43fd-901c-09b0e9c40b70"
      },
      "execution_count": 43,
      "outputs": [
        {
          "output_type": "stream",
          "name": "stdout",
          "text": [
            "+-----+-----+\n",
            "|month|count|\n",
            "+-----+-----+\n",
            "|    1|   92|\n",
            "|    2|   94|\n",
            "|    3|   92|\n",
            "|    4|   95|\n",
            "|    5|   99|\n",
            "|    6|   98|\n",
            "|    7|  100|\n",
            "|    8|   86|\n",
            "|    9|   93|\n",
            "|   10|   91|\n",
            "|   11|   94|\n",
            "|   12|   91|\n",
            "+-----+-----+\n",
            "\n"
          ]
        }
      ]
    },
    {
      "cell_type": "code",
      "source": [
        "customerBehaviorAll.filter((col('year') == 2010))\\\n",
        ".groupBy(col('month'))\\\n",
        ".count()\\\n",
        ".orderBy(col('month'))\\\n",
        ".show()"
      ],
      "metadata": {
        "colab": {
          "base_uri": "https://localhost:8080/"
        },
        "id": "snLq18Y8GZjJ",
        "outputId": "3bbe5ba9-6288-44e3-99bd-2ccfc57d1aae"
      },
      "execution_count": 44,
      "outputs": [
        {
          "output_type": "stream",
          "name": "stdout",
          "text": [
            "+-----+-----+\n",
            "|month|count|\n",
            "+-----+-----+\n",
            "|    1|   94|\n",
            "|    2|   91|\n",
            "|    3|   96|\n",
            "|    4|  116|\n",
            "|    5|   97|\n",
            "|    6|   99|\n",
            "|    7|   86|\n",
            "|    8|  100|\n",
            "|    9|   90|\n",
            "|   10|   94|\n",
            "|   11|   83|\n",
            "|   12|   93|\n",
            "+-----+-----+\n",
            "\n"
          ]
        }
      ]
    },
    {
      "cell_type": "code",
      "source": [
        "customerBehaviorAll.filter((col('year') == 2011))\\\n",
        ".groupBy(col('Country'), col('month'))\\\n",
        ".count()\\\n",
        ".orderBy(col('month'))\\\n",
        ".show()"
      ],
      "metadata": {
        "colab": {
          "base_uri": "https://localhost:8080/"
        },
        "id": "ivagXE-dGjYm",
        "outputId": "deed6bf4-ed4f-4db6-e8a5-cae636b35896"
      },
      "execution_count": 46,
      "outputs": [
        {
          "output_type": "stream",
          "name": "stdout",
          "text": [
            "+--------------+-----+-----+\n",
            "|       Country|month|count|\n",
            "+--------------+-----+-----+\n",
            "|         Spain|    1|   32|\n",
            "|           USA|    1|    8|\n",
            "|      Portugal|    1|   12|\n",
            "|        France|    1|   25|\n",
            "|        Canada|    1|   12|\n",
            "|Czech Republic|    2|    8|\n",
            "|        Canada|    2|   50|\n",
            "|           USA|    2|   21|\n",
            "|        Brazil|    2|   12|\n",
            "|       Belgium|    2|    6|\n",
            "|United Kingdom|    3|   16|\n",
            "|       Ireland|    3|    4|\n",
            "|       Belgium|    3|   35|\n",
            "|         India|    3|   22|\n",
            "|       Finland|    3|    4|\n",
            "|   Netherlands|    3|    8|\n",
            "|        France|    3|    2|\n",
            "|           USA|    4|   20|\n",
            "|       Ireland|    4|   32|\n",
            "|       Germany|    4|   21|\n",
            "+--------------+-----+-----+\n",
            "only showing top 20 rows\n",
            "\n"
          ]
        }
      ]
    },
    {
      "cell_type": "code",
      "source": [
        ""
      ],
      "metadata": {
        "id": "5_i4qOQ9Ml8L"
      },
      "execution_count": 45,
      "outputs": []
    }
  ],
  "metadata": {
    "colab": {
      "collapsed_sections": [],
      "name": "Spark_05.ipynb",
      "provenance": [],
      "authorship_tag": "ABX9TyN9/msadP9spR4trfkL2zAb",
      "include_colab_link": true
    },
    "kernelspec": {
      "display_name": "Python 3",
      "name": "python3"
    },
    "language_info": {
      "name": "python"
    }
  },
  "nbformat": 4,
  "nbformat_minor": 0
}