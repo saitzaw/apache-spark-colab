{
  "nbformat": 4,
  "nbformat_minor": 0,
  "metadata": {
    "colab": {
      "name": "Spark_05.ipynb",
      "provenance": [],
      "collapsed_sections": [],
      "authorship_tag": "ABX9TyOh7Cz/VPvz23LHK84fO84W"
    },
    "kernelspec": {
      "name": "python3",
      "display_name": "Python 3"
    },
    "language_info": {
      "name": "python"
    }
  },
  "cells": [
    {
      "cell_type": "markdown",
      "source": [
        "### SQL query with Spark"
      ],
      "metadata": {
        "id": "QnXyBJ9DopSP"
      }
    },
    {
      "cell_type": "code",
      "source": [
        "!pip install -q findspark\n",
        "!pip install -q pyspark"
      ],
      "metadata": {
        "colab": {
          "base_uri": "https://localhost:8080/"
        },
        "id": "nhCezRIBcUTu",
        "outputId": "d466bfde-8ce5-497f-c8b6-7b163ef5a4da"
      },
      "execution_count": 1,
      "outputs": [
        {
          "output_type": "stream",
          "name": "stdout",
          "text": [
            "\u001b[K     |████████████████████████████████| 281.4 MB 33 kB/s \n",
            "\u001b[K     |████████████████████████████████| 198 kB 52.8 MB/s \n",
            "\u001b[?25h  Building wheel for pyspark (setup.py) ... \u001b[?25l\u001b[?25hdone\n"
          ]
        }
      ]
    },
    {
      "cell_type": "code",
      "execution_count": 2,
      "metadata": {
        "id": "CJUVrSk74hAp"
      },
      "outputs": [],
      "source": [
        "import os\n",
        "import sqlite3\n",
        "import findspark\n",
        "from pyspark.sql.functions import lit\n",
        "from pyspark.sql.functions import col\n",
        "from pyspark.sql.functions import date_format\n",
        "from pyspark.sql.functions import to_date\n",
        "from pyspark.sql.types import IntegerType\n",
        "from pyspark.sql.types import StringType\n",
        "from pyspark.sql.types import StructType\n",
        "from pyspark.sql.types import StructField\n",
        "from pyspark.sql.types import DoubleType\n",
        "from pyspark.sql.types import LongType\n",
        "from pyspark.sql import SparkSession\n"
      ]
    },
    {
      "cell_type": "code",
      "source": [
        "findspark.init()\n",
        "spark = SparkSession.builder\\\n",
        "                    .master(\"local\")\\\n",
        "                    .appName(\"colab\")\\\n",
        "                    .config(\"spark.ui.port\", \"4050\")\\\n",
        "                    .getOrCreate()\n",
        "spark.conf.set(\"spark.sql.repl.eagerEval.enabled\", True)"
      ],
      "metadata": {
        "id": "hPM_qsGbcMGm"
      },
      "execution_count": 3,
      "outputs": []
    },
    {
      "cell_type": "code",
      "source": [
        "from google.colab import drive\n",
        "drive.mount('/content/gdrive')"
      ],
      "metadata": {
        "id": "Pc-4uOUgcoPW",
        "colab": {
          "base_uri": "https://localhost:8080/"
        },
        "outputId": "9f1d8978-dc95-4980-88f3-5edcbff21a5d"
      },
      "execution_count": 4,
      "outputs": [
        {
          "output_type": "stream",
          "name": "stdout",
          "text": [
            "Mounted at /content/gdrive\n"
          ]
        }
      ]
    },
    {
      "cell_type": "code",
      "source": [
        "conn = sqlite3.connect('/content/gdrive/MyDrive/ColabDataset/chinook.db')"
      ],
      "metadata": {
        "id": "1EzJo06keXS8"
      },
      "execution_count": 5,
      "outputs": []
    },
    {
      "cell_type": "code",
      "source": [
        "conn"
      ],
      "metadata": {
        "id": "t5tk2a2EioUg",
        "colab": {
          "base_uri": "https://localhost:8080/"
        },
        "outputId": "1ed839b9-a9ce-431e-e1ac-db255c28f14d"
      },
      "execution_count": 6,
      "outputs": [
        {
          "output_type": "execute_result",
          "data": {
            "text/plain": [
              "<sqlite3.Connection at 0x7ff6dfb23030>"
            ]
          },
          "metadata": {},
          "execution_count": 6
        }
      ]
    },
    {
      "cell_type": "code",
      "source": [
        "def select_all_tasks(conn, query):\n",
        "    \"\"\"\n",
        "    Query all rows in the tasks table\n",
        "    :param conn: the Connection object\n",
        "    :return:\n",
        "    \"\"\"\n",
        "    cur = conn.cursor()\n",
        "    cur.execute(query)\n",
        "\n",
        "    rows = cur.fetchall()\n",
        "    return rows"
      ],
      "metadata": {
        "id": "c2dY9vovixUA"
      },
      "execution_count": 7,
      "outputs": []
    },
    {
      "cell_type": "code",
      "source": [
        "for column in [column for column in invoiceDf.columns\n",
        "               if column not in artistDf.columns]:\n",
        "    artistDf = artistDf.withColumn(column, lit(None))"
      ],
      "metadata": {
        "id": "iIorqE21cAEl"
      },
      "execution_count": 29,
      "outputs": []
    },
    {
      "cell_type": "code",
      "source": [
        "for column in [column for column in artistDf.columns\n",
        "               if column not in invoiceDf.columns]:\n",
        "    invoiceDf = invoiceDf.withColumn(column, lit(None))"
      ],
      "metadata": {
        "id": "-C6njQDNedB9"
      },
      "execution_count": 33,
      "outputs": []
    },
    {
      "cell_type": "code",
      "source": [
        "query = \"SELECT c.FirstName,\\\n",
        "                          c.LastName,\\\n",
        "                          c.Company,\\\n",
        "                          c.SupportRepId,\\\n",
        "                          c.City,\\\n",
        "                          c.state,\\\n",
        "                          c.Country,\\\n",
        "                          c.PostalCode,\\\n",
        "                          i.InvoiceId,\\\n",
        "                          i.InvoiceDate,\\\n",
        "                          i.BillingAddress,\\\n",
        "                          i.BillingCity,\\\n",
        "                          i.BillingState,\\\n",
        "                          i.BillingCountry,\\\n",
        "                          i.BillingPostalCode,\\\n",
        "                          i.Total,\\\n",
        "                          t.UnitPrice,\\\n",
        "                          t.Quantity,\\\n",
        "                          r.Name,\\\n",
        "                          r.Composer,\\\n",
        "                          r.Milliseconds,\\\n",
        "                          r.Bytes,\\\n",
        "                          a.Title,\\\n",
        "                          s.Name AS ArtistName,\\\n",
        "                          p.Name AS Playlist,\\\n",
        "                          m.Name AS MediaType\\\n",
        "                  FROM customers AS c\\\n",
        "                  LEFT JOIN invoices AS i ON c.CustomerId==i.CustomerId\\\n",
        "                  LEFT JOIN invoice_items AS t ON i.InvoiceId==t.InvoiceId \\\n",
        "                  LEFT JOIN tracks AS r ON t.TrackId==r.TrackId \\\n",
        "                  LEFT JOIN albums AS a ON a.AlbumId==r.AlbumId \\\n",
        "                  LEFT JOIN artists AS s ON a.ArtistId==s.ArtistId \\\n",
        "                  LEFT JOIN genres AS g ON g.GenreId==r.GenreId \\\n",
        "                  LEFT JOIN playlist_track AS k ON k.TrackId==r.TrackId \\\n",
        "                  LEFT JOIN playlists AS p ON p.PlaylistId==k.PlaylistId \\\n",
        "                  LEFT JOIN media_types AS m ON m.MediaTypeId==r.MediaTypeId \\\n",
        "                  ORDER BY i.InvoiceId ASC ;\""
      ],
      "metadata": {
        "id": "jrUsAw_nnflE"
      },
      "execution_count": 76,
      "outputs": []
    },
    {
      "cell_type": "code",
      "source": [
        "cols_name = [\n",
        "              ('FirstName', StringType()),\n",
        "              ('LastName', StringType()),\n",
        "              ('Company', StringType()),\n",
        "              ('SupportRepId', IntegerType()),\n",
        "              ('City', StringType()),\n",
        "              ('State', StringType()),\n",
        "              ('Country', StringType()),\n",
        "              ('PostalCode', StringType()),\n",
        "              ('InvoiceId', IntegerType()),\n",
        "              ('InvoiceDate', StringType()),\n",
        "              ('BillingAddress', StringType()),\n",
        "              ('BillingCity', StringType()),\n",
        "              ('BillingState', StringType()),\n",
        "              ('BillingCountry', StringType()),\n",
        "              ('BillingPostalCode', StringType()),\n",
        "              ('Total', DoubleType()),\n",
        "              ('UnitPrice', DoubleType()),\n",
        "              ('Quantity', IntegerType()),\n",
        "              ('Name', StringType()),\n",
        "              ('Composer', StringType()),\n",
        "              ('Milliseconds', LongType()),\n",
        "              ('Bytes', LongType()),\n",
        "              ('Title', StringType()),\n",
        "              ('ArtistName', StringType()),\n",
        "              ('Playlist', StringType()),\n",
        "              ('MediaType', StringType()),\n",
        "              ]"
      ],
      "metadata": {
        "id": "F1YlkSd2Ctrc"
      },
      "execution_count": 77,
      "outputs": []
    },
    {
      "cell_type": "code",
      "source": [
        "schema = StructType(\n",
        "    [\n",
        "     StructField(\n",
        "        x[0], x[1], True\n",
        "      )\n",
        "     for x in cols_name\n",
        "    ]\n",
        ")"
      ],
      "metadata": {
        "id": "lk1QF1PlFmA1"
      },
      "execution_count": 78,
      "outputs": []
    },
    {
      "cell_type": "code",
      "source": [
        "customerBehavior = select_all_tasks(conn, query)"
      ],
      "metadata": {
        "id": "YbPRLDeZFgRv"
      },
      "execution_count": 79,
      "outputs": []
    },
    {
      "cell_type": "code",
      "source": [
        "customerBehaviorDf = spark.createDataFrame(customerBehavior, schema)"
      ],
      "metadata": {
        "id": "73-T2xUFFbJl"
      },
      "execution_count": 80,
      "outputs": []
    },
    {
      "cell_type": "code",
      "source": [
        "customerBehaviorDf.show(1, truncate=False, vertical=True)"
      ],
      "metadata": {
        "colab": {
          "base_uri": "https://localhost:8080/"
        },
        "id": "8I6fw0mSGIau",
        "outputId": "c57cfb6f-170c-476f-9035-39ef1e9ad5aa"
      },
      "execution_count": 81,
      "outputs": [
        {
          "output_type": "stream",
          "name": "stdout",
          "text": [
            "-RECORD 0-------------------------------------\n",
            " FirstName         | Leonie                   \n",
            " LastName          | Köhler                   \n",
            " Company           | null                     \n",
            " SupportRepId      | 5                        \n",
            " City              | Stuttgart                \n",
            " State             | null                     \n",
            " Country           | Germany                  \n",
            " PostalCode        | 70174                    \n",
            " InvoiceId         | 1                        \n",
            " InvoiceDate       | 2009-01-01 00:00:00      \n",
            " BillingAddress    | Theodor-Heuss-Straße 34  \n",
            " BillingCity       | Stuttgart                \n",
            " BillingState      | null                     \n",
            " BillingCountry    | Germany                  \n",
            " BillingPostalCode | 70174                    \n",
            " Total             | 1.98                     \n",
            " UnitPrice         | 0.99                     \n",
            " Quantity          | 1                        \n",
            " Name              | Balls to the Wall        \n",
            " Composer          | null                     \n",
            " Milliseconds      | 342562                   \n",
            " Bytes             | 5510424                  \n",
            " Title             | Balls to the Wall        \n",
            " ArtistName        | Accept                   \n",
            " Playlist          | Music                    \n",
            " MediaType         | Protected AAC audio file \n",
            "only showing top 1 row\n",
            "\n"
          ]
        }
      ]
    },
    {
      "cell_type": "code",
      "source": [
        "customerBehaviorDf.filter(\"Composer IS NOT NULL\").show()"
      ],
      "metadata": {
        "colab": {
          "base_uri": "https://localhost:8080/"
        },
        "id": "S7g2qRMBJx4E",
        "outputId": "30cedfdc-b2b6-467a-98ef-8f6deaa9aa3a"
      },
      "execution_count": 84,
      "outputs": [
        {
          "output_type": "stream",
          "name": "stdout",
          "text": [
            "+---------+--------+-------+------------+---------+-----+-------+----------+---------+-------------------+--------------------+-----------+------------+--------------+-----------------+-----+---------+--------+--------------------+--------------------+------------+--------+--------------------+----------+-------------------+--------------------+\n",
            "|FirstName|LastName|Company|SupportRepId|     City|State|Country|PostalCode|InvoiceId|        InvoiceDate|      BillingAddress|BillingCity|BillingState|BillingCountry|BillingPostalCode|Total|UnitPrice|Quantity|                Name|            Composer|Milliseconds|   Bytes|               Title|ArtistName|           Playlist|           MediaType|\n",
            "+---------+--------+-------+------------+---------+-----+-------+----------+---------+-------------------+--------------------+-----------+------------+--------------+-----------------+-----+---------+--------+--------------------+--------------------+------------+--------+--------------------+----------+-------------------+--------------------+\n",
            "|   Leonie|  Köhler|   null|           5|Stuttgart| null|Germany|     70174|        1|2009-01-01 00:00:00|Theodor-Heuss-Str...|  Stuttgart|        null|       Germany|            70174| 1.98|     0.99|       1|   Restless and Wild|F. Baltes, R.A. S...|      252051| 4331779|   Restless and Wild|    Accept|              Music|Protected AAC aud...|\n",
            "|   Leonie|  Köhler|   null|           5|Stuttgart| null|Germany|     70174|        1|2009-01-01 00:00:00|Theodor-Heuss-Str...|  Stuttgart|        null|       Germany|            70174| 1.98|     0.99|       1|   Restless and Wild|F. Baltes, R.A. S...|      252051| 4331779|   Restless and Wild|    Accept|         90’s Music|Protected AAC aud...|\n",
            "|   Leonie|  Köhler|   null|           5|Stuttgart| null|Germany|     70174|        1|2009-01-01 00:00:00|Theodor-Heuss-Str...|  Stuttgart|        null|       Germany|            70174| 1.98|     0.99|       1|   Restless and Wild|F. Baltes, R.A. S...|      252051| 4331779|   Restless and Wild|    Accept|              Music|Protected AAC aud...|\n",
            "|   Leonie|  Köhler|   null|           5|Stuttgart| null|Germany|     70174|        1|2009-01-01 00:00:00|Theodor-Heuss-Str...|  Stuttgart|        null|       Germany|            70174| 1.98|     0.99|       1|   Restless and Wild|F. Baltes, R.A. S...|      252051| 4331779|   Restless and Wild|    Accept|Heavy Metal Classic|Protected AAC aud...|\n",
            "|    Bjørn|  Hansen|   null|           4|     Oslo| null| Norway|      0171|        2|2009-01-02 00:00:00|    Ullevålsveien 14|       Oslo|        null|        Norway|             0171| 3.96|     0.99|       1|Put The Finger On...|Angus Young, Malc...|      205662| 6713451|For Those About T...|     AC/DC|              Music|     MPEG audio file|\n",
            "|    Bjørn|  Hansen|   null|           4|     Oslo| null| Norway|      0171|        2|2009-01-02 00:00:00|    Ullevålsveien 14|       Oslo|        null|        Norway|             0171| 3.96|     0.99|       1|Put The Finger On...|Angus Young, Malc...|      205662| 6713451|For Those About T...|     AC/DC|              Music|     MPEG audio file|\n",
            "|    Bjørn|  Hansen|   null|           4|     Oslo| null| Norway|      0171|        2|2009-01-02 00:00:00|    Ullevålsveien 14|       Oslo|        null|        Norway|             0171| 3.96|     0.99|       1|    Inject The Venom|Angus Young, Malc...|      210834| 6852860|For Those About T...|     AC/DC|              Music|     MPEG audio file|\n",
            "|    Bjørn|  Hansen|   null|           4|     Oslo| null| Norway|      0171|        2|2009-01-02 00:00:00|    Ullevålsveien 14|       Oslo|        null|        Norway|             0171| 3.96|     0.99|       1|    Inject The Venom|Angus Young, Malc...|      210834| 6852860|For Those About T...|     AC/DC|              Music|     MPEG audio file|\n",
            "|    Bjørn|  Hansen|   null|           4|     Oslo| null| Norway|      0171|        2|2009-01-02 00:00:00|    Ullevålsveien 14|       Oslo|        null|        Norway|             0171| 3.96|     0.99|       1|          Evil Walks|Angus Young, Malc...|      263497| 8611245|For Those About T...|     AC/DC|              Music|     MPEG audio file|\n",
            "|    Bjørn|  Hansen|   null|           4|     Oslo| null| Norway|      0171|        2|2009-01-02 00:00:00|    Ullevålsveien 14|       Oslo|        null|        Norway|             0171| 3.96|     0.99|       1|          Evil Walks|Angus Young, Malc...|      263497| 8611245|For Those About T...|     AC/DC|              Music|     MPEG audio file|\n",
            "|    Bjørn|  Hansen|   null|           4|     Oslo| null| Norway|      0171|        2|2009-01-02 00:00:00|    Ullevålsveien 14|       Oslo|        null|        Norway|             0171| 3.96|     0.99|       1|  Breaking The Rules|Angus Young, Malc...|      263288| 8596840|For Those About T...|     AC/DC|              Music|     MPEG audio file|\n",
            "|    Bjørn|  Hansen|   null|           4|     Oslo| null| Norway|      0171|        2|2009-01-02 00:00:00|    Ullevålsveien 14|       Oslo|        null|        Norway|             0171| 3.96|     0.99|       1|  Breaking The Rules|Angus Young, Malc...|      263288| 8596840|For Those About T...|     AC/DC|              Music|     MPEG audio file|\n",
            "|     Daan| Peeters|   null|           4| Brussels| null|Belgium|      1000|        3|2009-01-03 00:00:00|     Grétrystraat 63|   Brussels|        null|       Belgium|             1000| 5.94|     0.99|       1|         Dog Eat Dog|               AC/DC|      215196| 7032162|   Let There Be Rock|     AC/DC|              Music|     MPEG audio file|\n",
            "|     Daan| Peeters|   null|           4| Brussels| null|Belgium|      1000|        3|2009-01-03 00:00:00|     Grétrystraat 63|   Brussels|        null|       Belgium|             1000| 5.94|     0.99|       1|         Dog Eat Dog|               AC/DC|      215196| 7032162|   Let There Be Rock|     AC/DC|              Music|     MPEG audio file|\n",
            "|     Daan| Peeters|   null|           4| Brussels| null|Belgium|      1000|        3|2009-01-03 00:00:00|     Grétrystraat 63|   Brussels|        null|       Belgium|             1000| 5.94|     0.99|       1|            Overdose|               AC/DC|      369319|12066294|   Let There Be Rock|     AC/DC|              Music|     MPEG audio file|\n",
            "|     Daan| Peeters|   null|           4| Brussels| null|Belgium|      1000|        3|2009-01-03 00:00:00|     Grétrystraat 63|   Brussels|        null|       Belgium|             1000| 5.94|     0.99|       1|            Overdose|               AC/DC|      369319|12066294|   Let There Be Rock|     AC/DC|              Music|     MPEG audio file|\n",
            "|     Daan| Peeters|   null|           4| Brussels| null|Belgium|      1000|        3|2009-01-03 00:00:00|     Grétrystraat 63|   Brussels|        null|       Belgium|             1000| 5.94|     0.99|       1| Love In An Elevator|Steven Tyler, Joe...|      321828|10552051|            Big Ones| Aerosmith|              Music|     MPEG audio file|\n",
            "|     Daan| Peeters|   null|           4| Brussels| null|Belgium|      1000|        3|2009-01-03 00:00:00|     Grétrystraat 63|   Brussels|        null|       Belgium|             1000| 5.94|     0.99|       1| Love In An Elevator|Steven Tyler, Joe...|      321828|10552051|            Big Ones| Aerosmith|         90’s Music|     MPEG audio file|\n",
            "|     Daan| Peeters|   null|           4| Brussels| null|Belgium|      1000|        3|2009-01-03 00:00:00|     Grétrystraat 63|   Brussels|        null|       Belgium|             1000| 5.94|     0.99|       1| Love In An Elevator|Steven Tyler, Joe...|      321828|10552051|            Big Ones| Aerosmith|              Music|     MPEG audio file|\n",
            "|     Daan| Peeters|   null|           4| Brussels| null|Belgium|      1000|        3|2009-01-03 00:00:00|     Grétrystraat 63|   Brussels|        null|       Belgium|             1000| 5.94|     0.99|       1|   Janie's Got A Gun|Steven Tyler, Tom...|      330736|10869391|            Big Ones| Aerosmith|              Music|     MPEG audio file|\n",
            "+---------+--------+-------+------------+---------+-----+-------+----------+---------+-------------------+--------------------+-----------+------------+--------------+-----------------+-----+---------+--------+--------------------+--------------------+------------+--------+--------------------+----------+-------------------+--------------------+\n",
            "only showing top 20 rows\n",
            "\n"
          ]
        }
      ]
    },
    {
      "cell_type": "code",
      "source": [
        "customerBehaviorDf.count()"
      ],
      "metadata": {
        "colab": {
          "base_uri": "https://localhost:8080/"
        },
        "id": "6dezWK3JLgSF",
        "outputId": "8f4677a2-0ea6-4c61-cd01-f51be510b0b8"
      },
      "execution_count": 85,
      "outputs": [
        {
          "output_type": "execute_result",
          "data": {
            "text/plain": [
              "5572"
            ]
          },
          "metadata": {},
          "execution_count": 85
        }
      ]
    },
    {
      "cell_type": "code",
      "source": [
        ""
      ],
      "metadata": {
        "id": "KalxiFSTSffU"
      },
      "execution_count": null,
      "outputs": []
    }
  ]
}