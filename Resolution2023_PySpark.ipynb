{
  "nbformat": 4,
  "nbformat_minor": 0,
  "metadata": {
    "colab": {
      "provenance": [],
      "authorship_tag": "ABX9TyMDzhUe3kmwwJSxAYub1UzE",
      "include_colab_link": true
    },
    "kernelspec": {
      "name": "python3",
      "display_name": "Python 3"
    },
    "language_info": {
      "name": "python"
    }
  },
  "cells": [
    {
      "cell_type": "markdown",
      "metadata": {
        "id": "view-in-github",
        "colab_type": "text"
      },
      "source": [
        "<a href=\"https://colab.research.google.com/github/saitzaw/apache-spark-colab/blob/main/Resolution2023_PySpark.ipynb\" target=\"_parent\"><img src=\"https://colab.research.google.com/assets/colab-badge.svg\" alt=\"Open In Colab\"/></a>"
      ]
    },
    {
      "cell_type": "markdown",
      "source": [
        "# Install PySpark in Colab\n"
      ],
      "metadata": {
        "id": "j66Bq6BH-I1s"
      }
    },
    {
      "cell_type": "code",
      "execution_count": 5,
      "metadata": {
        "id": "IZcKG9539wMo"
      },
      "outputs": [],
      "source": [
        "!pip install -q findspark\n",
        "!pip install -q pyspark"
      ]
    },
    {
      "cell_type": "code",
      "source": [
        "import os\n",
        "import sqlite3\n",
        "import findspark\n",
        "import matplotlib.pyplot as plt\n",
        "from pyspark.sql import SparkSession\n",
        "from pyspark.sql import Row\n",
        "from datetime import datetime, date\n",
        "from pyspark.sql.types import StructType,StructField,DateType, DoubleType\n",
        "from pyspark.sql.functions import date_format, to_date"
      ],
      "metadata": {
        "id": "aQRTcLVU-6ec"
      },
      "execution_count": 19,
      "outputs": []
    },
    {
      "cell_type": "code",
      "source": [
        "findspark.init()\n",
        "spark = SparkSession.builder\\\n",
        "                    .master(\"local\")\\\n",
        "                    .appName(\"Resolution2023\")\\\n",
        "                    .getOrCreate()\n",
        "spark.conf.set(\"spark.sql.repl.eagerEval.enabled\", True)"
      ],
      "metadata": {
        "id": "EJ9-kinN-Q-X"
      },
      "execution_count": 7,
      "outputs": []
    },
    {
      "cell_type": "markdown",
      "source": [
        "# Mount to Google Drive"
      ],
      "metadata": {
        "id": "2cGsweoIBG22"
      }
    },
    {
      "cell_type": "code",
      "source": [
        "from google.colab import drive\n",
        "drive.mount('/content/drive')"
      ],
      "metadata": {
        "colab": {
          "base_uri": "https://localhost:8080/"
        },
        "id": "ZHpbHwbQ_Jpk",
        "outputId": "d0d3f6ef-0152-4bbd-f72e-29066cf4e775"
      },
      "execution_count": 8,
      "outputs": [
        {
          "output_type": "stream",
          "name": "stdout",
          "text": [
            "Drive already mounted at /content/drive; to attempt to forcibly remount, call drive.mount(\"/content/drive\", force_remount=True).\n"
          ]
        }
      ]
    },
    {
      "cell_type": "code",
      "source": [
        "SampleData = '/content/drive/MyDrive/ColabDataset/MotorVehicleCollisionsCrashes.parquet'"
      ],
      "metadata": {
        "id": "MARiiTQ8DaTW"
      },
      "execution_count": 11,
      "outputs": []
    },
    {
      "cell_type": "code",
      "source": [
        "MVCCDF = spark.read.parquet(SampleData)"
      ],
      "metadata": {
        "id": "2P4Xv6hyBKYL"
      },
      "execution_count": 12,
      "outputs": []
    },
    {
      "cell_type": "code",
      "source": [
        "MVCCDF.show(1, truncate = True, vertical=True)"
      ],
      "metadata": {
        "colab": {
          "base_uri": "https://localhost:8080/"
        },
        "id": "TR39_6WCDyQ-",
        "outputId": "01d090c9-71fd-496e-ff0c-5f0734d6ecc4"
      },
      "execution_count": 13,
      "outputs": [
        {
          "output_type": "stream",
          "name": "stdout",
          "text": [
            "-RECORD 0---------------------------------------------\n",
            " CRASH_DATE                    | 04/14/2021           \n",
            " CRASH_TIME                    | 5:32                 \n",
            " BOROUGH                       | null                 \n",
            " ZIP_CODE                      | null                 \n",
            " LATITUDE                      | null                 \n",
            " LONGITUDE                     | null                 \n",
            " LOCATION                      | null                 \n",
            " ON_STREET_NAME                | BRONX WHITESTONE ... \n",
            " CROSS_STREET_NAME             | null                 \n",
            " OFF_STREET_NAME               | null                 \n",
            " NUMBER_OF_PERSONS_INJURED     | 0.0                  \n",
            " NUMBER_OF_PERSONS_KILLED      | 0.0                  \n",
            " NUMBER_OF_PEDESTRIANS_INJURED | 0                    \n",
            " NUMBER_OF_PEDESTRIANS_KILLED  | 0                    \n",
            " NUMBER_OF_CYCLIST_INJURED     | 0                    \n",
            " NUMBER_OF_CYCLIST_KILLED      | 0                    \n",
            " NUMBER_OF_MOTORIST_INJURED    | 0                    \n",
            " NUMBER_OF_MOTORIST_KILLED     | 0                    \n",
            " CONTRIBUTING_FACTOR_VEHICLE_1 | Following Too Clo... \n",
            " CONTRIBUTING_FACTOR_VEHICLE_2 | Unspecified          \n",
            " CONTRIBUTING_FACTOR_VEHICLE_3 | null                 \n",
            " CONTRIBUTING_FACTOR_VEHICLE_4 | null                 \n",
            " CONTRIBUTING_FACTOR_VEHICLE_5 | null                 \n",
            " COLLISION_ID                  | 4407480              \n",
            " VEHICLE_TYPE_CODE_1           | Sedan                \n",
            " VEHICLE_TYPE_CODE_2           | Sedan                \n",
            " VEHICLE_TYPE_CODE_3           | null                 \n",
            " VEHICLE_TYPE_CODE_4           | null                 \n",
            " VEHICLE_TYPE_CODE_5           | null                 \n",
            "only showing top 1 row\n",
            "\n"
          ]
        }
      ]
    },
    {
      "cell_type": "code",
      "source": [
        "MVCCDF.printSchema()"
      ],
      "metadata": {
        "colab": {
          "base_uri": "https://localhost:8080/"
        },
        "id": "IurqSGTeRndX",
        "outputId": "db887971-c68e-4769-f890-75696c932411"
      },
      "execution_count": 31,
      "outputs": [
        {
          "output_type": "stream",
          "name": "stdout",
          "text": [
            "root\n",
            " |-- CRASH_DATE: string (nullable = true)\n",
            " |-- CRASH_TIME: string (nullable = true)\n",
            " |-- BOROUGH: string (nullable = true)\n",
            " |-- ZIP_CODE: double (nullable = true)\n",
            " |-- LATITUDE: double (nullable = true)\n",
            " |-- LONGITUDE: double (nullable = true)\n",
            " |-- LOCATION: string (nullable = true)\n",
            " |-- ON_STREET_NAME: string (nullable = true)\n",
            " |-- CROSS_STREET_NAME: string (nullable = true)\n",
            " |-- OFF_STREET_NAME: string (nullable = true)\n",
            " |-- NUMBER_OF_PERSONS_INJURED: double (nullable = true)\n",
            " |-- NUMBER_OF_PERSONS_KILLED: double (nullable = true)\n",
            " |-- NUMBER_OF_PEDESTRIANS_INJURED: long (nullable = true)\n",
            " |-- NUMBER_OF_PEDESTRIANS_KILLED: long (nullable = true)\n",
            " |-- NUMBER_OF_CYCLIST_INJURED: long (nullable = true)\n",
            " |-- NUMBER_OF_CYCLIST_KILLED: long (nullable = true)\n",
            " |-- NUMBER_OF_MOTORIST_INJURED: long (nullable = true)\n",
            " |-- NUMBER_OF_MOTORIST_KILLED: long (nullable = true)\n",
            " |-- CONTRIBUTING_FACTOR_VEHICLE_1: string (nullable = true)\n",
            " |-- CONTRIBUTING_FACTOR_VEHICLE_2: string (nullable = true)\n",
            " |-- CONTRIBUTING_FACTOR_VEHICLE_3: string (nullable = true)\n",
            " |-- CONTRIBUTING_FACTOR_VEHICLE_4: string (nullable = true)\n",
            " |-- CONTRIBUTING_FACTOR_VEHICLE_5: string (nullable = true)\n",
            " |-- COLLISION_ID: long (nullable = true)\n",
            " |-- VEHICLE_TYPE_CODE_1: string (nullable = true)\n",
            " |-- VEHICLE_TYPE_CODE_2: string (nullable = true)\n",
            " |-- VEHICLE_TYPE_CODE_3: string (nullable = true)\n",
            " |-- VEHICLE_TYPE_CODE_4: string (nullable = true)\n",
            " |-- VEHICLE_TYPE_CODE_5: string (nullable = true)\n",
            "\n"
          ]
        }
      ]
    },
    {
      "cell_type": "markdown",
      "source": [
        "# Change Column name to inprove readability \n",
        "- pandas that is very easy, you use very simple way \n",
        "- df.rename({'old_col_name1': 'new_col_name2', 'old_col_name2':'new_col_name3'}, axis=1, inplace=True)\n",
        "- SDF.withColumnRenamed(\"old_col_name1\", \"new_col_name1\").withColumnRenamed(\"old_col_name2\", \"new_col_name2\").drop('columns')"
      ],
      "metadata": {
        "id": "aF38mp7KIk2k"
      }
    },
    {
      "cell_type": "code",
      "source": [
        "MVCCDfAnalysis = MVCCDF.withColumn(\n",
        "    \"CRASH_DATE\", date_format(to_date(\"CRASH_DATE\", \"MM/dd/yyyy\"), \"yyyy-MM-dd\"))\\\n",
        ".withColumnRenamed(\"CRASH_DATE\", \"crash_date\")\\\n",
        ".withColumnRenamed(\"CRASH_TIME\", \"crash_time\")\\\n",
        ".withColumnRenamed(\"BOROUGH\", \"borough\")\\\n",
        ".withColumnRenamed(\"ZIP_CODE\", \"zip\")\\\n",
        ".withColumnRenamed(\"LATITUDE\", \"lat\")\\\n",
        ".withColumnRenamed(\"LONGITUDE\", \"long\")\\\n",
        ".withColumnRenamed(\"LOCATION\", \"loca\")\\\n",
        ".withColumnRenamed(\"ON_STREET_NAME\", \"on_street_name\")\\\n",
        ".withColumnRenamed(\"NUMBER_OF_PERSONS_INJURED\", \"num_person_injured\")\\\n",
        ".withColumnRenamed(\"NUMBER_OF_PERSONS_KILLED\", \"num_person_killed\")\\\n",
        ".withColumnRenamed(\"NUMBER_OF_PEDESTRIANS_INJURED\", \"num_pedestrians_injured\")\\\n",
        ".withColumnRenamed(\"NUMBER_OF_CYCLIST_INJURED\", \"num_cyclist_injured\")\\\n",
        ".withColumnRenamed(\"NUMBER_OF_CYCLIST_KILLED\", \"num_cyclist_killed\")\\\n",
        ".withColumnRenamed(\"NUMBER_OF_MOTORIST_INJURED\", \"num_motorist_injured\")\\\n",
        ".withColumnRenamed(\"NUMBER_OF_MOTORIST_KILLED\", \"num_motorist_killed\")\\\n",
        ".withColumnRenamed(\"CONTRIBUTING_FACTOR_VEHICLE_1\", \"contributing_factor_venicle_1\")\\\n",
        ".withColumnRenamed(\"CONTRIBUTING_FACTOR_VEHICLE_2\", \"contributing_factor_venicle_2\")\\\n",
        ".withColumnRenamed(\"CONTRIBUTING_FACTOR_VEHICLE_3\", \"contributing_factor_venicle_3\")\\\n",
        ".withColumnRenamed(\"CONTRIBUTING_FACTOR_VEHICLE_4\", \"contributing_factor_venicle_4\")\\\n",
        ".withColumnRenamed(\"CONTRIBUTING_FACTOR_VEHICLE_5\", \"contributing_factor_venicle_5\")\\\n",
        ".withColumnRenamed(\"COLLISION_ID\", \"collision_id\")\\\n",
        ".withColumnRenamed(\"VEHICLE_TYPE_CODE_1\", \"venicle_type_code_1\")\\\n",
        ".withColumnRenamed(\"VEHICLE_TYPE_CODE_2\", \"venicle_type_code_2\")\\\n",
        ".withColumnRenamed(\"VEHICLE_TYPE_CODE_3\", \"venicle_type_code_3\")\\\n",
        ".withColumnRenamed(\"VEHICLE_TYPE_CODE_4\", \"venicle_type_code_4\")\\\n",
        ".withColumnRenamed(\"VEHICLE_TYPE_CODE_5\", \"venicle_type_code_5\")"
      ],
      "metadata": {
        "id": "qBKlktGxIBxM"
      },
      "execution_count": 29,
      "outputs": []
    },
    {
      "cell_type": "code",
      "source": [
        "MVCCDfAnalysis"
      ],
      "metadata": {
        "colab": {
          "base_uri": "https://localhost:8080/",
          "height": 900
        },
        "id": "86humX4yGPJU",
        "outputId": "6a340a5f-23e8-4bb3-e02a-8b744207d31c"
      },
      "execution_count": 30,
      "outputs": [
        {
          "output_type": "execute_result",
          "data": {
            "text/plain": [
              "+----------+----------+-------------+-------+---------+----------+--------------------+--------------------+-----------------+--------------------+------------------+-----------------+-----------------------+----------------------------+-------------------+------------------+--------------------+-------------------+-----------------------------+-----------------------------+-----------------------------+-----------------------------+-----------------------------+------------+--------------------+--------------------+--------------------+-------------------+-------------------+\n",
              "|crash_date|crash_time|      borough|    zip|      lat|      long|                loca|      on_street_name|CROSS_STREET_NAME|     OFF_STREET_NAME|num_person_injured|num_person_killed|num_pedestrians_injured|NUMBER_OF_PEDESTRIANS_KILLED|num_cyclist_injured|num_cyclist_killed|num_motorist_injured|num_motorist_killed|contributing_factor_venicle_1|contributing_factor_venicle_2|contributing_factor_venicle_3|contributing_factor_venicle_4|contributing_factor_venicle_5|collision_id| venicle_type_code_1| venicle_type_code_2| venicle_type_code_3|venicle_type_code_4|venicle_type_code_5|\n",
              "+----------+----------+-------------+-------+---------+----------+--------------------+--------------------+-----------------+--------------------+------------------+-----------------+-----------------------+----------------------------+-------------------+------------------+--------------------+-------------------+-----------------------------+-----------------------------+-----------------------------+-----------------------------+-----------------------------+------------+--------------------+--------------------+--------------------+-------------------+-------------------+\n",
              "|2021-04-14|      5:32|         null|   null|     null|      null|                null|BRONX WHITESTONE ...|             null|                null|               0.0|              0.0|                      0|                           0|                  0|                 0|                   0|                  0|         Following Too Clo...|                  Unspecified|                         null|                         null|                         null|     4407480|               Sedan|               Sedan|                null|               null|               null|\n",
              "|2021-04-13|     21:35|     BROOKLYN|11217.0| 40.68358| -73.97617|(40.68358, -73.97...|                null|             null|620       ATLANTI...|               1.0|              0.0|                      1|                           0|                  0|                 0|                   0|                  0|                  Unspecified|                         null|                         null|                         null|                         null|     4407147|               Sedan|                null|                null|               null|               null|\n",
              "|2021-04-15|     16:15|         null|   null|     null|      null|                null|HUTCHINSON RIVER ...|             null|                null|               0.0|              0.0|                      0|                           0|                  0|                 0|                   0|                  0|            Pavement Slippery|                         null|                         null|                         null|                         null|     4407665|Station Wagon/Spo...|                null|                null|               null|               null|\n",
              "|2021-04-13|     16:00|     BROOKLYN|11222.0|     null|      null|                null|   VANDERVORT AVENUE|   ANTHONY STREET|                null|               0.0|              0.0|                      0|                           0|                  0|                 0|                   0|                  0|         Following Too Clo...|                  Unspecified|                         null|                         null|                         null|     4407811|               Sedan|                null|                null|               null|               null|\n",
              "|2021-04-12|      8:25|         null|   null|      0.0|       0.0|          (0.0, 0.0)|EDSON AVENUE     ...|             null|                null|               0.0|              0.0|                      0|                           0|                  0|                 0|                   0|                  0|                  Unspecified|                  Unspecified|                         null|                         null|                         null|     4406885|Station Wagon/Spo...|               Sedan|                null|               null|               null|\n",
              "|2021-04-13|     17:11|         null|   null|     null|      null|                null|VERRAZANO BRIDGE ...|             null|                null|               0.0|              0.0|                      0|                           0|                  0|                 0|                   0|                  0|         Following Too Clo...|                  Unspecified|                         null|                         null|                         null|     4407883|               Sedan|           Box Truck|                null|               null|               null|\n",
              "|2021-04-13|     17:30|       QUEENS|11106.0|     null|      null|                null|               33 st|            31ave|                null|               0.0|              0.0|                      0|                           0|                  0|                 0|                   0|                  0|         Driver Inattentio...|                  Unspecified|                         null|                         null|                         null|     4408019|               Sedan|               Sedan|                null|               null|               null|\n",
              "|2021-04-16|     23:30|         null|   null|     null|      null|                null|       SHORE PARKWAY|             null|                null|               0.0|              0.0|                      0|                           0|                  0|                 0|                   0|                  0|                  Unspecified|                         null|                         null|                         null|                         null|     4408060|               Sedan|                null|                null|               null|               null|\n",
              "|2021-04-11|     17:00|         null|   null|     null|      null|                null|GOWANUS RAMP     ...|             null|                null|               1.0|              0.0|                      0|                           0|                  0|                 0|                   1|                  0|              Other Vehicular|              Other Vehicular|                         null|                         null|                         null|     4406314|               Sedan|               Sedan|                null|               null|               null|\n",
              "|2021-04-16|     21:15|         null|   null|     null|      null|                null|BRONX RIVER PARKW...|             null|                null|               0.0|              0.0|                      0|                           0|                  0|                 0|                   0|                  0|         Driver Inattentio...|                  Unspecified|                         null|                         null|                         null|     4408149|Station Wagon/Spo...|               Sedan|                null|               null|               null|\n",
              "|2021-04-11|     21:06|     BROOKLYN|11226.0|     null|      null|                null|BEVERLEY ROAD    ...|   EAST 21 STREET|                null|               1.0|              0.0|                      1|                           0|                  0|                 0|                   0|                  0|          Passing Too Closely|                         null|                         null|                         null|                         null|     4406488|                Taxi|                null|                null|               null|               null|\n",
              "|2021-04-15|     20:00|STATEN ISLAND|10304.0|     null|      null|                null|   GREENFIELD AVENUE|    OSGOOD AVENUE|                null|               0.0|              0.0|                      0|                           0|                  0|                 0|                   0|                  0|                  Unspecified|                         null|                         null|                         null|                         null|     4408310|               Sedan|                null|                null|               null|               null|\n",
              "|2021-04-10|     11:15|         null|   null|     null|      null|                null|BROOKLYN BRIDGE  ...|             null|                null|               0.0|              0.0|                      0|                           0|                  0|                 0|                   0|                  0|                  Unspecified|                  Unspecified|                         null|                         null|                         null|     4406097|Station Wagon/Spo...|Station Wagon/Spo...|                null|               null|               null|\n",
              "|2019-05-21|     22:50|     BROOKLYN|11201.0| 40.69754| -73.98312|(40.69754, -73.98...|         GOLD STREET|   CONCORD STREET|                null|               0.0|              0.0|                      0|                           0|                  0|                 0|                   0|                  0|         Passing or Lane U...|                  Unspecified|                         null|                         null|                         null|     4136992|                �MBU|                Taxi|                null|               null|               null|\n",
              "|2020-01-21|     15:49|         null|   null|     null|      null|                null|       BRUCKNER BLVD|  �ST 138 STREET|                null|               0.0|              0.0|                      0|                           0|                  0|                 0|                   0|                  0|         Driver Inattentio...|                  Unspecified|                         null|                         null|                         null|     4277087|               Sedan|Station Wagon/Spo...|                null|               null|               null|\n",
              "|2021-02-26|     14:50|        BRONX|10461.0|40.843464|   -73.836|(40.843464, -73.836)|                null|             null|2819      MIDDLET...|               0.0|              0.0|                      0|                           0|                  0|                 0|                   0|                  0|                  Unspecified|                  Unspecified|                         null|                         null|                         null|     4395664|Station Wagon/Spo...|                null|                null|               null|               null|\n",
              "|2021-03-09|     11:00|         null|   null|40.692547|-73.990974|(40.692547, -73.9...|        COURT STREET| JORALEMON STREET|                null|               1.0|              0.0|                      0|                           0|                  0|                 0|                   1|                  0|         Following Too Clo...|                  Unspecified|                         null|                         null|                         null|     4397513|       Pick-up Truck|               Sedan|                null|               null|               null|\n",
              "|2021-03-31|     22:20|     BROOKLYN|11234.0|40.626457|   -73.918|(40.626457, -73.918)|        RALPH AVENUE|         AVENUE K|                null|               1.0|              0.0|                      0|                           0|                  0|                 0|                   1|                  0|          Driver Inexperience|                  Unspecified|                         null|                         null|                         null|     4403773|               Sedan|               Sedan|                null|               null|               null|\n",
              "|2021-04-06|     22:58|STATEN ISLAND|10312.0|40.526894| -74.16728|(40.526894, -74.1...|      BARCLAY AVENUE|  HYLAN BOULEVARD|                null|               7.0|              0.0|                      0|                           0|                  0|                 0|                   7|                  0|         Failure to Yield ...|                 Unsafe Speed|                         null|                         null|                         null|     4405244|Station Wagon/Spo...|Station Wagon/Spo...|                null|               null|               null|\n",
              "|2021-04-09|     14:45|         null|   null|40.840775| -73.87246|(40.840775, -73.8...| BRONX RIVER PARKWAY|             null|                null|               1.0|              0.0|                      0|                           0|                  0|                 0|                   1|                  0|         Driver Inattentio...|                  Unspecified|                  Unspecified|                  Unspecified|                         null|     4405914|               Sedan|Station Wagon/Spo...|Station Wagon/Spo...|               null|               null|\n",
              "+----------+----------+-------------+-------+---------+----------+--------------------+--------------------+-----------------+--------------------+------------------+-----------------+-----------------------+----------------------------+-------------------+------------------+--------------------+-------------------+-----------------------------+-----------------------------+-----------------------------+-----------------------------+-----------------------------+------------+--------------------+--------------------+--------------------+-------------------+-------------------+\n",
              "only showing top 20 rows"
            ],
            "text/html": [
              "<table border='1'>\n",
              "<tr><th>crash_date</th><th>crash_time</th><th>borough</th><th>zip</th><th>lat</th><th>long</th><th>loca</th><th>on_street_name</th><th>CROSS_STREET_NAME</th><th>OFF_STREET_NAME</th><th>num_person_injured</th><th>num_person_killed</th><th>num_pedestrians_injured</th><th>NUMBER_OF_PEDESTRIANS_KILLED</th><th>num_cyclist_injured</th><th>num_cyclist_killed</th><th>num_motorist_injured</th><th>num_motorist_killed</th><th>contributing_factor_venicle_1</th><th>contributing_factor_venicle_2</th><th>contributing_factor_venicle_3</th><th>contributing_factor_venicle_4</th><th>contributing_factor_venicle_5</th><th>collision_id</th><th>venicle_type_code_1</th><th>venicle_type_code_2</th><th>venicle_type_code_3</th><th>venicle_type_code_4</th><th>venicle_type_code_5</th></tr>\n",
              "<tr><td>2021-04-14</td><td>5:32</td><td>null</td><td>null</td><td>null</td><td>null</td><td>null</td><td>BRONX WHITESTONE ...</td><td>null</td><td>null</td><td>0.0</td><td>0.0</td><td>0</td><td>0</td><td>0</td><td>0</td><td>0</td><td>0</td><td>Following Too Clo...</td><td>Unspecified</td><td>null</td><td>null</td><td>null</td><td>4407480</td><td>Sedan</td><td>Sedan</td><td>null</td><td>null</td><td>null</td></tr>\n",
              "<tr><td>2021-04-13</td><td>21:35</td><td>BROOKLYN</td><td>11217.0</td><td>40.68358</td><td>-73.97617</td><td>(40.68358, -73.97...</td><td>null</td><td>null</td><td>620       ATLANTI...</td><td>1.0</td><td>0.0</td><td>1</td><td>0</td><td>0</td><td>0</td><td>0</td><td>0</td><td>Unspecified</td><td>null</td><td>null</td><td>null</td><td>null</td><td>4407147</td><td>Sedan</td><td>null</td><td>null</td><td>null</td><td>null</td></tr>\n",
              "<tr><td>2021-04-15</td><td>16:15</td><td>null</td><td>null</td><td>null</td><td>null</td><td>null</td><td>HUTCHINSON RIVER ...</td><td>null</td><td>null</td><td>0.0</td><td>0.0</td><td>0</td><td>0</td><td>0</td><td>0</td><td>0</td><td>0</td><td>Pavement Slippery</td><td>null</td><td>null</td><td>null</td><td>null</td><td>4407665</td><td>Station Wagon/Spo...</td><td>null</td><td>null</td><td>null</td><td>null</td></tr>\n",
              "<tr><td>2021-04-13</td><td>16:00</td><td>BROOKLYN</td><td>11222.0</td><td>null</td><td>null</td><td>null</td><td>VANDERVORT AVENUE</td><td>ANTHONY STREET</td><td>null</td><td>0.0</td><td>0.0</td><td>0</td><td>0</td><td>0</td><td>0</td><td>0</td><td>0</td><td>Following Too Clo...</td><td>Unspecified</td><td>null</td><td>null</td><td>null</td><td>4407811</td><td>Sedan</td><td>null</td><td>null</td><td>null</td><td>null</td></tr>\n",
              "<tr><td>2021-04-12</td><td>8:25</td><td>null</td><td>null</td><td>0.0</td><td>0.0</td><td>(0.0, 0.0)</td><td>EDSON AVENUE     ...</td><td>null</td><td>null</td><td>0.0</td><td>0.0</td><td>0</td><td>0</td><td>0</td><td>0</td><td>0</td><td>0</td><td>Unspecified</td><td>Unspecified</td><td>null</td><td>null</td><td>null</td><td>4406885</td><td>Station Wagon/Spo...</td><td>Sedan</td><td>null</td><td>null</td><td>null</td></tr>\n",
              "<tr><td>2021-04-13</td><td>17:11</td><td>null</td><td>null</td><td>null</td><td>null</td><td>null</td><td>VERRAZANO BRIDGE ...</td><td>null</td><td>null</td><td>0.0</td><td>0.0</td><td>0</td><td>0</td><td>0</td><td>0</td><td>0</td><td>0</td><td>Following Too Clo...</td><td>Unspecified</td><td>null</td><td>null</td><td>null</td><td>4407883</td><td>Sedan</td><td>Box Truck</td><td>null</td><td>null</td><td>null</td></tr>\n",
              "<tr><td>2021-04-13</td><td>17:30</td><td>QUEENS</td><td>11106.0</td><td>null</td><td>null</td><td>null</td><td>33 st</td><td>31ave</td><td>null</td><td>0.0</td><td>0.0</td><td>0</td><td>0</td><td>0</td><td>0</td><td>0</td><td>0</td><td>Driver Inattentio...</td><td>Unspecified</td><td>null</td><td>null</td><td>null</td><td>4408019</td><td>Sedan</td><td>Sedan</td><td>null</td><td>null</td><td>null</td></tr>\n",
              "<tr><td>2021-04-16</td><td>23:30</td><td>null</td><td>null</td><td>null</td><td>null</td><td>null</td><td>SHORE PARKWAY</td><td>null</td><td>null</td><td>0.0</td><td>0.0</td><td>0</td><td>0</td><td>0</td><td>0</td><td>0</td><td>0</td><td>Unspecified</td><td>null</td><td>null</td><td>null</td><td>null</td><td>4408060</td><td>Sedan</td><td>null</td><td>null</td><td>null</td><td>null</td></tr>\n",
              "<tr><td>2021-04-11</td><td>17:00</td><td>null</td><td>null</td><td>null</td><td>null</td><td>null</td><td>GOWANUS RAMP     ...</td><td>null</td><td>null</td><td>1.0</td><td>0.0</td><td>0</td><td>0</td><td>0</td><td>0</td><td>1</td><td>0</td><td>Other Vehicular</td><td>Other Vehicular</td><td>null</td><td>null</td><td>null</td><td>4406314</td><td>Sedan</td><td>Sedan</td><td>null</td><td>null</td><td>null</td></tr>\n",
              "<tr><td>2021-04-16</td><td>21:15</td><td>null</td><td>null</td><td>null</td><td>null</td><td>null</td><td>BRONX RIVER PARKW...</td><td>null</td><td>null</td><td>0.0</td><td>0.0</td><td>0</td><td>0</td><td>0</td><td>0</td><td>0</td><td>0</td><td>Driver Inattentio...</td><td>Unspecified</td><td>null</td><td>null</td><td>null</td><td>4408149</td><td>Station Wagon/Spo...</td><td>Sedan</td><td>null</td><td>null</td><td>null</td></tr>\n",
              "<tr><td>2021-04-11</td><td>21:06</td><td>BROOKLYN</td><td>11226.0</td><td>null</td><td>null</td><td>null</td><td>BEVERLEY ROAD    ...</td><td>EAST 21 STREET</td><td>null</td><td>1.0</td><td>0.0</td><td>1</td><td>0</td><td>0</td><td>0</td><td>0</td><td>0</td><td>Passing Too Closely</td><td>null</td><td>null</td><td>null</td><td>null</td><td>4406488</td><td>Taxi</td><td>null</td><td>null</td><td>null</td><td>null</td></tr>\n",
              "<tr><td>2021-04-15</td><td>20:00</td><td>STATEN ISLAND</td><td>10304.0</td><td>null</td><td>null</td><td>null</td><td>GREENFIELD AVENUE</td><td>OSGOOD AVENUE</td><td>null</td><td>0.0</td><td>0.0</td><td>0</td><td>0</td><td>0</td><td>0</td><td>0</td><td>0</td><td>Unspecified</td><td>null</td><td>null</td><td>null</td><td>null</td><td>4408310</td><td>Sedan</td><td>null</td><td>null</td><td>null</td><td>null</td></tr>\n",
              "<tr><td>2021-04-10</td><td>11:15</td><td>null</td><td>null</td><td>null</td><td>null</td><td>null</td><td>BROOKLYN BRIDGE  ...</td><td>null</td><td>null</td><td>0.0</td><td>0.0</td><td>0</td><td>0</td><td>0</td><td>0</td><td>0</td><td>0</td><td>Unspecified</td><td>Unspecified</td><td>null</td><td>null</td><td>null</td><td>4406097</td><td>Station Wagon/Spo...</td><td>Station Wagon/Spo...</td><td>null</td><td>null</td><td>null</td></tr>\n",
              "<tr><td>2019-05-21</td><td>22:50</td><td>BROOKLYN</td><td>11201.0</td><td>40.69754</td><td>-73.98312</td><td>(40.69754, -73.98...</td><td>GOLD STREET</td><td>CONCORD STREET</td><td>null</td><td>0.0</td><td>0.0</td><td>0</td><td>0</td><td>0</td><td>0</td><td>0</td><td>0</td><td>Passing or Lane U...</td><td>Unspecified</td><td>null</td><td>null</td><td>null</td><td>4136992</td><td>�MBU</td><td>Taxi</td><td>null</td><td>null</td><td>null</td></tr>\n",
              "<tr><td>2020-01-21</td><td>15:49</td><td>null</td><td>null</td><td>null</td><td>null</td><td>null</td><td>BRUCKNER BLVD</td><td>�ST 138 STREET</td><td>null</td><td>0.0</td><td>0.0</td><td>0</td><td>0</td><td>0</td><td>0</td><td>0</td><td>0</td><td>Driver Inattentio...</td><td>Unspecified</td><td>null</td><td>null</td><td>null</td><td>4277087</td><td>Sedan</td><td>Station Wagon/Spo...</td><td>null</td><td>null</td><td>null</td></tr>\n",
              "<tr><td>2021-02-26</td><td>14:50</td><td>BRONX</td><td>10461.0</td><td>40.843464</td><td>-73.836</td><td>(40.843464, -73.836)</td><td>null</td><td>null</td><td>2819      MIDDLET...</td><td>0.0</td><td>0.0</td><td>0</td><td>0</td><td>0</td><td>0</td><td>0</td><td>0</td><td>Unspecified</td><td>Unspecified</td><td>null</td><td>null</td><td>null</td><td>4395664</td><td>Station Wagon/Spo...</td><td>null</td><td>null</td><td>null</td><td>null</td></tr>\n",
              "<tr><td>2021-03-09</td><td>11:00</td><td>null</td><td>null</td><td>40.692547</td><td>-73.990974</td><td>(40.692547, -73.9...</td><td>COURT STREET</td><td>JORALEMON STREET</td><td>null</td><td>1.0</td><td>0.0</td><td>0</td><td>0</td><td>0</td><td>0</td><td>1</td><td>0</td><td>Following Too Clo...</td><td>Unspecified</td><td>null</td><td>null</td><td>null</td><td>4397513</td><td>Pick-up Truck</td><td>Sedan</td><td>null</td><td>null</td><td>null</td></tr>\n",
              "<tr><td>2021-03-31</td><td>22:20</td><td>BROOKLYN</td><td>11234.0</td><td>40.626457</td><td>-73.918</td><td>(40.626457, -73.918)</td><td>RALPH AVENUE</td><td>AVENUE K</td><td>null</td><td>1.0</td><td>0.0</td><td>0</td><td>0</td><td>0</td><td>0</td><td>1</td><td>0</td><td>Driver Inexperience</td><td>Unspecified</td><td>null</td><td>null</td><td>null</td><td>4403773</td><td>Sedan</td><td>Sedan</td><td>null</td><td>null</td><td>null</td></tr>\n",
              "<tr><td>2021-04-06</td><td>22:58</td><td>STATEN ISLAND</td><td>10312.0</td><td>40.526894</td><td>-74.16728</td><td>(40.526894, -74.1...</td><td>BARCLAY AVENUE</td><td>HYLAN BOULEVARD</td><td>null</td><td>7.0</td><td>0.0</td><td>0</td><td>0</td><td>0</td><td>0</td><td>7</td><td>0</td><td>Failure to Yield ...</td><td>Unsafe Speed</td><td>null</td><td>null</td><td>null</td><td>4405244</td><td>Station Wagon/Spo...</td><td>Station Wagon/Spo...</td><td>null</td><td>null</td><td>null</td></tr>\n",
              "<tr><td>2021-04-09</td><td>14:45</td><td>null</td><td>null</td><td>40.840775</td><td>-73.87246</td><td>(40.840775, -73.8...</td><td>BRONX RIVER PARKWAY</td><td>null</td><td>null</td><td>1.0</td><td>0.0</td><td>0</td><td>0</td><td>0</td><td>0</td><td>1</td><td>0</td><td>Driver Inattentio...</td><td>Unspecified</td><td>Unspecified</td><td>Unspecified</td><td>null</td><td>4405914</td><td>Sedan</td><td>Station Wagon/Spo...</td><td>Station Wagon/Spo...</td><td>null</td><td>null</td></tr>\n",
              "</table>\n",
              "only showing top 20 rows\n"
            ]
          },
          "metadata": {},
          "execution_count": 30
        }
      ]
    },
    {
      "cell_type": "code",
      "source": [],
      "metadata": {
        "id": "lCRmcIxgGRMd"
      },
      "execution_count": null,
      "outputs": []
    }
  ]
}