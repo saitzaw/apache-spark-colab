{
  "nbformat": 4,
  "nbformat_minor": 0,
  "metadata": {
    "colab": {
      "provenance": [],
      "authorship_tag": "ABX9TyNqQ0xr3sXyGG7UhFM0qoaJ",
      "include_colab_link": true
    },
    "kernelspec": {
      "name": "python3",
      "display_name": "Python 3"
    },
    "language_info": {
      "name": "python"
    }
  },
  "cells": [
    {
      "cell_type": "markdown",
      "metadata": {
        "id": "view-in-github",
        "colab_type": "text"
      },
      "source": [
        "<a href=\"https://colab.research.google.com/github/saitzaw/apache-spark-colab/blob/main/Resolution2023_PySpark.ipynb\" target=\"_parent\"><img src=\"https://colab.research.google.com/assets/colab-badge.svg\" alt=\"Open In Colab\"/></a>"
      ]
    },
    {
      "cell_type": "markdown",
      "source": [
        "# Install PySpark in Colab\n"
      ],
      "metadata": {
        "id": "j66Bq6BH-I1s"
      }
    },
    {
      "cell_type": "code",
      "execution_count": 1,
      "metadata": {
        "id": "IZcKG9539wMo"
      },
      "outputs": [],
      "source": [
        "!pip install -q findspark\n",
        "!pip install -q pyspark"
      ]
    },
    {
      "cell_type": "code",
      "source": [
        "import os\n",
        "import folium\n",
        "import sqlite3\n",
        "import findspark\n",
        "import pandas as pd\n",
        "import seaborn as sns\n",
        "import matplotlib.pyplot as plt\n",
        "from pyspark.sql import SparkSession, Row\n",
        "from datetime import datetime, date\n",
        "from pyspark.sql.types import StructType,StructField,DateType, DoubleType\n",
        "from pyspark.sql.functions import date_format, to_date, year, month, days"
      ],
      "metadata": {
        "id": "aQRTcLVU-6ec"
      },
      "execution_count": 2,
      "outputs": []
    },
    {
      "cell_type": "code",
      "source": [
        "findspark.init()\n",
        "spark = SparkSession.builder\\\n",
        "                    .master(\"local\")\\\n",
        "                    .appName(\"Resolution2023\")\\\n",
        "                    .getOrCreate()\n",
        "spark.conf.set(\"spark.sql.repl.eagerEval.enabled\", True)"
      ],
      "metadata": {
        "id": "EJ9-kinN-Q-X"
      },
      "execution_count": 3,
      "outputs": []
    },
    {
      "cell_type": "markdown",
      "source": [
        "# Data line \n",
        "- Note, original data is converted to parquet\n",
        "https://data.cityofnewyork.us/Public-Safety/Motor-Vehicle-Collisions-Crashes/h9gi-nx95"
      ],
      "metadata": {
        "id": "g1e6vk75cvd8"
      }
    },
    {
      "cell_type": "markdown",
      "source": [
        "# Mount to Google Drive"
      ],
      "metadata": {
        "id": "2cGsweoIBG22"
      }
    },
    {
      "cell_type": "code",
      "source": [
        "from google.colab import drive\n",
        "drive.mount('/content/drive')"
      ],
      "metadata": {
        "colab": {
          "base_uri": "https://localhost:8080/"
        },
        "id": "ZHpbHwbQ_Jpk",
        "outputId": "36e1dde8-dc95-404a-fad5-41fd7db3d34d"
      },
      "execution_count": 4,
      "outputs": [
        {
          "output_type": "stream",
          "name": "stdout",
          "text": [
            "Drive already mounted at /content/drive; to attempt to forcibly remount, call drive.mount(\"/content/drive\", force_remount=True).\n"
          ]
        }
      ]
    },
    {
      "cell_type": "code",
      "source": [
        "SampleData = '/content/drive/MyDrive/ColabDataset/MotorVehicleCollisionsCrashes.parquet'"
      ],
      "metadata": {
        "id": "MARiiTQ8DaTW"
      },
      "execution_count": 5,
      "outputs": []
    },
    {
      "cell_type": "code",
      "source": [
        "MVCCDF = spark.read.parquet(SampleData)"
      ],
      "metadata": {
        "id": "2P4Xv6hyBKYL"
      },
      "execution_count": 6,
      "outputs": []
    },
    {
      "cell_type": "markdown",
      "source": [
        "# Investigate the data format\n",
        "- pandas, df.head()\n",
        "- PySpark, DF.show(5, truncate=True, vertical=False)\n",
        "- MySQL, use SELECT * FROM TableName limit 5 \\G \n",
        "- Postgresql, \\x"
      ],
      "metadata": {
        "id": "r4V-5s7bXrlm"
      }
    },
    {
      "cell_type": "code",
      "source": [
        "MVCCDF.show(1, truncate = True, vertical=True)"
      ],
      "metadata": {
        "colab": {
          "base_uri": "https://localhost:8080/"
        },
        "id": "TR39_6WCDyQ-",
        "outputId": "7b82332a-9b1e-4a3d-b29f-5b073c362cc0"
      },
      "execution_count": 7,
      "outputs": [
        {
          "output_type": "stream",
          "name": "stdout",
          "text": [
            "-RECORD 0---------------------------------------------\n",
            " CRASH_DATE                    | 04/14/2021           \n",
            " CRASH_TIME                    | 5:32                 \n",
            " BOROUGH                       | null                 \n",
            " ZIP_CODE                      | null                 \n",
            " LATITUDE                      | null                 \n",
            " LONGITUDE                     | null                 \n",
            " LOCATION                      | null                 \n",
            " ON_STREET_NAME                | BRONX WHITESTONE ... \n",
            " CROSS_STREET_NAME             | null                 \n",
            " OFF_STREET_NAME               | null                 \n",
            " NUMBER_OF_PERSONS_INJURED     | 0.0                  \n",
            " NUMBER_OF_PERSONS_KILLED      | 0.0                  \n",
            " NUMBER_OF_PEDESTRIANS_INJURED | 0                    \n",
            " NUMBER_OF_PEDESTRIANS_KILLED  | 0                    \n",
            " NUMBER_OF_CYCLIST_INJURED     | 0                    \n",
            " NUMBER_OF_CYCLIST_KILLED      | 0                    \n",
            " NUMBER_OF_MOTORIST_INJURED    | 0                    \n",
            " NUMBER_OF_MOTORIST_KILLED     | 0                    \n",
            " CONTRIBUTING_FACTOR_VEHICLE_1 | Following Too Clo... \n",
            " CONTRIBUTING_FACTOR_VEHICLE_2 | Unspecified          \n",
            " CONTRIBUTING_FACTOR_VEHICLE_3 | null                 \n",
            " CONTRIBUTING_FACTOR_VEHICLE_4 | null                 \n",
            " CONTRIBUTING_FACTOR_VEHICLE_5 | null                 \n",
            " COLLISION_ID                  | 4407480              \n",
            " VEHICLE_TYPE_CODE_1           | Sedan                \n",
            " VEHICLE_TYPE_CODE_2           | Sedan                \n",
            " VEHICLE_TYPE_CODE_3           | null                 \n",
            " VEHICLE_TYPE_CODE_4           | null                 \n",
            " VEHICLE_TYPE_CODE_5           | null                 \n",
            "only showing top 1 row\n",
            "\n"
          ]
        }
      ]
    },
    {
      "cell_type": "code",
      "source": [
        "MVCCDF.printSchema()"
      ],
      "metadata": {
        "colab": {
          "base_uri": "https://localhost:8080/"
        },
        "id": "IurqSGTeRndX",
        "outputId": "ea46abda-0067-4b2c-e1ff-5ac42c81b69f"
      },
      "execution_count": 8,
      "outputs": [
        {
          "output_type": "stream",
          "name": "stdout",
          "text": [
            "root\n",
            " |-- CRASH_DATE: string (nullable = true)\n",
            " |-- CRASH_TIME: string (nullable = true)\n",
            " |-- BOROUGH: string (nullable = true)\n",
            " |-- ZIP_CODE: double (nullable = true)\n",
            " |-- LATITUDE: double (nullable = true)\n",
            " |-- LONGITUDE: double (nullable = true)\n",
            " |-- LOCATION: string (nullable = true)\n",
            " |-- ON_STREET_NAME: string (nullable = true)\n",
            " |-- CROSS_STREET_NAME: string (nullable = true)\n",
            " |-- OFF_STREET_NAME: string (nullable = true)\n",
            " |-- NUMBER_OF_PERSONS_INJURED: double (nullable = true)\n",
            " |-- NUMBER_OF_PERSONS_KILLED: double (nullable = true)\n",
            " |-- NUMBER_OF_PEDESTRIANS_INJURED: long (nullable = true)\n",
            " |-- NUMBER_OF_PEDESTRIANS_KILLED: long (nullable = true)\n",
            " |-- NUMBER_OF_CYCLIST_INJURED: long (nullable = true)\n",
            " |-- NUMBER_OF_CYCLIST_KILLED: long (nullable = true)\n",
            " |-- NUMBER_OF_MOTORIST_INJURED: long (nullable = true)\n",
            " |-- NUMBER_OF_MOTORIST_KILLED: long (nullable = true)\n",
            " |-- CONTRIBUTING_FACTOR_VEHICLE_1: string (nullable = true)\n",
            " |-- CONTRIBUTING_FACTOR_VEHICLE_2: string (nullable = true)\n",
            " |-- CONTRIBUTING_FACTOR_VEHICLE_3: string (nullable = true)\n",
            " |-- CONTRIBUTING_FACTOR_VEHICLE_4: string (nullable = true)\n",
            " |-- CONTRIBUTING_FACTOR_VEHICLE_5: string (nullable = true)\n",
            " |-- COLLISION_ID: long (nullable = true)\n",
            " |-- VEHICLE_TYPE_CODE_1: string (nullable = true)\n",
            " |-- VEHICLE_TYPE_CODE_2: string (nullable = true)\n",
            " |-- VEHICLE_TYPE_CODE_3: string (nullable = true)\n",
            " |-- VEHICLE_TYPE_CODE_4: string (nullable = true)\n",
            " |-- VEHICLE_TYPE_CODE_5: string (nullable = true)\n",
            "\n"
          ]
        }
      ]
    },
    {
      "cell_type": "markdown",
      "source": [
        "# Change date format \n",
        "- pandas, pd.to_datetime(df['date'])\n",
        "- PySpark, from pyspark.sql import functions as F \n",
        "- DF.withColumns(\"DATE\", F.date_time(F.to_date(\"DATE\", \"dd/MM/yyyy\"), \"yyyy-MM-dd\") \n",
        "- PySpark, from pyspark.sql.functions import to_date, date_time //use this\n",
        "- DF.withColumns(\"DATE\", date_time(to_date(\"DATE\", \"dd/MM/yyyy\"), \"yyyy-MM-dd\")\n",
        "\n",
        "# Change Column name to inprove readability \n",
        "-pandas, df.rename({'old_col_name1': 'new_col_name2', 'old_col_name2':'new_col_name3'}, axis=1, inplace=True)\n",
        "- PySpark, DF.withColumnRenamed(\"old_col_name1\", \"new_col_name1\")\\.withColumnRenamed(\"old_col_name2\", \"new_col_name2\").drop('columns')"
      ],
      "metadata": {
        "id": "aF38mp7KIk2k"
      }
    },
    {
      "cell_type": "code",
      "source": [
        "MVCCDfAnalysis = MVCCDF.withColumn(\n",
        "    \"CRASH_DATE\", date_format(to_date(\"CRASH_DATE\", \"MM/dd/yyyy\"), \"yyyy-MM-dd\"))\\\n",
        ".withColumnRenamed(\"CRASH_DATE\", \"crash_date\")\\\n",
        ".withColumnRenamed(\"CRASH_TIME\", \"crash_time\")\\\n",
        ".withColumnRenamed(\"BOROUGH\", \"borough\")\\\n",
        ".withColumnRenamed(\"ZIP_CODE\", \"zip\")\\\n",
        ".withColumnRenamed(\"LATITUDE\", \"lat\")\\\n",
        ".withColumnRenamed(\"LONGITUDE\", \"long\")\\\n",
        ".withColumnRenamed(\"LOCATION\", \"loca\")\\\n",
        ".withColumnRenamed(\"ON_STREET_NAME\", \"on_street_name\")\\\n",
        ".withColumnRenamed(\"CROSS_STREET_NAME\", \"cross_street_name\")\\\n",
        ".withColumnRenamed(\"OFF_STREET_NAME\", \"off_street_name\")\\\n",
        ".withColumnRenamed(\"NUMBER_OF_PERSONS_INJURED\", \"num_person_injured\")\\\n",
        ".withColumnRenamed(\"NUMBER_OF_PERSONS_KILLED\", \"num_person_killed\")\\\n",
        ".withColumnRenamed(\"NUMBER_OF_PEDESTRIANS_INJURED\", \"num_pedestrians_injured\")\\\n",
        ".withColumnRenamed(\"NUMBER_OF_PEDESTRIANS_KILLED\", \"num_pedestrians_killed\")\\\n",
        ".withColumnRenamed(\"NUMBER_OF_CYCLIST_INJURED\", \"num_cyclist_injured\")\\\n",
        ".withColumnRenamed(\"NUMBER_OF_CYCLIST_KILLED\", \"num_cyclist_killed\")\\\n",
        ".withColumnRenamed(\"NUMBER_OF_MOTORIST_INJURED\", \"num_motorist_injured\")\\\n",
        ".withColumnRenamed(\"NUMBER_OF_MOTORIST_KILLED\", \"num_motorist_killed\")\\\n",
        ".withColumnRenamed(\"CONTRIBUTING_FACTOR_VEHICLE_1\", \"contributing_factor_venicle_1\")\\\n",
        ".withColumnRenamed(\"CONTRIBUTING_FACTOR_VEHICLE_2\", \"contributing_factor_venicle_2\")\\\n",
        ".withColumnRenamed(\"CONTRIBUTING_FACTOR_VEHICLE_3\", \"contributing_factor_venicle_3\")\\\n",
        ".withColumnRenamed(\"CONTRIBUTING_FACTOR_VEHICLE_4\", \"contributing_factor_venicle_4\")\\\n",
        ".withColumnRenamed(\"CONTRIBUTING_FACTOR_VEHICLE_5\", \"contributing_factor_venicle_5\")\\\n",
        ".withColumnRenamed(\"COLLISION_ID\", \"collision_id\")\\\n",
        ".withColumnRenamed(\"VEHICLE_TYPE_CODE_1\", \"venicle_type_code_1\")\\\n",
        ".withColumnRenamed(\"VEHICLE_TYPE_CODE_2\", \"venicle_type_code_2\")\\\n",
        ".withColumnRenamed(\"VEHICLE_TYPE_CODE_3\", \"venicle_type_code_3\")\\\n",
        ".withColumnRenamed(\"VEHICLE_TYPE_CODE_4\", \"venicle_type_code_4\")\\\n",
        ".withColumnRenamed(\"VEHICLE_TYPE_CODE_5\", \"venicle_type_code_5\")"
      ],
      "metadata": {
        "id": "qBKlktGxIBxM"
      },
      "execution_count": 9,
      "outputs": []
    },
    {
      "cell_type": "code",
      "source": [
        "MVCCDfAnalysis.show(1, truncate=False, vertical=True)"
      ],
      "metadata": {
        "colab": {
          "base_uri": "https://localhost:8080/"
        },
        "id": "86humX4yGPJU",
        "outputId": "1ad3615f-6121-41e8-ea9b-50b905c0b870"
      },
      "execution_count": 10,
      "outputs": [
        {
          "output_type": "stream",
          "name": "stdout",
          "text": [
            "-RECORD 0------------------------------------------------\n",
            " crash_date                    | 2021-04-14              \n",
            " crash_time                    | 5:32                    \n",
            " borough                       | null                    \n",
            " zip                           | null                    \n",
            " lat                           | null                    \n",
            " long                          | null                    \n",
            " loca                          | null                    \n",
            " on_street_name                | BRONX WHITESTONE BRIDGE \n",
            " cross_street_name             | null                    \n",
            " off_street_name               | null                    \n",
            " num_person_injured            | 0.0                     \n",
            " num_person_killed             | 0.0                     \n",
            " num_pedestrians_injured       | 0                       \n",
            " num_pedestrians_killed        | 0                       \n",
            " num_cyclist_injured           | 0                       \n",
            " num_cyclist_killed            | 0                       \n",
            " num_motorist_injured          | 0                       \n",
            " num_motorist_killed           | 0                       \n",
            " contributing_factor_venicle_1 | Following Too Closely   \n",
            " contributing_factor_venicle_2 | Unspecified             \n",
            " contributing_factor_venicle_3 | null                    \n",
            " contributing_factor_venicle_4 | null                    \n",
            " contributing_factor_venicle_5 | null                    \n",
            " collision_id                  | 4407480                 \n",
            " venicle_type_code_1           | Sedan                   \n",
            " venicle_type_code_2           | Sedan                   \n",
            " venicle_type_code_3           | null                    \n",
            " venicle_type_code_4           | null                    \n",
            " venicle_type_code_5           | null                    \n",
            "only showing top 1 row\n",
            "\n"
          ]
        }
      ]
    },
    {
      "cell_type": "code",
      "source": [
        "MVCCDfAnalysis.filter(MVCCDfAnalysis[\"num_person_killed\"] >= 1).count()"
      ],
      "metadata": {
        "colab": {
          "base_uri": "https://localhost:8080/"
        },
        "id": "lCRmcIxgGRMd",
        "outputId": "ca4decd6-6ac8-4e92-8aeb-ea1c914c0c14"
      },
      "execution_count": 11,
      "outputs": [
        {
          "output_type": "execute_result",
          "data": {
            "text/plain": [
              "1439"
            ]
          },
          "metadata": {},
          "execution_count": 11
        }
      ]
    },
    {
      "cell_type": "code",
      "source": [
        "MVCCDfAnalysis.filter(MVCCDfAnalysis[\"num_person_injured\"] >= 1).count()"
      ],
      "metadata": {
        "colab": {
          "base_uri": "https://localhost:8080/"
        },
        "id": "Conkm_ugSw-0",
        "outputId": "e1935fa7-b560-4901-d1fe-edf5f41b5518"
      },
      "execution_count": 12,
      "outputs": [
        {
          "output_type": "execute_result",
          "data": {
            "text/plain": [
              "240742"
            ]
          },
          "metadata": {},
          "execution_count": 12
        }
      ]
    },
    {
      "cell_type": "markdown",
      "source": [
        "# Check the people passed away by car crash"
      ],
      "metadata": {
        "id": "QVP_tSFyd2Ja"
      }
    },
    {
      "cell_type": "code",
      "source": [
        "MVCCDKilled = MVCCDfAnalysis.filter(MVCCDfAnalysis[\"num_person_killed\"] >= 1)\\\n",
        ".filter(MVCCDfAnalysis['contributing_factor_venicle_1'].isNotNull())\\\n",
        ".withColumn(\"crash_year\", year(MVCCDfAnalysis[\"crash_date\"]))\\\n",
        ".withColumn(\"crash_month\", month(MVCCDfAnalysis[\"crash_date\"]))\\\n",
        ".withColumn(\"crash_day\", date_format(MVCCDfAnalysis[\"crash_date\"], \"d\"))\\\n",
        ".select(\"collision_id\", \"crash_date\", \n",
        "        \"crash_year\",\"crash_month\", \"crash_day\",\n",
        "        \"crash_time\",\"borough\", \n",
        "        \"loca\", \"num_person_killed\",\n",
        "        \"num_pedestrians_killed\",\n",
        "        \"num_cyclist_killed\", \n",
        "        \"num_motorist_killed\")"
      ],
      "metadata": {
        "id": "fKJWYOwQTBHK"
      },
      "execution_count": 13,
      "outputs": []
    },
    {
      "cell_type": "code",
      "source": [
        "MVCCDKilled.show(10, truncate=False, vertical=False)"
      ],
      "metadata": {
        "colab": {
          "base_uri": "https://localhost:8080/"
        },
        "id": "ZF5a39A0UDld",
        "outputId": "3c8e1707-7dd7-487f-838c-c3b1d019324b"
      },
      "execution_count": 14,
      "outputs": [
        {
          "output_type": "stream",
          "name": "stdout",
          "text": [
            "+------------+----------+----------+-----------+---------+----------+---------+-------------------------+-----------------+----------------------+------------------+-------------------+\n",
            "|collision_id|crash_date|crash_year|crash_month|crash_day|crash_time|borough  |loca                     |num_person_killed|num_pedestrians_killed|num_cyclist_killed|num_motorist_killed|\n",
            "+------------+----------+----------+-----------+---------+----------+---------+-------------------------+-----------------+----------------------+------------------+-------------------+\n",
            "|4408063     |2021-04-15|2021      |4          |15       |15:18     |BROOKLYN |(40.620487, -74.029305)  |1.0              |1                     |0                 |0                  |\n",
            "|4407693     |2021-04-15|2021      |4          |15       |22:36     |null     |null                     |1.0              |0                     |0                 |1                  |\n",
            "|4408695     |2021-04-18|2021      |4          |18       |23:56     |null     |(40.770527, -73.98012)   |1.0              |1                     |0                 |0                  |\n",
            "|4345591     |2020-09-06|2020      |9          |6        |18:05     |null     |(40.771038, -73.83413)   |1.0              |0                     |0                 |1                  |\n",
            "|4407509     |2021-04-08|2021      |4          |8        |19:55     |BRONX    |(40.830307, -73.89873)   |1.0              |0                     |0                 |0                  |\n",
            "|4408961     |2021-04-19|2021      |4          |19       |19:13     |MANHATTAN|(40.82289, -73.94208)    |1.0              |1                     |0                 |0                  |\n",
            "|4410387     |2021-04-22|2021      |4          |22       |8:01      |MANHATTAN|(40.8036981, -73.9379121)|1.0              |1                     |0                 |0                  |\n",
            "|4409176     |2021-04-21|2021      |4          |21       |0:55      |QUEENS   |(40.692135, -73.83485)   |1.0              |0                     |0                 |1                  |\n",
            "|4410389     |2021-04-23|2021      |4          |23       |17:02     |null     |(40.86357, -73.92602)    |1.0              |0                     |0                 |1                  |\n",
            "|4410388     |2021-04-24|2021      |4          |24       |3:43      |BROOKLYN |(40.643063, -73.95166)   |1.0              |0                     |0                 |0                  |\n",
            "+------------+----------+----------+-----------+---------+----------+---------+-------------------------+-----------------+----------------------+------------------+-------------------+\n",
            "only showing top 10 rows\n",
            "\n"
          ]
        }
      ]
    },
    {
      "cell_type": "code",
      "source": [
        "MVCCDKilled.filter(MVCCDKilled[\"crash_year\"] != 2022)\\\n",
        ".groupBy(\"crash_year\")\\\n",
        ".sum(\"num_person_killed\")\\\n",
        ".orderBy(\"crash_year\")\\\n",
        ".show(truncate=True)"
      ],
      "metadata": {
        "colab": {
          "base_uri": "https://localhost:8080/"
        },
        "id": "YMgjjnh3aVZF",
        "outputId": "5e1c4142-8cde-4bb0-82b3-196c9dbba50c"
      },
      "execution_count": 15,
      "outputs": [
        {
          "output_type": "stream",
          "name": "stdout",
          "text": [
            "+----------+----------------------+\n",
            "|crash_year|sum(num_person_killed)|\n",
            "+----------+----------------------+\n",
            "|      2016|                 135.0|\n",
            "|      2017|                 255.0|\n",
            "|      2018|                 230.0|\n",
            "|      2019|                 243.0|\n",
            "|      2020|                 267.0|\n",
            "|      2021|                 282.0|\n",
            "+----------+----------------------+\n",
            "\n"
          ]
        }
      ]
    },
    {
      "cell_type": "code",
      "source": [
        "MVCCDKilled.filter(MVCCDKilled[\"crash_year\"] != 2022)\\\n",
        ".groupBy(\"crash_year\", \"crash_month\")\\\n",
        ".sum(\"num_person_killed\")\\\n",
        ".orderBy(\"crash_year\", \"crash_month\")\\\n",
        ".show(truncate=True)"
      ],
      "metadata": {
        "colab": {
          "base_uri": "https://localhost:8080/"
        },
        "id": "hw-r_t4ob7X-",
        "outputId": "9e2684c3-9f41-458b-8e8f-b7921883dd31"
      },
      "execution_count": 16,
      "outputs": [
        {
          "output_type": "stream",
          "name": "stdout",
          "text": [
            "+----------+-----------+----------------------+\n",
            "|crash_year|crash_month|sum(num_person_killed)|\n",
            "+----------+-----------+----------------------+\n",
            "|      2016|          6|                   9.0|\n",
            "|      2016|          7|                  19.0|\n",
            "|      2016|          8|                  29.0|\n",
            "|      2016|          9|                  18.0|\n",
            "|      2016|         10|                  19.0|\n",
            "|      2016|         11|                  17.0|\n",
            "|      2016|         12|                  24.0|\n",
            "|      2017|          1|                  18.0|\n",
            "|      2017|          2|                  13.0|\n",
            "|      2017|          3|                  17.0|\n",
            "|      2017|          4|                  22.0|\n",
            "|      2017|          5|                  13.0|\n",
            "|      2017|          6|                  21.0|\n",
            "|      2017|          7|                  32.0|\n",
            "|      2017|          8|                  23.0|\n",
            "|      2017|          9|                  28.0|\n",
            "|      2017|         10|                  28.0|\n",
            "|      2017|         11|                  24.0|\n",
            "|      2017|         12|                  16.0|\n",
            "|      2018|          1|                  12.0|\n",
            "+----------+-----------+----------------------+\n",
            "only showing top 20 rows\n",
            "\n"
          ]
        }
      ]
    },
    {
      "cell_type": "code",
      "source": [
        "MVCCDFKilledData = MVCCDKilled.filter(MVCCDKilled[\"crash_year\"] != 2022)\\\n",
        ".groupBy(\"crash_year\", \"crash_month\")\\\n",
        ".sum(\"num_person_killed\")\\\n",
        ".withColumnRenamed(\"Sum(num_person_killed)\", \"total_ppl_killed\")\\\n",
        ".orderBy(\"crash_year\", \"crash_month\")"
      ],
      "metadata": {
        "id": "S6UgO-9MiV51"
      },
      "execution_count": 17,
      "outputs": []
    },
    {
      "cell_type": "code",
      "source": [
        "MVCCDFKilledData.show(1, truncate=False)"
      ],
      "metadata": {
        "colab": {
          "base_uri": "https://localhost:8080/"
        },
        "id": "tAYTDBhbijZu",
        "outputId": "64d7d9e8-cb4b-484a-c5db-143c71e697ae"
      },
      "execution_count": 18,
      "outputs": [
        {
          "output_type": "stream",
          "name": "stdout",
          "text": [
            "+----------+-----------+----------------+\n",
            "|crash_year|crash_month|total_ppl_killed|\n",
            "+----------+-----------+----------------+\n",
            "|2016      |6          |9.0             |\n",
            "+----------+-----------+----------------+\n",
            "only showing top 1 row\n",
            "\n"
          ]
        }
      ]
    },
    {
      "cell_type": "markdown",
      "source": [
        "# Plot all data"
      ],
      "metadata": {
        "id": "MQndHsSojQu4"
      }
    },
    {
      "cell_type": "code",
      "source": [
        "mvcc_df_killed_data = MVCCDFKilledData.toPandas()\n",
        "sns.lineplot(x=\"crash_year\", y=\"total_ppl_killed\", data=mvcc_df_killed_data)"
      ],
      "metadata": {
        "colab": {
          "base_uri": "https://localhost:8080/",
          "height": 297
        },
        "id": "RSnDOqL4jQDF",
        "outputId": "41f4b1bb-103f-4de5-c14a-81cf405258c7"
      },
      "execution_count": 19,
      "outputs": [
        {
          "output_type": "execute_result",
          "data": {
            "text/plain": [
              "<matplotlib.axes._subplots.AxesSubplot at 0x7fb9e5484160>"
            ]
          },
          "metadata": {},
          "execution_count": 19
        },
        {
          "output_type": "display_data",
          "data": {
            "text/plain": [
              "<Figure size 432x288 with 1 Axes>"
            ],
            "image/png": "[encoded data removed]"
          },
          "metadata": {
            "needs_background": "light"
          }
        }
      ]
    },
    {
      "cell_type": "markdown",
      "source": [
        "# Select 2016 data"
      ],
      "metadata": {
        "id": "na5FrVw0gb0g"
      }
    },
    {
      "cell_type": "code",
      "source": [
        "MVCCDf16 = MVCCDKilled.filter(MVCCDKilled[\"crash_year\"] == 2016)\\\n",
        ".groupBy(\"crash_year\", \"crash_month\")\\\n",
        ".sum(\"num_person_killed\")\\\n",
        ".withColumnRenamed(\"Sum(num_person_killed)\", \"total_ppl_killed\")\\\n",
        ".orderBy(\"crash_year\", \"crash_month\")"
      ],
      "metadata": {
        "id": "5NNiwTlTfYQK"
      },
      "execution_count": 20,
      "outputs": []
    },
    {
      "cell_type": "code",
      "source": [
        "MVCCDf16"
      ],
      "metadata": {
        "colab": {
          "base_uri": "https://localhost:8080/",
          "height": 202
        },
        "id": "ltV6kyJ3fhtq",
        "outputId": "f16d1995-cf51-4021-bf51-79e571b75254"
      },
      "execution_count": 21,
      "outputs": [
        {
          "output_type": "execute_result",
          "data": {
            "text/plain": [
              "+----------+-----------+----------------+\n",
              "|crash_year|crash_month|total_ppl_killed|\n",
              "+----------+-----------+----------------+\n",
              "|      2016|          6|             9.0|\n",
              "|      2016|          7|            19.0|\n",
              "|      2016|          8|            29.0|\n",
              "|      2016|          9|            18.0|\n",
              "|      2016|         10|            19.0|\n",
              "|      2016|         11|            17.0|\n",
              "|      2016|         12|            24.0|\n",
              "+----------+-----------+----------------+"
            ],
            "text/html": [
              "<table border='1'>\n",
              "<tr><th>crash_year</th><th>crash_month</th><th>total_ppl_killed</th></tr>\n",
              "<tr><td>2016</td><td>6</td><td>9.0</td></tr>\n",
              "<tr><td>2016</td><td>7</td><td>19.0</td></tr>\n",
              "<tr><td>2016</td><td>8</td><td>29.0</td></tr>\n",
              "<tr><td>2016</td><td>9</td><td>18.0</td></tr>\n",
              "<tr><td>2016</td><td>10</td><td>19.0</td></tr>\n",
              "<tr><td>2016</td><td>11</td><td>17.0</td></tr>\n",
              "<tr><td>2016</td><td>12</td><td>24.0</td></tr>\n",
              "</table>\n"
            ]
          },
          "metadata": {},
          "execution_count": 21
        }
      ]
    },
    {
      "cell_type": "code",
      "source": [
        "df_mvcc16 = MVCCDf16.toPandas()"
      ],
      "metadata": {
        "id": "l2DvS-wlhtTy"
      },
      "execution_count": 22,
      "outputs": []
    },
    {
      "cell_type": "code",
      "source": [
        "sns.lineplot(x=\"crash_month\", y=\"total_ppl_killed\", data=df_mvcc16)"
      ],
      "metadata": {
        "colab": {
          "base_uri": "https://localhost:8080/",
          "height": 301
        },
        "id": "pQ6MV6BsfOCV",
        "outputId": "18ced258-a561-4a42-f239-50ca2977756b"
      },
      "execution_count": 23,
      "outputs": [
        {
          "output_type": "execute_result",
          "data": {
            "text/plain": [
              "<matplotlib.axes._subplots.AxesSubplot at 0x7fb9e539dd60>"
            ]
          },
          "metadata": {},
          "execution_count": 23
        },
        {
          "output_type": "display_data",
          "data": {
            "text/plain": [
              "<Figure size 432x288 with 1 Axes>"
            ],
            "image/png": "[encoded data removed]"
          },
          "metadata": {
            "needs_background": "light"
          }
        }
      ]
    },
    {
      "cell_type": "markdown",
      "source": [
        "# Show on the map\n",
        "- for GIS and other analysis"
      ],
      "metadata": {
        "id": "1qfstJg1jx9O"
      }
    },
    {
      "cell_type": "code",
      "source": [
        "MVCCDfAnalysis.filter(MVCCDfAnalysis[\"num_person_killed\"] > 4)"
      ],
      "metadata": {
        "colab": {
          "base_uri": "https://localhost:8080/",
          "height": 103
        },
        "id": "hbnnB_rMlHoi",
        "outputId": "877415fe-dc0e-45ff-e01a-e8a5e8b7b899"
      },
      "execution_count": 24,
      "outputs": [
        {
          "output_type": "execute_result",
          "data": {
            "text/plain": [
              "+----------+----------+---------+-------+---------+---------+--------------------+--------------------+-------------------+---------------+------------------+-----------------+-----------------------+----------------------+-------------------+------------------+--------------------+-------------------+-----------------------------+-----------------------------+-----------------------------+-----------------------------+-----------------------------+------------+-------------------+-------------------+-------------------+-------------------+-------------------+\n",
              "|crash_date|crash_time|  borough|    zip|      lat|     long|                loca|      on_street_name|  cross_street_name|off_street_name|num_person_injured|num_person_killed|num_pedestrians_injured|num_pedestrians_killed|num_cyclist_injured|num_cyclist_killed|num_motorist_injured|num_motorist_killed|contributing_factor_venicle_1|contributing_factor_venicle_2|contributing_factor_venicle_3|contributing_factor_venicle_4|contributing_factor_venicle_5|collision_id|venicle_type_code_1|venicle_type_code_2|venicle_type_code_3|venicle_type_code_4|venicle_type_code_5|\n",
              "+----------+----------+---------+-------+---------+---------+--------------------+--------------------+-------------------+---------------+------------------+-----------------+-----------------------+----------------------+-------------------+------------------+--------------------+-------------------+-----------------------------+-----------------------------+-----------------------------+-----------------------------+-----------------------------+------------+-------------------+-------------------+-------------------+-------------------+-------------------+\n",
              "|2017-10-31|     15:08|MANHATTAN|10014.0|40.729046|-74.01073|(40.729046, -74.0...|WEST STREET      ...|WEST HOUSTON STREET|           null|              12.0|              8.0|                      7|                     6|                  1|                 2|                   4|                  0|              Other Vehicular|                  Unspecified|                  Unspecified|                  Unspecified|                  Unspecified|     3782508|           Flat Bed|                Bus|               Bike|               Bike|               Bike|\n",
              "+----------+----------+---------+-------+---------+---------+--------------------+--------------------+-------------------+---------------+------------------+-----------------+-----------------------+----------------------+-------------------+------------------+--------------------+-------------------+-----------------------------+-----------------------------+-----------------------------+-----------------------------+-----------------------------+------------+-------------------+-------------------+-------------------+-------------------+-------------------+"
            ],
            "text/html": [
              "<table border='1'>\n",
              "<tr><th>crash_date</th><th>crash_time</th><th>borough</th><th>zip</th><th>lat</th><th>long</th><th>loca</th><th>on_street_name</th><th>cross_street_name</th><th>off_street_name</th><th>num_person_injured</th><th>num_person_killed</th><th>num_pedestrians_injured</th><th>num_pedestrians_killed</th><th>num_cyclist_injured</th><th>num_cyclist_killed</th><th>num_motorist_injured</th><th>num_motorist_killed</th><th>contributing_factor_venicle_1</th><th>contributing_factor_venicle_2</th><th>contributing_factor_venicle_3</th><th>contributing_factor_venicle_4</th><th>contributing_factor_venicle_5</th><th>collision_id</th><th>venicle_type_code_1</th><th>venicle_type_code_2</th><th>venicle_type_code_3</th><th>venicle_type_code_4</th><th>venicle_type_code_5</th></tr>\n",
              "<tr><td>2017-10-31</td><td>15:08</td><td>MANHATTAN</td><td>10014.0</td><td>40.729046</td><td>-74.01073</td><td>(40.729046, -74.0...</td><td>WEST STREET      ...</td><td>WEST HOUSTON STREET</td><td>null</td><td>12.0</td><td>8.0</td><td>7</td><td>6</td><td>1</td><td>2</td><td>4</td><td>0</td><td>Other Vehicular</td><td>Unspecified</td><td>Unspecified</td><td>Unspecified</td><td>Unspecified</td><td>3782508</td><td>Flat Bed</td><td>Bus</td><td>Bike</td><td>Bike</td><td>Bike</td></tr>\n",
              "</table>\n"
            ]
          },
          "metadata": {},
          "execution_count": 24
        }
      ]
    },
    {
      "cell_type": "code",
      "source": [
        "loca_lat = MVCCDfAnalysis.filter(MVCCDfAnalysis[\"num_person_killed\"] > 4).select(\"lat\").collect()[0][0]\n",
        "loca_long = MVCCDfAnalysis.filter(MVCCDfAnalysis[\"num_person_killed\"] > 4).select(\"long\").collect()[0][0]"
      ],
      "metadata": {
        "id": "s0rj340xmihs"
      },
      "execution_count": 25,
      "outputs": []
    },
    {
      "cell_type": "code",
      "source": [
        "max_num_pp_killed = folium.Map(location=[loca_lat, loca_long], zoom_start=10)\n",
        "marker = folium.CircleMarker(\n",
        "    location=[loca_lat, loca_long],\n",
        "    radius=50,\n",
        "    popup=\"11 times\",\n",
        "    color=\"#ee150e\",\n",
        "    fill=True,\n",
        "    fill_color=\"#ff8581\"\n",
        "    )\n",
        "marker.add_to(max_num_pp_killed)\n"
      ],
      "metadata": {
        "colab": {
          "base_uri": "https://localhost:8080/"
        },
        "id": "eb5qdOoMkwBe",
        "outputId": "92f6c3ee-7f43-4658-bc60-3de408293f14"
      },
      "execution_count": 27,
      "outputs": [
        {
          "output_type": "execute_result",
          "data": {
            "text/plain": [
              "<folium.vector_layers.CircleMarker at 0x7fb9e4e31c10>"
            ]
          },
          "metadata": {},
          "execution_count": 27
        }
      ]
    },
    {
      "cell_type": "code",
      "source": [
        "max_num_pp_killed"
      ],
      "metadata": {
        "colab": {
          "base_uri": "https://localhost:8080/",
          "height": 767
        },
        "id": "4c8xsPqlnmNu",
        "outputId": "29493dbf-4d32-474c-fcaa-84938176815e"
      },
      "execution_count": 28,
      "outputs": [
        {
          "output_type": "execute_result",
          "data": {
            "text/plain": [
              "<folium.folium.Map at 0x7fb9e4e313a0>"
            ],
            "text/html": [
              "<div style=\"width:100%;\"><div style=\"position:relative;width:100%;height:0;padding-bottom:60%;\"><span style=\"color:#565656\">Make this Notebook Trusted to load map: File -> Trust Notebook</span><iframe srcdoc=\"&lt;!DOCTYPE html&gt;\n",
              "&lt;html&gt;\n",
              "&lt;head&gt;\n",
              "    \n",
              "    &lt;meta http-equiv=&quot;content-type&quot; content=&quot;text/html; charset=UTF-8&quot; /&gt;\n",
              "    \n",
              "        &lt;script&gt;\n",
              "            L_NO_TOUCH = false;\n",
              "            L_DISABLE_3D = false;\n",
              "        &lt;/script&gt;\n",
              "    \n",
              "    &lt;style&gt;html, body {width: 100%;height: 100%;margin: 0;padding: 0;}&lt;/style&gt;\n",
              "    &lt;style&gt;#map {position:absolute;top:0;bottom:0;right:0;left:0;}&lt;/style&gt;\n",
              "    &lt;script src=&quot;https://cdn.jsdelivr.net/npm/leaflet@1.6.0/dist/leaflet.js&quot;&gt;&lt;/script&gt;\n",
              "    &lt;script src=&quot;https://code.jquery.com/jquery-1.12.4.min.js&quot;&gt;&lt;/script&gt;\n",
              "    &lt;script src=&quot;https://maxcdn.bootstrapcdn.com/bootstrap/3.2.0/js/bootstrap.min.js&quot;&gt;&lt;/script&gt;\n",
              "    &lt;script src=&quot;https://cdnjs.cloudflare.com/ajax/libs/Leaflet.awesome-markers/2.0.2/leaflet.awesome-markers.js&quot;&gt;&lt;/script&gt;\n",
              "    &lt;link rel=&quot;stylesheet&quot; href=&quot;https://cdn.jsdelivr.net/npm/leaflet@1.6.0/dist/leaflet.css&quot;/&gt;\n",
              "    &lt;link rel=&quot;stylesheet&quot; href=&quot;https://maxcdn.bootstrapcdn.com/bootstrap/3.2.0/css/bootstrap.min.css&quot;/&gt;\n",
              "    &lt;link rel=&quot;stylesheet&quot; href=&quot;https://maxcdn.bootstrapcdn.com/bootstrap/3.2.0/css/bootstrap-theme.min.css&quot;/&gt;\n",
              "    &lt;link rel=&quot;stylesheet&quot; href=&quot;https://maxcdn.bootstrapcdn.com/font-awesome/4.6.3/css/font-awesome.min.css&quot;/&gt;\n",
              "    &lt;link rel=&quot;stylesheet&quot; href=&quot;https://cdnjs.cloudflare.com/ajax/libs/Leaflet.awesome-markers/2.0.2/leaflet.awesome-markers.css&quot;/&gt;\n",
              "    &lt;link rel=&quot;stylesheet&quot; href=&quot;https://cdn.jsdelivr.net/gh/python-visualization/folium/folium/templates/leaflet.awesome.rotate.min.css&quot;/&gt;\n",
              "    \n",
              "            &lt;meta name=&quot;viewport&quot; content=&quot;width=device-width,\n",
              "                initial-scale=1.0, maximum-scale=1.0, user-scalable=no&quot; /&gt;\n",
              "            &lt;style&gt;\n",
              "                #map_ff0e0463a269083eee26905db93faf20 {\n",
              "                    position: relative;\n",
              "                    width: 100.0%;\n",
              "                    height: 100.0%;\n",
              "                    left: 0.0%;\n",
              "                    top: 0.0%;\n",
              "                }\n",
              "            &lt;/style&gt;\n",
              "        \n",
              "&lt;/head&gt;\n",
              "&lt;body&gt;\n",
              "    \n",
              "    \n",
              "            &lt;div class=&quot;folium-map&quot; id=&quot;map_ff0e0463a269083eee26905db93faf20&quot; &gt;&lt;/div&gt;\n",
              "        \n",
              "&lt;/body&gt;\n",
              "&lt;script&gt;\n",
              "    \n",
              "    \n",
              "            var map_ff0e0463a269083eee26905db93faf20 = L.map(\n",
              "                &quot;map_ff0e0463a269083eee26905db93faf20&quot;,\n",
              "                {\n",
              "                    center: [40.729046, -74.01073],\n",
              "                    crs: L.CRS.EPSG3857,\n",
              "                    zoom: 10,\n",
              "                    zoomControl: true,\n",
              "                    preferCanvas: false,\n",
              "                }\n",
              "            );\n",
              "\n",
              "            \n",
              "\n",
              "        \n",
              "    \n",
              "            var tile_layer_044fa7a482fd02d466019fff677c2141 = L.tileLayer(\n",
              "                &quot;https://{s}.tile.openstreetmap.org/{z}/{x}/{y}.png&quot;,\n",
              "                {&quot;attribution&quot;: &quot;Data by \\u0026copy; \\u003ca href=\\&quot;http://openstreetmap.org\\&quot;\\u003eOpenStreetMap\\u003c/a\\u003e, under \\u003ca href=\\&quot;http://www.openstreetmap.org/copyright\\&quot;\\u003eODbL\\u003c/a\\u003e.&quot;, &quot;detectRetina&quot;: false, &quot;maxNativeZoom&quot;: 18, &quot;maxZoom&quot;: 18, &quot;minZoom&quot;: 0, &quot;noWrap&quot;: false, &quot;opacity&quot;: 1, &quot;subdomains&quot;: &quot;abc&quot;, &quot;tms&quot;: false}\n",
              "            ).addTo(map_ff0e0463a269083eee26905db93faf20);\n",
              "        \n",
              "    \n",
              "            var circle_marker_20a9979861e91b1500490a7830b52fcf = L.circleMarker(\n",
              "                [40.729046, -74.01073],\n",
              "                {&quot;bubblingMouseEvents&quot;: true, &quot;color&quot;: &quot;#ee150e&quot;, &quot;dashArray&quot;: null, &quot;dashOffset&quot;: null, &quot;fill&quot;: true, &quot;fillColor&quot;: &quot;#ff8581&quot;, &quot;fillOpacity&quot;: 0.2, &quot;fillRule&quot;: &quot;evenodd&quot;, &quot;lineCap&quot;: &quot;round&quot;, &quot;lineJoin&quot;: &quot;round&quot;, &quot;opacity&quot;: 1.0, &quot;radius&quot;: 50, &quot;stroke&quot;: true, &quot;weight&quot;: 3}\n",
              "            ).addTo(map_ff0e0463a269083eee26905db93faf20);\n",
              "        \n",
              "    \n",
              "        var popup_694fe64044908793907f7011e782e719 = L.popup({&quot;maxWidth&quot;: &quot;100%&quot;});\n",
              "\n",
              "        \n",
              "            var html_6ea27f5fb0c22f2ef179c3cea22cb140 = $(`&lt;div id=&quot;html_6ea27f5fb0c22f2ef179c3cea22cb140&quot; style=&quot;width: 100.0%; height: 100.0%;&quot;&gt;11 times&lt;/div&gt;`)[0];\n",
              "            popup_694fe64044908793907f7011e782e719.setContent(html_6ea27f5fb0c22f2ef179c3cea22cb140);\n",
              "        \n",
              "\n",
              "        circle_marker_20a9979861e91b1500490a7830b52fcf.bindPopup(popup_694fe64044908793907f7011e782e719)\n",
              "        ;\n",
              "\n",
              "        \n",
              "    \n",
              "&lt;/script&gt;\n",
              "&lt;/html&gt;\" style=\"position:absolute;width:100%;height:100%;left:0;top:0;border:none !important;\" allowfullscreen webkitallowfullscreen mozallowfullscreen></iframe></div></div>"
            ]
          },
          "metadata": {},
          "execution_count": 28
        }
      ]
    }
  ]
}