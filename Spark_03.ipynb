{
  "nbformat": 4,
  "nbformat_minor": 0,
  "metadata": {
    "colab": {
      "name": "Spark_03.ipynb",
      "provenance": [],
      "authorship_tag": "ABX9TyOZ5LOZf5yRHZJCkIfpwTT9",
      "include_colab_link": true
    },
    "kernelspec": {
      "name": "python3",
      "display_name": "Python 3"
    },
    "language_info": {
      "name": "python"
    }
  },
  "cells": [
    {
      "cell_type": "markdown",
      "metadata": {
        "id": "view-in-github",
        "colab_type": "text"
      },
      "source": [
        "<a href=\"https://colab.research.google.com/github/saitzaw/apache-spark-colab/blob/main/Spark_03.ipynb\" target=\"_parent\"><img src=\"https://colab.research.google.com/assets/colab-badge.svg\" alt=\"Open In Colab\"/></a>"
      ]
    },
    {
      "cell_type": "markdown",
      "source": [
        "### Simple data analysis using Apache Spark\n",
        "- Read the Parquet file in Google Drive\n",
        "- Analysis the data using Apache Spark"
      ],
      "metadata": {
        "id": "35fDugm8-cRR"
      }
    },
    {
      "cell_type": "code",
      "execution_count": null,
      "metadata": {
        "colab": {
          "base_uri": "https://localhost:8080/"
        },
        "id": "Xzb1ipDR9j77",
        "outputId": "dd11d216-8240-4048-b50c-f06b8b9e9baa"
      },
      "outputs": [
        {
          "output_type": "stream",
          "name": "stdout",
          "text": [
            "Requirement already satisfied: pyspark in /usr/local/lib/python3.7/dist-packages (3.2.1)\n",
            "Requirement already satisfied: py4j==0.10.9.3 in /usr/local/lib/python3.7/dist-packages (from pyspark) (0.10.9.3)\n",
            "Requirement already satisfied: pyarrow in /usr/local/lib/python3.7/dist-packages (6.0.1)\n",
            "Requirement already satisfied: numpy>=1.16.6 in /usr/local/lib/python3.7/dist-packages (from pyarrow) (1.21.5)\n"
          ]
        }
      ],
      "source": [
        "!apt-get install openjdk-8-jdk-headless -qq > /dev/null\n",
        "!wget -q http://archive.apache.org/dist/spark/spark-3.1.1/spark-3.1.1-bin-hadoop3.2.tgz\n",
        "!tar -xf spark-3.1.1-bin-hadoop3.2.tgz\n",
        "!pip install -q findspark\n",
        "!pip install pyspark\n",
        "!pip install pyarrow"
      ]
    },
    {
      "cell_type": "code",
      "source": [
        "import os\n",
        "import findspark\n",
        "from pyarrow import parquet\n",
        "from pyspark.sql import SparkSession"
      ],
      "metadata": {
        "id": "dKCMhc3D9ujt"
      },
      "execution_count": 70,
      "outputs": []
    },
    {
      "cell_type": "code",
      "source": [
        "os.environ[\"JAVA_HOME\"] = \"/usr/lib/jvm/java-8-openjdk-amd64\"\n",
        "os.environ[\"SPARK_HOME\"] = \"/content/spark-3.1.1-bin-hadoop3.2\""
      ],
      "metadata": {
        "id": "LBewOuJi9vV6"
      },
      "execution_count": 71,
      "outputs": []
    },
    {
      "cell_type": "code",
      "source": [
        "findspark.init()\n",
        "spark = SparkSession.builder\\\n",
        "                    .master(\"local\")\\\n",
        "                    .appName(\"colab\")\\\n",
        "                    .config(\"spark.ui.port\", \"4050\")\\\n",
        "                    .getOrCreate()\n",
        "spark.conf.set(\"spark.sql.repl.eagerEval.enabled\", True)"
      ],
      "metadata": {
        "id": "FZB7UrPb9zwQ"
      },
      "execution_count": 72,
      "outputs": []
    },
    {
      "cell_type": "markdown",
      "source": [
        "### Data source \n",
        "https://data.cityofnewyork.us/Public-Safety/Motor-Vehicle-Collisions-Crashes/h9gi-nx95"
      ],
      "metadata": {
        "id": "MPlqMQeQ17DS"
      }
    },
    {
      "cell_type": "markdown",
      "source": [
        "### remark \n",
        "- change this csv file to parquet format to save file size\n",
        "\n",
        "#### method\n",
        "```\n",
        "# This is formatted as code\n",
        "df = pd.read_csv('path/file.csv', low_memory=False)\n",
        "df.to_parquet('path/file.parquet')\n",
        "```\n",
        "then upload to Google Drive\n"
      ],
      "metadata": {
        "id": "HNPO2_HCWMRt"
      }
    },
    {
      "cell_type": "code",
      "source": [
        "from google.colab import drive\n",
        "drive.mount('/content/gdrive')"
      ],
      "metadata": {
        "colab": {
          "base_uri": "https://localhost:8080/"
        },
        "id": "8LarLjlp1-UP",
        "outputId": "84d35feb-8d1d-45cb-a030-e08b015bfb95"
      },
      "execution_count": 73,
      "outputs": [
        {
          "output_type": "stream",
          "name": "stdout",
          "text": [
            "Drive already mounted at /content/gdrive; to attempt to forcibly remount, call drive.mount(\"/content/gdrive\", force_remount=True).\n"
          ]
        }
      ]
    },
    {
      "cell_type": "code",
      "source": [
        "data_file = '/content/gdrive/MyDrive/ColabDataset/MotorVehicleCollisionsCrashes.parquet'"
      ],
      "metadata": {
        "id": "bkSkTJFyi2O6"
      },
      "execution_count": 75,
      "outputs": []
    },
    {
      "cell_type": "code",
      "source": [
        "df = spark.read.parquet(data_file)"
      ],
      "metadata": {
        "id": "JF5PCo9ItwAj"
      },
      "execution_count": 76,
      "outputs": []
    },
    {
      "cell_type": "code",
      "source": [
        "df.head(5)"
      ],
      "metadata": {
        "colab": {
          "base_uri": "https://localhost:8080/"
        },
        "id": "o1xCKmyPVBF7",
        "outputId": "38e11c83-6c16-48ae-9601-da1ac2609c3b"
      },
      "execution_count": 77,
      "outputs": [
        {
          "output_type": "execute_result",
          "data": {
            "text/plain": [
              "[Row(CRASH_DATE='04/14/2021', CRASH_TIME='5:32', BOROUGH=None, ZIP_CODE=None, LATITUDE=None, LONGITUDE=None, LOCATION=None, ON_STREET_NAME='BRONX WHITESTONE BRIDGE', CROSS_STREET_NAME=None, OFF_STREET_NAME=None, NUMBER_OF_PERSONS_INJURED=0.0, NUMBER_OF_PERSONS_KILLED=0.0, NUMBER_OF_PEDESTRIANS_INJURED=0, NUMBER_OF_PEDESTRIANS_KILLED=0, NUMBER_OF_CYCLIST_INJURED=0, NUMBER_OF_CYCLIST_KILLED=0, NUMBER_OF_MOTORIST_INJURED=0, NUMBER_OF_MOTORIST_KILLED=0, CONTRIBUTING_FACTOR_VEHICLE_1='Following Too Closely', CONTRIBUTING_FACTOR_VEHICLE_2='Unspecified', CONTRIBUTING_FACTOR_VEHICLE_3=None, CONTRIBUTING_FACTOR_VEHICLE_4=None, CONTRIBUTING_FACTOR_VEHICLE_5=None, COLLISION_ID=4407480, VEHICLE_TYPE_CODE_1='Sedan', VEHICLE_TYPE_CODE_2='Sedan', VEHICLE_TYPE_CODE_3=None, VEHICLE_TYPE_CODE_4=None, VEHICLE_TYPE_CODE_5=None),\n",
              " Row(CRASH_DATE='04/13/2021', CRASH_TIME='21:35', BOROUGH='BROOKLYN', ZIP_CODE=11217.0, LATITUDE=40.68358, LONGITUDE=-73.97617, LOCATION='(40.68358, -73.97617)', ON_STREET_NAME=None, CROSS_STREET_NAME=None, OFF_STREET_NAME='620       ATLANTIC AVENUE               ', NUMBER_OF_PERSONS_INJURED=1.0, NUMBER_OF_PERSONS_KILLED=0.0, NUMBER_OF_PEDESTRIANS_INJURED=1, NUMBER_OF_PEDESTRIANS_KILLED=0, NUMBER_OF_CYCLIST_INJURED=0, NUMBER_OF_CYCLIST_KILLED=0, NUMBER_OF_MOTORIST_INJURED=0, NUMBER_OF_MOTORIST_KILLED=0, CONTRIBUTING_FACTOR_VEHICLE_1='Unspecified', CONTRIBUTING_FACTOR_VEHICLE_2=None, CONTRIBUTING_FACTOR_VEHICLE_3=None, CONTRIBUTING_FACTOR_VEHICLE_4=None, CONTRIBUTING_FACTOR_VEHICLE_5=None, COLLISION_ID=4407147, VEHICLE_TYPE_CODE_1='Sedan', VEHICLE_TYPE_CODE_2=None, VEHICLE_TYPE_CODE_3=None, VEHICLE_TYPE_CODE_4=None, VEHICLE_TYPE_CODE_5=None),\n",
              " Row(CRASH_DATE='04/15/2021', CRASH_TIME='16:15', BOROUGH=None, ZIP_CODE=None, LATITUDE=None, LONGITUDE=None, LOCATION=None, ON_STREET_NAME='HUTCHINSON RIVER PARKWAY', CROSS_STREET_NAME=None, OFF_STREET_NAME=None, NUMBER_OF_PERSONS_INJURED=0.0, NUMBER_OF_PERSONS_KILLED=0.0, NUMBER_OF_PEDESTRIANS_INJURED=0, NUMBER_OF_PEDESTRIANS_KILLED=0, NUMBER_OF_CYCLIST_INJURED=0, NUMBER_OF_CYCLIST_KILLED=0, NUMBER_OF_MOTORIST_INJURED=0, NUMBER_OF_MOTORIST_KILLED=0, CONTRIBUTING_FACTOR_VEHICLE_1='Pavement Slippery', CONTRIBUTING_FACTOR_VEHICLE_2=None, CONTRIBUTING_FACTOR_VEHICLE_3=None, CONTRIBUTING_FACTOR_VEHICLE_4=None, CONTRIBUTING_FACTOR_VEHICLE_5=None, COLLISION_ID=4407665, VEHICLE_TYPE_CODE_1='Station Wagon/Sport Utility Vehicle', VEHICLE_TYPE_CODE_2=None, VEHICLE_TYPE_CODE_3=None, VEHICLE_TYPE_CODE_4=None, VEHICLE_TYPE_CODE_5=None),\n",
              " Row(CRASH_DATE='04/13/2021', CRASH_TIME='16:00', BOROUGH='BROOKLYN', ZIP_CODE=11222.0, LATITUDE=None, LONGITUDE=None, LOCATION=None, ON_STREET_NAME='VANDERVORT AVENUE', CROSS_STREET_NAME='ANTHONY STREET', OFF_STREET_NAME=None, NUMBER_OF_PERSONS_INJURED=0.0, NUMBER_OF_PERSONS_KILLED=0.0, NUMBER_OF_PEDESTRIANS_INJURED=0, NUMBER_OF_PEDESTRIANS_KILLED=0, NUMBER_OF_CYCLIST_INJURED=0, NUMBER_OF_CYCLIST_KILLED=0, NUMBER_OF_MOTORIST_INJURED=0, NUMBER_OF_MOTORIST_KILLED=0, CONTRIBUTING_FACTOR_VEHICLE_1='Following Too Closely', CONTRIBUTING_FACTOR_VEHICLE_2='Unspecified', CONTRIBUTING_FACTOR_VEHICLE_3=None, CONTRIBUTING_FACTOR_VEHICLE_4=None, CONTRIBUTING_FACTOR_VEHICLE_5=None, COLLISION_ID=4407811, VEHICLE_TYPE_CODE_1='Sedan', VEHICLE_TYPE_CODE_2=None, VEHICLE_TYPE_CODE_3=None, VEHICLE_TYPE_CODE_4=None, VEHICLE_TYPE_CODE_5=None),\n",
              " Row(CRASH_DATE='04/12/2021', CRASH_TIME='8:25', BOROUGH=None, ZIP_CODE=None, LATITUDE=0.0, LONGITUDE=0.0, LOCATION='(0.0, 0.0)', ON_STREET_NAME='EDSON AVENUE                    ', CROSS_STREET_NAME=None, OFF_STREET_NAME=None, NUMBER_OF_PERSONS_INJURED=0.0, NUMBER_OF_PERSONS_KILLED=0.0, NUMBER_OF_PEDESTRIANS_INJURED=0, NUMBER_OF_PEDESTRIANS_KILLED=0, NUMBER_OF_CYCLIST_INJURED=0, NUMBER_OF_CYCLIST_KILLED=0, NUMBER_OF_MOTORIST_INJURED=0, NUMBER_OF_MOTORIST_KILLED=0, CONTRIBUTING_FACTOR_VEHICLE_1='Unspecified', CONTRIBUTING_FACTOR_VEHICLE_2='Unspecified', CONTRIBUTING_FACTOR_VEHICLE_3=None, CONTRIBUTING_FACTOR_VEHICLE_4=None, CONTRIBUTING_FACTOR_VEHICLE_5=None, COLLISION_ID=4406885, VEHICLE_TYPE_CODE_1='Station Wagon/Sport Utility Vehicle', VEHICLE_TYPE_CODE_2='Sedan', VEHICLE_TYPE_CODE_3=None, VEHICLE_TYPE_CODE_4=None, VEHICLE_TYPE_CODE_5=None)]"
            ]
          },
          "metadata": {},
          "execution_count": 77
        }
      ]
    },
    {
      "cell_type": "code",
      "source": [
        "df.show(5, truncate=True)"
      ],
      "metadata": {
        "colab": {
          "base_uri": "https://localhost:8080/"
        },
        "id": "aDHtm4r_U-OM",
        "outputId": "741b9707-6029-4b9c-d6bb-32d9317f881e"
      },
      "execution_count": 78,
      "outputs": [
        {
          "output_type": "stream",
          "name": "stdout",
          "text": [
            "+----------+----------+--------+--------+--------+---------+--------------------+--------------------+-----------------+--------------------+-------------------------+------------------------+-----------------------------+----------------------------+-------------------------+------------------------+--------------------------+-------------------------+-----------------------------+-----------------------------+-----------------------------+-----------------------------+-----------------------------+------------+--------------------+-------------------+-------------------+-------------------+-------------------+\n",
            "|CRASH_DATE|CRASH_TIME| BOROUGH|ZIP_CODE|LATITUDE|LONGITUDE|            LOCATION|      ON_STREET_NAME|CROSS_STREET_NAME|     OFF_STREET_NAME|NUMBER_OF_PERSONS_INJURED|NUMBER_OF_PERSONS_KILLED|NUMBER_OF_PEDESTRIANS_INJURED|NUMBER_OF_PEDESTRIANS_KILLED|NUMBER_OF_CYCLIST_INJURED|NUMBER_OF_CYCLIST_KILLED|NUMBER_OF_MOTORIST_INJURED|NUMBER_OF_MOTORIST_KILLED|CONTRIBUTING_FACTOR_VEHICLE_1|CONTRIBUTING_FACTOR_VEHICLE_2|CONTRIBUTING_FACTOR_VEHICLE_3|CONTRIBUTING_FACTOR_VEHICLE_4|CONTRIBUTING_FACTOR_VEHICLE_5|COLLISION_ID| VEHICLE_TYPE_CODE_1|VEHICLE_TYPE_CODE_2|VEHICLE_TYPE_CODE_3|VEHICLE_TYPE_CODE_4|VEHICLE_TYPE_CODE_5|\n",
            "+----------+----------+--------+--------+--------+---------+--------------------+--------------------+-----------------+--------------------+-------------------------+------------------------+-----------------------------+----------------------------+-------------------------+------------------------+--------------------------+-------------------------+-----------------------------+-----------------------------+-----------------------------+-----------------------------+-----------------------------+------------+--------------------+-------------------+-------------------+-------------------+-------------------+\n",
            "|04/14/2021|      5:32|    null|    null|    null|     null|                null|BRONX WHITESTONE ...|             null|                null|                      0.0|                     0.0|                            0|                           0|                        0|                       0|                         0|                        0|         Following Too Clo...|                  Unspecified|                         null|                         null|                         null|     4407480|               Sedan|              Sedan|               null|               null|               null|\n",
            "|04/13/2021|     21:35|BROOKLYN| 11217.0|40.68358|-73.97617|(40.68358, -73.97...|                null|             null|620       ATLANTI...|                      1.0|                     0.0|                            1|                           0|                        0|                       0|                         0|                        0|                  Unspecified|                         null|                         null|                         null|                         null|     4407147|               Sedan|               null|               null|               null|               null|\n",
            "|04/15/2021|     16:15|    null|    null|    null|     null|                null|HUTCHINSON RIVER ...|             null|                null|                      0.0|                     0.0|                            0|                           0|                        0|                       0|                         0|                        0|            Pavement Slippery|                         null|                         null|                         null|                         null|     4407665|Station Wagon/Spo...|               null|               null|               null|               null|\n",
            "|04/13/2021|     16:00|BROOKLYN| 11222.0|    null|     null|                null|   VANDERVORT AVENUE|   ANTHONY STREET|                null|                      0.0|                     0.0|                            0|                           0|                        0|                       0|                         0|                        0|         Following Too Clo...|                  Unspecified|                         null|                         null|                         null|     4407811|               Sedan|               null|               null|               null|               null|\n",
            "|04/12/2021|      8:25|    null|    null|     0.0|      0.0|          (0.0, 0.0)|EDSON AVENUE     ...|             null|                null|                      0.0|                     0.0|                            0|                           0|                        0|                       0|                         0|                        0|                  Unspecified|                  Unspecified|                         null|                         null|                         null|     4406885|Station Wagon/Spo...|              Sedan|               null|               null|               null|\n",
            "+----------+----------+--------+--------+--------+---------+--------------------+--------------------+-----------------+--------------------+-------------------------+------------------------+-----------------------------+----------------------------+-------------------------+------------------------+--------------------------+-------------------------+-----------------------------+-----------------------------+-----------------------------+-----------------------------+-----------------------------+------------+--------------------+-------------------+-------------------+-------------------+-------------------+\n",
            "only showing top 5 rows\n",
            "\n"
          ]
        }
      ]
    },
    {
      "cell_type": "code",
      "source": [
        "df.printSchema()"
      ],
      "metadata": {
        "colab": {
          "base_uri": "https://localhost:8080/"
        },
        "id": "H0NDZmqouP0v",
        "outputId": "d4149b5a-eaa9-42d7-f4b7-46502253029a"
      },
      "execution_count": 79,
      "outputs": [
        {
          "output_type": "stream",
          "name": "stdout",
          "text": [
            "root\n",
            " |-- CRASH_DATE: string (nullable = true)\n",
            " |-- CRASH_TIME: string (nullable = true)\n",
            " |-- BOROUGH: string (nullable = true)\n",
            " |-- ZIP_CODE: double (nullable = true)\n",
            " |-- LATITUDE: double (nullable = true)\n",
            " |-- LONGITUDE: double (nullable = true)\n",
            " |-- LOCATION: string (nullable = true)\n",
            " |-- ON_STREET_NAME: string (nullable = true)\n",
            " |-- CROSS_STREET_NAME: string (nullable = true)\n",
            " |-- OFF_STREET_NAME: string (nullable = true)\n",
            " |-- NUMBER_OF_PERSONS_INJURED: double (nullable = true)\n",
            " |-- NUMBER_OF_PERSONS_KILLED: double (nullable = true)\n",
            " |-- NUMBER_OF_PEDESTRIANS_INJURED: long (nullable = true)\n",
            " |-- NUMBER_OF_PEDESTRIANS_KILLED: long (nullable = true)\n",
            " |-- NUMBER_OF_CYCLIST_INJURED: long (nullable = true)\n",
            " |-- NUMBER_OF_CYCLIST_KILLED: long (nullable = true)\n",
            " |-- NUMBER_OF_MOTORIST_INJURED: long (nullable = true)\n",
            " |-- NUMBER_OF_MOTORIST_KILLED: long (nullable = true)\n",
            " |-- CONTRIBUTING_FACTOR_VEHICLE_1: string (nullable = true)\n",
            " |-- CONTRIBUTING_FACTOR_VEHICLE_2: string (nullable = true)\n",
            " |-- CONTRIBUTING_FACTOR_VEHICLE_3: string (nullable = true)\n",
            " |-- CONTRIBUTING_FACTOR_VEHICLE_4: string (nullable = true)\n",
            " |-- CONTRIBUTING_FACTOR_VEHICLE_5: string (nullable = true)\n",
            " |-- COLLISION_ID: long (nullable = true)\n",
            " |-- VEHICLE_TYPE_CODE_1: string (nullable = true)\n",
            " |-- VEHICLE_TYPE_CODE_2: string (nullable = true)\n",
            " |-- VEHICLE_TYPE_CODE_3: string (nullable = true)\n",
            " |-- VEHICLE_TYPE_CODE_4: string (nullable = true)\n",
            " |-- VEHICLE_TYPE_CODE_5: string (nullable = true)\n",
            "\n"
          ]
        }
      ]
    },
    {
      "cell_type": "markdown",
      "source": [
        "### Na Check and count"
      ],
      "metadata": {
        "id": "XRQ9JFqzw3fg"
      }
    },
    {
      "cell_type": "code",
      "source": [
        "Dict_Null = {col:df.filter(df[col].isNull()).count() for col in df.columns}"
      ],
      "metadata": {
        "id": "JMxz2Gw5vFFo"
      },
      "execution_count": 80,
      "outputs": []
    },
    {
      "cell_type": "code",
      "source": [
        "Dict_Null"
      ],
      "metadata": {
        "colab": {
          "base_uri": "https://localhost:8080/"
        },
        "id": "W36IMgoNxiEZ",
        "outputId": "731a379f-d1a2-429c-9b81-3a1c4ee74587"
      },
      "execution_count": 81,
      "outputs": [
        {
          "output_type": "execute_result",
          "data": {
            "text/plain": [
              "{'BOROUGH': 377582,\n",
              " 'COLLISION_ID': 0,\n",
              " 'CONTRIBUTING_FACTOR_VEHICLE_1': 3645,\n",
              " 'CONTRIBUTING_FACTOR_VEHICLE_2': 175068,\n",
              " 'CONTRIBUTING_FACTOR_VEHICLE_3': 972302,\n",
              " 'CONTRIBUTING_FACTOR_VEHICLE_4': 1031042,\n",
              " 'CONTRIBUTING_FACTOR_VEHICLE_5': 1043709,\n",
              " 'CRASH_DATE': 0,\n",
              " 'CRASH_TIME': 0,\n",
              " 'CROSS_STREET_NAME': 541455,\n",
              " 'LATITUDE': 75849,\n",
              " 'LOCATION': 75849,\n",
              " 'LONGITUDE': 75849,\n",
              " 'NUMBER_OF_CYCLIST_INJURED': 0,\n",
              " 'NUMBER_OF_CYCLIST_KILLED': 0,\n",
              " 'NUMBER_OF_MOTORIST_INJURED': 0,\n",
              " 'NUMBER_OF_MOTORIST_KILLED': 0,\n",
              " 'NUMBER_OF_PEDESTRIANS_INJURED': 0,\n",
              " 'NUMBER_OF_PEDESTRIANS_KILLED': 0,\n",
              " 'NUMBER_OF_PERSONS_INJURED': 17,\n",
              " 'NUMBER_OF_PERSONS_KILLED': 30,\n",
              " 'OFF_STREET_NAME': 794513,\n",
              " 'ON_STREET_NAME': 255438,\n",
              " 'VEHICLE_TYPE_CODE_1': 8721,\n",
              " 'VEHICLE_TYPE_CODE_2': 243280,\n",
              " 'VEHICLE_TYPE_CODE_3': 976623,\n",
              " 'VEHICLE_TYPE_CODE_4': 1031949,\n",
              " 'VEHICLE_TYPE_CODE_5': 1043919,\n",
              " 'ZIP_CODE': 377763}"
            ]
          },
          "metadata": {},
          "execution_count": 81
        }
      ]
    },
    {
      "cell_type": "code",
      "source": [
        "df.count()"
      ],
      "metadata": {
        "colab": {
          "base_uri": "https://localhost:8080/"
        },
        "id": "1OArHo-Cxj-3",
        "outputId": "2c4dd303-0262-4ddc-fe35-b120c3b97224"
      },
      "execution_count": 82,
      "outputs": [
        {
          "output_type": "execute_result",
          "data": {
            "text/plain": [
              "1048575"
            ]
          },
          "metadata": {},
          "execution_count": 82
        }
      ]
    },
    {
      "cell_type": "code",
      "source": [
        "Dict_Null_per = {col:(\n",
        "    df.filter(\n",
        "        df[col].isNull()\n",
        "        ).count()/df.count() * 100\n",
        "        ) for col in df.columns}"
      ],
      "metadata": {
        "id": "TV6QaO4896dD"
      },
      "execution_count": 84,
      "outputs": []
    },
    {
      "cell_type": "code",
      "source": [
        "Dict_Null_per"
      ],
      "metadata": {
        "colab": {
          "base_uri": "https://localhost:8080/"
        },
        "id": "-svFjlpU-E98",
        "outputId": "e992a767-3379-4ba6-bde0-6302dcf306d6"
      },
      "execution_count": 85,
      "outputs": [
        {
          "output_type": "execute_result",
          "data": {
            "text/plain": [
              "{'BOROUGH': 36.009059914646066,\n",
              " 'COLLISION_ID': 0.0,\n",
              " 'CONTRIBUTING_FACTOR_VEHICLE_1': 0.34761461984121306,\n",
              " 'CONTRIBUTING_FACTOR_VEHICLE_2': 16.695801444817967,\n",
              " 'CONTRIBUTING_FACTOR_VEHICLE_3': 92.72603294947905,\n",
              " 'CONTRIBUTING_FACTOR_VEHICLE_4': 98.32792122642634,\n",
              " 'CONTRIBUTING_FACTOR_VEHICLE_5': 99.53594163507617,\n",
              " 'CRASH_DATE': 0.0,\n",
              " 'CRASH_TIME': 0.0,\n",
              " 'CROSS_STREET_NAME': 51.637221944066944,\n",
              " 'LATITUDE': 7.233531220942709,\n",
              " 'LOCATION': 7.233531220942709,\n",
              " 'LONGITUDE': 7.233531220942709,\n",
              " 'NUMBER_OF_CYCLIST_INJURED': 0.0,\n",
              " 'NUMBER_OF_CYCLIST_KILLED': 0.0,\n",
              " 'NUMBER_OF_MOTORIST_INJURED': 0.0,\n",
              " 'NUMBER_OF_MOTORIST_KILLED': 0.0,\n",
              " 'NUMBER_OF_PEDESTRIANS_INJURED': 0.0,\n",
              " 'NUMBER_OF_PEDESTRIANS_KILLED': 0.0,\n",
              " 'NUMBER_OF_PERSONS_INJURED': 0.0016212478840330925,\n",
              " 'NUMBER_OF_PERSONS_KILLED': 0.0028610256777054574,\n",
              " 'OFF_STREET_NAME': 75.7707364756932,\n",
              " 'ON_STREET_NAME': 24.360489235390887,\n",
              " 'VEHICLE_TYPE_CODE_1': 0.8317001645089765,\n",
              " 'VEHICLE_TYPE_CODE_2': 23.201010895739458,\n",
              " 'VEHICLE_TYPE_CODE_3': 93.13811601459123,\n",
              " 'VEHICLE_TYPE_CODE_4': 98.41441956941563,\n",
              " 'VEHICLE_TYPE_CODE_5': 99.55596881482012,\n",
              " 'ZIP_CODE': 36.026321436234895}"
            ]
          },
          "metadata": {},
          "execution_count": 85
        }
      ]
    },
    {
      "cell_type": "markdown",
      "source": [
        "### Convert the string to datetime string\n",
        "- need to import to_date method"
      ],
      "metadata": {
        "id": "Xfs1Siq8ZB2q"
      }
    },
    {
      "cell_type": "code",
      "source": [
        "from pyspark.sql.functions import date_format, when, col, to_date"
      ],
      "metadata": {
        "id": "9guFFTwhXTSZ"
      },
      "execution_count": 93,
      "outputs": []
    },
    {
      "cell_type": "markdown",
      "source": [
        ""
      ],
      "metadata": {
        "id": "793gQWP_L9RZ"
      }
    },
    {
      "cell_type": "markdown",
      "source": [
        "### Note\n",
        "- if spark version > 3, use this setting \n",
        "\n",
        "spark.conf.set(\"spark.sql.legacy.timeParserPolicy\",\"LEGACY\")"
      ],
      "metadata": {
        "id": "GNmB9CF1NL2F"
      }
    },
    {
      "cell_type": "code",
      "source": [
        "spark.conf.set(\"spark.sql.legacy.timeParserPolicy\",\"LEGACY\")"
      ],
      "metadata": {
        "id": "1DPGwN0wNLLH"
      },
      "execution_count": 102,
      "outputs": []
    },
    {
      "cell_type": "code",
      "source": [
        "ndf = df.select(\n",
        "    date_format(\n",
        "        to_date(col('CRASH_DATE'), 'dd/mm/yyyyy'),'dd-mm-yyyy'\n",
        "        ).alias('date'))"
      ],
      "metadata": {
        "id": "NMUP1UxVactv"
      },
      "execution_count": 107,
      "outputs": []
    },
    {
      "cell_type": "code",
      "source": [
        "from pyspark.sql.functions import udf\n",
        "from pyspark.sql.types import ArrayType, StringType"
      ],
      "metadata": {
        "id": "DNOGjnNvPGBc"
      },
      "execution_count": 109,
      "outputs": []
    },
    {
      "cell_type": "code",
      "source": [
        "def splitUDF(row):\n",
        "    if \"/\" in row:\n",
        "        mm,dd,yyyy = row.split(\"/\")\n",
        "    elif \"-\" in row:\n",
        "        yyyy,mm,dd = row.split(\"-\")\n",
        "\n",
        "    return [yyyy,mm,dd]"
      ],
      "metadata": {
        "id": "mc0uQHCBPPrY"
      },
      "execution_count": 110,
      "outputs": []
    },
    {
      "cell_type": "code",
      "source": [
        "datSplitterUDF = udf(lambda row : splitUDF(row),ArrayType(StringType()))\n",
        "df\\\n",
        ".select(datSplitterUDF(df.CRASH_DATE).alias(\"dt\"))\\\n",
        ".withColumn('year',col('dt').getItem(0).cast('int'))\\\n",
        ".withColumn('month',col('dt').getItem(1).cast('int'))\\\n",
        ".withColumn('day',col('dt').getItem(2).cast('int'))\\\n",
        ".show()"
      ],
      "metadata": {
        "colab": {
          "base_uri": "https://localhost:8080/"
        },
        "id": "ChoVaO2nHgIj",
        "outputId": "f58836b3-f950-497a-90da-819f90d744af"
      },
      "execution_count": 111,
      "outputs": [
        {
          "output_type": "stream",
          "name": "stdout",
          "text": [
            "+--------------+----+-----+---+\n",
            "|            dt|year|month|day|\n",
            "+--------------+----+-----+---+\n",
            "|[2021, 04, 14]|2021|    4| 14|\n",
            "|[2021, 04, 13]|2021|    4| 13|\n",
            "|[2021, 04, 15]|2021|    4| 15|\n",
            "|[2021, 04, 13]|2021|    4| 13|\n",
            "|[2021, 04, 12]|2021|    4| 12|\n",
            "|[2021, 04, 13]|2021|    4| 13|\n",
            "|[2021, 04, 13]|2021|    4| 13|\n",
            "|[2021, 04, 16]|2021|    4| 16|\n",
            "|[2021, 04, 11]|2021|    4| 11|\n",
            "|[2021, 04, 16]|2021|    4| 16|\n",
            "|[2021, 04, 11]|2021|    4| 11|\n",
            "|[2021, 04, 15]|2021|    4| 15|\n",
            "|[2021, 04, 10]|2021|    4| 10|\n",
            "|[2019, 05, 21]|2019|    5| 21|\n",
            "|[2020, 01, 21]|2020|    1| 21|\n",
            "|[2021, 02, 26]|2021|    2| 26|\n",
            "|[2021, 03, 09]|2021|    3|  9|\n",
            "|[2021, 03, 31]|2021|    3| 31|\n",
            "|[2021, 04, 06]|2021|    4|  6|\n",
            "|[2021, 04, 09]|2021|    4|  9|\n",
            "+--------------+----+-----+---+\n",
            "only showing top 20 rows\n",
            "\n"
          ]
        }
      ]
    },
    {
      "cell_type": "code",
      "source": [
        "df.columns"
      ],
      "metadata": {
        "colab": {
          "base_uri": "https://localhost:8080/"
        },
        "id": "vka7QWX2PTOe",
        "outputId": "24807699-340d-4c4f-aced-a6126be0a6bc"
      },
      "execution_count": 112,
      "outputs": [
        {
          "output_type": "execute_result",
          "data": {
            "text/plain": [
              "['CRASH_DATE',\n",
              " 'CRASH_TIME',\n",
              " 'BOROUGH',\n",
              " 'ZIP_CODE',\n",
              " 'LATITUDE',\n",
              " 'LONGITUDE',\n",
              " 'LOCATION',\n",
              " 'ON_STREET_NAME',\n",
              " 'CROSS_STREET_NAME',\n",
              " 'OFF_STREET_NAME',\n",
              " 'NUMBER_OF_PERSONS_INJURED',\n",
              " 'NUMBER_OF_PERSONS_KILLED',\n",
              " 'NUMBER_OF_PEDESTRIANS_INJURED',\n",
              " 'NUMBER_OF_PEDESTRIANS_KILLED',\n",
              " 'NUMBER_OF_CYCLIST_INJURED',\n",
              " 'NUMBER_OF_CYCLIST_KILLED',\n",
              " 'NUMBER_OF_MOTORIST_INJURED',\n",
              " 'NUMBER_OF_MOTORIST_KILLED',\n",
              " 'CONTRIBUTING_FACTOR_VEHICLE_1',\n",
              " 'CONTRIBUTING_FACTOR_VEHICLE_2',\n",
              " 'CONTRIBUTING_FACTOR_VEHICLE_3',\n",
              " 'CONTRIBUTING_FACTOR_VEHICLE_4',\n",
              " 'CONTRIBUTING_FACTOR_VEHICLE_5',\n",
              " 'COLLISION_ID',\n",
              " 'VEHICLE_TYPE_CODE_1',\n",
              " 'VEHICLE_TYPE_CODE_2',\n",
              " 'VEHICLE_TYPE_CODE_3',\n",
              " 'VEHICLE_TYPE_CODE_4',\n",
              " 'VEHICLE_TYPE_CODE_5']"
            ]
          },
          "metadata": {},
          "execution_count": 112
        }
      ]
    },
    {
      "cell_type": "code",
      "source": [
        "ndf = df\\\n",
        ".select('*', datSplitterUDF(df.CRASH_DATE).alias(\"dt\"))\\\n",
        ".withColumn('year',col('dt').getItem(0).cast('int'))\\\n",
        ".withColumn('month',col('dt').getItem(1).cast('int'))\\\n",
        ".withColumn('day',col('dt').getItem(2).cast('int'))"
      ],
      "metadata": {
        "id": "WCK7ethePhfI"
      },
      "execution_count": 118,
      "outputs": []
    },
    {
      "cell_type": "code",
      "source": [
        "ndf.show(5, truncate=False)"
      ],
      "metadata": {
        "colab": {
          "base_uri": "https://localhost:8080/"
        },
        "id": "JEWQApA2Ri06",
        "outputId": "7f010ce2-c2b3-495f-aa55-00a4a5eb9a57"
      },
      "execution_count": 119,
      "outputs": [
        {
          "output_type": "stream",
          "name": "stdout",
          "text": [
            "+----------+----------+--------+--------+--------+---------+---------------------+--------------------------------+-----------------+----------------------------------------+-------------------------+------------------------+-----------------------------+----------------------------+-------------------------+------------------------+--------------------------+-------------------------+-----------------------------+-----------------------------+-----------------------------+-----------------------------+-----------------------------+------------+-----------------------------------+-------------------+-------------------+-------------------+-------------------+--------------+----+-----+---+\n",
            "|CRASH_DATE|CRASH_TIME|BOROUGH |ZIP_CODE|LATITUDE|LONGITUDE|LOCATION             |ON_STREET_NAME                  |CROSS_STREET_NAME|OFF_STREET_NAME                         |NUMBER_OF_PERSONS_INJURED|NUMBER_OF_PERSONS_KILLED|NUMBER_OF_PEDESTRIANS_INJURED|NUMBER_OF_PEDESTRIANS_KILLED|NUMBER_OF_CYCLIST_INJURED|NUMBER_OF_CYCLIST_KILLED|NUMBER_OF_MOTORIST_INJURED|NUMBER_OF_MOTORIST_KILLED|CONTRIBUTING_FACTOR_VEHICLE_1|CONTRIBUTING_FACTOR_VEHICLE_2|CONTRIBUTING_FACTOR_VEHICLE_3|CONTRIBUTING_FACTOR_VEHICLE_4|CONTRIBUTING_FACTOR_VEHICLE_5|COLLISION_ID|VEHICLE_TYPE_CODE_1                |VEHICLE_TYPE_CODE_2|VEHICLE_TYPE_CODE_3|VEHICLE_TYPE_CODE_4|VEHICLE_TYPE_CODE_5|dt            |year|month|day|\n",
            "+----------+----------+--------+--------+--------+---------+---------------------+--------------------------------+-----------------+----------------------------------------+-------------------------+------------------------+-----------------------------+----------------------------+-------------------------+------------------------+--------------------------+-------------------------+-----------------------------+-----------------------------+-----------------------------+-----------------------------+-----------------------------+------------+-----------------------------------+-------------------+-------------------+-------------------+-------------------+--------------+----+-----+---+\n",
            "|04/14/2021|5:32      |null    |null    |null    |null     |null                 |BRONX WHITESTONE BRIDGE         |null             |null                                    |0.0                      |0.0                     |0                            |0                           |0                        |0                       |0                         |0                        |Following Too Closely        |Unspecified                  |null                         |null                         |null                         |4407480     |Sedan                              |Sedan              |null               |null               |null               |[2021, 04, 14]|2021|4    |14 |\n",
            "|04/13/2021|21:35     |BROOKLYN|11217.0 |40.68358|-73.97617|(40.68358, -73.97617)|null                            |null             |620       ATLANTIC AVENUE               |1.0                      |0.0                     |1                            |0                           |0                        |0                       |0                         |0                        |Unspecified                  |null                         |null                         |null                         |null                         |4407147     |Sedan                              |null               |null               |null               |null               |[2021, 04, 13]|2021|4    |13 |\n",
            "|04/15/2021|16:15     |null    |null    |null    |null     |null                 |HUTCHINSON RIVER PARKWAY        |null             |null                                    |0.0                      |0.0                     |0                            |0                           |0                        |0                       |0                         |0                        |Pavement Slippery            |null                         |null                         |null                         |null                         |4407665     |Station Wagon/Sport Utility Vehicle|null               |null               |null               |null               |[2021, 04, 15]|2021|4    |15 |\n",
            "|04/13/2021|16:00     |BROOKLYN|11222.0 |null    |null     |null                 |VANDERVORT AVENUE               |ANTHONY STREET   |null                                    |0.0                      |0.0                     |0                            |0                           |0                        |0                       |0                         |0                        |Following Too Closely        |Unspecified                  |null                         |null                         |null                         |4407811     |Sedan                              |null               |null               |null               |null               |[2021, 04, 13]|2021|4    |13 |\n",
            "|04/12/2021|8:25      |null    |null    |0.0     |0.0      |(0.0, 0.0)           |EDSON AVENUE                    |null             |null                                    |0.0                      |0.0                     |0                            |0                           |0                        |0                       |0                         |0                        |Unspecified                  |Unspecified                  |null                         |null                         |null                         |4406885     |Station Wagon/Sport Utility Vehicle|Sedan              |null               |null               |null               |[2021, 04, 12]|2021|4    |12 |\n",
            "+----------+----------+--------+--------+--------+---------+---------------------+--------------------------------+-----------------+----------------------------------------+-------------------------+------------------------+-----------------------------+----------------------------+-------------------------+------------------------+--------------------------+-------------------------+-----------------------------+-----------------------------+-----------------------------+-----------------------------+-----------------------------+------------+-----------------------------------+-------------------+-------------------+-------------------+-------------------+--------------+----+-----+---+\n",
            "only showing top 5 rows\n",
            "\n"
          ]
        }
      ]
    },
    {
      "cell_type": "code",
      "source": [
        "drop_list = [\n",
        "             'CRASH_DATE',\n",
        "             'BOROUGH',\n",
        "             'ZIP_CODE',\n",
        "             'LOCATION',\n",
        "             'ON_STREET_NAME',\n",
        "             'CROSS_STREET_NAME',\n",
        "             'OFF_STREET_NAME',\n",
        "             'CONTRIBUTING_FACTOR_VEHICLE_1',\n",
        "             'CONTRIBUTING_FACTOR_VEHICLE_2',\n",
        "             'CONTRIBUTING_FACTOR_VEHICLE_3',\n",
        "             'CONTRIBUTING_FACTOR_VEHICLE_4',\n",
        "             'CONTRIBUTING_FACTOR_VEHICLE_5',\n",
        "             'COLLISION_ID',\n",
        "             'VEHICLE_TYPE_CODE_1',\n",
        "             'VEHICLE_TYPE_CODE_2',\n",
        "             'VEHICLE_TYPE_CODE_3',\n",
        "             'VEHICLE_TYPE_CODE_4',\n",
        "             'VEHICLE_TYPE_CODE_5',\n",
        "             'dt'\n",
        "             ]"
      ],
      "metadata": {
        "id": "vSjRgkmsQSXY"
      },
      "execution_count": 131,
      "outputs": []
    },
    {
      "cell_type": "code",
      "source": [
        "slice_df = ndf.drop(*drop_list)"
      ],
      "metadata": {
        "id": "g_xrjIn8TE3d"
      },
      "execution_count": 132,
      "outputs": []
    },
    {
      "cell_type": "code",
      "source": [
        "slice_df.show(5, truncate=False)"
      ],
      "metadata": {
        "colab": {
          "base_uri": "https://localhost:8080/"
        },
        "id": "635mwiXtSOWJ",
        "outputId": "f9f4808f-e626-459f-9999-707ce67e575f"
      },
      "execution_count": 133,
      "outputs": [
        {
          "output_type": "stream",
          "name": "stdout",
          "text": [
            "+----------+--------+---------+-------------------------+------------------------+-----------------------------+----------------------------+-------------------------+------------------------+--------------------------+-------------------------+----+-----+---+\n",
            "|CRASH_TIME|LATITUDE|LONGITUDE|NUMBER_OF_PERSONS_INJURED|NUMBER_OF_PERSONS_KILLED|NUMBER_OF_PEDESTRIANS_INJURED|NUMBER_OF_PEDESTRIANS_KILLED|NUMBER_OF_CYCLIST_INJURED|NUMBER_OF_CYCLIST_KILLED|NUMBER_OF_MOTORIST_INJURED|NUMBER_OF_MOTORIST_KILLED|year|month|day|\n",
            "+----------+--------+---------+-------------------------+------------------------+-----------------------------+----------------------------+-------------------------+------------------------+--------------------------+-------------------------+----+-----+---+\n",
            "|5:32      |null    |null     |0.0                      |0.0                     |0                            |0                           |0                        |0                       |0                         |0                        |2021|4    |14 |\n",
            "|21:35     |40.68358|-73.97617|1.0                      |0.0                     |1                            |0                           |0                        |0                       |0                         |0                        |2021|4    |13 |\n",
            "|16:15     |null    |null     |0.0                      |0.0                     |0                            |0                           |0                        |0                       |0                         |0                        |2021|4    |15 |\n",
            "|16:00     |null    |null     |0.0                      |0.0                     |0                            |0                           |0                        |0                       |0                         |0                        |2021|4    |13 |\n",
            "|8:25      |0.0     |0.0      |0.0                      |0.0                     |0                            |0                           |0                        |0                       |0                         |0                        |2021|4    |12 |\n",
            "+----------+--------+---------+-------------------------+------------------------+-----------------------------+----------------------------+-------------------------+------------------------+--------------------------+-------------------------+----+-----+---+\n",
            "only showing top 5 rows\n",
            "\n"
          ]
        }
      ]
    },
    {
      "cell_type": "code",
      "source": [
        "slice_df.count()"
      ],
      "metadata": {
        "colab": {
          "base_uri": "https://localhost:8080/"
        },
        "id": "MYI92Ww5WETN",
        "outputId": "dd6f8caa-46c6-4cb0-af9b-720952143b46"
      },
      "execution_count": 139,
      "outputs": [
        {
          "output_type": "execute_result",
          "data": {
            "text/plain": [
              "1048575"
            ]
          },
          "metadata": {},
          "execution_count": 139
        }
      ]
    },
    {
      "cell_type": "code",
      "source": [
        "rm_na_loc_null = slice_df.filter(\n",
        "    (df['LATITUDE'].isNotNull())\n",
        "    &(df['LONGITUDE'].isNotNull()))"
      ],
      "metadata": {
        "id": "2ETawYqcSzjD"
      },
      "execution_count": 137,
      "outputs": []
    },
    {
      "cell_type": "code",
      "source": [
        "rm_na_loc_null.count()"
      ],
      "metadata": {
        "colab": {
          "base_uri": "https://localhost:8080/"
        },
        "id": "62OKI-KTWAwe",
        "outputId": "1d23656d-4e58-4b48-9d2f-a9a1fdae0314"
      },
      "execution_count": 138,
      "outputs": [
        {
          "output_type": "execute_result",
          "data": {
            "text/plain": [
              "972726"
            ]
          },
          "metadata": {},
          "execution_count": 138
        }
      ]
    },
    {
      "cell_type": "code",
      "source": [
        "rm_na_loc_null.show(5, truncate=False)"
      ],
      "metadata": {
        "colab": {
          "base_uri": "https://localhost:8080/"
        },
        "id": "-ac_CEX0VCI9",
        "outputId": "ff62937d-a750-4e6b-eee2-2d771dfa6e47"
      },
      "execution_count": 140,
      "outputs": [
        {
          "output_type": "stream",
          "name": "stdout",
          "text": [
            "+----------+---------+----------+-------------------------+------------------------+-----------------------------+----------------------------+-------------------------+------------------------+--------------------------+-------------------------+----+-----+---+\n",
            "|CRASH_TIME|LATITUDE |LONGITUDE |NUMBER_OF_PERSONS_INJURED|NUMBER_OF_PERSONS_KILLED|NUMBER_OF_PEDESTRIANS_INJURED|NUMBER_OF_PEDESTRIANS_KILLED|NUMBER_OF_CYCLIST_INJURED|NUMBER_OF_CYCLIST_KILLED|NUMBER_OF_MOTORIST_INJURED|NUMBER_OF_MOTORIST_KILLED|year|month|day|\n",
            "+----------+---------+----------+-------------------------+------------------------+-----------------------------+----------------------------+-------------------------+------------------------+--------------------------+-------------------------+----+-----+---+\n",
            "|21:35     |40.68358 |-73.97617 |1.0                      |0.0                     |1                            |0                           |0                        |0                       |0                         |0                        |2021|4    |13 |\n",
            "|8:25      |0.0      |0.0       |0.0                      |0.0                     |0                            |0                           |0                        |0                       |0                         |0                        |2021|4    |12 |\n",
            "|22:50     |40.69754 |-73.98312 |0.0                      |0.0                     |0                            |0                           |0                        |0                       |0                         |0                        |2019|5    |21 |\n",
            "|14:50     |40.843464|-73.836   |0.0                      |0.0                     |0                            |0                           |0                        |0                       |0                         |0                        |2021|2    |26 |\n",
            "|11:00     |40.692547|-73.990974|1.0                      |0.0                     |0                            |0                           |0                        |0                       |1                         |0                        |2021|3    |9  |\n",
            "+----------+---------+----------+-------------------------+------------------------+-----------------------------+----------------------------+-------------------------+------------------------+--------------------------+-------------------------+----+-----+---+\n",
            "only showing top 5 rows\n",
            "\n"
          ]
        }
      ]
    },
    {
      "cell_type": "code",
      "source": [
        "\n",
        "rename_df = rm_na_loc_null\\\n",
        ".withColumnRenamed(\"CRASH_TIME\", \"time\")\\\n",
        ".withColumnRenamed(\"LATITUDE\", \"lat\")\\\n",
        ".withColumnRenamed(\"LONGITUDE\", \"lon\")\\\n",
        ".withColumnRenamed(\"NUMBER_OF_PERSONS_INJURED\", \"npi\")\\\n",
        ".withColumnRenamed(\"NUMBER_OF_PERSONS_KILLED\", \"npk\")\\\n",
        ".withColumnRenamed(\"NUMBER_OF_PEDESTRIANS_INJURED\", \"npedi\")\\\n",
        ".withColumnRenamed(\"NUMBER_OF_PEDESTRIANS_KILLED\", \"npedk\")\\\n",
        ".withColumnRenamed(\"NUMBER_OF_CYCLIST_INJURED\", \"nci\")\\\n",
        ".withColumnRenamed(\"NUMBER_OF_CYCLIST_KILLED\", \"nck\")\\\n",
        ".withColumnRenamed(\"NUMBER_OF_MOTORIST_INJURED\", \"nmi\")\\\n",
        ".withColumnRenamed(\"NUMBER_OF_MOTORIST_KILLED\", \"nmk\")\n"
      ],
      "metadata": {
        "id": "EogJvcLaVDqn"
      },
      "execution_count": 141,
      "outputs": []
    },
    {
      "cell_type": "code",
      "source": [
        "rename_df.show(5, truncate=False)"
      ],
      "metadata": {
        "colab": {
          "base_uri": "https://localhost:8080/"
        },
        "id": "oMKHHsbBa3pR",
        "outputId": "f9d6b6cd-97a1-4241-d177-0596553db50b"
      },
      "execution_count": 143,
      "outputs": [
        {
          "output_type": "stream",
          "name": "stdout",
          "text": [
            "+-----+---------+----------+---+---+-----+-----+---+---+---+---+----+-----+---+\n",
            "|time |lat      |lon       |npi|npk|npedi|npedk|nci|nck|nmi|nmk|year|month|day|\n",
            "+-----+---------+----------+---+---+-----+-----+---+---+---+---+----+-----+---+\n",
            "|21:35|40.68358 |-73.97617 |1.0|0.0|1    |0    |0  |0  |0  |0  |2021|4    |13 |\n",
            "|8:25 |0.0      |0.0       |0.0|0.0|0    |0    |0  |0  |0  |0  |2021|4    |12 |\n",
            "|22:50|40.69754 |-73.98312 |0.0|0.0|0    |0    |0  |0  |0  |0  |2019|5    |21 |\n",
            "|14:50|40.843464|-73.836   |0.0|0.0|0    |0    |0  |0  |0  |0  |2021|2    |26 |\n",
            "|11:00|40.692547|-73.990974|1.0|0.0|0    |0    |0  |0  |1  |0  |2021|3    |9  |\n",
            "+-----+---------+----------+---+---+-----+-----+---+---+---+---+----+-----+---+\n",
            "only showing top 5 rows\n",
            "\n"
          ]
        }
      ]
    },
    {
      "cell_type": "code",
      "source": [
        "rename_df.columns"
      ],
      "metadata": {
        "colab": {
          "base_uri": "https://localhost:8080/"
        },
        "id": "1vwL57vQcGa-",
        "outputId": "dce0c9e5-3a97-4540-c5ce-c7d566ccc860"
      },
      "execution_count": 144,
      "outputs": [
        {
          "output_type": "execute_result",
          "data": {
            "text/plain": [
              "['time',\n",
              " 'lat',\n",
              " 'lon',\n",
              " 'npi',\n",
              " 'npk',\n",
              " 'npedi',\n",
              " 'npedk',\n",
              " 'nci',\n",
              " 'nck',\n",
              " 'nmi',\n",
              " 'nmk',\n",
              " 'year',\n",
              " 'month',\n",
              " 'day']"
            ]
          },
          "metadata": {},
          "execution_count": 144
        }
      ]
    },
    {
      "cell_type": "code",
      "source": [
        "reorder_df = rename_df.select(\n",
        "    \"year\", \"month\", \"day\",\n",
        "    \"time\", \"lat\", \"lon\",\n",
        "    \"npi\", \"npk\", \"npedi\",\n",
        "    \"npedk\", \"nci\", \"nck\",\n",
        "    \"nmi\", \"nmk\"\n",
        "    )"
      ],
      "metadata": {
        "id": "saWOsOgfa5Jg"
      },
      "execution_count": 146,
      "outputs": []
    },
    {
      "cell_type": "code",
      "source": [
        "reorder_df.show(5, truncate=False)"
      ],
      "metadata": {
        "colab": {
          "base_uri": "https://localhost:8080/"
        },
        "id": "bbRLsCWgcp3E",
        "outputId": "62a7b706-e915-49bc-a01c-4c33f5f5a39d"
      },
      "execution_count": 149,
      "outputs": [
        {
          "output_type": "stream",
          "name": "stdout",
          "text": [
            "+----+-----+---+-----+---------+----------+---+---+-----+-----+---+---+---+---+\n",
            "|year|month|day|time |lat      |lon       |npi|npk|npedi|npedk|nci|nck|nmi|nmk|\n",
            "+----+-----+---+-----+---------+----------+---+---+-----+-----+---+---+---+---+\n",
            "|2021|4    |13 |21:35|40.68358 |-73.97617 |1.0|0.0|1    |0    |0  |0  |0  |0  |\n",
            "|2021|4    |12 |8:25 |0.0      |0.0       |0.0|0.0|0    |0    |0  |0  |0  |0  |\n",
            "|2019|5    |21 |22:50|40.69754 |-73.98312 |0.0|0.0|0    |0    |0  |0  |0  |0  |\n",
            "|2021|2    |26 |14:50|40.843464|-73.836   |0.0|0.0|0    |0    |0  |0  |0  |0  |\n",
            "|2021|3    |9  |11:00|40.692547|-73.990974|1.0|0.0|0    |0    |0  |0  |1  |0  |\n",
            "+----+-----+---+-----+---------+----------+---+---+-----+-----+---+---+---+---+\n",
            "only showing top 5 rows\n",
            "\n"
          ]
        }
      ]
    },
    {
      "cell_type": "code",
      "source": [
        "reorder_df.printSchema()"
      ],
      "metadata": {
        "colab": {
          "base_uri": "https://localhost:8080/"
        },
        "id": "LfiQLXkFdKWZ",
        "outputId": "daf2ff0c-9b07-454d-fc8a-55d6e4ec70aa"
      },
      "execution_count": 150,
      "outputs": [
        {
          "output_type": "stream",
          "name": "stdout",
          "text": [
            "root\n",
            " |-- year: integer (nullable = true)\n",
            " |-- month: integer (nullable = true)\n",
            " |-- day: integer (nullable = true)\n",
            " |-- time: string (nullable = true)\n",
            " |-- lat: double (nullable = true)\n",
            " |-- lon: double (nullable = true)\n",
            " |-- npi: double (nullable = true)\n",
            " |-- npk: double (nullable = true)\n",
            " |-- npedi: long (nullable = true)\n",
            " |-- npedk: long (nullable = true)\n",
            " |-- nci: long (nullable = true)\n",
            " |-- nck: long (nullable = true)\n",
            " |-- nmi: long (nullable = true)\n",
            " |-- nmk: long (nullable = true)\n",
            "\n"
          ]
        }
      ]
    },
    {
      "cell_type": "markdown",
      "source": [
        "### get only 2020 data set"
      ],
      "metadata": {
        "id": "lA9pRzcHeU86"
      }
    },
    {
      "cell_type": "code",
      "source": [
        "df_20 = reorder_df.filter(col('year') == 2020)"
      ],
      "metadata": {
        "id": "-4S9SgO1eBIy"
      },
      "execution_count": 151,
      "outputs": []
    },
    {
      "cell_type": "code",
      "source": [
        "df_20.count()"
      ],
      "metadata": {
        "colab": {
          "base_uri": "https://localhost:8080/"
        },
        "id": "zclt6sNUemvr",
        "outputId": "57e47495-2388-4ae2-c073-9ee39a52c9b6"
      },
      "execution_count": 152,
      "outputs": [
        {
          "output_type": "execute_result",
          "data": {
            "text/plain": [
              "103989"
            ]
          },
          "metadata": {},
          "execution_count": 152
        }
      ]
    },
    {
      "cell_type": "code",
      "source": [
        "df_20.select(\n",
        "    \"npi\", \"npk\", \"npedi\",\n",
        "    \"npedk\", \"nci\", \"nck\",\n",
        "    \"nmi\", \"nmk\"\n",
        ").describe().show()"
      ],
      "metadata": {
        "colab": {
          "base_uri": "https://localhost:8080/"
        },
        "id": "J5wQW34reoVw",
        "outputId": "1f2ae380-e116-45be-8aec-11ec06f9ec34"
      },
      "execution_count": 155,
      "outputs": [
        {
          "output_type": "stream",
          "name": "stdout",
          "text": [
            "+-------+------------------+--------------------+-------------------+--------------------+-------------------+--------------------+------------------+--------------------+\n",
            "|summary|               npi|                 npk|              npedi|               npedk|                nci|                 nck|               nmi|                 nmk|\n",
            "+-------+------------------+--------------------+-------------------+--------------------+-------------------+--------------------+------------------+--------------------+\n",
            "|  count|            103989|              103989|             103989|              103989|             103989|              103989|            103989|              103989|\n",
            "|   mean|0.3909355797247786|0.002288703612882...|0.06161228591485638|9.039417630710941E-4|0.05073613555279886|2.307936416351729...|0.2785871582571233|0.001153968208175...|\n",
            "| stddev|0.7416904881029619|0.051280417306981005| 0.2520113741506671|0.030370484449129483| 0.2243563481228609|0.015190213785317286|0.7065035779821207| 0.03846567889746473|\n",
            "|    min|               0.0|                 0.0|                  0|                   0|                  0|                   0|                 0|                   0|\n",
            "|    max|              15.0|                 4.0|                  7|                   2|                  3|                   1|                15|                   4|\n",
            "+-------+------------------+--------------------+-------------------+--------------------+-------------------+--------------------+------------------+--------------------+\n",
            "\n"
          ]
        }
      ]
    },
    {
      "cell_type": "code",
      "source": [
        ""
      ],
      "metadata": {
        "id": "RqCfGS2_fAy9"
      },
      "execution_count": null,
      "outputs": []
    }
  ]
}