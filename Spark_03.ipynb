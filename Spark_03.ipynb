{
  "nbformat": 4,
  "nbformat_minor": 0,
  "metadata": {
    "colab": {
      "name": "Spark_03.ipynb",
      "provenance": [],
      "authorship_tag": "ABX9TyM1aWk1bvzREt+Uek+my8QS"
    },
    "kernelspec": {
      "name": "python3",
      "display_name": "Python 3"
    },
    "language_info": {
      "name": "python"
    }
  },
  "cells": [
    {
      "cell_type": "markdown",
      "source": [
        "### Simple data analysis using Apache Spark\n",
        "- Read the Parquet file in Google Drive\n",
        "- Analysis the data using Apache Spark"
      ],
      "metadata": {
        "id": "35fDugm8-cRR"
      }
    },
    {
      "cell_type": "code",
      "execution_count": 3,
      "metadata": {
        "colab": {
          "base_uri": "https://localhost:8080/"
        },
        "id": "Xzb1ipDR9j77",
        "outputId": "cd4eca39-4142-4786-ae3f-062ab7ee8c0e"
      },
      "outputs": [
        {
          "output_type": "stream",
          "name": "stdout",
          "text": [
            "Collecting pyspark\n",
            "  Downloading pyspark-3.2.1.tar.gz (281.4 MB)\n",
            "\u001b[K     |████████████████████████████████| 281.4 MB 49 kB/s \n",
            "\u001b[?25hCollecting py4j==0.10.9.3\n",
            "  Downloading py4j-0.10.9.3-py2.py3-none-any.whl (198 kB)\n",
            "\u001b[K     |████████████████████████████████| 198 kB 67.2 MB/s \n",
            "\u001b[?25hBuilding wheels for collected packages: pyspark\n",
            "  Building wheel for pyspark (setup.py) ... \u001b[?25l\u001b[?25hdone\n",
            "  Created wheel for pyspark: filename=pyspark-3.2.1-py2.py3-none-any.whl size=281853642 sha256=5e2b980e70ecef95ba3e4bef8a4c2c5f216fac419b9f7f49032d35bf99d32fd7\n",
            "  Stored in directory: /root/.cache/pip/wheels/9f/f5/07/7cd8017084dce4e93e84e92efd1e1d5334db05f2e83bcef74f\n",
            "Successfully built pyspark\n",
            "Installing collected packages: py4j, pyspark\n",
            "Successfully installed py4j-0.10.9.3 pyspark-3.2.1\n",
            "Requirement already satisfied: pyarrow in /usr/local/lib/python3.7/dist-packages (6.0.1)\n",
            "Requirement already satisfied: numpy>=1.16.6 in /usr/local/lib/python3.7/dist-packages (from pyarrow) (1.21.5)\n"
          ]
        }
      ],
      "source": [
        "!apt-get install openjdk-8-jdk-headless -qq > /dev/null\n",
        "!wget -q http://archive.apache.org/dist/spark/spark-3.1.1/spark-3.1.1-bin-hadoop3.2.tgz\n",
        "!tar -xf spark-3.1.1-bin-hadoop3.2.tgz\n",
        "!pip install -q findspark\n",
        "!pip install pyspark\n",
        "!pip install pyarrow"
      ]
    },
    {
      "cell_type": "code",
      "source": [
        "import os\n",
        "import findspark\n",
        "from pyarrow import parquet\n",
        "from pyspark.sql import SparkSession"
      ],
      "metadata": {
        "id": "dKCMhc3D9ujt"
      },
      "execution_count": 4,
      "outputs": []
    },
    {
      "cell_type": "code",
      "source": [
        "os.environ[\"JAVA_HOME\"] = \"/usr/lib/jvm/java-8-openjdk-amd64\"\n",
        "os.environ[\"SPARK_HOME\"] = \"/content/spark-3.1.1-bin-hadoop3.2\""
      ],
      "metadata": {
        "id": "LBewOuJi9vV6"
      },
      "execution_count": 5,
      "outputs": []
    },
    {
      "cell_type": "code",
      "source": [
        "findspark.init()\n",
        "spark = SparkSession.builder\\\n",
        "                    .master(\"local\")\\\n",
        "                    .appName(\"colab\")\\\n",
        "                    .config(\"spark.ui.port\", \"4050\")\\\n",
        "                    .getOrCreate()\n",
        "spark.conf.set(\"spark.sql.repl.eagerEval.enabled\", True)"
      ],
      "metadata": {
        "id": "FZB7UrPb9zwQ"
      },
      "execution_count": 6,
      "outputs": []
    },
    {
      "cell_type": "markdown",
      "source": [
        "### Data source \n",
        "https://data.cityofnewyork.us/Public-Safety/Motor-Vehicle-Collisions-Crashes/h9gi-nx95"
      ],
      "metadata": {
        "id": "MPlqMQeQ17DS"
      }
    },
    {
      "cell_type": "markdown",
      "source": [
        "### remark \n",
        "- change this csv file to parquet format to save file size\n",
        "\n",
        "#### method\n",
        "```\n",
        "# This is formatted as code\n",
        "df = pd.read_csv('path/file.csv', low_memory=False)\n",
        "df.to_parquet('path/file.parquet')\n",
        "```\n",
        "then upload to Google Drive\n"
      ],
      "metadata": {
        "id": "HNPO2_HCWMRt"
      }
    },
    {
      "cell_type": "code",
      "source": [
        "from google.colab import drive\n",
        "drive.mount('/content/gdrive')"
      ],
      "metadata": {
        "colab": {
          "base_uri": "https://localhost:8080/"
        },
        "id": "8LarLjlp1-UP",
        "outputId": "fcbd2f1e-eb9c-4169-f246-46085c260b0d"
      },
      "execution_count": 7,
      "outputs": [
        {
          "output_type": "stream",
          "name": "stdout",
          "text": [
            "Mounted at /content/gdrive\n"
          ]
        }
      ]
    },
    {
      "cell_type": "code",
      "source": [
        "data_file = '/content/gdrive/MyDrive/ColabDataset/MotorVehicleCollisionsCrashes.parquet'"
      ],
      "metadata": {
        "id": "bkSkTJFyi2O6"
      },
      "execution_count": 8,
      "outputs": []
    },
    {
      "cell_type": "code",
      "source": [
        "df = spark.read.parquet(data_file)"
      ],
      "metadata": {
        "id": "JF5PCo9ItwAj"
      },
      "execution_count": 9,
      "outputs": []
    },
    {
      "cell_type": "code",
      "source": [
        "df.head(5)"
      ],
      "metadata": {
        "colab": {
          "base_uri": "https://localhost:8080/"
        },
        "id": "o1xCKmyPVBF7",
        "outputId": "834d5406-42fc-4636-d1a5-374eca690251"
      },
      "execution_count": 10,
      "outputs": [
        {
          "output_type": "execute_result",
          "data": {
            "text/plain": [
              "[Row(CRASH_DATE='04/14/2021', CRASH_TIME='5:32', BOROUGH=None, ZIP_CODE=None, LATITUDE=None, LONGITUDE=None, LOCATION=None, ON_STREET_NAME='BRONX WHITESTONE BRIDGE', CROSS_STREET_NAME=None, OFF_STREET_NAME=None, NUMBER_OF_PERSONS_INJURED=0.0, NUMBER_OF_PERSONS_KILLED=0.0, NUMBER_OF_PEDESTRIANS_INJURED=0, NUMBER_OF_PEDESTRIANS_KILLED=0, NUMBER_OF_CYCLIST_INJURED=0, NUMBER_OF_CYCLIST_KILLED=0, NUMBER_OF_MOTORIST_INJURED=0, NUMBER_OF_MOTORIST_KILLED=0, CONTRIBUTING_FACTOR_VEHICLE_1='Following Too Closely', CONTRIBUTING_FACTOR_VEHICLE_2='Unspecified', CONTRIBUTING_FACTOR_VEHICLE_3=None, CONTRIBUTING_FACTOR_VEHICLE_4=None, CONTRIBUTING_FACTOR_VEHICLE_5=None, COLLISION_ID=4407480, VEHICLE_TYPE_CODE_1='Sedan', VEHICLE_TYPE_CODE_2='Sedan', VEHICLE_TYPE_CODE_3=None, VEHICLE_TYPE_CODE_4=None, VEHICLE_TYPE_CODE_5=None),\n",
              " Row(CRASH_DATE='04/13/2021', CRASH_TIME='21:35', BOROUGH='BROOKLYN', ZIP_CODE=11217.0, LATITUDE=40.68358, LONGITUDE=-73.97617, LOCATION='(40.68358, -73.97617)', ON_STREET_NAME=None, CROSS_STREET_NAME=None, OFF_STREET_NAME='620       ATLANTIC AVENUE               ', NUMBER_OF_PERSONS_INJURED=1.0, NUMBER_OF_PERSONS_KILLED=0.0, NUMBER_OF_PEDESTRIANS_INJURED=1, NUMBER_OF_PEDESTRIANS_KILLED=0, NUMBER_OF_CYCLIST_INJURED=0, NUMBER_OF_CYCLIST_KILLED=0, NUMBER_OF_MOTORIST_INJURED=0, NUMBER_OF_MOTORIST_KILLED=0, CONTRIBUTING_FACTOR_VEHICLE_1='Unspecified', CONTRIBUTING_FACTOR_VEHICLE_2=None, CONTRIBUTING_FACTOR_VEHICLE_3=None, CONTRIBUTING_FACTOR_VEHICLE_4=None, CONTRIBUTING_FACTOR_VEHICLE_5=None, COLLISION_ID=4407147, VEHICLE_TYPE_CODE_1='Sedan', VEHICLE_TYPE_CODE_2=None, VEHICLE_TYPE_CODE_3=None, VEHICLE_TYPE_CODE_4=None, VEHICLE_TYPE_CODE_5=None),\n",
              " Row(CRASH_DATE='04/15/2021', CRASH_TIME='16:15', BOROUGH=None, ZIP_CODE=None, LATITUDE=None, LONGITUDE=None, LOCATION=None, ON_STREET_NAME='HUTCHINSON RIVER PARKWAY', CROSS_STREET_NAME=None, OFF_STREET_NAME=None, NUMBER_OF_PERSONS_INJURED=0.0, NUMBER_OF_PERSONS_KILLED=0.0, NUMBER_OF_PEDESTRIANS_INJURED=0, NUMBER_OF_PEDESTRIANS_KILLED=0, NUMBER_OF_CYCLIST_INJURED=0, NUMBER_OF_CYCLIST_KILLED=0, NUMBER_OF_MOTORIST_INJURED=0, NUMBER_OF_MOTORIST_KILLED=0, CONTRIBUTING_FACTOR_VEHICLE_1='Pavement Slippery', CONTRIBUTING_FACTOR_VEHICLE_2=None, CONTRIBUTING_FACTOR_VEHICLE_3=None, CONTRIBUTING_FACTOR_VEHICLE_4=None, CONTRIBUTING_FACTOR_VEHICLE_5=None, COLLISION_ID=4407665, VEHICLE_TYPE_CODE_1='Station Wagon/Sport Utility Vehicle', VEHICLE_TYPE_CODE_2=None, VEHICLE_TYPE_CODE_3=None, VEHICLE_TYPE_CODE_4=None, VEHICLE_TYPE_CODE_5=None),\n",
              " Row(CRASH_DATE='04/13/2021', CRASH_TIME='16:00', BOROUGH='BROOKLYN', ZIP_CODE=11222.0, LATITUDE=None, LONGITUDE=None, LOCATION=None, ON_STREET_NAME='VANDERVORT AVENUE', CROSS_STREET_NAME='ANTHONY STREET', OFF_STREET_NAME=None, NUMBER_OF_PERSONS_INJURED=0.0, NUMBER_OF_PERSONS_KILLED=0.0, NUMBER_OF_PEDESTRIANS_INJURED=0, NUMBER_OF_PEDESTRIANS_KILLED=0, NUMBER_OF_CYCLIST_INJURED=0, NUMBER_OF_CYCLIST_KILLED=0, NUMBER_OF_MOTORIST_INJURED=0, NUMBER_OF_MOTORIST_KILLED=0, CONTRIBUTING_FACTOR_VEHICLE_1='Following Too Closely', CONTRIBUTING_FACTOR_VEHICLE_2='Unspecified', CONTRIBUTING_FACTOR_VEHICLE_3=None, CONTRIBUTING_FACTOR_VEHICLE_4=None, CONTRIBUTING_FACTOR_VEHICLE_5=None, COLLISION_ID=4407811, VEHICLE_TYPE_CODE_1='Sedan', VEHICLE_TYPE_CODE_2=None, VEHICLE_TYPE_CODE_3=None, VEHICLE_TYPE_CODE_4=None, VEHICLE_TYPE_CODE_5=None),\n",
              " Row(CRASH_DATE='04/12/2021', CRASH_TIME='8:25', BOROUGH=None, ZIP_CODE=None, LATITUDE=0.0, LONGITUDE=0.0, LOCATION='(0.0, 0.0)', ON_STREET_NAME='EDSON AVENUE                    ', CROSS_STREET_NAME=None, OFF_STREET_NAME=None, NUMBER_OF_PERSONS_INJURED=0.0, NUMBER_OF_PERSONS_KILLED=0.0, NUMBER_OF_PEDESTRIANS_INJURED=0, NUMBER_OF_PEDESTRIANS_KILLED=0, NUMBER_OF_CYCLIST_INJURED=0, NUMBER_OF_CYCLIST_KILLED=0, NUMBER_OF_MOTORIST_INJURED=0, NUMBER_OF_MOTORIST_KILLED=0, CONTRIBUTING_FACTOR_VEHICLE_1='Unspecified', CONTRIBUTING_FACTOR_VEHICLE_2='Unspecified', CONTRIBUTING_FACTOR_VEHICLE_3=None, CONTRIBUTING_FACTOR_VEHICLE_4=None, CONTRIBUTING_FACTOR_VEHICLE_5=None, COLLISION_ID=4406885, VEHICLE_TYPE_CODE_1='Station Wagon/Sport Utility Vehicle', VEHICLE_TYPE_CODE_2='Sedan', VEHICLE_TYPE_CODE_3=None, VEHICLE_TYPE_CODE_4=None, VEHICLE_TYPE_CODE_5=None)]"
            ]
          },
          "metadata": {},
          "execution_count": 10
        }
      ]
    },
    {
      "cell_type": "code",
      "source": [
        "df.show(5, truncate=True, vertical=True)"
      ],
      "metadata": {
        "colab": {
          "base_uri": "https://localhost:8080/"
        },
        "id": "aDHtm4r_U-OM",
        "outputId": "a0202308-3d7e-4cd9-f3c1-73b125f1fbd0"
      },
      "execution_count": 11,
      "outputs": [
        {
          "output_type": "stream",
          "name": "stdout",
          "text": [
            "-RECORD 0---------------------------------------------\n",
            " CRASH_DATE                    | 04/14/2021           \n",
            " CRASH_TIME                    | 5:32                 \n",
            " BOROUGH                       | null                 \n",
            " ZIP_CODE                      | null                 \n",
            " LATITUDE                      | null                 \n",
            " LONGITUDE                     | null                 \n",
            " LOCATION                      | null                 \n",
            " ON_STREET_NAME                | BRONX WHITESTONE ... \n",
            " CROSS_STREET_NAME             | null                 \n",
            " OFF_STREET_NAME               | null                 \n",
            " NUMBER_OF_PERSONS_INJURED     | 0.0                  \n",
            " NUMBER_OF_PERSONS_KILLED      | 0.0                  \n",
            " NUMBER_OF_PEDESTRIANS_INJURED | 0                    \n",
            " NUMBER_OF_PEDESTRIANS_KILLED  | 0                    \n",
            " NUMBER_OF_CYCLIST_INJURED     | 0                    \n",
            " NUMBER_OF_CYCLIST_KILLED      | 0                    \n",
            " NUMBER_OF_MOTORIST_INJURED    | 0                    \n",
            " NUMBER_OF_MOTORIST_KILLED     | 0                    \n",
            " CONTRIBUTING_FACTOR_VEHICLE_1 | Following Too Clo... \n",
            " CONTRIBUTING_FACTOR_VEHICLE_2 | Unspecified          \n",
            " CONTRIBUTING_FACTOR_VEHICLE_3 | null                 \n",
            " CONTRIBUTING_FACTOR_VEHICLE_4 | null                 \n",
            " CONTRIBUTING_FACTOR_VEHICLE_5 | null                 \n",
            " COLLISION_ID                  | 4407480              \n",
            " VEHICLE_TYPE_CODE_1           | Sedan                \n",
            " VEHICLE_TYPE_CODE_2           | Sedan                \n",
            " VEHICLE_TYPE_CODE_3           | null                 \n",
            " VEHICLE_TYPE_CODE_4           | null                 \n",
            " VEHICLE_TYPE_CODE_5           | null                 \n",
            "-RECORD 1---------------------------------------------\n",
            " CRASH_DATE                    | 04/13/2021           \n",
            " CRASH_TIME                    | 21:35                \n",
            " BOROUGH                       | BROOKLYN             \n",
            " ZIP_CODE                      | 11217.0              \n",
            " LATITUDE                      | 40.68358             \n",
            " LONGITUDE                     | -73.97617            \n",
            " LOCATION                      | (40.68358, -73.97... \n",
            " ON_STREET_NAME                | null                 \n",
            " CROSS_STREET_NAME             | null                 \n",
            " OFF_STREET_NAME               | 620       ATLANTI... \n",
            " NUMBER_OF_PERSONS_INJURED     | 1.0                  \n",
            " NUMBER_OF_PERSONS_KILLED      | 0.0                  \n",
            " NUMBER_OF_PEDESTRIANS_INJURED | 1                    \n",
            " NUMBER_OF_PEDESTRIANS_KILLED  | 0                    \n",
            " NUMBER_OF_CYCLIST_INJURED     | 0                    \n",
            " NUMBER_OF_CYCLIST_KILLED      | 0                    \n",
            " NUMBER_OF_MOTORIST_INJURED    | 0                    \n",
            " NUMBER_OF_MOTORIST_KILLED     | 0                    \n",
            " CONTRIBUTING_FACTOR_VEHICLE_1 | Unspecified          \n",
            " CONTRIBUTING_FACTOR_VEHICLE_2 | null                 \n",
            " CONTRIBUTING_FACTOR_VEHICLE_3 | null                 \n",
            " CONTRIBUTING_FACTOR_VEHICLE_4 | null                 \n",
            " CONTRIBUTING_FACTOR_VEHICLE_5 | null                 \n",
            " COLLISION_ID                  | 4407147              \n",
            " VEHICLE_TYPE_CODE_1           | Sedan                \n",
            " VEHICLE_TYPE_CODE_2           | null                 \n",
            " VEHICLE_TYPE_CODE_3           | null                 \n",
            " VEHICLE_TYPE_CODE_4           | null                 \n",
            " VEHICLE_TYPE_CODE_5           | null                 \n",
            "-RECORD 2---------------------------------------------\n",
            " CRASH_DATE                    | 04/15/2021           \n",
            " CRASH_TIME                    | 16:15                \n",
            " BOROUGH                       | null                 \n",
            " ZIP_CODE                      | null                 \n",
            " LATITUDE                      | null                 \n",
            " LONGITUDE                     | null                 \n",
            " LOCATION                      | null                 \n",
            " ON_STREET_NAME                | HUTCHINSON RIVER ... \n",
            " CROSS_STREET_NAME             | null                 \n",
            " OFF_STREET_NAME               | null                 \n",
            " NUMBER_OF_PERSONS_INJURED     | 0.0                  \n",
            " NUMBER_OF_PERSONS_KILLED      | 0.0                  \n",
            " NUMBER_OF_PEDESTRIANS_INJURED | 0                    \n",
            " NUMBER_OF_PEDESTRIANS_KILLED  | 0                    \n",
            " NUMBER_OF_CYCLIST_INJURED     | 0                    \n",
            " NUMBER_OF_CYCLIST_KILLED      | 0                    \n",
            " NUMBER_OF_MOTORIST_INJURED    | 0                    \n",
            " NUMBER_OF_MOTORIST_KILLED     | 0                    \n",
            " CONTRIBUTING_FACTOR_VEHICLE_1 | Pavement Slippery    \n",
            " CONTRIBUTING_FACTOR_VEHICLE_2 | null                 \n",
            " CONTRIBUTING_FACTOR_VEHICLE_3 | null                 \n",
            " CONTRIBUTING_FACTOR_VEHICLE_4 | null                 \n",
            " CONTRIBUTING_FACTOR_VEHICLE_5 | null                 \n",
            " COLLISION_ID                  | 4407665              \n",
            " VEHICLE_TYPE_CODE_1           | Station Wagon/Spo... \n",
            " VEHICLE_TYPE_CODE_2           | null                 \n",
            " VEHICLE_TYPE_CODE_3           | null                 \n",
            " VEHICLE_TYPE_CODE_4           | null                 \n",
            " VEHICLE_TYPE_CODE_5           | null                 \n",
            "-RECORD 3---------------------------------------------\n",
            " CRASH_DATE                    | 04/13/2021           \n",
            " CRASH_TIME                    | 16:00                \n",
            " BOROUGH                       | BROOKLYN             \n",
            " ZIP_CODE                      | 11222.0              \n",
            " LATITUDE                      | null                 \n",
            " LONGITUDE                     | null                 \n",
            " LOCATION                      | null                 \n",
            " ON_STREET_NAME                | VANDERVORT AVENUE    \n",
            " CROSS_STREET_NAME             | ANTHONY STREET       \n",
            " OFF_STREET_NAME               | null                 \n",
            " NUMBER_OF_PERSONS_INJURED     | 0.0                  \n",
            " NUMBER_OF_PERSONS_KILLED      | 0.0                  \n",
            " NUMBER_OF_PEDESTRIANS_INJURED | 0                    \n",
            " NUMBER_OF_PEDESTRIANS_KILLED  | 0                    \n",
            " NUMBER_OF_CYCLIST_INJURED     | 0                    \n",
            " NUMBER_OF_CYCLIST_KILLED      | 0                    \n",
            " NUMBER_OF_MOTORIST_INJURED    | 0                    \n",
            " NUMBER_OF_MOTORIST_KILLED     | 0                    \n",
            " CONTRIBUTING_FACTOR_VEHICLE_1 | Following Too Clo... \n",
            " CONTRIBUTING_FACTOR_VEHICLE_2 | Unspecified          \n",
            " CONTRIBUTING_FACTOR_VEHICLE_3 | null                 \n",
            " CONTRIBUTING_FACTOR_VEHICLE_4 | null                 \n",
            " CONTRIBUTING_FACTOR_VEHICLE_5 | null                 \n",
            " COLLISION_ID                  | 4407811              \n",
            " VEHICLE_TYPE_CODE_1           | Sedan                \n",
            " VEHICLE_TYPE_CODE_2           | null                 \n",
            " VEHICLE_TYPE_CODE_3           | null                 \n",
            " VEHICLE_TYPE_CODE_4           | null                 \n",
            " VEHICLE_TYPE_CODE_5           | null                 \n",
            "-RECORD 4---------------------------------------------\n",
            " CRASH_DATE                    | 04/12/2021           \n",
            " CRASH_TIME                    | 8:25                 \n",
            " BOROUGH                       | null                 \n",
            " ZIP_CODE                      | null                 \n",
            " LATITUDE                      | 0.0                  \n",
            " LONGITUDE                     | 0.0                  \n",
            " LOCATION                      | (0.0, 0.0)           \n",
            " ON_STREET_NAME                | EDSON AVENUE     ... \n",
            " CROSS_STREET_NAME             | null                 \n",
            " OFF_STREET_NAME               | null                 \n",
            " NUMBER_OF_PERSONS_INJURED     | 0.0                  \n",
            " NUMBER_OF_PERSONS_KILLED      | 0.0                  \n",
            " NUMBER_OF_PEDESTRIANS_INJURED | 0                    \n",
            " NUMBER_OF_PEDESTRIANS_KILLED  | 0                    \n",
            " NUMBER_OF_CYCLIST_INJURED     | 0                    \n",
            " NUMBER_OF_CYCLIST_KILLED      | 0                    \n",
            " NUMBER_OF_MOTORIST_INJURED    | 0                    \n",
            " NUMBER_OF_MOTORIST_KILLED     | 0                    \n",
            " CONTRIBUTING_FACTOR_VEHICLE_1 | Unspecified          \n",
            " CONTRIBUTING_FACTOR_VEHICLE_2 | Unspecified          \n",
            " CONTRIBUTING_FACTOR_VEHICLE_3 | null                 \n",
            " CONTRIBUTING_FACTOR_VEHICLE_4 | null                 \n",
            " CONTRIBUTING_FACTOR_VEHICLE_5 | null                 \n",
            " COLLISION_ID                  | 4406885              \n",
            " VEHICLE_TYPE_CODE_1           | Station Wagon/Spo... \n",
            " VEHICLE_TYPE_CODE_2           | Sedan                \n",
            " VEHICLE_TYPE_CODE_3           | null                 \n",
            " VEHICLE_TYPE_CODE_4           | null                 \n",
            " VEHICLE_TYPE_CODE_5           | null                 \n",
            "only showing top 5 rows\n",
            "\n"
          ]
        }
      ]
    },
    {
      "cell_type": "code",
      "source": [
        "df.printSchema()"
      ],
      "metadata": {
        "colab": {
          "base_uri": "https://localhost:8080/"
        },
        "id": "H0NDZmqouP0v",
        "outputId": "0c6a82e9-e6c7-4bc3-c68e-882b50d898b5"
      },
      "execution_count": 12,
      "outputs": [
        {
          "output_type": "stream",
          "name": "stdout",
          "text": [
            "root\n",
            " |-- CRASH_DATE: string (nullable = true)\n",
            " |-- CRASH_TIME: string (nullable = true)\n",
            " |-- BOROUGH: string (nullable = true)\n",
            " |-- ZIP_CODE: double (nullable = true)\n",
            " |-- LATITUDE: double (nullable = true)\n",
            " |-- LONGITUDE: double (nullable = true)\n",
            " |-- LOCATION: string (nullable = true)\n",
            " |-- ON_STREET_NAME: string (nullable = true)\n",
            " |-- CROSS_STREET_NAME: string (nullable = true)\n",
            " |-- OFF_STREET_NAME: string (nullable = true)\n",
            " |-- NUMBER_OF_PERSONS_INJURED: double (nullable = true)\n",
            " |-- NUMBER_OF_PERSONS_KILLED: double (nullable = true)\n",
            " |-- NUMBER_OF_PEDESTRIANS_INJURED: long (nullable = true)\n",
            " |-- NUMBER_OF_PEDESTRIANS_KILLED: long (nullable = true)\n",
            " |-- NUMBER_OF_CYCLIST_INJURED: long (nullable = true)\n",
            " |-- NUMBER_OF_CYCLIST_KILLED: long (nullable = true)\n",
            " |-- NUMBER_OF_MOTORIST_INJURED: long (nullable = true)\n",
            " |-- NUMBER_OF_MOTORIST_KILLED: long (nullable = true)\n",
            " |-- CONTRIBUTING_FACTOR_VEHICLE_1: string (nullable = true)\n",
            " |-- CONTRIBUTING_FACTOR_VEHICLE_2: string (nullable = true)\n",
            " |-- CONTRIBUTING_FACTOR_VEHICLE_3: string (nullable = true)\n",
            " |-- CONTRIBUTING_FACTOR_VEHICLE_4: string (nullable = true)\n",
            " |-- CONTRIBUTING_FACTOR_VEHICLE_5: string (nullable = true)\n",
            " |-- COLLISION_ID: long (nullable = true)\n",
            " |-- VEHICLE_TYPE_CODE_1: string (nullable = true)\n",
            " |-- VEHICLE_TYPE_CODE_2: string (nullable = true)\n",
            " |-- VEHICLE_TYPE_CODE_3: string (nullable = true)\n",
            " |-- VEHICLE_TYPE_CODE_4: string (nullable = true)\n",
            " |-- VEHICLE_TYPE_CODE_5: string (nullable = true)\n",
            "\n"
          ]
        }
      ]
    },
    {
      "cell_type": "markdown",
      "source": [
        "### Na Check and count"
      ],
      "metadata": {
        "id": "XRQ9JFqzw3fg"
      }
    },
    {
      "cell_type": "code",
      "source": [
        "Dict_Null = {col:df.filter(df[col].isNull()).count() for col in df.columns}"
      ],
      "metadata": {
        "id": "JMxz2Gw5vFFo"
      },
      "execution_count": 13,
      "outputs": []
    },
    {
      "cell_type": "code",
      "source": [
        "Dict_Null"
      ],
      "metadata": {
        "colab": {
          "base_uri": "https://localhost:8080/"
        },
        "id": "W36IMgoNxiEZ",
        "outputId": "a03d9e81-8a4f-4d24-d46a-82b9c0aceb36"
      },
      "execution_count": 14,
      "outputs": [
        {
          "output_type": "execute_result",
          "data": {
            "text/plain": [
              "{'BOROUGH': 377582,\n",
              " 'COLLISION_ID': 0,\n",
              " 'CONTRIBUTING_FACTOR_VEHICLE_1': 3645,\n",
              " 'CONTRIBUTING_FACTOR_VEHICLE_2': 175068,\n",
              " 'CONTRIBUTING_FACTOR_VEHICLE_3': 972302,\n",
              " 'CONTRIBUTING_FACTOR_VEHICLE_4': 1031042,\n",
              " 'CONTRIBUTING_FACTOR_VEHICLE_5': 1043709,\n",
              " 'CRASH_DATE': 0,\n",
              " 'CRASH_TIME': 0,\n",
              " 'CROSS_STREET_NAME': 541455,\n",
              " 'LATITUDE': 75849,\n",
              " 'LOCATION': 75849,\n",
              " 'LONGITUDE': 75849,\n",
              " 'NUMBER_OF_CYCLIST_INJURED': 0,\n",
              " 'NUMBER_OF_CYCLIST_KILLED': 0,\n",
              " 'NUMBER_OF_MOTORIST_INJURED': 0,\n",
              " 'NUMBER_OF_MOTORIST_KILLED': 0,\n",
              " 'NUMBER_OF_PEDESTRIANS_INJURED': 0,\n",
              " 'NUMBER_OF_PEDESTRIANS_KILLED': 0,\n",
              " 'NUMBER_OF_PERSONS_INJURED': 17,\n",
              " 'NUMBER_OF_PERSONS_KILLED': 30,\n",
              " 'OFF_STREET_NAME': 794513,\n",
              " 'ON_STREET_NAME': 255438,\n",
              " 'VEHICLE_TYPE_CODE_1': 8721,\n",
              " 'VEHICLE_TYPE_CODE_2': 243280,\n",
              " 'VEHICLE_TYPE_CODE_3': 976623,\n",
              " 'VEHICLE_TYPE_CODE_4': 1031949,\n",
              " 'VEHICLE_TYPE_CODE_5': 1043919,\n",
              " 'ZIP_CODE': 377763}"
            ]
          },
          "metadata": {},
          "execution_count": 14
        }
      ]
    },
    {
      "cell_type": "code",
      "source": [
        "df.count()"
      ],
      "metadata": {
        "colab": {
          "base_uri": "https://localhost:8080/"
        },
        "id": "1OArHo-Cxj-3",
        "outputId": "794bff57-5c94-4b8b-fc50-d44609651e9b"
      },
      "execution_count": 15,
      "outputs": [
        {
          "output_type": "execute_result",
          "data": {
            "text/plain": [
              "1048575"
            ]
          },
          "metadata": {},
          "execution_count": 15
        }
      ]
    },
    {
      "cell_type": "code",
      "source": [
        "Dict_Null_per = {col:(\n",
        "    df.filter(\n",
        "        df[col].isNull()\n",
        "        ).count()/df.count() * 100\n",
        "        ) for col in df.columns}"
      ],
      "metadata": {
        "id": "TV6QaO4896dD"
      },
      "execution_count": 16,
      "outputs": []
    },
    {
      "cell_type": "code",
      "source": [
        "Dict_Null_per"
      ],
      "metadata": {
        "colab": {
          "base_uri": "https://localhost:8080/"
        },
        "id": "-svFjlpU-E98",
        "outputId": "9b6c7fb9-d5aa-454e-b27f-34e519088e0a"
      },
      "execution_count": 17,
      "outputs": [
        {
          "output_type": "execute_result",
          "data": {
            "text/plain": [
              "{'BOROUGH': 36.009059914646066,\n",
              " 'COLLISION_ID': 0.0,\n",
              " 'CONTRIBUTING_FACTOR_VEHICLE_1': 0.34761461984121306,\n",
              " 'CONTRIBUTING_FACTOR_VEHICLE_2': 16.695801444817967,\n",
              " 'CONTRIBUTING_FACTOR_VEHICLE_3': 92.72603294947905,\n",
              " 'CONTRIBUTING_FACTOR_VEHICLE_4': 98.32792122642634,\n",
              " 'CONTRIBUTING_FACTOR_VEHICLE_5': 99.53594163507617,\n",
              " 'CRASH_DATE': 0.0,\n",
              " 'CRASH_TIME': 0.0,\n",
              " 'CROSS_STREET_NAME': 51.637221944066944,\n",
              " 'LATITUDE': 7.233531220942709,\n",
              " 'LOCATION': 7.233531220942709,\n",
              " 'LONGITUDE': 7.233531220942709,\n",
              " 'NUMBER_OF_CYCLIST_INJURED': 0.0,\n",
              " 'NUMBER_OF_CYCLIST_KILLED': 0.0,\n",
              " 'NUMBER_OF_MOTORIST_INJURED': 0.0,\n",
              " 'NUMBER_OF_MOTORIST_KILLED': 0.0,\n",
              " 'NUMBER_OF_PEDESTRIANS_INJURED': 0.0,\n",
              " 'NUMBER_OF_PEDESTRIANS_KILLED': 0.0,\n",
              " 'NUMBER_OF_PERSONS_INJURED': 0.0016212478840330925,\n",
              " 'NUMBER_OF_PERSONS_KILLED': 0.0028610256777054574,\n",
              " 'OFF_STREET_NAME': 75.7707364756932,\n",
              " 'ON_STREET_NAME': 24.360489235390887,\n",
              " 'VEHICLE_TYPE_CODE_1': 0.8317001645089765,\n",
              " 'VEHICLE_TYPE_CODE_2': 23.201010895739458,\n",
              " 'VEHICLE_TYPE_CODE_3': 93.13811601459123,\n",
              " 'VEHICLE_TYPE_CODE_4': 98.41441956941563,\n",
              " 'VEHICLE_TYPE_CODE_5': 99.55596881482012,\n",
              " 'ZIP_CODE': 36.026321436234895}"
            ]
          },
          "metadata": {},
          "execution_count": 17
        }
      ]
    },
    {
      "cell_type": "markdown",
      "source": [
        "### Convert the string to datetime string\n",
        "- need to import to_date method"
      ],
      "metadata": {
        "id": "Xfs1Siq8ZB2q"
      }
    },
    {
      "cell_type": "code",
      "source": [
        "from pyspark.sql.functions import date_format, when, col, to_date"
      ],
      "metadata": {
        "id": "9guFFTwhXTSZ"
      },
      "execution_count": 18,
      "outputs": []
    },
    {
      "cell_type": "markdown",
      "source": [
        ""
      ],
      "metadata": {
        "id": "793gQWP_L9RZ"
      }
    },
    {
      "cell_type": "markdown",
      "source": [
        "### Note\n",
        "- if spark version > 3, use this setting \n",
        "\n",
        "spark.conf.set(\"spark.sql.legacy.timeParserPolicy\",\"LEGACY\")"
      ],
      "metadata": {
        "id": "GNmB9CF1NL2F"
      }
    },
    {
      "cell_type": "code",
      "source": [
        "spark.conf.set(\"spark.sql.legacy.timeParserPolicy\",\"LEGACY\")"
      ],
      "metadata": {
        "id": "1DPGwN0wNLLH"
      },
      "execution_count": 19,
      "outputs": []
    },
    {
      "cell_type": "code",
      "source": [
        "ndf = df.select(\n",
        "    date_format(\n",
        "        to_date(col('CRASH_DATE'), 'dd/mm/yyyyy'),'dd-mm-yyyy'\n",
        "        ).alias('date'))"
      ],
      "metadata": {
        "id": "NMUP1UxVactv"
      },
      "execution_count": 20,
      "outputs": []
    },
    {
      "cell_type": "code",
      "source": [
        "from pyspark.sql.functions import udf\n",
        "from pyspark.sql.types import ArrayType, StringType"
      ],
      "metadata": {
        "id": "DNOGjnNvPGBc"
      },
      "execution_count": 21,
      "outputs": []
    },
    {
      "cell_type": "code",
      "source": [
        "def splitUDF(row):\n",
        "    if \"/\" in row:\n",
        "        mm,dd,yyyy = row.split(\"/\")\n",
        "    elif \"-\" in row:\n",
        "        yyyy,mm,dd = row.split(\"-\")\n",
        "\n",
        "    return [yyyy,mm,dd]"
      ],
      "metadata": {
        "id": "mc0uQHCBPPrY"
      },
      "execution_count": 22,
      "outputs": []
    },
    {
      "cell_type": "code",
      "source": [
        "datSplitterUDF = udf(lambda row : splitUDF(row),ArrayType(StringType()))\n",
        "df\\\n",
        ".select(datSplitterUDF(df.CRASH_DATE).alias(\"dt\"))\\\n",
        ".withColumn('year',col('dt').getItem(0).cast('int'))\\\n",
        ".withColumn('month',col('dt').getItem(1).cast('int'))\\\n",
        ".withColumn('day',col('dt').getItem(2).cast('int'))\\\n",
        ".show()"
      ],
      "metadata": {
        "colab": {
          "base_uri": "https://localhost:8080/"
        },
        "id": "ChoVaO2nHgIj",
        "outputId": "552bca3a-d54d-4511-ded0-91276a19a358"
      },
      "execution_count": 23,
      "outputs": [
        {
          "output_type": "stream",
          "name": "stdout",
          "text": [
            "+--------------+----+-----+---+\n",
            "|            dt|year|month|day|\n",
            "+--------------+----+-----+---+\n",
            "|[2021, 04, 14]|2021|    4| 14|\n",
            "|[2021, 04, 13]|2021|    4| 13|\n",
            "|[2021, 04, 15]|2021|    4| 15|\n",
            "|[2021, 04, 13]|2021|    4| 13|\n",
            "|[2021, 04, 12]|2021|    4| 12|\n",
            "|[2021, 04, 13]|2021|    4| 13|\n",
            "|[2021, 04, 13]|2021|    4| 13|\n",
            "|[2021, 04, 16]|2021|    4| 16|\n",
            "|[2021, 04, 11]|2021|    4| 11|\n",
            "|[2021, 04, 16]|2021|    4| 16|\n",
            "|[2021, 04, 11]|2021|    4| 11|\n",
            "|[2021, 04, 15]|2021|    4| 15|\n",
            "|[2021, 04, 10]|2021|    4| 10|\n",
            "|[2019, 05, 21]|2019|    5| 21|\n",
            "|[2020, 01, 21]|2020|    1| 21|\n",
            "|[2021, 02, 26]|2021|    2| 26|\n",
            "|[2021, 03, 09]|2021|    3|  9|\n",
            "|[2021, 03, 31]|2021|    3| 31|\n",
            "|[2021, 04, 06]|2021|    4|  6|\n",
            "|[2021, 04, 09]|2021|    4|  9|\n",
            "+--------------+----+-----+---+\n",
            "only showing top 20 rows\n",
            "\n"
          ]
        }
      ]
    },
    {
      "cell_type": "code",
      "source": [
        "df.columns"
      ],
      "metadata": {
        "colab": {
          "base_uri": "https://localhost:8080/"
        },
        "id": "vka7QWX2PTOe",
        "outputId": "adb231e9-59b4-465d-9a60-64a02be38249"
      },
      "execution_count": 24,
      "outputs": [
        {
          "output_type": "execute_result",
          "data": {
            "text/plain": [
              "['CRASH_DATE',\n",
              " 'CRASH_TIME',\n",
              " 'BOROUGH',\n",
              " 'ZIP_CODE',\n",
              " 'LATITUDE',\n",
              " 'LONGITUDE',\n",
              " 'LOCATION',\n",
              " 'ON_STREET_NAME',\n",
              " 'CROSS_STREET_NAME',\n",
              " 'OFF_STREET_NAME',\n",
              " 'NUMBER_OF_PERSONS_INJURED',\n",
              " 'NUMBER_OF_PERSONS_KILLED',\n",
              " 'NUMBER_OF_PEDESTRIANS_INJURED',\n",
              " 'NUMBER_OF_PEDESTRIANS_KILLED',\n",
              " 'NUMBER_OF_CYCLIST_INJURED',\n",
              " 'NUMBER_OF_CYCLIST_KILLED',\n",
              " 'NUMBER_OF_MOTORIST_INJURED',\n",
              " 'NUMBER_OF_MOTORIST_KILLED',\n",
              " 'CONTRIBUTING_FACTOR_VEHICLE_1',\n",
              " 'CONTRIBUTING_FACTOR_VEHICLE_2',\n",
              " 'CONTRIBUTING_FACTOR_VEHICLE_3',\n",
              " 'CONTRIBUTING_FACTOR_VEHICLE_4',\n",
              " 'CONTRIBUTING_FACTOR_VEHICLE_5',\n",
              " 'COLLISION_ID',\n",
              " 'VEHICLE_TYPE_CODE_1',\n",
              " 'VEHICLE_TYPE_CODE_2',\n",
              " 'VEHICLE_TYPE_CODE_3',\n",
              " 'VEHICLE_TYPE_CODE_4',\n",
              " 'VEHICLE_TYPE_CODE_5']"
            ]
          },
          "metadata": {},
          "execution_count": 24
        }
      ]
    },
    {
      "cell_type": "code",
      "source": [
        "ndf = df\\\n",
        ".select('*', datSplitterUDF(df.CRASH_DATE).alias(\"dt\"))\\\n",
        ".withColumn('year',col('dt').getItem(0).cast('int'))\\\n",
        ".withColumn('month',col('dt').getItem(1).cast('int'))\\\n",
        ".withColumn('day',col('dt').getItem(2).cast('int'))"
      ],
      "metadata": {
        "id": "WCK7ethePhfI"
      },
      "execution_count": 25,
      "outputs": []
    },
    {
      "cell_type": "code",
      "source": [
        "ndf.show(5, truncate=False)"
      ],
      "metadata": {
        "colab": {
          "base_uri": "https://localhost:8080/"
        },
        "id": "JEWQApA2Ri06",
        "outputId": "e23bf998-7b89-420e-c79f-05a94d126f2f"
      },
      "execution_count": 26,
      "outputs": [
        {
          "output_type": "stream",
          "name": "stdout",
          "text": [
            "+----------+----------+--------+--------+--------+---------+---------------------+--------------------------------+-----------------+----------------------------------------+-------------------------+------------------------+-----------------------------+----------------------------+-------------------------+------------------------+--------------------------+-------------------------+-----------------------------+-----------------------------+-----------------------------+-----------------------------+-----------------------------+------------+-----------------------------------+-------------------+-------------------+-------------------+-------------------+--------------+----+-----+---+\n",
            "|CRASH_DATE|CRASH_TIME|BOROUGH |ZIP_CODE|LATITUDE|LONGITUDE|LOCATION             |ON_STREET_NAME                  |CROSS_STREET_NAME|OFF_STREET_NAME                         |NUMBER_OF_PERSONS_INJURED|NUMBER_OF_PERSONS_KILLED|NUMBER_OF_PEDESTRIANS_INJURED|NUMBER_OF_PEDESTRIANS_KILLED|NUMBER_OF_CYCLIST_INJURED|NUMBER_OF_CYCLIST_KILLED|NUMBER_OF_MOTORIST_INJURED|NUMBER_OF_MOTORIST_KILLED|CONTRIBUTING_FACTOR_VEHICLE_1|CONTRIBUTING_FACTOR_VEHICLE_2|CONTRIBUTING_FACTOR_VEHICLE_3|CONTRIBUTING_FACTOR_VEHICLE_4|CONTRIBUTING_FACTOR_VEHICLE_5|COLLISION_ID|VEHICLE_TYPE_CODE_1                |VEHICLE_TYPE_CODE_2|VEHICLE_TYPE_CODE_3|VEHICLE_TYPE_CODE_4|VEHICLE_TYPE_CODE_5|dt            |year|month|day|\n",
            "+----------+----------+--------+--------+--------+---------+---------------------+--------------------------------+-----------------+----------------------------------------+-------------------------+------------------------+-----------------------------+----------------------------+-------------------------+------------------------+--------------------------+-------------------------+-----------------------------+-----------------------------+-----------------------------+-----------------------------+-----------------------------+------------+-----------------------------------+-------------------+-------------------+-------------------+-------------------+--------------+----+-----+---+\n",
            "|04/14/2021|5:32      |null    |null    |null    |null     |null                 |BRONX WHITESTONE BRIDGE         |null             |null                                    |0.0                      |0.0                     |0                            |0                           |0                        |0                       |0                         |0                        |Following Too Closely        |Unspecified                  |null                         |null                         |null                         |4407480     |Sedan                              |Sedan              |null               |null               |null               |[2021, 04, 14]|2021|4    |14 |\n",
            "|04/13/2021|21:35     |BROOKLYN|11217.0 |40.68358|-73.97617|(40.68358, -73.97617)|null                            |null             |620       ATLANTIC AVENUE               |1.0                      |0.0                     |1                            |0                           |0                        |0                       |0                         |0                        |Unspecified                  |null                         |null                         |null                         |null                         |4407147     |Sedan                              |null               |null               |null               |null               |[2021, 04, 13]|2021|4    |13 |\n",
            "|04/15/2021|16:15     |null    |null    |null    |null     |null                 |HUTCHINSON RIVER PARKWAY        |null             |null                                    |0.0                      |0.0                     |0                            |0                           |0                        |0                       |0                         |0                        |Pavement Slippery            |null                         |null                         |null                         |null                         |4407665     |Station Wagon/Sport Utility Vehicle|null               |null               |null               |null               |[2021, 04, 15]|2021|4    |15 |\n",
            "|04/13/2021|16:00     |BROOKLYN|11222.0 |null    |null     |null                 |VANDERVORT AVENUE               |ANTHONY STREET   |null                                    |0.0                      |0.0                     |0                            |0                           |0                        |0                       |0                         |0                        |Following Too Closely        |Unspecified                  |null                         |null                         |null                         |4407811     |Sedan                              |null               |null               |null               |null               |[2021, 04, 13]|2021|4    |13 |\n",
            "|04/12/2021|8:25      |null    |null    |0.0     |0.0      |(0.0, 0.0)           |EDSON AVENUE                    |null             |null                                    |0.0                      |0.0                     |0                            |0                           |0                        |0                       |0                         |0                        |Unspecified                  |Unspecified                  |null                         |null                         |null                         |4406885     |Station Wagon/Sport Utility Vehicle|Sedan              |null               |null               |null               |[2021, 04, 12]|2021|4    |12 |\n",
            "+----------+----------+--------+--------+--------+---------+---------------------+--------------------------------+-----------------+----------------------------------------+-------------------------+------------------------+-----------------------------+----------------------------+-------------------------+------------------------+--------------------------+-------------------------+-----------------------------+-----------------------------+-----------------------------+-----------------------------+-----------------------------+------------+-----------------------------------+-------------------+-------------------+-------------------+-------------------+--------------+----+-----+---+\n",
            "only showing top 5 rows\n",
            "\n"
          ]
        }
      ]
    },
    {
      "cell_type": "code",
      "source": [
        "drop_list = [\n",
        "             'CRASH_DATE',\n",
        "             'BOROUGH',\n",
        "             'ZIP_CODE',\n",
        "             'LOCATION',\n",
        "             'ON_STREET_NAME',\n",
        "             'CROSS_STREET_NAME',\n",
        "             'OFF_STREET_NAME',\n",
        "             'CONTRIBUTING_FACTOR_VEHICLE_1',\n",
        "             'CONTRIBUTING_FACTOR_VEHICLE_2',\n",
        "             'CONTRIBUTING_FACTOR_VEHICLE_3',\n",
        "             'CONTRIBUTING_FACTOR_VEHICLE_4',\n",
        "             'CONTRIBUTING_FACTOR_VEHICLE_5',\n",
        "             'COLLISION_ID',\n",
        "             'VEHICLE_TYPE_CODE_1',\n",
        "             'VEHICLE_TYPE_CODE_2',\n",
        "             'VEHICLE_TYPE_CODE_3',\n",
        "             'VEHICLE_TYPE_CODE_4',\n",
        "             'VEHICLE_TYPE_CODE_5',\n",
        "             'dt'\n",
        "             ]"
      ],
      "metadata": {
        "id": "vSjRgkmsQSXY"
      },
      "execution_count": 27,
      "outputs": []
    },
    {
      "cell_type": "code",
      "source": [
        "slice_df = ndf.drop(*drop_list)"
      ],
      "metadata": {
        "id": "g_xrjIn8TE3d"
      },
      "execution_count": 28,
      "outputs": []
    },
    {
      "cell_type": "code",
      "source": [
        "slice_df.show(5, truncate=False, vertical=True)"
      ],
      "metadata": {
        "colab": {
          "base_uri": "https://localhost:8080/"
        },
        "id": "635mwiXtSOWJ",
        "outputId": "8634b922-ed57-444c-d39b-1f11aca1a051"
      },
      "execution_count": 45,
      "outputs": [
        {
          "output_type": "stream",
          "name": "stdout",
          "text": [
            "-RECORD 0----------------------------------\n",
            " CRASH_TIME                    | 5:32      \n",
            " LATITUDE                      | null      \n",
            " LONGITUDE                     | null      \n",
            " NUMBER_OF_PERSONS_INJURED     | 0.0       \n",
            " NUMBER_OF_PERSONS_KILLED      | 0.0       \n",
            " NUMBER_OF_PEDESTRIANS_INJURED | 0         \n",
            " NUMBER_OF_PEDESTRIANS_KILLED  | 0         \n",
            " NUMBER_OF_CYCLIST_INJURED     | 0         \n",
            " NUMBER_OF_CYCLIST_KILLED      | 0         \n",
            " NUMBER_OF_MOTORIST_INJURED    | 0         \n",
            " NUMBER_OF_MOTORIST_KILLED     | 0         \n",
            " year                          | 2021      \n",
            " month                         | 4         \n",
            " day                           | 14        \n",
            "-RECORD 1----------------------------------\n",
            " CRASH_TIME                    | 21:35     \n",
            " LATITUDE                      | 40.68358  \n",
            " LONGITUDE                     | -73.97617 \n",
            " NUMBER_OF_PERSONS_INJURED     | 1.0       \n",
            " NUMBER_OF_PERSONS_KILLED      | 0.0       \n",
            " NUMBER_OF_PEDESTRIANS_INJURED | 1         \n",
            " NUMBER_OF_PEDESTRIANS_KILLED  | 0         \n",
            " NUMBER_OF_CYCLIST_INJURED     | 0         \n",
            " NUMBER_OF_CYCLIST_KILLED      | 0         \n",
            " NUMBER_OF_MOTORIST_INJURED    | 0         \n",
            " NUMBER_OF_MOTORIST_KILLED     | 0         \n",
            " year                          | 2021      \n",
            " month                         | 4         \n",
            " day                           | 13        \n",
            "-RECORD 2----------------------------------\n",
            " CRASH_TIME                    | 16:15     \n",
            " LATITUDE                      | null      \n",
            " LONGITUDE                     | null      \n",
            " NUMBER_OF_PERSONS_INJURED     | 0.0       \n",
            " NUMBER_OF_PERSONS_KILLED      | 0.0       \n",
            " NUMBER_OF_PEDESTRIANS_INJURED | 0         \n",
            " NUMBER_OF_PEDESTRIANS_KILLED  | 0         \n",
            " NUMBER_OF_CYCLIST_INJURED     | 0         \n",
            " NUMBER_OF_CYCLIST_KILLED      | 0         \n",
            " NUMBER_OF_MOTORIST_INJURED    | 0         \n",
            " NUMBER_OF_MOTORIST_KILLED     | 0         \n",
            " year                          | 2021      \n",
            " month                         | 4         \n",
            " day                           | 15        \n",
            "-RECORD 3----------------------------------\n",
            " CRASH_TIME                    | 16:00     \n",
            " LATITUDE                      | null      \n",
            " LONGITUDE                     | null      \n",
            " NUMBER_OF_PERSONS_INJURED     | 0.0       \n",
            " NUMBER_OF_PERSONS_KILLED      | 0.0       \n",
            " NUMBER_OF_PEDESTRIANS_INJURED | 0         \n",
            " NUMBER_OF_PEDESTRIANS_KILLED  | 0         \n",
            " NUMBER_OF_CYCLIST_INJURED     | 0         \n",
            " NUMBER_OF_CYCLIST_KILLED      | 0         \n",
            " NUMBER_OF_MOTORIST_INJURED    | 0         \n",
            " NUMBER_OF_MOTORIST_KILLED     | 0         \n",
            " year                          | 2021      \n",
            " month                         | 4         \n",
            " day                           | 13        \n",
            "-RECORD 4----------------------------------\n",
            " CRASH_TIME                    | 8:25      \n",
            " LATITUDE                      | 0.0       \n",
            " LONGITUDE                     | 0.0       \n",
            " NUMBER_OF_PERSONS_INJURED     | 0.0       \n",
            " NUMBER_OF_PERSONS_KILLED      | 0.0       \n",
            " NUMBER_OF_PEDESTRIANS_INJURED | 0         \n",
            " NUMBER_OF_PEDESTRIANS_KILLED  | 0         \n",
            " NUMBER_OF_CYCLIST_INJURED     | 0         \n",
            " NUMBER_OF_CYCLIST_KILLED      | 0         \n",
            " NUMBER_OF_MOTORIST_INJURED    | 0         \n",
            " NUMBER_OF_MOTORIST_KILLED     | 0         \n",
            " year                          | 2021      \n",
            " month                         | 4         \n",
            " day                           | 12        \n",
            "only showing top 5 rows\n",
            "\n"
          ]
        }
      ]
    },
    {
      "cell_type": "code",
      "source": [
        "slice_df.count()"
      ],
      "metadata": {
        "colab": {
          "base_uri": "https://localhost:8080/"
        },
        "id": "MYI92Ww5WETN",
        "outputId": "a497dddc-f610-403c-fb30-fb9928071fba"
      },
      "execution_count": 30,
      "outputs": [
        {
          "output_type": "execute_result",
          "data": {
            "text/plain": [
              "1048575"
            ]
          },
          "metadata": {},
          "execution_count": 30
        }
      ]
    },
    {
      "cell_type": "code",
      "source": [
        "rm_na_loc_null = slice_df.filter(\n",
        "    (df['LATITUDE'].isNotNull())\n",
        "    &(df['LONGITUDE'].isNotNull()))"
      ],
      "metadata": {
        "id": "2ETawYqcSzjD"
      },
      "execution_count": 31,
      "outputs": []
    },
    {
      "cell_type": "code",
      "source": [
        "rm_na_loc_null.count()"
      ],
      "metadata": {
        "colab": {
          "base_uri": "https://localhost:8080/"
        },
        "id": "62OKI-KTWAwe",
        "outputId": "ab676b17-0277-4a2a-ccd0-d0f71c00e4a8"
      },
      "execution_count": 32,
      "outputs": [
        {
          "output_type": "execute_result",
          "data": {
            "text/plain": [
              "972726"
            ]
          },
          "metadata": {},
          "execution_count": 32
        }
      ]
    },
    {
      "cell_type": "code",
      "source": [
        "rm_na_loc_null.show(5, truncate=False)"
      ],
      "metadata": {
        "colab": {
          "base_uri": "https://localhost:8080/"
        },
        "id": "-ac_CEX0VCI9",
        "outputId": "637c2c9e-13f4-476f-c707-c03118234ce9"
      },
      "execution_count": 33,
      "outputs": [
        {
          "output_type": "stream",
          "name": "stdout",
          "text": [
            "+----------+---------+----------+-------------------------+------------------------+-----------------------------+----------------------------+-------------------------+------------------------+--------------------------+-------------------------+----+-----+---+\n",
            "|CRASH_TIME|LATITUDE |LONGITUDE |NUMBER_OF_PERSONS_INJURED|NUMBER_OF_PERSONS_KILLED|NUMBER_OF_PEDESTRIANS_INJURED|NUMBER_OF_PEDESTRIANS_KILLED|NUMBER_OF_CYCLIST_INJURED|NUMBER_OF_CYCLIST_KILLED|NUMBER_OF_MOTORIST_INJURED|NUMBER_OF_MOTORIST_KILLED|year|month|day|\n",
            "+----------+---------+----------+-------------------------+------------------------+-----------------------------+----------------------------+-------------------------+------------------------+--------------------------+-------------------------+----+-----+---+\n",
            "|21:35     |40.68358 |-73.97617 |1.0                      |0.0                     |1                            |0                           |0                        |0                       |0                         |0                        |2021|4    |13 |\n",
            "|8:25      |0.0      |0.0       |0.0                      |0.0                     |0                            |0                           |0                        |0                       |0                         |0                        |2021|4    |12 |\n",
            "|22:50     |40.69754 |-73.98312 |0.0                      |0.0                     |0                            |0                           |0                        |0                       |0                         |0                        |2019|5    |21 |\n",
            "|14:50     |40.843464|-73.836   |0.0                      |0.0                     |0                            |0                           |0                        |0                       |0                         |0                        |2021|2    |26 |\n",
            "|11:00     |40.692547|-73.990974|1.0                      |0.0                     |0                            |0                           |0                        |0                       |1                         |0                        |2021|3    |9  |\n",
            "+----------+---------+----------+-------------------------+------------------------+-----------------------------+----------------------------+-------------------------+------------------------+--------------------------+-------------------------+----+-----+---+\n",
            "only showing top 5 rows\n",
            "\n"
          ]
        }
      ]
    },
    {
      "cell_type": "code",
      "source": [
        "\n",
        "rename_df = rm_na_loc_null\\\n",
        ".withColumnRenamed(\"CRASH_TIME\", \"time\")\\\n",
        ".withColumnRenamed(\"LATITUDE\", \"lat\")\\\n",
        ".withColumnRenamed(\"LONGITUDE\", \"lon\")\\\n",
        ".withColumnRenamed(\"NUMBER_OF_PERSONS_INJURED\", \"npi\")\\\n",
        ".withColumnRenamed(\"NUMBER_OF_PERSONS_KILLED\", \"npk\")\\\n",
        ".withColumnRenamed(\"NUMBER_OF_PEDESTRIANS_INJURED\", \"npedi\")\\\n",
        ".withColumnRenamed(\"NUMBER_OF_PEDESTRIANS_KILLED\", \"npedk\")\\\n",
        ".withColumnRenamed(\"NUMBER_OF_CYCLIST_INJURED\", \"nci\")\\\n",
        ".withColumnRenamed(\"NUMBER_OF_CYCLIST_KILLED\", \"nck\")\\\n",
        ".withColumnRenamed(\"NUMBER_OF_MOTORIST_INJURED\", \"nmi\")\\\n",
        ".withColumnRenamed(\"NUMBER_OF_MOTORIST_KILLED\", \"nmk\")\n"
      ],
      "metadata": {
        "id": "EogJvcLaVDqn"
      },
      "execution_count": 34,
      "outputs": []
    },
    {
      "cell_type": "code",
      "source": [
        "rename_df.show(5, truncate=False)"
      ],
      "metadata": {
        "colab": {
          "base_uri": "https://localhost:8080/"
        },
        "id": "oMKHHsbBa3pR",
        "outputId": "ce13006f-0b94-4c31-c2f5-758eb5fe8a7a"
      },
      "execution_count": 35,
      "outputs": [
        {
          "output_type": "stream",
          "name": "stdout",
          "text": [
            "+-----+---------+----------+---+---+-----+-----+---+---+---+---+----+-----+---+\n",
            "|time |lat      |lon       |npi|npk|npedi|npedk|nci|nck|nmi|nmk|year|month|day|\n",
            "+-----+---------+----------+---+---+-----+-----+---+---+---+---+----+-----+---+\n",
            "|21:35|40.68358 |-73.97617 |1.0|0.0|1    |0    |0  |0  |0  |0  |2021|4    |13 |\n",
            "|8:25 |0.0      |0.0       |0.0|0.0|0    |0    |0  |0  |0  |0  |2021|4    |12 |\n",
            "|22:50|40.69754 |-73.98312 |0.0|0.0|0    |0    |0  |0  |0  |0  |2019|5    |21 |\n",
            "|14:50|40.843464|-73.836   |0.0|0.0|0    |0    |0  |0  |0  |0  |2021|2    |26 |\n",
            "|11:00|40.692547|-73.990974|1.0|0.0|0    |0    |0  |0  |1  |0  |2021|3    |9  |\n",
            "+-----+---------+----------+---+---+-----+-----+---+---+---+---+----+-----+---+\n",
            "only showing top 5 rows\n",
            "\n"
          ]
        }
      ]
    },
    {
      "cell_type": "code",
      "source": [
        "rename_df.columns"
      ],
      "metadata": {
        "colab": {
          "base_uri": "https://localhost:8080/"
        },
        "id": "1vwL57vQcGa-",
        "outputId": "24e75764-7fa7-4b38-eb85-4ae92b389819"
      },
      "execution_count": 36,
      "outputs": [
        {
          "output_type": "execute_result",
          "data": {
            "text/plain": [
              "['time',\n",
              " 'lat',\n",
              " 'lon',\n",
              " 'npi',\n",
              " 'npk',\n",
              " 'npedi',\n",
              " 'npedk',\n",
              " 'nci',\n",
              " 'nck',\n",
              " 'nmi',\n",
              " 'nmk',\n",
              " 'year',\n",
              " 'month',\n",
              " 'day']"
            ]
          },
          "metadata": {},
          "execution_count": 36
        }
      ]
    },
    {
      "cell_type": "code",
      "source": [
        "reorder_df = rename_df.select(\n",
        "    \"year\", \"month\", \"day\",\n",
        "    \"time\", \"lat\", \"lon\",\n",
        "    \"npi\", \"npk\", \"npedi\",\n",
        "    \"npedk\", \"nci\", \"nck\",\n",
        "    \"nmi\", \"nmk\"\n",
        "    )"
      ],
      "metadata": {
        "id": "saWOsOgfa5Jg"
      },
      "execution_count": 37,
      "outputs": []
    },
    {
      "cell_type": "code",
      "source": [
        "reorder_df.show(5, truncate=False)"
      ],
      "metadata": {
        "colab": {
          "base_uri": "https://localhost:8080/"
        },
        "id": "bbRLsCWgcp3E",
        "outputId": "d2615825-46c0-42f6-871f-fabeadac9c5d"
      },
      "execution_count": 38,
      "outputs": [
        {
          "output_type": "stream",
          "name": "stdout",
          "text": [
            "+----+-----+---+-----+---------+----------+---+---+-----+-----+---+---+---+---+\n",
            "|year|month|day|time |lat      |lon       |npi|npk|npedi|npedk|nci|nck|nmi|nmk|\n",
            "+----+-----+---+-----+---------+----------+---+---+-----+-----+---+---+---+---+\n",
            "|2021|4    |13 |21:35|40.68358 |-73.97617 |1.0|0.0|1    |0    |0  |0  |0  |0  |\n",
            "|2021|4    |12 |8:25 |0.0      |0.0       |0.0|0.0|0    |0    |0  |0  |0  |0  |\n",
            "|2019|5    |21 |22:50|40.69754 |-73.98312 |0.0|0.0|0    |0    |0  |0  |0  |0  |\n",
            "|2021|2    |26 |14:50|40.843464|-73.836   |0.0|0.0|0    |0    |0  |0  |0  |0  |\n",
            "|2021|3    |9  |11:00|40.692547|-73.990974|1.0|0.0|0    |0    |0  |0  |1  |0  |\n",
            "+----+-----+---+-----+---------+----------+---+---+-----+-----+---+---+---+---+\n",
            "only showing top 5 rows\n",
            "\n"
          ]
        }
      ]
    },
    {
      "cell_type": "code",
      "source": [
        "reorder_df.printSchema()"
      ],
      "metadata": {
        "colab": {
          "base_uri": "https://localhost:8080/"
        },
        "id": "LfiQLXkFdKWZ",
        "outputId": "de3c91b1-afa9-4f79-c896-260cdccd2355"
      },
      "execution_count": 39,
      "outputs": [
        {
          "output_type": "stream",
          "name": "stdout",
          "text": [
            "root\n",
            " |-- year: integer (nullable = true)\n",
            " |-- month: integer (nullable = true)\n",
            " |-- day: integer (nullable = true)\n",
            " |-- time: string (nullable = true)\n",
            " |-- lat: double (nullable = true)\n",
            " |-- lon: double (nullable = true)\n",
            " |-- npi: double (nullable = true)\n",
            " |-- npk: double (nullable = true)\n",
            " |-- npedi: long (nullable = true)\n",
            " |-- npedk: long (nullable = true)\n",
            " |-- nci: long (nullable = true)\n",
            " |-- nck: long (nullable = true)\n",
            " |-- nmi: long (nullable = true)\n",
            " |-- nmk: long (nullable = true)\n",
            "\n"
          ]
        }
      ]
    },
    {
      "cell_type": "markdown",
      "source": [
        "### get only 2020 data set"
      ],
      "metadata": {
        "id": "lA9pRzcHeU86"
      }
    },
    {
      "cell_type": "code",
      "source": [
        "df_20 = reorder_df.filter(col('year') == 2020)"
      ],
      "metadata": {
        "id": "-4S9SgO1eBIy"
      },
      "execution_count": 40,
      "outputs": []
    },
    {
      "cell_type": "code",
      "source": [
        "df_20.count()"
      ],
      "metadata": {
        "colab": {
          "base_uri": "https://localhost:8080/"
        },
        "id": "zclt6sNUemvr",
        "outputId": "dc2b8be9-2617-456f-8624-1621492e8eaf"
      },
      "execution_count": 41,
      "outputs": [
        {
          "output_type": "execute_result",
          "data": {
            "text/plain": [
              "103989"
            ]
          },
          "metadata": {},
          "execution_count": 41
        }
      ]
    },
    {
      "cell_type": "code",
      "source": [
        "df_20.select(\n",
        "    \"time\", \"npi\", \"npk\",\n",
        "    \"npedi\",\"npedk\", \"nci\",\n",
        "    \"nck\", \"nmi\", \"nmk\"\n",
        ").describe().show(vertical=True)"
      ],
      "metadata": {
        "colab": {
          "base_uri": "https://localhost:8080/"
        },
        "id": "J5wQW34reoVw",
        "outputId": "31282165-07d7-4492-bc04-38ad4eea70ab"
      },
      "execution_count": 44,
      "outputs": [
        {
          "output_type": "stream",
          "name": "stdout",
          "text": [
            "-RECORD 0-----------------------\n",
            " summary | count                \n",
            " time    | 103989               \n",
            " npi     | 103989               \n",
            " npk     | 103989               \n",
            " npedi   | 103989               \n",
            " npedk   | 103989               \n",
            " nci     | 103989               \n",
            " nck     | 103989               \n",
            " nmi     | 103989               \n",
            " nmk     | 103989               \n",
            "-RECORD 1-----------------------\n",
            " summary | mean                 \n",
            " time    | null                 \n",
            " npi     | 0.3909355797247786   \n",
            " npk     | 0.002288703612882... \n",
            " npedi   | 0.06161228591485638  \n",
            " npedk   | 9.039417630710941E-4 \n",
            " nci     | 0.05073613555279886  \n",
            " nck     | 2.307936416351729... \n",
            " nmi     | 0.2785871582571233   \n",
            " nmk     | 0.001153968208175... \n",
            "-RECORD 2-----------------------\n",
            " summary | stddev               \n",
            " time    | null                 \n",
            " npi     | 0.7416904881029619   \n",
            " npk     | 0.051280417306981005 \n",
            " npedi   | 0.2520113741506671   \n",
            " npedk   | 0.030370484449129483 \n",
            " nci     | 0.2243563481228609   \n",
            " nck     | 0.015190213785317286 \n",
            " nmi     | 0.7065035779821207   \n",
            " nmk     | 0.03846567889746473  \n",
            "-RECORD 3-----------------------\n",
            " summary | min                  \n",
            " time    | 0:00                 \n",
            " npi     | 0.0                  \n",
            " npk     | 0.0                  \n",
            " npedi   | 0                    \n",
            " npedk   | 0                    \n",
            " nci     | 0                    \n",
            " nck     | 0                    \n",
            " nmi     | 0                    \n",
            " nmk     | 0                    \n",
            "-RECORD 4-----------------------\n",
            " summary | max                  \n",
            " time    | 9:59                 \n",
            " npi     | 15.0                 \n",
            " npk     | 4.0                  \n",
            " npedi   | 7                    \n",
            " npedk   | 2                    \n",
            " nci     | 3                    \n",
            " nck     | 1                    \n",
            " nmi     | 15                   \n",
            " nmk     | 4                    \n",
            "\n"
          ]
        }
      ]
    },
    {
      "cell_type": "code",
      "source": [
        ""
      ],
      "metadata": {
        "id": "RqCfGS2_fAy9"
      },
      "execution_count": 42,
      "outputs": []
    }
  ]
}