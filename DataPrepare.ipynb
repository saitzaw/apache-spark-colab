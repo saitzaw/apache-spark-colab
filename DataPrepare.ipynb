{
  "nbformat": 4,
  "nbformat_minor": 0,
  "metadata": {
    "colab": {
      "provenance": [],
      "authorship_tag": "ABX9TyMcEhuYEUUUsLEGzWXmyM9d",
      "include_colab_link": true
    },
    "kernelspec": {
      "name": "python3",
      "display_name": "Python 3"
    },
    "language_info": {
      "name": "python"
    }
  },
  "cells": [
    {
      "cell_type": "markdown",
      "metadata": {
        "id": "view-in-github",
        "colab_type": "text"
      },
      "source": [
        "<a href=\"https://colab.research.google.com/github/saitzaw/apache-spark-colab/blob/main/DataPrepare.ipynb\" target=\"_parent\"><img src=\"https://colab.research.google.com/assets/colab-badge.svg\" alt=\"Open In Colab\"/></a>"
      ]
    },
    {
      "cell_type": "code",
      "source": [
        "import pandas as pd\n",
        "from os.path import isfile"
      ],
      "metadata": {
        "id": "Y0OdS-dTa0_E"
      },
      "execution_count": 1,
      "outputs": []
    },
    {
      "cell_type": "code",
      "source": [
        "file = \"https://data.cityofnewyork.us/resource/h9gi-nx95.csv\""
      ],
      "metadata": {
        "id": "vZu2OVvzXzBs"
      },
      "execution_count": 2,
      "outputs": []
    },
    {
      "cell_type": "code",
      "source": [
        "raw_df = pd.read_csv(file)"
      ],
      "metadata": {
        "id": "Dennn2V7b0x6"
      },
      "execution_count": 3,
      "outputs": []
    },
    {
      "cell_type": "code",
      "source": [
        "from google.colab import drive\n",
        "drive.mount('/content/drive')"
      ],
      "metadata": {
        "colab": {
          "base_uri": "https://localhost:8080/"
        },
        "id": "xz06EoJMb_v5",
        "outputId": "25c6e4c8-7eb6-4b7e-aa14-1447dc979f8e"
      },
      "execution_count": 4,
      "outputs": [
        {
          "output_type": "stream",
          "name": "stdout",
          "text": [
            "Drive already mounted at /content/drive; to attempt to forcibly remount, call drive.mount(\"/content/drive\", force_remount=True).\n"
          ]
        }
      ]
    },
    {
      "cell_type": "code",
      "source": [
        "SampleDataPath = '/content/drive/MyDrive/ColabDataset/MotorVehicleCollisionsCrashes2.parquet'"
      ],
      "metadata": {
        "id": "MzyGKS47cWC3"
      },
      "execution_count": 5,
      "outputs": []
    },
    {
      "cell_type": "code",
      "source": [
        "try:\n",
        "  if not isfile(SampleDataPath):\n",
        "    raw_df.to_parquet(SampleDataPath)\n",
        "except (IOError, PermissionError):\n",
        "  print(\"Cannot write this file\")"
      ],
      "metadata": {
        "id": "WIpcpP2rcthh"
      },
      "execution_count": 6,
      "outputs": []
    },
    {
      "cell_type": "code",
      "source": [],
      "metadata": {
        "id": "AaGmq8W8cx0E"
      },
      "execution_count": 6,
      "outputs": []
    }
  ]
}