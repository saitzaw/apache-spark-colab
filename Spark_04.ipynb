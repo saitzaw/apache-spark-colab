{
  "nbformat": 4,
  "nbformat_minor": 0,
  "metadata": {
    "colab": {
      "name": "Spark_04.ipynb",
      "provenance": [],
      "authorship_tag": "ABX9TyNo3imjjrdAWWsNch67Xv8f",
      "include_colab_link": true
    },
    "kernelspec": {
      "name": "python3",
      "display_name": "Python 3"
    },
    "language_info": {
      "name": "python"
    }
  },
  "cells": [
    {
      "cell_type": "markdown",
      "metadata": {
        "id": "view-in-github",
        "colab_type": "text"
      },
      "source": [
        "<a href=\"https://colab.research.google.com/github/saitzaw/apache-spark-colab/blob/main/Spark_04.ipynb\" target=\"_parent\"><img src=\"https://colab.research.google.com/assets/colab-badge.svg\" alt=\"Open In Colab\"/></a>"
      ]
    },
    {
      "cell_type": "markdown",
      "source": [
        "### Apache Spark 3.2.1 \n",
        "- new spark version with java-8"
      ],
      "metadata": {
        "id": "otfYt8715HF4"
      }
    },
    {
      "cell_type": "code",
      "execution_count": 1,
      "metadata": {
        "colab": {
          "base_uri": "https://localhost:8080/"
        },
        "id": "z8sYrIe6yl-d",
        "outputId": "e4f76072-e308-4d63-ee16-dfb205fe62cb"
      },
      "outputs": [
        {
          "output_type": "stream",
          "name": "stdout",
          "text": [
            "Requirement already satisfied: pyspark in /usr/local/lib/python3.7/dist-packages (3.2.1)\n",
            "Requirement already satisfied: py4j==0.10.9.3 in /usr/local/lib/python3.7/dist-packages (from pyspark) (0.10.9.3)\n"
          ]
        }
      ],
      "source": [
        "!apt-get install openjdk-8-jdk-headless -qq > /dev/null\n",
        "!wget -q https://dlcdn.apache.org/spark/spark-3.2.1/spark-3.2.1-bin-hadoop3.2.tgz\n",
        "!tar -xf spark-3.2.1-bin-hadoop3.2.tgz\n",
        "!pip install -q findspark\n",
        "!pip install pyspark"
      ]
    },
    {
      "cell_type": "code",
      "source": [
        "import os\n",
        "import findspark\n",
        "from pyarrow import parquet\n",
        "from pyspark.sql import SparkSession"
      ],
      "metadata": {
        "id": "3QdwI61gzJmO"
      },
      "execution_count": 2,
      "outputs": []
    },
    {
      "cell_type": "code",
      "source": [
        "os.environ[\"JAVA_HOME\"] = \"/usr/lib/jvm/java-8-openjdk-amd64\"\n",
        "os.environ[\"SPARK_HOME\"] = \"/content/spark-3.2.1-bin-hadoop3.2\""
      ],
      "metadata": {
        "id": "-19FXovvzMRD"
      },
      "execution_count": 3,
      "outputs": []
    },
    {
      "cell_type": "code",
      "source": [
        "findspark.init()\n",
        "spark = SparkSession.builder\\\n",
        "                    .master(\"local\")\\\n",
        "                    .appName(\"colab\")\\\n",
        "                    .config(\"spark.ui.port\", \"4050\")\\\n",
        "                    .getOrCreate()\n",
        "spark.conf.set(\"spark.sql.repl.eagerEval.enabled\", True)"
      ],
      "metadata": {
        "id": "NpT-xEyZzOgS"
      },
      "execution_count": 4,
      "outputs": []
    },
    {
      "cell_type": "code",
      "source": [
        "from google.colab import drive\n",
        "drive.mount('/content/gdrive')"
      ],
      "metadata": {
        "colab": {
          "base_uri": "https://localhost:8080/"
        },
        "id": "4-P06epdz06E",
        "outputId": "c2bb29f7-ab29-4ee6-abd2-1eca1cda9666"
      },
      "execution_count": 5,
      "outputs": [
        {
          "output_type": "stream",
          "name": "stdout",
          "text": [
            "Drive already mounted at /content/gdrive; to attempt to forcibly remount, call drive.mount(\"/content/gdrive\", force_remount=True).\n"
          ]
        }
      ]
    },
    {
      "cell_type": "code",
      "source": [
        "data_file = '/content/gdrive/MyDrive/ColabDataset/MotorVehicleCollisionsCrashes.parquet'"
      ],
      "metadata": {
        "id": "EWL-Ucm80P-T"
      },
      "execution_count": 6,
      "outputs": []
    },
    {
      "cell_type": "code",
      "source": [
        "df = spark.read.parquet(data_file)"
      ],
      "metadata": {
        "id": "8I-p5Dds0WpU"
      },
      "execution_count": 7,
      "outputs": []
    },
    {
      "cell_type": "code",
      "source": [
        "df.show(5, truncate=True, vertical=True)"
      ],
      "metadata": {
        "colab": {
          "base_uri": "https://localhost:8080/"
        },
        "id": "8lPjuxB_0Ysd",
        "outputId": "72608f7b-831a-4b21-8958-3f7d28c59609"
      },
      "execution_count": 8,
      "outputs": [
        {
          "output_type": "stream",
          "name": "stdout",
          "text": [
            "-RECORD 0---------------------------------------------\n",
            " CRASH_DATE                    | 04/14/2021           \n",
            " CRASH_TIME                    | 5:32                 \n",
            " BOROUGH                       | null                 \n",
            " ZIP_CODE                      | null                 \n",
            " LATITUDE                      | null                 \n",
            " LONGITUDE                     | null                 \n",
            " LOCATION                      | null                 \n",
            " ON_STREET_NAME                | BRONX WHITESTONE ... \n",
            " CROSS_STREET_NAME             | null                 \n",
            " OFF_STREET_NAME               | null                 \n",
            " NUMBER_OF_PERSONS_INJURED     | 0.0                  \n",
            " NUMBER_OF_PERSONS_KILLED      | 0.0                  \n",
            " NUMBER_OF_PEDESTRIANS_INJURED | 0                    \n",
            " NUMBER_OF_PEDESTRIANS_KILLED  | 0                    \n",
            " NUMBER_OF_CYCLIST_INJURED     | 0                    \n",
            " NUMBER_OF_CYCLIST_KILLED      | 0                    \n",
            " NUMBER_OF_MOTORIST_INJURED    | 0                    \n",
            " NUMBER_OF_MOTORIST_KILLED     | 0                    \n",
            " CONTRIBUTING_FACTOR_VEHICLE_1 | Following Too Clo... \n",
            " CONTRIBUTING_FACTOR_VEHICLE_2 | Unspecified          \n",
            " CONTRIBUTING_FACTOR_VEHICLE_3 | null                 \n",
            " CONTRIBUTING_FACTOR_VEHICLE_4 | null                 \n",
            " CONTRIBUTING_FACTOR_VEHICLE_5 | null                 \n",
            " COLLISION_ID                  | 4407480              \n",
            " VEHICLE_TYPE_CODE_1           | Sedan                \n",
            " VEHICLE_TYPE_CODE_2           | Sedan                \n",
            " VEHICLE_TYPE_CODE_3           | null                 \n",
            " VEHICLE_TYPE_CODE_4           | null                 \n",
            " VEHICLE_TYPE_CODE_5           | null                 \n",
            "-RECORD 1---------------------------------------------\n",
            " CRASH_DATE                    | 04/13/2021           \n",
            " CRASH_TIME                    | 21:35                \n",
            " BOROUGH                       | BROOKLYN             \n",
            " ZIP_CODE                      | 11217.0              \n",
            " LATITUDE                      | 40.68358             \n",
            " LONGITUDE                     | -73.97617            \n",
            " LOCATION                      | (40.68358, -73.97... \n",
            " ON_STREET_NAME                | null                 \n",
            " CROSS_STREET_NAME             | null                 \n",
            " OFF_STREET_NAME               | 620       ATLANTI... \n",
            " NUMBER_OF_PERSONS_INJURED     | 1.0                  \n",
            " NUMBER_OF_PERSONS_KILLED      | 0.0                  \n",
            " NUMBER_OF_PEDESTRIANS_INJURED | 1                    \n",
            " NUMBER_OF_PEDESTRIANS_KILLED  | 0                    \n",
            " NUMBER_OF_CYCLIST_INJURED     | 0                    \n",
            " NUMBER_OF_CYCLIST_KILLED      | 0                    \n",
            " NUMBER_OF_MOTORIST_INJURED    | 0                    \n",
            " NUMBER_OF_MOTORIST_KILLED     | 0                    \n",
            " CONTRIBUTING_FACTOR_VEHICLE_1 | Unspecified          \n",
            " CONTRIBUTING_FACTOR_VEHICLE_2 | null                 \n",
            " CONTRIBUTING_FACTOR_VEHICLE_3 | null                 \n",
            " CONTRIBUTING_FACTOR_VEHICLE_4 | null                 \n",
            " CONTRIBUTING_FACTOR_VEHICLE_5 | null                 \n",
            " COLLISION_ID                  | 4407147              \n",
            " VEHICLE_TYPE_CODE_1           | Sedan                \n",
            " VEHICLE_TYPE_CODE_2           | null                 \n",
            " VEHICLE_TYPE_CODE_3           | null                 \n",
            " VEHICLE_TYPE_CODE_4           | null                 \n",
            " VEHICLE_TYPE_CODE_5           | null                 \n",
            "-RECORD 2---------------------------------------------\n",
            " CRASH_DATE                    | 04/15/2021           \n",
            " CRASH_TIME                    | 16:15                \n",
            " BOROUGH                       | null                 \n",
            " ZIP_CODE                      | null                 \n",
            " LATITUDE                      | null                 \n",
            " LONGITUDE                     | null                 \n",
            " LOCATION                      | null                 \n",
            " ON_STREET_NAME                | HUTCHINSON RIVER ... \n",
            " CROSS_STREET_NAME             | null                 \n",
            " OFF_STREET_NAME               | null                 \n",
            " NUMBER_OF_PERSONS_INJURED     | 0.0                  \n",
            " NUMBER_OF_PERSONS_KILLED      | 0.0                  \n",
            " NUMBER_OF_PEDESTRIANS_INJURED | 0                    \n",
            " NUMBER_OF_PEDESTRIANS_KILLED  | 0                    \n",
            " NUMBER_OF_CYCLIST_INJURED     | 0                    \n",
            " NUMBER_OF_CYCLIST_KILLED      | 0                    \n",
            " NUMBER_OF_MOTORIST_INJURED    | 0                    \n",
            " NUMBER_OF_MOTORIST_KILLED     | 0                    \n",
            " CONTRIBUTING_FACTOR_VEHICLE_1 | Pavement Slippery    \n",
            " CONTRIBUTING_FACTOR_VEHICLE_2 | null                 \n",
            " CONTRIBUTING_FACTOR_VEHICLE_3 | null                 \n",
            " CONTRIBUTING_FACTOR_VEHICLE_4 | null                 \n",
            " CONTRIBUTING_FACTOR_VEHICLE_5 | null                 \n",
            " COLLISION_ID                  | 4407665              \n",
            " VEHICLE_TYPE_CODE_1           | Station Wagon/Spo... \n",
            " VEHICLE_TYPE_CODE_2           | null                 \n",
            " VEHICLE_TYPE_CODE_3           | null                 \n",
            " VEHICLE_TYPE_CODE_4           | null                 \n",
            " VEHICLE_TYPE_CODE_5           | null                 \n",
            "-RECORD 3---------------------------------------------\n",
            " CRASH_DATE                    | 04/13/2021           \n",
            " CRASH_TIME                    | 16:00                \n",
            " BOROUGH                       | BROOKLYN             \n",
            " ZIP_CODE                      | 11222.0              \n",
            " LATITUDE                      | null                 \n",
            " LONGITUDE                     | null                 \n",
            " LOCATION                      | null                 \n",
            " ON_STREET_NAME                | VANDERVORT AVENUE    \n",
            " CROSS_STREET_NAME             | ANTHONY STREET       \n",
            " OFF_STREET_NAME               | null                 \n",
            " NUMBER_OF_PERSONS_INJURED     | 0.0                  \n",
            " NUMBER_OF_PERSONS_KILLED      | 0.0                  \n",
            " NUMBER_OF_PEDESTRIANS_INJURED | 0                    \n",
            " NUMBER_OF_PEDESTRIANS_KILLED  | 0                    \n",
            " NUMBER_OF_CYCLIST_INJURED     | 0                    \n",
            " NUMBER_OF_CYCLIST_KILLED      | 0                    \n",
            " NUMBER_OF_MOTORIST_INJURED    | 0                    \n",
            " NUMBER_OF_MOTORIST_KILLED     | 0                    \n",
            " CONTRIBUTING_FACTOR_VEHICLE_1 | Following Too Clo... \n",
            " CONTRIBUTING_FACTOR_VEHICLE_2 | Unspecified          \n",
            " CONTRIBUTING_FACTOR_VEHICLE_3 | null                 \n",
            " CONTRIBUTING_FACTOR_VEHICLE_4 | null                 \n",
            " CONTRIBUTING_FACTOR_VEHICLE_5 | null                 \n",
            " COLLISION_ID                  | 4407811              \n",
            " VEHICLE_TYPE_CODE_1           | Sedan                \n",
            " VEHICLE_TYPE_CODE_2           | null                 \n",
            " VEHICLE_TYPE_CODE_3           | null                 \n",
            " VEHICLE_TYPE_CODE_4           | null                 \n",
            " VEHICLE_TYPE_CODE_5           | null                 \n",
            "-RECORD 4---------------------------------------------\n",
            " CRASH_DATE                    | 04/12/2021           \n",
            " CRASH_TIME                    | 8:25                 \n",
            " BOROUGH                       | null                 \n",
            " ZIP_CODE                      | null                 \n",
            " LATITUDE                      | 0.0                  \n",
            " LONGITUDE                     | 0.0                  \n",
            " LOCATION                      | (0.0, 0.0)           \n",
            " ON_STREET_NAME                | EDSON AVENUE     ... \n",
            " CROSS_STREET_NAME             | null                 \n",
            " OFF_STREET_NAME               | null                 \n",
            " NUMBER_OF_PERSONS_INJURED     | 0.0                  \n",
            " NUMBER_OF_PERSONS_KILLED      | 0.0                  \n",
            " NUMBER_OF_PEDESTRIANS_INJURED | 0                    \n",
            " NUMBER_OF_PEDESTRIANS_KILLED  | 0                    \n",
            " NUMBER_OF_CYCLIST_INJURED     | 0                    \n",
            " NUMBER_OF_CYCLIST_KILLED      | 0                    \n",
            " NUMBER_OF_MOTORIST_INJURED    | 0                    \n",
            " NUMBER_OF_MOTORIST_KILLED     | 0                    \n",
            " CONTRIBUTING_FACTOR_VEHICLE_1 | Unspecified          \n",
            " CONTRIBUTING_FACTOR_VEHICLE_2 | Unspecified          \n",
            " CONTRIBUTING_FACTOR_VEHICLE_3 | null                 \n",
            " CONTRIBUTING_FACTOR_VEHICLE_4 | null                 \n",
            " CONTRIBUTING_FACTOR_VEHICLE_5 | null                 \n",
            " COLLISION_ID                  | 4406885              \n",
            " VEHICLE_TYPE_CODE_1           | Station Wagon/Spo... \n",
            " VEHICLE_TYPE_CODE_2           | Sedan                \n",
            " VEHICLE_TYPE_CODE_3           | null                 \n",
            " VEHICLE_TYPE_CODE_4           | null                 \n",
            " VEHICLE_TYPE_CODE_5           | null                 \n",
            "only showing top 5 rows\n",
            "\n"
          ]
        }
      ]
    },
    {
      "cell_type": "code",
      "source": [
        "spark.conf.set(\"spark.sql.legacy.timeParserPolicy\",\"LEGACY\")"
      ],
      "metadata": {
        "id": "JPyUgfRA0btt"
      },
      "execution_count": 9,
      "outputs": []
    },
    {
      "cell_type": "code",
      "source": [
        "from pyspark.sql.functions import udf\n",
        "from pyspark.sql.types import ArrayType, StringType\n",
        "from pyspark.sql.functions import date_format, when, col, to_date"
      ],
      "metadata": {
        "id": "LHNEj3z70qTB"
      },
      "execution_count": 10,
      "outputs": []
    },
    {
      "cell_type": "code",
      "source": [
        "ndf = df.select(\n",
        "    date_format(\n",
        "        to_date(col('CRASH_DATE'), 'dd/mm/yyyyy'),'dd-mm-yyyy'\n",
        "        ).alias('date'))"
      ],
      "metadata": {
        "id": "icTR4ICI0zGy"
      },
      "execution_count": 11,
      "outputs": []
    },
    {
      "cell_type": "code",
      "source": [
        "def splitUDF(row):\n",
        "    if \"/\" in row:\n",
        "        mm,dd,yyyy = row.split(\"/\")\n",
        "    elif \"-\" in row:\n",
        "        yyyy,mm,dd = row.split(\"-\")\n",
        "\n",
        "    return [yyyy,mm,dd]"
      ],
      "metadata": {
        "id": "4m3pFCPW03Cg"
      },
      "execution_count": 12,
      "outputs": []
    },
    {
      "cell_type": "code",
      "source": [
        "datSplitterUDF = udf(lambda row : splitUDF(row),ArrayType(StringType()))"
      ],
      "metadata": {
        "id": "Af12a5T706FW"
      },
      "execution_count": 13,
      "outputs": []
    },
    {
      "cell_type": "code",
      "source": [
        "ndf = df\\\n",
        ".select('*', datSplitterUDF(df.CRASH_DATE).alias(\"dt\"))\\\n",
        ".withColumn('year',col('dt').getItem(0).cast('int'))\\\n",
        ".withColumn('month',col('dt').getItem(1).cast('int'))\\\n",
        ".withColumn('day',col('dt').getItem(2).cast('int'))"
      ],
      "metadata": {
        "id": "2xIEP9GM0-Sy"
      },
      "execution_count": 14,
      "outputs": []
    },
    {
      "cell_type": "code",
      "source": [
        "ndf.show(5, truncate=False, vertical=True)"
      ],
      "metadata": {
        "colab": {
          "base_uri": "https://localhost:8080/"
        },
        "id": "7wOlUrQV1B2S",
        "outputId": "1db4677a-03f5-4d6f-fa5f-33aef6b630a9"
      },
      "execution_count": 15,
      "outputs": [
        {
          "output_type": "stream",
          "name": "stdout",
          "text": [
            "-RECORD 0-----------------------------------------------------------------\n",
            " CRASH_DATE                    | 04/14/2021                               \n",
            " CRASH_TIME                    | 5:32                                     \n",
            " BOROUGH                       | null                                     \n",
            " ZIP_CODE                      | null                                     \n",
            " LATITUDE                      | null                                     \n",
            " LONGITUDE                     | null                                     \n",
            " LOCATION                      | null                                     \n",
            " ON_STREET_NAME                | BRONX WHITESTONE BRIDGE                  \n",
            " CROSS_STREET_NAME             | null                                     \n",
            " OFF_STREET_NAME               | null                                     \n",
            " NUMBER_OF_PERSONS_INJURED     | 0.0                                      \n",
            " NUMBER_OF_PERSONS_KILLED      | 0.0                                      \n",
            " NUMBER_OF_PEDESTRIANS_INJURED | 0                                        \n",
            " NUMBER_OF_PEDESTRIANS_KILLED  | 0                                        \n",
            " NUMBER_OF_CYCLIST_INJURED     | 0                                        \n",
            " NUMBER_OF_CYCLIST_KILLED      | 0                                        \n",
            " NUMBER_OF_MOTORIST_INJURED    | 0                                        \n",
            " NUMBER_OF_MOTORIST_KILLED     | 0                                        \n",
            " CONTRIBUTING_FACTOR_VEHICLE_1 | Following Too Closely                    \n",
            " CONTRIBUTING_FACTOR_VEHICLE_2 | Unspecified                              \n",
            " CONTRIBUTING_FACTOR_VEHICLE_3 | null                                     \n",
            " CONTRIBUTING_FACTOR_VEHICLE_4 | null                                     \n",
            " CONTRIBUTING_FACTOR_VEHICLE_5 | null                                     \n",
            " COLLISION_ID                  | 4407480                                  \n",
            " VEHICLE_TYPE_CODE_1           | Sedan                                    \n",
            " VEHICLE_TYPE_CODE_2           | Sedan                                    \n",
            " VEHICLE_TYPE_CODE_3           | null                                     \n",
            " VEHICLE_TYPE_CODE_4           | null                                     \n",
            " VEHICLE_TYPE_CODE_5           | null                                     \n",
            " dt                            | [2021, 04, 14]                           \n",
            " year                          | 2021                                     \n",
            " month                         | 4                                        \n",
            " day                           | 14                                       \n",
            "-RECORD 1-----------------------------------------------------------------\n",
            " CRASH_DATE                    | 04/13/2021                               \n",
            " CRASH_TIME                    | 21:35                                    \n",
            " BOROUGH                       | BROOKLYN                                 \n",
            " ZIP_CODE                      | 11217.0                                  \n",
            " LATITUDE                      | 40.68358                                 \n",
            " LONGITUDE                     | -73.97617                                \n",
            " LOCATION                      | (40.68358, -73.97617)                    \n",
            " ON_STREET_NAME                | null                                     \n",
            " CROSS_STREET_NAME             | null                                     \n",
            " OFF_STREET_NAME               | 620       ATLANTIC AVENUE                \n",
            " NUMBER_OF_PERSONS_INJURED     | 1.0                                      \n",
            " NUMBER_OF_PERSONS_KILLED      | 0.0                                      \n",
            " NUMBER_OF_PEDESTRIANS_INJURED | 1                                        \n",
            " NUMBER_OF_PEDESTRIANS_KILLED  | 0                                        \n",
            " NUMBER_OF_CYCLIST_INJURED     | 0                                        \n",
            " NUMBER_OF_CYCLIST_KILLED      | 0                                        \n",
            " NUMBER_OF_MOTORIST_INJURED    | 0                                        \n",
            " NUMBER_OF_MOTORIST_KILLED     | 0                                        \n",
            " CONTRIBUTING_FACTOR_VEHICLE_1 | Unspecified                              \n",
            " CONTRIBUTING_FACTOR_VEHICLE_2 | null                                     \n",
            " CONTRIBUTING_FACTOR_VEHICLE_3 | null                                     \n",
            " CONTRIBUTING_FACTOR_VEHICLE_4 | null                                     \n",
            " CONTRIBUTING_FACTOR_VEHICLE_5 | null                                     \n",
            " COLLISION_ID                  | 4407147                                  \n",
            " VEHICLE_TYPE_CODE_1           | Sedan                                    \n",
            " VEHICLE_TYPE_CODE_2           | null                                     \n",
            " VEHICLE_TYPE_CODE_3           | null                                     \n",
            " VEHICLE_TYPE_CODE_4           | null                                     \n",
            " VEHICLE_TYPE_CODE_5           | null                                     \n",
            " dt                            | [2021, 04, 13]                           \n",
            " year                          | 2021                                     \n",
            " month                         | 4                                        \n",
            " day                           | 13                                       \n",
            "-RECORD 2-----------------------------------------------------------------\n",
            " CRASH_DATE                    | 04/15/2021                               \n",
            " CRASH_TIME                    | 16:15                                    \n",
            " BOROUGH                       | null                                     \n",
            " ZIP_CODE                      | null                                     \n",
            " LATITUDE                      | null                                     \n",
            " LONGITUDE                     | null                                     \n",
            " LOCATION                      | null                                     \n",
            " ON_STREET_NAME                | HUTCHINSON RIVER PARKWAY                 \n",
            " CROSS_STREET_NAME             | null                                     \n",
            " OFF_STREET_NAME               | null                                     \n",
            " NUMBER_OF_PERSONS_INJURED     | 0.0                                      \n",
            " NUMBER_OF_PERSONS_KILLED      | 0.0                                      \n",
            " NUMBER_OF_PEDESTRIANS_INJURED | 0                                        \n",
            " NUMBER_OF_PEDESTRIANS_KILLED  | 0                                        \n",
            " NUMBER_OF_CYCLIST_INJURED     | 0                                        \n",
            " NUMBER_OF_CYCLIST_KILLED      | 0                                        \n",
            " NUMBER_OF_MOTORIST_INJURED    | 0                                        \n",
            " NUMBER_OF_MOTORIST_KILLED     | 0                                        \n",
            " CONTRIBUTING_FACTOR_VEHICLE_1 | Pavement Slippery                        \n",
            " CONTRIBUTING_FACTOR_VEHICLE_2 | null                                     \n",
            " CONTRIBUTING_FACTOR_VEHICLE_3 | null                                     \n",
            " CONTRIBUTING_FACTOR_VEHICLE_4 | null                                     \n",
            " CONTRIBUTING_FACTOR_VEHICLE_5 | null                                     \n",
            " COLLISION_ID                  | 4407665                                  \n",
            " VEHICLE_TYPE_CODE_1           | Station Wagon/Sport Utility Vehicle      \n",
            " VEHICLE_TYPE_CODE_2           | null                                     \n",
            " VEHICLE_TYPE_CODE_3           | null                                     \n",
            " VEHICLE_TYPE_CODE_4           | null                                     \n",
            " VEHICLE_TYPE_CODE_5           | null                                     \n",
            " dt                            | [2021, 04, 15]                           \n",
            " year                          | 2021                                     \n",
            " month                         | 4                                        \n",
            " day                           | 15                                       \n",
            "-RECORD 3-----------------------------------------------------------------\n",
            " CRASH_DATE                    | 04/13/2021                               \n",
            " CRASH_TIME                    | 16:00                                    \n",
            " BOROUGH                       | BROOKLYN                                 \n",
            " ZIP_CODE                      | 11222.0                                  \n",
            " LATITUDE                      | null                                     \n",
            " LONGITUDE                     | null                                     \n",
            " LOCATION                      | null                                     \n",
            " ON_STREET_NAME                | VANDERVORT AVENUE                        \n",
            " CROSS_STREET_NAME             | ANTHONY STREET                           \n",
            " OFF_STREET_NAME               | null                                     \n",
            " NUMBER_OF_PERSONS_INJURED     | 0.0                                      \n",
            " NUMBER_OF_PERSONS_KILLED      | 0.0                                      \n",
            " NUMBER_OF_PEDESTRIANS_INJURED | 0                                        \n",
            " NUMBER_OF_PEDESTRIANS_KILLED  | 0                                        \n",
            " NUMBER_OF_CYCLIST_INJURED     | 0                                        \n",
            " NUMBER_OF_CYCLIST_KILLED      | 0                                        \n",
            " NUMBER_OF_MOTORIST_INJURED    | 0                                        \n",
            " NUMBER_OF_MOTORIST_KILLED     | 0                                        \n",
            " CONTRIBUTING_FACTOR_VEHICLE_1 | Following Too Closely                    \n",
            " CONTRIBUTING_FACTOR_VEHICLE_2 | Unspecified                              \n",
            " CONTRIBUTING_FACTOR_VEHICLE_3 | null                                     \n",
            " CONTRIBUTING_FACTOR_VEHICLE_4 | null                                     \n",
            " CONTRIBUTING_FACTOR_VEHICLE_5 | null                                     \n",
            " COLLISION_ID                  | 4407811                                  \n",
            " VEHICLE_TYPE_CODE_1           | Sedan                                    \n",
            " VEHICLE_TYPE_CODE_2           | null                                     \n",
            " VEHICLE_TYPE_CODE_3           | null                                     \n",
            " VEHICLE_TYPE_CODE_4           | null                                     \n",
            " VEHICLE_TYPE_CODE_5           | null                                     \n",
            " dt                            | [2021, 04, 13]                           \n",
            " year                          | 2021                                     \n",
            " month                         | 4                                        \n",
            " day                           | 13                                       \n",
            "-RECORD 4-----------------------------------------------------------------\n",
            " CRASH_DATE                    | 04/12/2021                               \n",
            " CRASH_TIME                    | 8:25                                     \n",
            " BOROUGH                       | null                                     \n",
            " ZIP_CODE                      | null                                     \n",
            " LATITUDE                      | 0.0                                      \n",
            " LONGITUDE                     | 0.0                                      \n",
            " LOCATION                      | (0.0, 0.0)                               \n",
            " ON_STREET_NAME                | EDSON AVENUE                             \n",
            " CROSS_STREET_NAME             | null                                     \n",
            " OFF_STREET_NAME               | null                                     \n",
            " NUMBER_OF_PERSONS_INJURED     | 0.0                                      \n",
            " NUMBER_OF_PERSONS_KILLED      | 0.0                                      \n",
            " NUMBER_OF_PEDESTRIANS_INJURED | 0                                        \n",
            " NUMBER_OF_PEDESTRIANS_KILLED  | 0                                        \n",
            " NUMBER_OF_CYCLIST_INJURED     | 0                                        \n",
            " NUMBER_OF_CYCLIST_KILLED      | 0                                        \n",
            " NUMBER_OF_MOTORIST_INJURED    | 0                                        \n",
            " NUMBER_OF_MOTORIST_KILLED     | 0                                        \n",
            " CONTRIBUTING_FACTOR_VEHICLE_1 | Unspecified                              \n",
            " CONTRIBUTING_FACTOR_VEHICLE_2 | Unspecified                              \n",
            " CONTRIBUTING_FACTOR_VEHICLE_3 | null                                     \n",
            " CONTRIBUTING_FACTOR_VEHICLE_4 | null                                     \n",
            " CONTRIBUTING_FACTOR_VEHICLE_5 | null                                     \n",
            " COLLISION_ID                  | 4406885                                  \n",
            " VEHICLE_TYPE_CODE_1           | Station Wagon/Sport Utility Vehicle      \n",
            " VEHICLE_TYPE_CODE_2           | Sedan                                    \n",
            " VEHICLE_TYPE_CODE_3           | null                                     \n",
            " VEHICLE_TYPE_CODE_4           | null                                     \n",
            " VEHICLE_TYPE_CODE_5           | null                                     \n",
            " dt                            | [2021, 04, 12]                           \n",
            " year                          | 2021                                     \n",
            " month                         | 4                                        \n",
            " day                           | 12                                       \n",
            "only showing top 5 rows\n",
            "\n"
          ]
        }
      ]
    },
    {
      "cell_type": "code",
      "source": [
        "drop_list = [\n",
        "             'CRASH_DATE',\n",
        "             'BOROUGH',\n",
        "             'ZIP_CODE',\n",
        "             'LOCATION',\n",
        "             'ON_STREET_NAME',\n",
        "             'CROSS_STREET_NAME',\n",
        "             'OFF_STREET_NAME',\n",
        "             'CONTRIBUTING_FACTOR_VEHICLE_1',\n",
        "             'CONTRIBUTING_FACTOR_VEHICLE_2',\n",
        "             'CONTRIBUTING_FACTOR_VEHICLE_3',\n",
        "             'CONTRIBUTING_FACTOR_VEHICLE_4',\n",
        "             'CONTRIBUTING_FACTOR_VEHICLE_5',\n",
        "             'COLLISION_ID',\n",
        "             'VEHICLE_TYPE_CODE_1',\n",
        "             'VEHICLE_TYPE_CODE_2',\n",
        "             'VEHICLE_TYPE_CODE_3',\n",
        "             'VEHICLE_TYPE_CODE_4',\n",
        "             'VEHICLE_TYPE_CODE_5',\n",
        "             'dt'\n",
        "             ]"
      ],
      "metadata": {
        "id": "RKutZo9h1Lcv"
      },
      "execution_count": 16,
      "outputs": []
    },
    {
      "cell_type": "code",
      "source": [
        "slice_df = ndf.drop(*drop_list)"
      ],
      "metadata": {
        "id": "X1W66QOa1SRp"
      },
      "execution_count": 17,
      "outputs": []
    },
    {
      "cell_type": "code",
      "source": [
        "rm_na_loc_null = slice_df.filter(\n",
        "    (df['LATITUDE'].isNotNull())\n",
        "    &(df['LONGITUDE'].isNotNull()))"
      ],
      "metadata": {
        "id": "Gs-OCPuV1VKD"
      },
      "execution_count": 18,
      "outputs": []
    },
    {
      "cell_type": "code",
      "source": [
        "rename_df = rm_na_loc_null\\\n",
        ".withColumnRenamed(\"CRASH_TIME\", \"time\")\\\n",
        ".withColumnRenamed(\"LATITUDE\", \"lat\")\\\n",
        ".withColumnRenamed(\"LONGITUDE\", \"lon\")\\\n",
        ".withColumnRenamed(\"NUMBER_OF_PERSONS_INJURED\", \"npi\")\\\n",
        ".withColumnRenamed(\"NUMBER_OF_PERSONS_KILLED\", \"npk\")\\\n",
        ".withColumnRenamed(\"NUMBER_OF_PEDESTRIANS_INJURED\", \"npedi\")\\\n",
        ".withColumnRenamed(\"NUMBER_OF_PEDESTRIANS_KILLED\", \"npedk\")\\\n",
        ".withColumnRenamed(\"NUMBER_OF_CYCLIST_INJURED\", \"nci\")\\\n",
        ".withColumnRenamed(\"NUMBER_OF_CYCLIST_KILLED\", \"nck\")\\\n",
        ".withColumnRenamed(\"NUMBER_OF_MOTORIST_INJURED\", \"nmi\")\\\n",
        ".withColumnRenamed(\"NUMBER_OF_MOTORIST_KILLED\", \"nmk\")"
      ],
      "metadata": {
        "id": "8EMvMMC-1axb"
      },
      "execution_count": 19,
      "outputs": []
    },
    {
      "cell_type": "code",
      "source": [
        "reorder_df = rename_df.select(\n",
        "    \"year\", \"month\", \"day\",\n",
        "    \"time\", \"lat\", \"lon\",\n",
        "    \"npi\", \"npk\", \"npedi\",\n",
        "    \"npedk\", \"nci\", \"nck\",\n",
        "    \"nmi\", \"nmk\"\n",
        "    )"
      ],
      "metadata": {
        "id": "C-RPV0pd1dgd"
      },
      "execution_count": 20,
      "outputs": []
    },
    {
      "cell_type": "code",
      "source": [
        "reorder_df.show(3, truncate=False, vertical=True)"
      ],
      "metadata": {
        "colab": {
          "base_uri": "https://localhost:8080/"
        },
        "id": "xg4bYy6Y1hfx",
        "outputId": "73b58cea-b90d-40ff-b87a-100ac0d6da34"
      },
      "execution_count": 21,
      "outputs": [
        {
          "output_type": "stream",
          "name": "stdout",
          "text": [
            "-RECORD 0----------\n",
            " year  | 2021      \n",
            " month | 4         \n",
            " day   | 13        \n",
            " time  | 21:35     \n",
            " lat   | 40.68358  \n",
            " lon   | -73.97617 \n",
            " npi   | 1.0       \n",
            " npk   | 0.0       \n",
            " npedi | 1         \n",
            " npedk | 0         \n",
            " nci   | 0         \n",
            " nck   | 0         \n",
            " nmi   | 0         \n",
            " nmk   | 0         \n",
            "-RECORD 1----------\n",
            " year  | 2021      \n",
            " month | 4         \n",
            " day   | 12        \n",
            " time  | 8:25      \n",
            " lat   | 0.0       \n",
            " lon   | 0.0       \n",
            " npi   | 0.0       \n",
            " npk   | 0.0       \n",
            " npedi | 0         \n",
            " npedk | 0         \n",
            " nci   | 0         \n",
            " nck   | 0         \n",
            " nmi   | 0         \n",
            " nmk   | 0         \n",
            "-RECORD 2----------\n",
            " year  | 2019      \n",
            " month | 5         \n",
            " day   | 21        \n",
            " time  | 22:50     \n",
            " lat   | 40.69754  \n",
            " lon   | -73.98312 \n",
            " npi   | 0.0       \n",
            " npk   | 0.0       \n",
            " npedi | 0         \n",
            " npedk | 0         \n",
            " nci   | 0         \n",
            " nck   | 0         \n",
            " nmi   | 0         \n",
            " nmk   | 0         \n",
            "only showing top 3 rows\n",
            "\n"
          ]
        }
      ]
    },
    {
      "cell_type": "code",
      "source": [
        "import matplotlib.pyplot as plt\n",
        "import seaborn as sns\n",
        "import pandas as pd"
      ],
      "metadata": {
        "id": "DYemmFUx1mCy"
      },
      "execution_count": 22,
      "outputs": []
    },
    {
      "cell_type": "code",
      "source": [
        "df_20 = reorder_df.filter(reorder_df['year'] == 2020)"
      ],
      "metadata": {
        "id": "_LkuGEaB8F2V"
      },
      "execution_count": 35,
      "outputs": []
    },
    {
      "cell_type": "code",
      "source": [
        "df_19 = reorder_df.filter(reorder_df['year'] == 2019)"
      ],
      "metadata": {
        "id": "qR9tLi619O6w"
      },
      "execution_count": 74,
      "outputs": []
    },
    {
      "cell_type": "code",
      "source": [
        "df_21 = reorder_df.filter(reorder_df['year'] == 2021)"
      ],
      "metadata": {
        "id": "hWFqBXsxU0SF"
      },
      "execution_count": 75,
      "outputs": []
    },
    {
      "cell_type": "code",
      "source": [
        "df_20.count()"
      ],
      "metadata": {
        "colab": {
          "base_uri": "https://localhost:8080/"
        },
        "id": "biGyR8uL9ucc",
        "outputId": "f8bbd7d3-513f-4930-c1c1-b5cf16434798"
      },
      "execution_count": 36,
      "outputs": [
        {
          "output_type": "execute_result",
          "data": {
            "text/plain": [
              "103989"
            ]
          },
          "metadata": {},
          "execution_count": 36
        }
      ]
    },
    {
      "cell_type": "code",
      "source": [
        "pd_df_20 = df_20.toPandas()"
      ],
      "metadata": {
        "id": "naeKd5fJ-O0o"
      },
      "execution_count": 37,
      "outputs": []
    },
    {
      "cell_type": "code",
      "source": [
        "pd_df_20.head(5)"
      ],
      "metadata": {
        "colab": {
          "base_uri": "https://localhost:8080/",
          "height": 213
        },
        "id": "vkLRbmrv-UZ3",
        "outputId": "6dd8e7bc-1cca-4ccf-f41e-d4d30d8c7c36"
      },
      "execution_count": 38,
      "outputs": [
        {
          "output_type": "execute_result",
          "data": {
            "text/plain": [
              "   year  month  day   time        lat       lon  npi  npk  npedi  npedk  nci  \\\n",
              "0  2020      4   15  15:20  40.671585 -73.99843  0.0  0.0      0      0    0   \n",
              "1  2020      4   17   1:50  40.771610 -73.99046  1.0  0.0      0      0    0   \n",
              "2  2020      9    6  18:05  40.771038 -73.83413  0.0  1.0      0      0    0   \n",
              "3  2020      4   21  16:40  40.877796 -73.86806  0.0  0.0      0      0    0   \n",
              "4  2020      5    2  17:30  40.673760 -73.79473  0.0  0.0      0      0    0   \n",
              "\n",
              "   nck  nmi  nmk  \n",
              "0    0    0    0  \n",
              "1    0    1    0  \n",
              "2    0    0    1  \n",
              "3    0    0    0  \n",
              "4    0    0    0  "
            ],
            "text/html": [
              "\n",
              "  <div id=\"df-8a081943-824b-4ec4-aad6-cfb5168589cf\">\n",
              "    <div class=\"colab-df-container\">\n",
              "      <div>\n",
              "<style scoped>\n",
              "    .dataframe tbody tr th:only-of-type {\n",
              "        vertical-align: middle;\n",
              "    }\n",
              "\n",
              "    .dataframe tbody tr th {\n",
              "        vertical-align: top;\n",
              "    }\n",
              "\n",
              "    .dataframe thead th {\n",
              "        text-align: right;\n",
              "    }\n",
              "</style>\n",
              "<table border=\"1\" class=\"dataframe\">\n",
              "  <thead>\n",
              "    <tr style=\"text-align: right;\">\n",
              "      <th></th>\n",
              "      <th>year</th>\n",
              "      <th>month</th>\n",
              "      <th>day</th>\n",
              "      <th>time</th>\n",
              "      <th>lat</th>\n",
              "      <th>lon</th>\n",
              "      <th>npi</th>\n",
              "      <th>npk</th>\n",
              "      <th>npedi</th>\n",
              "      <th>npedk</th>\n",
              "      <th>nci</th>\n",
              "      <th>nck</th>\n",
              "      <th>nmi</th>\n",
              "      <th>nmk</th>\n",
              "    </tr>\n",
              "  </thead>\n",
              "  <tbody>\n",
              "    <tr>\n",
              "      <th>0</th>\n",
              "      <td>2020</td>\n",
              "      <td>4</td>\n",
              "      <td>15</td>\n",
              "      <td>15:20</td>\n",
              "      <td>40.671585</td>\n",
              "      <td>-73.99843</td>\n",
              "      <td>0.0</td>\n",
              "      <td>0.0</td>\n",
              "      <td>0</td>\n",
              "      <td>0</td>\n",
              "      <td>0</td>\n",
              "      <td>0</td>\n",
              "      <td>0</td>\n",
              "      <td>0</td>\n",
              "    </tr>\n",
              "    <tr>\n",
              "      <th>1</th>\n",
              "      <td>2020</td>\n",
              "      <td>4</td>\n",
              "      <td>17</td>\n",
              "      <td>1:50</td>\n",
              "      <td>40.771610</td>\n",
              "      <td>-73.99046</td>\n",
              "      <td>1.0</td>\n",
              "      <td>0.0</td>\n",
              "      <td>0</td>\n",
              "      <td>0</td>\n",
              "      <td>0</td>\n",
              "      <td>0</td>\n",
              "      <td>1</td>\n",
              "      <td>0</td>\n",
              "    </tr>\n",
              "    <tr>\n",
              "      <th>2</th>\n",
              "      <td>2020</td>\n",
              "      <td>9</td>\n",
              "      <td>6</td>\n",
              "      <td>18:05</td>\n",
              "      <td>40.771038</td>\n",
              "      <td>-73.83413</td>\n",
              "      <td>0.0</td>\n",
              "      <td>1.0</td>\n",
              "      <td>0</td>\n",
              "      <td>0</td>\n",
              "      <td>0</td>\n",
              "      <td>0</td>\n",
              "      <td>0</td>\n",
              "      <td>1</td>\n",
              "    </tr>\n",
              "    <tr>\n",
              "      <th>3</th>\n",
              "      <td>2020</td>\n",
              "      <td>4</td>\n",
              "      <td>21</td>\n",
              "      <td>16:40</td>\n",
              "      <td>40.877796</td>\n",
              "      <td>-73.86806</td>\n",
              "      <td>0.0</td>\n",
              "      <td>0.0</td>\n",
              "      <td>0</td>\n",
              "      <td>0</td>\n",
              "      <td>0</td>\n",
              "      <td>0</td>\n",
              "      <td>0</td>\n",
              "      <td>0</td>\n",
              "    </tr>\n",
              "    <tr>\n",
              "      <th>4</th>\n",
              "      <td>2020</td>\n",
              "      <td>5</td>\n",
              "      <td>2</td>\n",
              "      <td>17:30</td>\n",
              "      <td>40.673760</td>\n",
              "      <td>-73.79473</td>\n",
              "      <td>0.0</td>\n",
              "      <td>0.0</td>\n",
              "      <td>0</td>\n",
              "      <td>0</td>\n",
              "      <td>0</td>\n",
              "      <td>0</td>\n",
              "      <td>0</td>\n",
              "      <td>0</td>\n",
              "    </tr>\n",
              "  </tbody>\n",
              "</table>\n",
              "</div>\n",
              "      <button class=\"colab-df-convert\" onclick=\"convertToInteractive('df-8a081943-824b-4ec4-aad6-cfb5168589cf')\"\n",
              "              title=\"Convert this dataframe to an interactive table.\"\n",
              "              style=\"display:none;\">\n",
              "        \n",
              "  <svg xmlns=\"http://www.w3.org/2000/svg\" height=\"24px\"viewBox=\"0 0 24 24\"\n",
              "       width=\"24px\">\n",
              "    <path d=\"M0 0h24v24H0V0z\" fill=\"none\"/>\n",
              "    <path d=\"M18.56 5.44l.94 2.06.94-2.06 2.06-.94-2.06-.94-.94-2.06-.94 2.06-2.06.94zm-11 1L8.5 8.5l.94-2.06 2.06-.94-2.06-.94L8.5 2.5l-.94 2.06-2.06.94zm10 10l.94 2.06.94-2.06 2.06-.94-2.06-.94-.94-2.06-.94 2.06-2.06.94z\"/><path d=\"M17.41 7.96l-1.37-1.37c-.4-.4-.92-.59-1.43-.59-.52 0-1.04.2-1.43.59L10.3 9.45l-7.72 7.72c-.78.78-.78 2.05 0 2.83L4 21.41c.39.39.9.59 1.41.59.51 0 1.02-.2 1.41-.59l7.78-7.78 2.81-2.81c.8-.78.8-2.07 0-2.86zM5.41 20L4 18.59l7.72-7.72 1.47 1.35L5.41 20z\"/>\n",
              "  </svg>\n",
              "      </button>\n",
              "      \n",
              "  <style>\n",
              "    .colab-df-container {\n",
              "      display:flex;\n",
              "      flex-wrap:wrap;\n",
              "      gap: 12px;\n",
              "    }\n",
              "\n",
              "    .colab-df-convert {\n",
              "      background-color: #E8F0FE;\n",
              "      border: none;\n",
              "      border-radius: 50%;\n",
              "      cursor: pointer;\n",
              "      display: none;\n",
              "      fill: #1967D2;\n",
              "      height: 32px;\n",
              "      padding: 0 0 0 0;\n",
              "      width: 32px;\n",
              "    }\n",
              "\n",
              "    .colab-df-convert:hover {\n",
              "      background-color: #E2EBFA;\n",
              "      box-shadow: 0px 1px 2px rgba(60, 64, 67, 0.3), 0px 1px 3px 1px rgba(60, 64, 67, 0.15);\n",
              "      fill: #174EA6;\n",
              "    }\n",
              "\n",
              "    [theme=dark] .colab-df-convert {\n",
              "      background-color: #3B4455;\n",
              "      fill: #D2E3FC;\n",
              "    }\n",
              "\n",
              "    [theme=dark] .colab-df-convert:hover {\n",
              "      background-color: #434B5C;\n",
              "      box-shadow: 0px 1px 3px 1px rgba(0, 0, 0, 0.15);\n",
              "      filter: drop-shadow(0px 1px 2px rgba(0, 0, 0, 0.3));\n",
              "      fill: #FFFFFF;\n",
              "    }\n",
              "  </style>\n",
              "\n",
              "      <script>\n",
              "        const buttonEl =\n",
              "          document.querySelector('#df-8a081943-824b-4ec4-aad6-cfb5168589cf button.colab-df-convert');\n",
              "        buttonEl.style.display =\n",
              "          google.colab.kernel.accessAllowed ? 'block' : 'none';\n",
              "\n",
              "        async function convertToInteractive(key) {\n",
              "          const element = document.querySelector('#df-8a081943-824b-4ec4-aad6-cfb5168589cf');\n",
              "          const dataTable =\n",
              "            await google.colab.kernel.invokeFunction('convertToInteractive',\n",
              "                                                     [key], {});\n",
              "          if (!dataTable) return;\n",
              "\n",
              "          const docLinkHtml = 'Like what you see? Visit the ' +\n",
              "            '<a target=\"_blank\" href=https://colab.research.google.com/notebooks/data_table.ipynb>data table notebook</a>'\n",
              "            + ' to learn more about interactive tables.';\n",
              "          element.innerHTML = '';\n",
              "          dataTable['output_type'] = 'display_data';\n",
              "          await google.colab.output.renderOutput(dataTable, element);\n",
              "          const docLink = document.createElement('div');\n",
              "          docLink.innerHTML = docLinkHtml;\n",
              "          element.appendChild(docLink);\n",
              "        }\n",
              "      </script>\n",
              "    </div>\n",
              "  </div>\n",
              "  "
            ]
          },
          "metadata": {},
          "execution_count": 38
        }
      ]
    },
    {
      "cell_type": "code",
      "source": [
        "pd_df_20[['npi', 'npk']].describe()"
      ],
      "metadata": {
        "colab": {
          "base_uri": "https://localhost:8080/",
          "height": 300
        },
        "id": "nysZGKPIAJ2N",
        "outputId": "1299aa7d-1e45-45f0-d5e7-0a0fa64539cf"
      },
      "execution_count": 47,
      "outputs": [
        {
          "output_type": "execute_result",
          "data": {
            "text/plain": [
              "                 npi            npk\n",
              "count  103989.000000  103989.000000\n",
              "mean        0.390936       0.002289\n",
              "std         0.741690       0.051280\n",
              "min         0.000000       0.000000\n",
              "25%         0.000000       0.000000\n",
              "50%         0.000000       0.000000\n",
              "75%         1.000000       0.000000\n",
              "max        15.000000       4.000000"
            ],
            "text/html": [
              "\n",
              "  <div id=\"df-c77bfbeb-d7e6-4112-9417-a4fc59db5cbe\">\n",
              "    <div class=\"colab-df-container\">\n",
              "      <div>\n",
              "<style scoped>\n",
              "    .dataframe tbody tr th:only-of-type {\n",
              "        vertical-align: middle;\n",
              "    }\n",
              "\n",
              "    .dataframe tbody tr th {\n",
              "        vertical-align: top;\n",
              "    }\n",
              "\n",
              "    .dataframe thead th {\n",
              "        text-align: right;\n",
              "    }\n",
              "</style>\n",
              "<table border=\"1\" class=\"dataframe\">\n",
              "  <thead>\n",
              "    <tr style=\"text-align: right;\">\n",
              "      <th></th>\n",
              "      <th>npi</th>\n",
              "      <th>npk</th>\n",
              "    </tr>\n",
              "  </thead>\n",
              "  <tbody>\n",
              "    <tr>\n",
              "      <th>count</th>\n",
              "      <td>103989.000000</td>\n",
              "      <td>103989.000000</td>\n",
              "    </tr>\n",
              "    <tr>\n",
              "      <th>mean</th>\n",
              "      <td>0.390936</td>\n",
              "      <td>0.002289</td>\n",
              "    </tr>\n",
              "    <tr>\n",
              "      <th>std</th>\n",
              "      <td>0.741690</td>\n",
              "      <td>0.051280</td>\n",
              "    </tr>\n",
              "    <tr>\n",
              "      <th>min</th>\n",
              "      <td>0.000000</td>\n",
              "      <td>0.000000</td>\n",
              "    </tr>\n",
              "    <tr>\n",
              "      <th>25%</th>\n",
              "      <td>0.000000</td>\n",
              "      <td>0.000000</td>\n",
              "    </tr>\n",
              "    <tr>\n",
              "      <th>50%</th>\n",
              "      <td>0.000000</td>\n",
              "      <td>0.000000</td>\n",
              "    </tr>\n",
              "    <tr>\n",
              "      <th>75%</th>\n",
              "      <td>1.000000</td>\n",
              "      <td>0.000000</td>\n",
              "    </tr>\n",
              "    <tr>\n",
              "      <th>max</th>\n",
              "      <td>15.000000</td>\n",
              "      <td>4.000000</td>\n",
              "    </tr>\n",
              "  </tbody>\n",
              "</table>\n",
              "</div>\n",
              "      <button class=\"colab-df-convert\" onclick=\"convertToInteractive('df-c77bfbeb-d7e6-4112-9417-a4fc59db5cbe')\"\n",
              "              title=\"Convert this dataframe to an interactive table.\"\n",
              "              style=\"display:none;\">\n",
              "        \n",
              "  <svg xmlns=\"http://www.w3.org/2000/svg\" height=\"24px\"viewBox=\"0 0 24 24\"\n",
              "       width=\"24px\">\n",
              "    <path d=\"M0 0h24v24H0V0z\" fill=\"none\"/>\n",
              "    <path d=\"M18.56 5.44l.94 2.06.94-2.06 2.06-.94-2.06-.94-.94-2.06-.94 2.06-2.06.94zm-11 1L8.5 8.5l.94-2.06 2.06-.94-2.06-.94L8.5 2.5l-.94 2.06-2.06.94zm10 10l.94 2.06.94-2.06 2.06-.94-2.06-.94-.94-2.06-.94 2.06-2.06.94z\"/><path d=\"M17.41 7.96l-1.37-1.37c-.4-.4-.92-.59-1.43-.59-.52 0-1.04.2-1.43.59L10.3 9.45l-7.72 7.72c-.78.78-.78 2.05 0 2.83L4 21.41c.39.39.9.59 1.41.59.51 0 1.02-.2 1.41-.59l7.78-7.78 2.81-2.81c.8-.78.8-2.07 0-2.86zM5.41 20L4 18.59l7.72-7.72 1.47 1.35L5.41 20z\"/>\n",
              "  </svg>\n",
              "      </button>\n",
              "      \n",
              "  <style>\n",
              "    .colab-df-container {\n",
              "      display:flex;\n",
              "      flex-wrap:wrap;\n",
              "      gap: 12px;\n",
              "    }\n",
              "\n",
              "    .colab-df-convert {\n",
              "      background-color: #E8F0FE;\n",
              "      border: none;\n",
              "      border-radius: 50%;\n",
              "      cursor: pointer;\n",
              "      display: none;\n",
              "      fill: #1967D2;\n",
              "      height: 32px;\n",
              "      padding: 0 0 0 0;\n",
              "      width: 32px;\n",
              "    }\n",
              "\n",
              "    .colab-df-convert:hover {\n",
              "      background-color: #E2EBFA;\n",
              "      box-shadow: 0px 1px 2px rgba(60, 64, 67, 0.3), 0px 1px 3px 1px rgba(60, 64, 67, 0.15);\n",
              "      fill: #174EA6;\n",
              "    }\n",
              "\n",
              "    [theme=dark] .colab-df-convert {\n",
              "      background-color: #3B4455;\n",
              "      fill: #D2E3FC;\n",
              "    }\n",
              "\n",
              "    [theme=dark] .colab-df-convert:hover {\n",
              "      background-color: #434B5C;\n",
              "      box-shadow: 0px 1px 3px 1px rgba(0, 0, 0, 0.15);\n",
              "      filter: drop-shadow(0px 1px 2px rgba(0, 0, 0, 0.3));\n",
              "      fill: #FFFFFF;\n",
              "    }\n",
              "  </style>\n",
              "\n",
              "      <script>\n",
              "        const buttonEl =\n",
              "          document.querySelector('#df-c77bfbeb-d7e6-4112-9417-a4fc59db5cbe button.colab-df-convert');\n",
              "        buttonEl.style.display =\n",
              "          google.colab.kernel.accessAllowed ? 'block' : 'none';\n",
              "\n",
              "        async function convertToInteractive(key) {\n",
              "          const element = document.querySelector('#df-c77bfbeb-d7e6-4112-9417-a4fc59db5cbe');\n",
              "          const dataTable =\n",
              "            await google.colab.kernel.invokeFunction('convertToInteractive',\n",
              "                                                     [key], {});\n",
              "          if (!dataTable) return;\n",
              "\n",
              "          const docLinkHtml = 'Like what you see? Visit the ' +\n",
              "            '<a target=\"_blank\" href=https://colab.research.google.com/notebooks/data_table.ipynb>data table notebook</a>'\n",
              "            + ' to learn more about interactive tables.';\n",
              "          element.innerHTML = '';\n",
              "          dataTable['output_type'] = 'display_data';\n",
              "          await google.colab.output.renderOutput(dataTable, element);\n",
              "          const docLink = document.createElement('div');\n",
              "          docLink.innerHTML = docLinkHtml;\n",
              "          element.appendChild(docLink);\n",
              "        }\n",
              "      </script>\n",
              "    </div>\n",
              "  </div>\n",
              "  "
            ]
          },
          "metadata": {},
          "execution_count": 47
        }
      ]
    },
    {
      "cell_type": "code",
      "source": [
        "import numpy as np\n",
        "np.unique(pd_df_20['npi'].to_list())"
      ],
      "metadata": {
        "colab": {
          "base_uri": "https://localhost:8080/"
        },
        "id": "ViOS1VesAYKs",
        "outputId": "001a68ff-72d7-414a-af7b-02aad2225e4d"
      },
      "execution_count": 49,
      "outputs": [
        {
          "output_type": "execute_result",
          "data": {
            "text/plain": [
              "array([ 0.,  1.,  2.,  3.,  4.,  5.,  6.,  7.,  8.,  9., 10., 11., 15.])"
            ]
          },
          "metadata": {},
          "execution_count": 49
        }
      ]
    },
    {
      "cell_type": "code",
      "source": [
        "sns.lineplot(x=\"month\", y=\"npi\", data=pd_df_20)\n"
      ],
      "metadata": {
        "colab": {
          "base_uri": "https://localhost:8080/",
          "height": 297
        },
        "id": "FrFmS9cJ-fOK",
        "outputId": "079ee7f0-1abb-485a-9508-542833d9e56d"
      },
      "execution_count": 67,
      "outputs": [
        {
          "output_type": "execute_result",
          "data": {
            "text/plain": [
              "<matplotlib.axes._subplots.AxesSubplot at 0x7f042c3252d0>"
            ]
          },
          "metadata": {},
          "execution_count": 67
        },
        {
          "output_type": "display_data",
          "data": {
            "text/plain": [
              "<Figure size 432x288 with 1 Axes>"
            ],
            "image/png": "[encoded data removed]"
          },
          "metadata": {
            "needs_background": "light"
          }
        }
      ]
    },
    {
      "cell_type": "code",
      "source": [
        "sns.relplot(x=\"month\", y=\"npi\", data=pd_df_20)"
      ],
      "metadata": {
        "colab": {
          "base_uri": "https://localhost:8080/",
          "height": 387
        },
        "id": "F9dFpzFTHBf2",
        "outputId": "c184efb1-531f-413f-938a-155a4944c935"
      },
      "execution_count": 68,
      "outputs": [
        {
          "output_type": "execute_result",
          "data": {
            "text/plain": [
              "<seaborn.axisgrid.FacetGrid at 0x7f042bbb3ed0>"
            ]
          },
          "metadata": {},
          "execution_count": 68
        },
        {
          "output_type": "display_data",
          "data": {
            "text/plain": [
              "<Figure size 360x360 with 1 Axes>"
            ],
            "image/png": "[encoded data removed]"
          },
          "metadata": {
            "needs_background": "light"
          }
        }
      ]
    },
    {
      "cell_type": "code",
      "source": [
        "pd_df_20_jan =  pd_df_20.loc[pd_df_20['month'] == 1]"
      ],
      "metadata": {
        "id": "M1b0sYSSBpv3"
      },
      "execution_count": 53,
      "outputs": []
    },
    {
      "cell_type": "code",
      "source": [
        "sns.lineplot(data=pd_df_20_jan, x=\"day\", y=\"npi\")"
      ],
      "metadata": {
        "colab": {
          "base_uri": "https://localhost:8080/",
          "height": 301
        },
        "id": "gyq1UotGBy4g",
        "outputId": "a3964c4e-a57d-4f18-ed9d-959c0eaefc88"
      },
      "execution_count": 54,
      "outputs": [
        {
          "output_type": "execute_result",
          "data": {
            "text/plain": [
              "<matplotlib.axes._subplots.AxesSubplot at 0x7f043014ec90>"
            ]
          },
          "metadata": {},
          "execution_count": 54
        },
        {
          "output_type": "display_data",
          "data": {
            "text/plain": [
              "<Figure size 432x288 with 1 Axes>"
            ],
            "image/png": "[encoded data removed]"
          },
          "metadata": {
            "needs_background": "light"
          }
        }
      ]
    },
    {
      "cell_type": "code",
      "source": [
        "pd_df_20_jan.plot.scatter(x=\"day\", y=\"npi\")"
      ],
      "metadata": {
        "colab": {
          "base_uri": "https://localhost:8080/",
          "height": 297
        },
        "id": "xPL9rj47B526",
        "outputId": "95db6263-823a-428a-bb54-408d203f4eec"
      },
      "execution_count": 57,
      "outputs": [
        {
          "output_type": "execute_result",
          "data": {
            "text/plain": [
              "<matplotlib.axes._subplots.AxesSubplot at 0x7f042dd9cb90>"
            ]
          },
          "metadata": {},
          "execution_count": 57
        },
        {
          "output_type": "display_data",
          "data": {
            "text/plain": [
              "<Figure size 432x288 with 1 Axes>"
            ],
            "image/png": "[encoded data removed]"
          },
          "metadata": {
            "needs_background": "light"
          }
        }
      ]
    },
    {
      "cell_type": "code",
      "source": [
        "sns.lmplot(x=\"month\", y=\"npi\", data=pd_df_20)"
      ],
      "metadata": {
        "colab": {
          "base_uri": "https://localhost:8080/",
          "height": 387
        },
        "id": "HaLSrXb-Cntr",
        "outputId": "834c122b-4633-4117-9ba6-29bc8ea2df40"
      },
      "execution_count": 58,
      "outputs": [
        {
          "output_type": "execute_result",
          "data": {
            "text/plain": [
              "<seaborn.axisgrid.FacetGrid at 0x7f042dc52690>"
            ]
          },
          "metadata": {},
          "execution_count": 58
        },
        {
          "output_type": "display_data",
          "data": {
            "text/plain": [
              "<Figure size 360x360 with 1 Axes>"
            ],
            "image/png": "[encoded data removed]"
          },
          "metadata": {
            "needs_background": "light"
          }
        }
      ]
    },
    {
      "cell_type": "code",
      "source": [
        "sns.lmplot(x=\"month\", y=\"npk\", data=pd_df_20)"
      ],
      "metadata": {
        "colab": {
          "base_uri": "https://localhost:8080/",
          "height": 387
        },
        "id": "zoWxdJ15C7vE",
        "outputId": "6690a133-4f13-4424-fe86-7d42dc5788f1"
      },
      "execution_count": 59,
      "outputs": [
        {
          "output_type": "execute_result",
          "data": {
            "text/plain": [
              "<seaborn.axisgrid.FacetGrid at 0x7f042d971350>"
            ]
          },
          "metadata": {},
          "execution_count": 59
        },
        {
          "output_type": "display_data",
          "data": {
            "text/plain": [
              "<Figure size 360x360 with 1 Axes>"
            ],
            "image/png": "[encoded data removed]"
          },
          "metadata": {
            "needs_background": "light"
          }
        }
      ]
    },
    {
      "cell_type": "code",
      "source": [
        "sns.lineplot(data=pd_df_20, x=\"month\", y=\"npk\")"
      ],
      "metadata": {
        "colab": {
          "base_uri": "https://localhost:8080/",
          "height": 297
        },
        "id": "rqvRMlGd9vtv",
        "outputId": "8107df0c-924a-4bb8-b700-9401a15ba9a9"
      },
      "execution_count": 45,
      "outputs": [
        {
          "output_type": "execute_result",
          "data": {
            "text/plain": [
              "<matplotlib.axes._subplots.AxesSubplot at 0x7f04302c0f90>"
            ]
          },
          "metadata": {},
          "execution_count": 45
        },
        {
          "output_type": "display_data",
          "data": {
            "text/plain": [
              "<Figure size 432x288 with 1 Axes>"
            ],
            "image/png": "[encoded data removed]"
          },
          "metadata": {
            "needs_background": "light"
          }
        }
      ]
    },
    {
      "cell_type": "code",
      "source": [
        "sns.lineplot(data=pd_df_20, x=\"month\", y=\"npedi\")"
      ],
      "metadata": {
        "colab": {
          "base_uri": "https://localhost:8080/",
          "height": 297
        },
        "id": "ZpWnqrDj92ZP",
        "outputId": "8d18bc5b-ab04-40c4-b4ce-0b9d82f61e4b"
      },
      "execution_count": 60,
      "outputs": [
        {
          "output_type": "execute_result",
          "data": {
            "text/plain": [
              "<matplotlib.axes._subplots.AxesSubplot at 0x7f042d619610>"
            ]
          },
          "metadata": {},
          "execution_count": 60
        },
        {
          "output_type": "display_data",
          "data": {
            "text/plain": [
              "<Figure size 432x288 with 1 Axes>"
            ],
            "image/png": "[encoded data removed]"
          },
          "metadata": {
            "needs_background": "light"
          }
        }
      ]
    },
    {
      "cell_type": "code",
      "source": [
        "sns.relplot(data=pd_df_20, x=\"month\", y=\"npedi\")"
      ],
      "metadata": {
        "colab": {
          "base_uri": "https://localhost:8080/",
          "height": 387
        },
        "id": "h4dJaJBcHUAD",
        "outputId": "a8b2ffe6-5924-4ab4-9046-4aa85a2929e9"
      },
      "execution_count": 69,
      "outputs": [
        {
          "output_type": "execute_result",
          "data": {
            "text/plain": [
              "<seaborn.axisgrid.FacetGrid at 0x7f042c1c3ed0>"
            ]
          },
          "metadata": {},
          "execution_count": 69
        },
        {
          "output_type": "display_data",
          "data": {
            "text/plain": [
              "<Figure size 360x360 with 1 Axes>"
            ],
            "image/png": "[encoded data removed]"
          },
          "metadata": {
            "needs_background": "light"
          }
        }
      ]
    },
    {
      "cell_type": "code",
      "source": [
        "sns.lineplot(data=pd_df_20, x=\"month\", y=\"npedk\")"
      ],
      "metadata": {
        "colab": {
          "base_uri": "https://localhost:8080/",
          "height": 297
        },
        "id": "Vub4QzYnDTJ2",
        "outputId": "2037784d-1330-426c-e613-9389dfdc4a21"
      },
      "execution_count": 61,
      "outputs": [
        {
          "output_type": "execute_result",
          "data": {
            "text/plain": [
              "<matplotlib.axes._subplots.AxesSubplot at 0x7f042d4c0b10>"
            ]
          },
          "metadata": {},
          "execution_count": 61
        },
        {
          "output_type": "display_data",
          "data": {
            "text/plain": [
              "<Figure size 432x288 with 1 Axes>"
            ],
            "image/png": "[encoded data removed]"
          },
          "metadata": {
            "needs_background": "light"
          }
        }
      ]
    },
    {
      "cell_type": "code",
      "source": [
        "sns.lineplot(data=pd_df_20, x=\"month\", y=\"nci\")"
      ],
      "metadata": {
        "colab": {
          "base_uri": "https://localhost:8080/",
          "height": 297
        },
        "id": "F9p07J6SDbqT",
        "outputId": "0670e11d-d030-4d9f-97cf-f1798b809f0a"
      },
      "execution_count": 62,
      "outputs": [
        {
          "output_type": "execute_result",
          "data": {
            "text/plain": [
              "<matplotlib.axes._subplots.AxesSubplot at 0x7f042d723c50>"
            ]
          },
          "metadata": {},
          "execution_count": 62
        },
        {
          "output_type": "display_data",
          "data": {
            "text/plain": [
              "<Figure size 432x288 with 1 Axes>"
            ],
            "image/png": "[encoded data removed]"
          },
          "metadata": {
            "needs_background": "light"
          }
        }
      ]
    },
    {
      "cell_type": "code",
      "source": [
        "sns.lineplot(data=pd_df_20, x=\"month\", y=\"nck\")"
      ],
      "metadata": {
        "colab": {
          "base_uri": "https://localhost:8080/",
          "height": 297
        },
        "id": "O1Mk56yxDri7",
        "outputId": "d96a4611-e991-4152-e0da-61313e69d59b"
      },
      "execution_count": 63,
      "outputs": [
        {
          "output_type": "execute_result",
          "data": {
            "text/plain": [
              "<matplotlib.axes._subplots.AxesSubplot at 0x7f042d185850>"
            ]
          },
          "metadata": {},
          "execution_count": 63
        },
        {
          "output_type": "display_data",
          "data": {
            "text/plain": [
              "<Figure size 432x288 with 1 Axes>"
            ],
            "image/png": "[encoded data removed]"
          },
          "metadata": {
            "needs_background": "light"
          }
        }
      ]
    },
    {
      "cell_type": "code",
      "source": [
        "pd_df_21 = df_21.toPandas()"
      ],
      "metadata": {
        "id": "mT23eCXWDv-c"
      },
      "execution_count": 76,
      "outputs": []
    },
    {
      "cell_type": "code",
      "source": [
        "pd_df_21.head(5)"
      ],
      "metadata": {
        "colab": {
          "base_uri": "https://localhost:8080/",
          "height": 206
        },
        "id": "tZTQpzO6U8LS",
        "outputId": "54fae74a-1a45-4b15-b668-55863c7723c4"
      },
      "execution_count": 77,
      "outputs": [
        {
          "output_type": "execute_result",
          "data": {
            "text/plain": [
              "   year  month  day   time        lat        lon  npi  npk  npedi  npedk  nci  \\\n",
              "0  2021      4   13  21:35  40.683580 -73.976170  1.0  0.0      1      0    0   \n",
              "1  2021      4   12   8:25   0.000000   0.000000  0.0  0.0      0      0    0   \n",
              "2  2021      2   26  14:50  40.843464 -73.836000  0.0  0.0      0      0    0   \n",
              "3  2021      3    9  11:00  40.692547 -73.990974  1.0  0.0      0      0    0   \n",
              "4  2021      3   31  22:20  40.626457 -73.918000  1.0  0.0      0      0    0   \n",
              "\n",
              "   nck  nmi  nmk  \n",
              "0    0    0    0  \n",
              "1    0    0    0  \n",
              "2    0    0    0  \n",
              "3    0    1    0  \n",
              "4    0    1    0  "
            ],
            "text/html": [
              "\n",
              "  <div id=\"df-751bf710-f22c-447f-bc9e-2a1d3de25843\">\n",
              "    <div class=\"colab-df-container\">\n",
              "      <div>\n",
              "<style scoped>\n",
              "    .dataframe tbody tr th:only-of-type {\n",
              "        vertical-align: middle;\n",
              "    }\n",
              "\n",
              "    .dataframe tbody tr th {\n",
              "        vertical-align: top;\n",
              "    }\n",
              "\n",
              "    .dataframe thead th {\n",
              "        text-align: right;\n",
              "    }\n",
              "</style>\n",
              "<table border=\"1\" class=\"dataframe\">\n",
              "  <thead>\n",
              "    <tr style=\"text-align: right;\">\n",
              "      <th></th>\n",
              "      <th>year</th>\n",
              "      <th>month</th>\n",
              "      <th>day</th>\n",
              "      <th>time</th>\n",
              "      <th>lat</th>\n",
              "      <th>lon</th>\n",
              "      <th>npi</th>\n",
              "      <th>npk</th>\n",
              "      <th>npedi</th>\n",
              "      <th>npedk</th>\n",
              "      <th>nci</th>\n",
              "      <th>nck</th>\n",
              "      <th>nmi</th>\n",
              "      <th>nmk</th>\n",
              "    </tr>\n",
              "  </thead>\n",
              "  <tbody>\n",
              "    <tr>\n",
              "      <th>0</th>\n",
              "      <td>2021</td>\n",
              "      <td>4</td>\n",
              "      <td>13</td>\n",
              "      <td>21:35</td>\n",
              "      <td>40.683580</td>\n",
              "      <td>-73.976170</td>\n",
              "      <td>1.0</td>\n",
              "      <td>0.0</td>\n",
              "      <td>1</td>\n",
              "      <td>0</td>\n",
              "      <td>0</td>\n",
              "      <td>0</td>\n",
              "      <td>0</td>\n",
              "      <td>0</td>\n",
              "    </tr>\n",
              "    <tr>\n",
              "      <th>1</th>\n",
              "      <td>2021</td>\n",
              "      <td>4</td>\n",
              "      <td>12</td>\n",
              "      <td>8:25</td>\n",
              "      <td>0.000000</td>\n",
              "      <td>0.000000</td>\n",
              "      <td>0.0</td>\n",
              "      <td>0.0</td>\n",
              "      <td>0</td>\n",
              "      <td>0</td>\n",
              "      <td>0</td>\n",
              "      <td>0</td>\n",
              "      <td>0</td>\n",
              "      <td>0</td>\n",
              "    </tr>\n",
              "    <tr>\n",
              "      <th>2</th>\n",
              "      <td>2021</td>\n",
              "      <td>2</td>\n",
              "      <td>26</td>\n",
              "      <td>14:50</td>\n",
              "      <td>40.843464</td>\n",
              "      <td>-73.836000</td>\n",
              "      <td>0.0</td>\n",
              "      <td>0.0</td>\n",
              "      <td>0</td>\n",
              "      <td>0</td>\n",
              "      <td>0</td>\n",
              "      <td>0</td>\n",
              "      <td>0</td>\n",
              "      <td>0</td>\n",
              "    </tr>\n",
              "    <tr>\n",
              "      <th>3</th>\n",
              "      <td>2021</td>\n",
              "      <td>3</td>\n",
              "      <td>9</td>\n",
              "      <td>11:00</td>\n",
              "      <td>40.692547</td>\n",
              "      <td>-73.990974</td>\n",
              "      <td>1.0</td>\n",
              "      <td>0.0</td>\n",
              "      <td>0</td>\n",
              "      <td>0</td>\n",
              "      <td>0</td>\n",
              "      <td>0</td>\n",
              "      <td>1</td>\n",
              "      <td>0</td>\n",
              "    </tr>\n",
              "    <tr>\n",
              "      <th>4</th>\n",
              "      <td>2021</td>\n",
              "      <td>3</td>\n",
              "      <td>31</td>\n",
              "      <td>22:20</td>\n",
              "      <td>40.626457</td>\n",
              "      <td>-73.918000</td>\n",
              "      <td>1.0</td>\n",
              "      <td>0.0</td>\n",
              "      <td>0</td>\n",
              "      <td>0</td>\n",
              "      <td>0</td>\n",
              "      <td>0</td>\n",
              "      <td>1</td>\n",
              "      <td>0</td>\n",
              "    </tr>\n",
              "  </tbody>\n",
              "</table>\n",
              "</div>\n",
              "      <button class=\"colab-df-convert\" onclick=\"convertToInteractive('df-751bf710-f22c-447f-bc9e-2a1d3de25843')\"\n",
              "              title=\"Convert this dataframe to an interactive table.\"\n",
              "              style=\"display:none;\">\n",
              "        \n",
              "  <svg xmlns=\"http://www.w3.org/2000/svg\" height=\"24px\"viewBox=\"0 0 24 24\"\n",
              "       width=\"24px\">\n",
              "    <path d=\"M0 0h24v24H0V0z\" fill=\"none\"/>\n",
              "    <path d=\"M18.56 5.44l.94 2.06.94-2.06 2.06-.94-2.06-.94-.94-2.06-.94 2.06-2.06.94zm-11 1L8.5 8.5l.94-2.06 2.06-.94-2.06-.94L8.5 2.5l-.94 2.06-2.06.94zm10 10l.94 2.06.94-2.06 2.06-.94-2.06-.94-.94-2.06-.94 2.06-2.06.94z\"/><path d=\"M17.41 7.96l-1.37-1.37c-.4-.4-.92-.59-1.43-.59-.52 0-1.04.2-1.43.59L10.3 9.45l-7.72 7.72c-.78.78-.78 2.05 0 2.83L4 21.41c.39.39.9.59 1.41.59.51 0 1.02-.2 1.41-.59l7.78-7.78 2.81-2.81c.8-.78.8-2.07 0-2.86zM5.41 20L4 18.59l7.72-7.72 1.47 1.35L5.41 20z\"/>\n",
              "  </svg>\n",
              "      </button>\n",
              "      \n",
              "  <style>\n",
              "    .colab-df-container {\n",
              "      display:flex;\n",
              "      flex-wrap:wrap;\n",
              "      gap: 12px;\n",
              "    }\n",
              "\n",
              "    .colab-df-convert {\n",
              "      background-color: #E8F0FE;\n",
              "      border: none;\n",
              "      border-radius: 50%;\n",
              "      cursor: pointer;\n",
              "      display: none;\n",
              "      fill: #1967D2;\n",
              "      height: 32px;\n",
              "      padding: 0 0 0 0;\n",
              "      width: 32px;\n",
              "    }\n",
              "\n",
              "    .colab-df-convert:hover {\n",
              "      background-color: #E2EBFA;\n",
              "      box-shadow: 0px 1px 2px rgba(60, 64, 67, 0.3), 0px 1px 3px 1px rgba(60, 64, 67, 0.15);\n",
              "      fill: #174EA6;\n",
              "    }\n",
              "\n",
              "    [theme=dark] .colab-df-convert {\n",
              "      background-color: #3B4455;\n",
              "      fill: #D2E3FC;\n",
              "    }\n",
              "\n",
              "    [theme=dark] .colab-df-convert:hover {\n",
              "      background-color: #434B5C;\n",
              "      box-shadow: 0px 1px 3px 1px rgba(0, 0, 0, 0.15);\n",
              "      filter: drop-shadow(0px 1px 2px rgba(0, 0, 0, 0.3));\n",
              "      fill: #FFFFFF;\n",
              "    }\n",
              "  </style>\n",
              "\n",
              "      <script>\n",
              "        const buttonEl =\n",
              "          document.querySelector('#df-751bf710-f22c-447f-bc9e-2a1d3de25843 button.colab-df-convert');\n",
              "        buttonEl.style.display =\n",
              "          google.colab.kernel.accessAllowed ? 'block' : 'none';\n",
              "\n",
              "        async function convertToInteractive(key) {\n",
              "          const element = document.querySelector('#df-751bf710-f22c-447f-bc9e-2a1d3de25843');\n",
              "          const dataTable =\n",
              "            await google.colab.kernel.invokeFunction('convertToInteractive',\n",
              "                                                     [key], {});\n",
              "          if (!dataTable) return;\n",
              "\n",
              "          const docLinkHtml = 'Like what you see? Visit the ' +\n",
              "            '<a target=\"_blank\" href=https://colab.research.google.com/notebooks/data_table.ipynb>data table notebook</a>'\n",
              "            + ' to learn more about interactive tables.';\n",
              "          element.innerHTML = '';\n",
              "          dataTable['output_type'] = 'display_data';\n",
              "          await google.colab.output.renderOutput(dataTable, element);\n",
              "          const docLink = document.createElement('div');\n",
              "          docLink.innerHTML = docLinkHtml;\n",
              "          element.appendChild(docLink);\n",
              "        }\n",
              "      </script>\n",
              "    </div>\n",
              "  </div>\n",
              "  "
            ]
          },
          "metadata": {},
          "execution_count": 77
        }
      ]
    },
    {
      "cell_type": "code",
      "source": [
        "sns.relplot(x=\"month\", y=\"npi\", data=pd_df_21)"
      ],
      "metadata": {
        "colab": {
          "base_uri": "https://localhost:8080/",
          "height": 387
        },
        "id": "RLFt79YeVChy",
        "outputId": "18fd76a3-6a04-4835-e021-05f12bccc606"
      },
      "execution_count": 78,
      "outputs": [
        {
          "output_type": "execute_result",
          "data": {
            "text/plain": [
              "<seaborn.axisgrid.FacetGrid at 0x7f0430bc8ed0>"
            ]
          },
          "metadata": {},
          "execution_count": 78
        },
        {
          "output_type": "display_data",
          "data": {
            "text/plain": [
              "<Figure size 360x360 with 1 Axes>"
            ],
            "image/png": "[encoded data removed]"
          },
          "metadata": {
            "needs_background": "light"
          }
        }
      ]
    },
    {
      "cell_type": "code",
      "source": [
        "sns.lineplot(data=pd_df_21, x=\"month\", y=\"npi\")"
      ],
      "metadata": {
        "colab": {
          "base_uri": "https://localhost:8080/",
          "height": 300
        },
        "id": "E-Qx2Fm1Wvgz",
        "outputId": "a5bfae1a-eb4d-481b-c0d6-c0659163d7e8"
      },
      "execution_count": 79,
      "outputs": [
        {
          "output_type": "execute_result",
          "data": {
            "text/plain": [
              "<matplotlib.axes._subplots.AxesSubplot at 0x7f042b7e8ed0>"
            ]
          },
          "metadata": {},
          "execution_count": 79
        },
        {
          "output_type": "display_data",
          "data": {
            "text/plain": [
              "<Figure size 432x288 with 1 Axes>"
            ],
            "image/png": "[encoded data removed]"
          },
          "metadata": {
            "needs_background": "light"
          }
        }
      ]
    },
    {
      "cell_type": "code",
      "source": [
        "pd_df_21.loc[pd_df_21['npi'] > 17]"
      ],
      "metadata": {
        "colab": {
          "base_uri": "https://localhost:8080/",
          "height": 81
        },
        "id": "Z9t2LY1rW4Nv",
        "outputId": "2da0d7d8-2ba4-44ba-a25d-c1bd89053956"
      },
      "execution_count": 82,
      "outputs": [
        {
          "output_type": "execute_result",
          "data": {
            "text/plain": [
              "       year  month  day   time       lat       lon   npi  npk  npedi  npedk  \\\n",
              "72000  2021      9    4  14:45  40.62551 -74.07599  18.0  0.0      0      0   \n",
              "\n",
              "       nci  nck  nmi  nmk  \n",
              "72000    0    0   18    0  "
            ],
            "text/html": [
              "\n",
              "  <div id=\"df-e30ac4a8-6394-4fd3-905e-d8756d0ef115\">\n",
              "    <div class=\"colab-df-container\">\n",
              "      <div>\n",
              "<style scoped>\n",
              "    .dataframe tbody tr th:only-of-type {\n",
              "        vertical-align: middle;\n",
              "    }\n",
              "\n",
              "    .dataframe tbody tr th {\n",
              "        vertical-align: top;\n",
              "    }\n",
              "\n",
              "    .dataframe thead th {\n",
              "        text-align: right;\n",
              "    }\n",
              "</style>\n",
              "<table border=\"1\" class=\"dataframe\">\n",
              "  <thead>\n",
              "    <tr style=\"text-align: right;\">\n",
              "      <th></th>\n",
              "      <th>year</th>\n",
              "      <th>month</th>\n",
              "      <th>day</th>\n",
              "      <th>time</th>\n",
              "      <th>lat</th>\n",
              "      <th>lon</th>\n",
              "      <th>npi</th>\n",
              "      <th>npk</th>\n",
              "      <th>npedi</th>\n",
              "      <th>npedk</th>\n",
              "      <th>nci</th>\n",
              "      <th>nck</th>\n",
              "      <th>nmi</th>\n",
              "      <th>nmk</th>\n",
              "    </tr>\n",
              "  </thead>\n",
              "  <tbody>\n",
              "    <tr>\n",
              "      <th>72000</th>\n",
              "      <td>2021</td>\n",
              "      <td>9</td>\n",
              "      <td>4</td>\n",
              "      <td>14:45</td>\n",
              "      <td>40.62551</td>\n",
              "      <td>-74.07599</td>\n",
              "      <td>18.0</td>\n",
              "      <td>0.0</td>\n",
              "      <td>0</td>\n",
              "      <td>0</td>\n",
              "      <td>0</td>\n",
              "      <td>0</td>\n",
              "      <td>18</td>\n",
              "      <td>0</td>\n",
              "    </tr>\n",
              "  </tbody>\n",
              "</table>\n",
              "</div>\n",
              "      <button class=\"colab-df-convert\" onclick=\"convertToInteractive('df-e30ac4a8-6394-4fd3-905e-d8756d0ef115')\"\n",
              "              title=\"Convert this dataframe to an interactive table.\"\n",
              "              style=\"display:none;\">\n",
              "        \n",
              "  <svg xmlns=\"http://www.w3.org/2000/svg\" height=\"24px\"viewBox=\"0 0 24 24\"\n",
              "       width=\"24px\">\n",
              "    <path d=\"M0 0h24v24H0V0z\" fill=\"none\"/>\n",
              "    <path d=\"M18.56 5.44l.94 2.06.94-2.06 2.06-.94-2.06-.94-.94-2.06-.94 2.06-2.06.94zm-11 1L8.5 8.5l.94-2.06 2.06-.94-2.06-.94L8.5 2.5l-.94 2.06-2.06.94zm10 10l.94 2.06.94-2.06 2.06-.94-2.06-.94-.94-2.06-.94 2.06-2.06.94z\"/><path d=\"M17.41 7.96l-1.37-1.37c-.4-.4-.92-.59-1.43-.59-.52 0-1.04.2-1.43.59L10.3 9.45l-7.72 7.72c-.78.78-.78 2.05 0 2.83L4 21.41c.39.39.9.59 1.41.59.51 0 1.02-.2 1.41-.59l7.78-7.78 2.81-2.81c.8-.78.8-2.07 0-2.86zM5.41 20L4 18.59l7.72-7.72 1.47 1.35L5.41 20z\"/>\n",
              "  </svg>\n",
              "      </button>\n",
              "      \n",
              "  <style>\n",
              "    .colab-df-container {\n",
              "      display:flex;\n",
              "      flex-wrap:wrap;\n",
              "      gap: 12px;\n",
              "    }\n",
              "\n",
              "    .colab-df-convert {\n",
              "      background-color: #E8F0FE;\n",
              "      border: none;\n",
              "      border-radius: 50%;\n",
              "      cursor: pointer;\n",
              "      display: none;\n",
              "      fill: #1967D2;\n",
              "      height: 32px;\n",
              "      padding: 0 0 0 0;\n",
              "      width: 32px;\n",
              "    }\n",
              "\n",
              "    .colab-df-convert:hover {\n",
              "      background-color: #E2EBFA;\n",
              "      box-shadow: 0px 1px 2px rgba(60, 64, 67, 0.3), 0px 1px 3px 1px rgba(60, 64, 67, 0.15);\n",
              "      fill: #174EA6;\n",
              "    }\n",
              "\n",
              "    [theme=dark] .colab-df-convert {\n",
              "      background-color: #3B4455;\n",
              "      fill: #D2E3FC;\n",
              "    }\n",
              "\n",
              "    [theme=dark] .colab-df-convert:hover {\n",
              "      background-color: #434B5C;\n",
              "      box-shadow: 0px 1px 3px 1px rgba(0, 0, 0, 0.15);\n",
              "      filter: drop-shadow(0px 1px 2px rgba(0, 0, 0, 0.3));\n",
              "      fill: #FFFFFF;\n",
              "    }\n",
              "  </style>\n",
              "\n",
              "      <script>\n",
              "        const buttonEl =\n",
              "          document.querySelector('#df-e30ac4a8-6394-4fd3-905e-d8756d0ef115 button.colab-df-convert');\n",
              "        buttonEl.style.display =\n",
              "          google.colab.kernel.accessAllowed ? 'block' : 'none';\n",
              "\n",
              "        async function convertToInteractive(key) {\n",
              "          const element = document.querySelector('#df-e30ac4a8-6394-4fd3-905e-d8756d0ef115');\n",
              "          const dataTable =\n",
              "            await google.colab.kernel.invokeFunction('convertToInteractive',\n",
              "                                                     [key], {});\n",
              "          if (!dataTable) return;\n",
              "\n",
              "          const docLinkHtml = 'Like what you see? Visit the ' +\n",
              "            '<a target=\"_blank\" href=https://colab.research.google.com/notebooks/data_table.ipynb>data table notebook</a>'\n",
              "            + ' to learn more about interactive tables.';\n",
              "          element.innerHTML = '';\n",
              "          dataTable['output_type'] = 'display_data';\n",
              "          await google.colab.output.renderOutput(dataTable, element);\n",
              "          const docLink = document.createElement('div');\n",
              "          docLink.innerHTML = docLinkHtml;\n",
              "          element.appendChild(docLink);\n",
              "        }\n",
              "      </script>\n",
              "    </div>\n",
              "  </div>\n",
              "  "
            ]
          },
          "metadata": {},
          "execution_count": 82
        }
      ]
    },
    {
      "cell_type": "code",
      "source": [
        "pd_df_21_npi_loc = pd_df_21.loc[pd_df_21['npi'] == 18]"
      ],
      "metadata": {
        "id": "WY6NsZ-xZUNa"
      },
      "execution_count": 94,
      "outputs": []
    },
    {
      "cell_type": "code",
      "source": [
        "pd_df_21_npi_loc['lat']"
      ],
      "metadata": {
        "colab": {
          "base_uri": "https://localhost:8080/"
        },
        "id": "c0FdNO2oZz7r",
        "outputId": "b4747368-bb22-4786-eced-cf0eebd0b6d0"
      },
      "execution_count": 96,
      "outputs": [
        {
          "output_type": "execute_result",
          "data": {
            "text/plain": [
              "72000    40.62551\n",
              "Name: lat, dtype: float64"
            ]
          },
          "metadata": {},
          "execution_count": 96
        }
      ]
    },
    {
      "cell_type": "code",
      "source": [
        "import folium"
      ],
      "metadata": {
        "id": "f7eTxzmIYTrz"
      },
      "execution_count": 87,
      "outputs": []
    },
    {
      "cell_type": "code",
      "source": [
        "max_npi_loc = folium.Map(location=[40.62551, -74.07599], zoom_start=20)\n",
        "tooltip = \"Highest number of persion injured\"\n",
        "marker = folium.CircleMarker(\n",
        "    location=[40.62551, -74.07599],\n",
        "    radius=50,\n",
        "    popup=\"Highest NPI\",\n",
        "    color=\"#3186cc\",\n",
        "    fill=True,\n",
        "    fill_color=\"#3186cc\"\n",
        "    )\n",
        "marker.add_to(max_npi_loc)"
      ],
      "metadata": {
        "colab": {
          "base_uri": "https://localhost:8080/"
        },
        "id": "KeWl8ctHXgo8",
        "outputId": "b451da49-295c-4a7c-8b44-3946e3bf64e4"
      },
      "execution_count": 99,
      "outputs": [
        {
          "output_type": "execute_result",
          "data": {
            "text/plain": [
              "<folium.vector_layers.CircleMarker at 0x7f042be0b510>"
            ]
          },
          "metadata": {},
          "execution_count": 99
        }
      ]
    },
    {
      "cell_type": "code",
      "source": [
        "max_npi_loc"
      ],
      "metadata": {
        "colab": {
          "base_uri": "https://localhost:8080/",
          "height": 767
        },
        "id": "3ofxVGmEYkqB",
        "outputId": "d843972e-019b-44a8-cc5e-a0ba9a3e2cd2"
      },
      "execution_count": 100,
      "outputs": [
        {
          "output_type": "execute_result",
          "data": {
            "text/plain": [
              "<folium.folium.Map at 0x7f041e975c50>"
            ],
            "text/html": [
              "<div style=\"width:100%;\"><div style=\"position:relative;width:100%;height:0;padding-bottom:60%;\"><span style=\"color:#565656\">Make this Notebook Trusted to load map: File -> Trust Notebook</span><iframe src=\"about:blank\" style=\"position:absolute;width:100%;height:100%;left:0;top:0;border:none !important;\" data-html=%3C%21DOCTYPE%20html%3E%0A%3Chead%3E%20%20%20%20%0A%20%20%20%20%3Cmeta%20http-equiv%3D%22content-type%22%20content%3D%22text/html%3B%20charset%3DUTF-8%22%20/%3E%0A%20%20%20%20%3Cscript%3EL_PREFER_CANVAS%3Dfalse%3B%20L_NO_TOUCH%3Dfalse%3B%20L_DISABLE_3D%3Dfalse%3B%3C/script%3E%0A%20%20%20%20%3Cscript%20src%3D%22https%3A//cdn.jsdelivr.net/npm/leaflet%401.4.0/dist/leaflet.js%22%3E%3C/script%3E%0A%20%20%20%20%3Cscript%20src%3D%22https%3A//code.jquery.com/jquery-1.12.4.min.js%22%3E%3C/script%3E%0A%20%20%20%20%3Cscript%20src%3D%22https%3A//maxcdn.bootstrapcdn.com/bootstrap/3.2.0/js/bootstrap.min.js%22%3E%3C/script%3E%0A%20%20%20%20%3Cscript%20src%3D%22https%3A//cdnjs.cloudflare.com/ajax/libs/Leaflet.awesome-markers/2.0.2/leaflet.awesome-markers.js%22%3E%3C/script%3E%0A%20%20%20%20%3Clink%20rel%3D%22stylesheet%22%20href%3D%22https%3A//cdn.jsdelivr.net/npm/leaflet%401.4.0/dist/leaflet.css%22/%3E%0A%20%20%20%20%3Clink%20rel%3D%22stylesheet%22%20href%3D%22https%3A//maxcdn.bootstrapcdn.com/bootstrap/3.2.0/css/bootstrap.min.css%22/%3E%0A%20%20%20%20%3Clink%20rel%3D%22stylesheet%22%20href%3D%22https%3A//maxcdn.bootstrapcdn.com/bootstrap/3.2.0/css/bootstrap-theme.min.css%22/%3E%0A%20%20%20%20%3Clink%20rel%3D%22stylesheet%22%20href%3D%22https%3A//maxcdn.bootstrapcdn.com/font-awesome/4.6.3/css/font-awesome.min.css%22/%3E%0A%20%20%20%20%3Clink%20rel%3D%22stylesheet%22%20href%3D%22https%3A//cdnjs.cloudflare.com/ajax/libs/Leaflet.awesome-markers/2.0.2/leaflet.awesome-markers.css%22/%3E%0A%20%20%20%20%3Clink%20rel%3D%22stylesheet%22%20href%3D%22https%3A//rawcdn.githack.com/python-visualization/folium/master/folium/templates/leaflet.awesome.rotate.css%22/%3E%0A%20%20%20%20%3Cstyle%3Ehtml%2C%20body%20%7Bwidth%3A%20100%25%3Bheight%3A%20100%25%3Bmargin%3A%200%3Bpadding%3A%200%3B%7D%3C/style%3E%0A%20%20%20%20%3Cstyle%3E%23map%20%7Bposition%3Aabsolute%3Btop%3A0%3Bbottom%3A0%3Bright%3A0%3Bleft%3A0%3B%7D%3C/style%3E%0A%20%20%20%20%0A%20%20%20%20%3Cmeta%20name%3D%22viewport%22%20content%3D%22width%3Ddevice-width%2C%0A%20%20%20%20%20%20%20%20initial-scale%3D1.0%2C%20maximum-scale%3D1.0%2C%20user-scalable%3Dno%22%20/%3E%0A%20%20%20%20%3Cstyle%3E%23map_21c7dce5dadb415089b78e5f598a9847%20%7B%0A%20%20%20%20%20%20%20%20position%3A%20relative%3B%0A%20%20%20%20%20%20%20%20width%3A%20100.0%25%3B%0A%20%20%20%20%20%20%20%20height%3A%20100.0%25%3B%0A%20%20%20%20%20%20%20%20left%3A%200.0%25%3B%0A%20%20%20%20%20%20%20%20top%3A%200.0%25%3B%0A%20%20%20%20%20%20%20%20%7D%0A%20%20%20%20%3C/style%3E%0A%3C/head%3E%0A%3Cbody%3E%20%20%20%20%0A%20%20%20%20%0A%20%20%20%20%3Cdiv%20class%3D%22folium-map%22%20id%3D%22map_21c7dce5dadb415089b78e5f598a9847%22%20%3E%3C/div%3E%0A%3C/body%3E%0A%3Cscript%3E%20%20%20%20%0A%20%20%20%20%0A%20%20%20%20%0A%20%20%20%20%20%20%20%20var%20bounds%20%3D%20null%3B%0A%20%20%20%20%0A%0A%20%20%20%20var%20map_21c7dce5dadb415089b78e5f598a9847%20%3D%20L.map%28%0A%20%20%20%20%20%20%20%20%27map_21c7dce5dadb415089b78e5f598a9847%27%2C%20%7B%0A%20%20%20%20%20%20%20%20center%3A%20%5B40.62551%2C%20-74.07599%5D%2C%0A%20%20%20%20%20%20%20%20zoom%3A%2020%2C%0A%20%20%20%20%20%20%20%20maxBounds%3A%20bounds%2C%0A%20%20%20%20%20%20%20%20layers%3A%20%5B%5D%2C%0A%20%20%20%20%20%20%20%20worldCopyJump%3A%20false%2C%0A%20%20%20%20%20%20%20%20crs%3A%20L.CRS.EPSG3857%2C%0A%20%20%20%20%20%20%20%20zoomControl%3A%20true%2C%0A%20%20%20%20%20%20%20%20%7D%29%3B%0A%0A%0A%20%20%20%20%0A%20%20%20%20var%20tile_layer_73011593cadd4a2f8b111c1ca3aa34f8%20%3D%20L.tileLayer%28%0A%20%20%20%20%20%20%20%20%27https%3A//%7Bs%7D.tile.openstreetmap.org/%7Bz%7D/%7Bx%7D/%7By%7D.png%27%2C%0A%20%20%20%20%20%20%20%20%7B%0A%20%20%20%20%20%20%20%20%22attribution%22%3A%20null%2C%0A%20%20%20%20%20%20%20%20%22detectRetina%22%3A%20false%2C%0A%20%20%20%20%20%20%20%20%22maxNativeZoom%22%3A%2018%2C%0A%20%20%20%20%20%20%20%20%22maxZoom%22%3A%2018%2C%0A%20%20%20%20%20%20%20%20%22minZoom%22%3A%200%2C%0A%20%20%20%20%20%20%20%20%22noWrap%22%3A%20false%2C%0A%20%20%20%20%20%20%20%20%22opacity%22%3A%201%2C%0A%20%20%20%20%20%20%20%20%22subdomains%22%3A%20%22abc%22%2C%0A%20%20%20%20%20%20%20%20%22tms%22%3A%20false%0A%7D%29.addTo%28map_21c7dce5dadb415089b78e5f598a9847%29%3B%0A%20%20%20%20%0A%20%20%20%20%20%20%20%20%20%20%20%20var%20circle_marker_3e080042d87f4654b5d0f1ab0cafd506%20%3D%20L.circleMarker%28%0A%20%20%20%20%20%20%20%20%20%20%20%20%20%20%20%20%5B40.62551%2C%20-74.07599%5D%2C%0A%20%20%20%20%20%20%20%20%20%20%20%20%20%20%20%20%7B%0A%20%20%22bubblingMouseEvents%22%3A%20true%2C%0A%20%20%22color%22%3A%20%22%233186cc%22%2C%0A%20%20%22dashArray%22%3A%20null%2C%0A%20%20%22dashOffset%22%3A%20null%2C%0A%20%20%22fill%22%3A%20true%2C%0A%20%20%22fillColor%22%3A%20%22%233186cc%22%2C%0A%20%20%22fillOpacity%22%3A%200.2%2C%0A%20%20%22fillRule%22%3A%20%22evenodd%22%2C%0A%20%20%22lineCap%22%3A%20%22round%22%2C%0A%20%20%22lineJoin%22%3A%20%22round%22%2C%0A%20%20%22opacity%22%3A%201.0%2C%0A%20%20%22radius%22%3A%2050%2C%0A%20%20%22stroke%22%3A%20true%2C%0A%20%20%22weight%22%3A%203%0A%7D%0A%20%20%20%20%20%20%20%20%20%20%20%20%20%20%20%20%29%0A%20%20%20%20%20%20%20%20%20%20%20%20%20%20%20%20.addTo%28map_21c7dce5dadb415089b78e5f598a9847%29%3B%0A%20%20%20%20%20%20%20%20%20%20%20%20%0A%20%20%20%20%0A%20%20%20%20%20%20%20%20%20%20%20%20var%20popup_af8a9a838c504d9ab4ab730b91e7097a%20%3D%20L.popup%28%7BmaxWidth%3A%20%27100%25%27%0A%20%20%20%20%20%20%20%20%20%20%20%20%0A%20%20%20%20%20%20%20%20%20%20%20%20%7D%29%3B%0A%0A%20%20%20%20%20%20%20%20%20%20%20%20%0A%20%20%20%20%20%20%20%20%20%20%20%20%20%20%20%20var%20html_0eecea15f71245bc87a35ab31aa21441%20%3D%20%24%28%60%3Cdiv%20id%3D%22html_0eecea15f71245bc87a35ab31aa21441%22%20style%3D%22width%3A%20100.0%25%3B%20height%3A%20100.0%25%3B%22%3EHighest%20NPI%3C/div%3E%60%29%5B0%5D%3B%0A%20%20%20%20%20%20%20%20%20%20%20%20%20%20%20%20popup_af8a9a838c504d9ab4ab730b91e7097a.setContent%28html_0eecea15f71245bc87a35ab31aa21441%29%3B%0A%20%20%20%20%20%20%20%20%20%20%20%20%0A%0A%20%20%20%20%20%20%20%20%20%20%20%20circle_marker_3e080042d87f4654b5d0f1ab0cafd506.bindPopup%28popup_af8a9a838c504d9ab4ab730b91e7097a%29%0A%20%20%20%20%20%20%20%20%20%20%20%20%3B%0A%0A%20%20%20%20%20%20%20%20%20%20%20%20%0A%20%20%20%20%20%20%20%20%0A%3C/script%3E onload=\"this.contentDocument.open();this.contentDocument.write(    decodeURIComponent(this.getAttribute('data-html')));this.contentDocument.close();\" allowfullscreen webkitallowfullscreen mozallowfullscreen></iframe></div></div>"
            ]
          },
          "metadata": {},
          "execution_count": 100
        }
      ]
    },
    {
      "cell_type": "code",
      "source": [
        ""
      ],
      "metadata": {
        "id": "IQE9rS6UX6Ow"
      },
      "execution_count": null,
      "outputs": []
    }
  ]
}